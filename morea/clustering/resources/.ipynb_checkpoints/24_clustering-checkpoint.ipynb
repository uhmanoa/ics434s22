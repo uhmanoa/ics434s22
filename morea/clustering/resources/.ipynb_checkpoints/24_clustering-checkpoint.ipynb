{
 "cells": [
  {
   "cell_type": "code",
   "execution_count": 3,
   "metadata": {},
   "outputs": [],
   "source": [
    "import matplotlib.pyplot as plt\n",
    "import numpy as np\n",
    "import pandas as pd\n",
    "\n",
    "%matplotlib inline"
   ]
  },
  {
   "cell_type": "markdown",
   "metadata": {
    "slideshow": {
     "slide_type": "slide"
    }
   },
   "source": [
    "### What is Clustering\n",
    "\n",
    "\n",
    "* Clustering analysis, or clustering, is a computational approach to uncover structure in a dataset.\n",
    "\n",
    "    * Finding groups of points within a dataset that are grouped, or lumped, together\n",
    "\n",
    "    \n",
    "\n",
    "* It is a machine learning task.\n",
    "  * It is said to be unsupervised since the analyst does not describe or provide examples of things that should belong together in a cluster.\n",
    "  * Supervised machine learning provides labeled data (e.g., instances of spam email vs. ham, or legit email) and trains model to recognize if an email is either spam or ham."
   ]
  },
  {
   "cell_type": "markdown",
   "metadata": {
    "slideshow": {
     "slide_type": "slide"
    }
   },
   "source": [
    "### What is a Cluster?\n",
    "\n",
    "* Descriptions such as “groups of points that are similar” or “close to each other”\n",
    "\n",
    "* The notion of a “cluster” is not well defined \n",
    "  * Clusters may be at times subjective\n",
    "    * What the concept of boundary around  a set of similar points is subjective\n",
    "    \n",
    "* Once we see cluster we \"kind of\" know what it is\n",
    "  * Ex. Do any two points that very similar form a cluster\n",
    "  \n",
    "<img src=\"https://www.dropbox.com/s/8v2uvd1mzzwmou7/cluster_def.png?dl=1\" width=\"400\">\n",
    "<center>\n",
    "Data clustering: 50 years beyond K-means, Jain 2009\n",
    "</center> "
   ]
  },
  {
   "cell_type": "markdown",
   "metadata": {
    "slideshow": {
     "slide_type": "slide"
    }
   },
   "source": [
    "### Question\n",
    "\n",
    "* Is a cluster simply a group of points that are close?\n",
    "* How can you generate points that are distributed like in the graph below?\n",
    "\n",
    "\n",
    "<img src=\"https://www.dropbox.com/s/kwgzpkyn0btikgl/random_points.png?dl=1\" alt=\"drawing\" width=\"300\"/>\n",
    "\n"
   ]
  },
  {
   "cell_type": "code",
   "execution_count": 4,
   "metadata": {
    "slideshow": {
     "slide_type": "slide"
    }
   },
   "outputs": [
    {
     "name": "stdout",
     "output_type": "stream",
     "text": [
      "[25 22 47 30 49]\n",
      "[57 46 80 12 14]\n"
     ]
    }
   ],
   "source": [
    "x_axis = np.random.choice(np.arange(100), size=100)\n",
    "y_axis = np.random.choice(np.arange(100), size=100)\n",
    "\n",
    "print(x_axis[0:5])\n",
    "print(y_axis[0:5])"
   ]
  },
  {
   "cell_type": "code",
   "execution_count": 5,
   "metadata": {
    "slideshow": {
     "slide_type": "slide"
    }
   },
   "outputs": [
    {
     "data": {
      "image/png": "[encoded data removed]",
      "text/plain": [
       "<Figure size 288x288 with 1 Axes>"
      ]
     },
     "metadata": {},
     "output_type": "display_data"
    }
   ],
   "source": [
    "plt.figure(figsize=(4, 4))\n",
    "plt.scatter(x_axis, y_axis)\n",
    "\n",
    "# I used the code below to remove the x and y axis ticks ()\n",
    "_ = plt.xticks([], [])\n",
    "_ = plt.yticks([], [])"
   ]
  },
  {
   "cell_type": "markdown",
   "metadata": {
    "slideshow": {
     "slide_type": "slide"
    }
   },
   "source": [
    "### What is a Cluster? - Cont'd\n",
    "\n",
    "- We can define a cluster as a contiguous region of high data point density\n",
    "  - Points in the region are close to each other.\n",
    "  - Areas contain more than just a few points that seem to occur randomly together.\n",
    "- Regions are separated by areas of lower point density\n",
    "  - Points across regions are dissimilar\n",
    "  \n",
    " <img src=\"https://www.dropbox.com/s/zyi30gcfhbzfulp/two_well_defined_clusters.png?dl=1\" alt=\"drawing\" width=\"200\"/>\n",
    "\n"
   ]
  },
  {
   "cell_type": "markdown",
   "metadata": {},
   "source": [
    "### What is a Cluster? - Cont'd\n",
    "    \n",
    "<img src=\"https://www.dropbox.com/s/zyi30gcfhbzfulp/two_well_defined_clusters.png?dl=1\" alt=\"drawing\" width=\"200px;\"/>\n",
    "\n",
    "\n",
    "* How can we generate a dataset like the one above\n"
   ]
  },
  {
   "cell_type": "code",
   "execution_count": 6,
   "metadata": {
    "slideshow": {
     "slide_type": "slide"
    }
   },
   "outputs": [],
   "source": [
    "mean_c1 = [8, 12]\n",
    "cov_c1 = [[1,0], [0, 1]]\n",
    "c1 = np.random.multivariate_normal(mean_c1, cov_c1, 40)\n",
    "\n",
    "mean_c2 = [4, 4]\n",
    "cov_c2 = [[1,0], [0, 1]]\n",
    "c2 = np.random.multivariate_normal(mean_c2, cov_c2, 29)"
   ]
  },
  {
   "cell_type": "code",
   "execution_count": 7,
   "metadata": {
    "slideshow": {
     "slide_type": "slide"
    }
   },
   "outputs": [
    {
     "data": {
      "image/png": "[encoded data removed]",
      "text/plain": [
       "<Figure size 360x360 with 1 Axes>"
      ]
     },
     "metadata": {},
     "output_type": "display_data"
    }
   ],
   "source": [
    "plt.figure(figsize=(5, 5))\n",
    "\n",
    "plt.scatter(c1[:,0], c1[:, 1])\n",
    "plt.scatter(c2[:,0], c2[:, 1])\n",
    "\n",
    "plt.xticks([], [])\n",
    "_ = plt.yticks([], [])"
   ]
  },
  {
   "cell_type": "markdown",
   "metadata": {
    "slideshow": {
     "slide_type": "slide"
    }
   },
   "source": [
    "### What is a Cluster - Cont'd\n",
    "\n",
    "- Contiguous regions of high data point density need not be highly dissimilar\n",
    "  - On average, points across regions are dissimilar\n",
    "  - Some points may be closer than others\n",
    "  \n",
    " <img src=\"https://www.dropbox.com/s/udeg22vvrzwkqae/two_cluster_less_well_defined.png?dl=1\" alt=\"drawing\" width=\"300\"/>"
   ]
  },
  {
   "cell_type": "markdown",
   "metadata": {
    "slideshow": {
     "slide_type": "slide"
    }
   },
   "source": [
    "### Data Shapes\n",
    "\n",
    "* Clusters may have complicated shapes\n",
    "  * While the clusters above are orderly but real clusters can be *very* messy\n",
    "  * Some clusters do not subscribe to the definitions above \n",
    "  * Such clusters may challenge simple approaches\n",
    "\n",
    " <img src=\"https://www.dropbox.com/s/aj99oktcxc3dpxp/data_moons.png?dl=1\" alt=\"drawing\" width=\"500\"/>"
   ]
  },
  {
   "cell_type": "markdown",
   "metadata": {
    "slideshow": {
     "slide_type": "slide"
    }
   },
   "source": [
    "### Applications of Clustering\n",
    "\n",
    "* Clustering can be applied in a variety of contexts, from genetics and genomics to user input consolidation and investment\n",
    "* Definition of the clusters across domains is the same\n",
    "  * Regions of high-density points where points characterized by high similarity within regions and low similarity across regions  \n",
    "  * Naturally, the concept of similarity and distance between points is domain-specific\n",
    "    * Similarity between two Netflix users can be defined as the degree of agreement on ratings of movies they watched\n",
    "      * Or just the movies they watched.\n",
    "    * The similarity between two stocks, say apple, qualcom\n",
    "        * Useful to the diversification of portfolios"
   ]
  },
  {
   "cell_type": "markdown",
   "metadata": {
    "slideshow": {
     "slide_type": "slide"
    }
   },
   "source": [
    "### Ex. Data Reconciliation\n",
    "\n",
    "* Very useful for finding groups of different values that might be alternative representations of the same thing\n",
    "  * Also used for spotting errors, typos, and inconsistencies\n",
    "\n",
    "* This is called reconciliation and can be a massive problem for some industries\n",
    "\n",
    "\n",
    "<img src=\"https://www.dropbox.com/s/djz78gqdr1izotd/Clustering_strings.png?dl=1\" alt=\"drawing\" width=\"500\"/>\n",
    "\n",
    "    \n"
   ]
  },
  {
   "cell_type": "markdown",
   "metadata": {
    "slideshow": {
     "slide_type": "slide"
    }
   },
   "source": [
    "### Ex. Stocks Clustering\n",
    "\n",
    "* Useful to derive a strategy for assets diversification\n",
    "\n",
    "<img src=\"https://www.dropbox.com/s/dg3uh30ty6vrk3u/stocks_clusters.png?dl=1\" alt=\"drawing\" width=\"500\"/>\n"
   ]
  },
  {
   "cell_type": "markdown",
   "metadata": {
    "collapsed": true,
    "slideshow": {
     "slide_type": "slide"
    }
   },
   "source": [
    "### Ex. Market Segmentation\n",
    "\n",
    "* Who are my potential customer groups?\n",
    "\n",
    "  * Who is buying my app and what features should be most appropriate?\n",
    "\n",
    "<img src=\"https://www.dropbox.com/s/efa5d3vemfz01xt/market-segmentation.png?dl=1\" alt=\"drawing\" width=\"500\"/>\n"
   ]
  },
  {
   "cell_type": "markdown",
   "metadata": {
    "collapsed": true,
    "slideshow": {
     "slide_type": "slide"
    }
   },
   "source": [
    "### Distance and Similarity Measures \n",
    "  \n",
    "* A distance is any function, `d`,  that takes two points (`x` and `y`) and returns a scalar value that is a measure for how different these points are\n",
    "  * The more dissimilar the points, the larger the distance \n",
    "  * It may be easier to make more sense to compute a similarity using a function `s`\n",
    "    * s(x, y) can be easily converted into d(x,y)\n",
    "    \n",
    "* While data points do not have to be embedded into a geometric space, it helps to think about their distance (or similarity) as if they were\n",
    "  * If we can transform data points to have properties of a vector space then we can develop more efficient algorithms that exploit these properties\n"
   ]
  },
  {
   "cell_type": "markdown",
   "metadata": {
    "slideshow": {
     "slide_type": "slide"
    }
   },
   "source": [
    "### Question \n",
    "\n",
    "  * How can you converte a normalized similarity into a distance?\n",
    "    * similarity is in [0,1] \n",
    "    \n",
    "    \n",
    "<img src=\"https://www.dropbox.com/s/5deolbibqg0k5ga/dist_sim.png?dl=1\" alt=\"drawing\" width=\"400\"/>\n",
    "\n",
    "    "
   ]
  },
  {
   "cell_type": "markdown",
   "metadata": {
    "slideshow": {
     "slide_type": "slide"
    }
   },
   "source": [
    "### Distance to Similarity\n",
    "\n",
    "<img src=\"dist_similarity.png\" alt=\"drawing\" width=\"600\"/>\n",
    "\n"
   ]
  },
  {
   "cell_type": "code",
   "execution_count": 8,
   "metadata": {
    "slideshow": {
     "slide_type": "skip"
    }
   },
   "outputs": [
    {
     "data": {
      "image/png": "[encoded data removed]",
      "text/plain": [
       "<Figure size 1584x432 with 3 Axes>"
      ]
     },
     "metadata": {
      "needs_background": "light"
     },
     "output_type": "display_data"
    }
   ],
   "source": [
    "\n",
    "plt.figure(figsize=(22,6))\n",
    "\n",
    "similairity = np.arange(0,1.01, 0.01)\n",
    "method_1 = 1-similairity\n",
    "\n",
    "plt.subplot(2,2, 1)\n",
    "\n",
    "plt.plot(similairity, method_1)\n",
    "# plt.xlabel(\"Similarity\", fontsize=18)\n",
    "plt.ylabel(\"distance\", fontsize=18)\n",
    "_ = plt.xticks(fontsize=14)\n",
    "_ = plt.yticks(fontsize=14)\n",
    "\n",
    "plt.subplot(2,2, 2)\n",
    "\n",
    "\n",
    "method_2 =  -np.log(similairity + 0.0001)\n",
    "plt.plot(similairity, method_2)\n",
    "plt.xlabel(\"Similarity\", fontsize=18)\n",
    "plt.ylabel(\"distance\", fontsize=18)\n",
    "_ = plt.xticks(fontsize=14)\n",
    "_ = plt.yticks(fontsize=14)\n",
    "\n",
    "\n",
    "\n",
    "plt.subplot(2,2, 3)\n",
    "\n",
    "method_3 =  np.sqrt(1 - similairity)\n",
    "plt.plot(similairity, method_3)\n",
    "plt.xlabel(\"Similarity\", fontsize=18)\n",
    "plt.ylabel(\"distance\", fontsize=18)\n",
    "_ = plt.xticks(fontsize=14)\n",
    "_ = plt.yticks(fontsize=14)\n",
    "\n"
   ]
  },
  {
   "cell_type": "markdown",
   "metadata": {
    "slideshow": {
     "slide_type": "slide"
    }
   },
   "source": [
    "### Distance and Similarity Measures - Cont'd\n",
    "\n",
    "* Sometimes, the concept of distance in geometric space is clear\n",
    "\n",
    "  * Example, Use any measure that considers the locations of the points in such a space\n",
    "  * Most points are not just in 2-d but exist in higher-dimensional space\n",
    "  \n",
    "<img src=\"https://www.dropbox.com/s/xgi9i6hjskklvds/distnace_a_b.png?dl=1\" alt=\"drawing\" style=\"width:500px;\"/>\n",
    "  \n",
    "    \n",
    "* Oher times, there is no obvious choice as to how to compute the distance between two points\n",
    "  * You are clustering music genres. How do you compute the distance between two songs?\n",
    "  * You need to convert the song into features  \n",
    "    * Identify relevant dimensions\n",
    "    * e.g., Beats per second, the proportion of various instruments soloing, properties of the lyrics or presence/absence of certain words, etc...\n",
    "    "
   ]
  },
  {
   "cell_type": "markdown",
   "metadata": {
    "slideshow": {
     "slide_type": "slide"
    }
   },
   "source": [
    "### Music Genres\n",
    "<img src=\"https://www.dropbox.com/s/tybdrop2kpb1fc5/music_genres.png?dl=1\" width=350/>\n",
    "<center>Genre Complexes in Popular Music. Silver et al., Plos One, 2016</center>"
   ]
  },
  {
   "cell_type": "markdown",
   "metadata": {
    "slideshow": {
     "slide_type": "slide"
    }
   },
   "source": [
    "### Common Distance Metrics \n",
    "\n",
    "* For simplicity, we'll classify the distances into two high-level categories\n",
    "  * Euclidean and spherical geometry distances\n",
    "    * Use the location of the points in space to estimate their distance\n",
    "  * Other \n",
    "      * Non-euclidean and non-spherical geometry distances\n",
    "    * Use properties of points to estimate their distance\n",
    "* This is a coarse and somewhat subjective categorization, and other classifications are possible."
   ]
  },
  {
   "cell_type": "markdown",
   "metadata": {
    "slideshow": {
     "slide_type": "slide"
    }
   },
   "source": [
    "### Common Distance Metrics -- Cont'd\n",
    "\n",
    "\n",
    "* The Euclidean distance, \n",
    "  * Most commonly used distance measure\n",
    "  * Distance between two points P and Q with coordinate $(p_1,p_2)$ and $(q_1,q_2)$ respectively is:\n",
    "\n",
    "$$\n",
    "d_{pq} = \\sqrt{(p_1-q_1)^2 + (p_2-q_2)^2}\n",
    "$$\n"
   ]
  },
  {
   "cell_type": "markdown",
   "metadata": {
    "slideshow": {
     "slide_type": "slide"
    }
   },
   "source": [
    "### Euclidean and Spherical Distances - Cont'd \n",
    "\n",
    "* The Manhattan (or taxicab) distance\n",
    "* Geodesic distance\n",
    "  \n",
    "\n",
    "<img src=\"https://www.dropbox.com/s/o4ylcqi43cwn33b/distances.png?dl=1\" alt=\"drawing\" width=\"400\"/>\n"
   ]
  },
  {
   "cell_type": "markdown",
   "metadata": {
    "slideshow": {
     "slide_type": "slide"
    }
   },
   "source": [
    "### Non-Euclidean Distance\n",
    "\n",
    "Examples of non-euclidean distances are: \n",
    "\n",
    "* Edit distance or number of inserts and deletes to change one string into another\n",
    "  * Example, what is the distance between `x = AGACGTAG` and  `y = GTTCAGA`\n",
    "\n",
    "<img src=\"https://www.dropbox.com/s/xl1gj2nvzhrjtas/edit_distance.png?dl=1\" alt=\"drawing\" width=\"600\"/>\n",
    "\n",
    "    * Remove A, convert A to T, ... \n",
    "    * The distance between `x` and `y` is 5\n",
    "\n",
    "* Jaccard distance\n",
    "    * Used with sets. It computes the number of items shared over all the items in the set.\n",
    "\n",
    "\n",
    "\n"
   ]
  },
  {
   "cell_type": "markdown",
   "metadata": {
    "slideshow": {
     "slide_type": "slide"
    }
   },
   "source": [
    "### ### Non-Euclidean Distance: Jaccard Distance\n",
    "\n",
    "<img src=\"https://www.dropbox.com/s/m01tcw8gdfr4qry/jaccard.png?dl=1\" alt=\"drawing\" width=\"600\"/>\n"
   ]
  },
  {
   "cell_type": "code",
   "execution_count": 12,
   "metadata": {
    "slideshow": {
     "slide_type": "slide"
    }
   },
   "outputs": [
    {
     "data": {
      "text/plain": [
       "array(['mu2cAI', 'LL3F3w', '31MBYv', 'Fxophr', 'UUS84c', 'PlZcgc',\n",
       "       'rtPjRW', 'GOXiWP', 'bejGrB', 'T56kIM', 'eYNb6c', 'FCiStT',\n",
       "       'IBycGD', 'LJs64c', 'Mj4IMo', 'G18bhX', 'jBZqZS', 'ucFBig',\n",
       "       'KhAoEe', 'ixeIjH'], dtype=object)"
      ]
     },
     "execution_count": 12,
     "metadata": {},
     "output_type": "execute_result"
    }
   ],
   "source": [
    "symptoms = [\"Muscle Cramps\", \"Weight Gain\", \"Easy Bruising\",\"Metallic Taste\",\"Paranoia\",\"Leg Pain\",\"Gas and Bloating\",\"Mouth Sores\",\"Nausea, Upset Stomach\",\"Rectal Bleeding\",\"Shortness of Breath\",\"Muscle Cramps\",\"Urine Odor\",\"Swollen Ankles and Feet\",\"Joint Cracking\",\"Eye Twitch\",\"Dry Skin\"]\n",
    "\n",
    "patient_ids =  pd.util.testing.rands_array(6, 20)\n",
    "patient_ids\n",
    "\n"
   ]
  },
  {
   "cell_type": "code",
   "execution_count": 13,
   "metadata": {
    "slideshow": {
     "slide_type": "slide"
    }
   },
   "outputs": [
    {
     "data": {
      "text/plain": [
       "array([1, 0, 1, 1, 0, 1, 1, 1, 0, 0, 0, 1, 0, 0, 0, 1, 0])"
      ]
     },
     "execution_count": 13,
     "metadata": {},
     "output_type": "execute_result"
    }
   ],
   "source": [
    "patient_outcomes = np.random.choice([0, 1], size=(len(symptoms)))            \n",
    "patient_outcomes"
   ]
  },
  {
   "cell_type": "code",
   "execution_count": 14,
   "metadata": {
    "slideshow": {
     "slide_type": "slide"
    }
   },
   "outputs": [
    {
     "data": {
      "text/plain": [
       "[array([1, 0, 1, 0, 0, 1, 1, 1, 1, 0, 1, 0, 1, 1, 1, 0, 1]),\n",
       " array([0, 0, 1, 0, 1, 0, 1, 1, 1, 1, 1, 1, 1, 1, 1, 1, 1]),\n",
       " array([1, 0, 0, 0, 1, 0, 1, 0, 0, 1, 1, 0, 0, 0, 1, 0, 0]),\n",
       " array([1, 1, 0, 1, 1, 1, 1, 1, 1, 1, 0, 0, 0, 0, 0, 1, 0]),\n",
       " array([0, 1, 1, 0, 0, 1, 1, 0, 0, 1, 0, 0, 1, 0, 1, 0, 0]),\n",
       " array([0, 0, 1, 0, 1, 0, 1, 1, 0, 0, 1, 1, 1, 0, 1, 0, 0]),\n",
       " array([0, 1, 1, 0, 1, 1, 1, 1, 1, 1, 1, 0, 0, 0, 0, 1, 0]),\n",
       " array([1, 1, 0, 1, 0, 0, 1, 0, 1, 0, 0, 0, 0, 0, 0, 0, 0]),\n",
       " array([0, 1, 0, 0, 1, 0, 0, 1, 0, 1, 0, 1, 0, 0, 0, 0, 0]),\n",
       " array([0, 1, 1, 0, 0, 1, 1, 0, 1, 1, 1, 1, 0, 1, 1, 0, 1]),\n",
       " array([0, 1, 1, 1, 1, 1, 0, 1, 0, 0, 1, 0, 1, 0, 0, 1, 1]),\n",
       " array([0, 0, 0, 1, 1, 1, 1, 0, 1, 0, 0, 1, 1, 1, 1, 1, 1]),\n",
       " array([0, 0, 1, 1, 0, 1, 1, 1, 0, 1, 1, 1, 1, 0, 1, 1, 1]),\n",
       " array([1, 0, 0, 0, 0, 1, 1, 0, 1, 0, 0, 1, 1, 1, 1, 0, 0]),\n",
       " array([1, 0, 1, 1, 1, 1, 1, 1, 1, 0, 1, 1, 0, 0, 0, 1, 1]),\n",
       " array([1, 0, 1, 1, 0, 1, 1, 0, 1, 0, 1, 1, 0, 0, 1, 1, 0]),\n",
       " array([1, 1, 1, 1, 1, 0, 1, 0, 0, 1, 1, 1, 0, 1, 1, 1, 0]),\n",
       " array([1, 0, 0, 0, 1, 0, 0, 1, 1, 1, 0, 0, 1, 1, 0, 1, 1]),\n",
       " array([1, 1, 1, 1, 0, 0, 0, 1, 1, 0, 0, 1, 1, 1, 1, 0, 1]),\n",
       " array([0, 1, 1, 1, 1, 0, 0, 1, 1, 1, 0, 1, 1, 1, 1, 0, 0])]"
      ]
     },
     "execution_count": 14,
     "metadata": {},
     "output_type": "execute_result"
    }
   ],
   "source": [
    "data = [np.random.choice([0, 1], size=(len(symptoms)))  for _ in range(len(patient_ids))]\n",
    "data"
   ]
  },
  {
   "cell_type": "code",
   "execution_count": 15,
   "metadata": {
    "slideshow": {
     "slide_type": "slide"
    }
   },
   "outputs": [
    {
     "data": {
      "text/html": [
       "<div>\n",
       "<style scoped>\n",
       "    .dataframe tbody tr th:only-of-type {\n",
       "        vertical-align: middle;\n",
       "    }\n",
       "\n",
       "    .dataframe tbody tr th {\n",
       "        vertical-align: top;\n",
       "    }\n",
       "\n",
       "    .dataframe thead th {\n",
       "        text-align: right;\n",
       "    }\n",
       "</style>\n",
       "<table border=\"1\" class=\"dataframe\">\n",
       "  <thead>\n",
       "    <tr style=\"text-align: right;\">\n",
       "      <th></th>\n",
       "      <th>Muscle Cramps</th>\n",
       "      <th>Weight Gain</th>\n",
       "      <th>Easy Bruising</th>\n",
       "      <th>Metallic Taste</th>\n",
       "      <th>Paranoia</th>\n",
       "      <th>Leg Pain</th>\n",
       "      <th>Gas and Bloating</th>\n",
       "      <th>Mouth Sores</th>\n",
       "      <th>Nausea, Upset Stomach</th>\n",
       "      <th>Rectal Bleeding</th>\n",
       "      <th>Shortness of Breath</th>\n",
       "      <th>Muscle Cramps</th>\n",
       "      <th>Urine Odor</th>\n",
       "      <th>Swollen Ankles and Feet</th>\n",
       "      <th>Joint Cracking</th>\n",
       "      <th>Eye Twitch</th>\n",
       "      <th>Dry Skin</th>\n",
       "    </tr>\n",
       "  </thead>\n",
       "  <tbody>\n",
       "    <tr>\n",
       "      <th>mu2cAI</th>\n",
       "      <td>1</td>\n",
       "      <td>0</td>\n",
       "      <td>1</td>\n",
       "      <td>0</td>\n",
       "      <td>0</td>\n",
       "      <td>1</td>\n",
       "      <td>1</td>\n",
       "      <td>1</td>\n",
       "      <td>1</td>\n",
       "      <td>0</td>\n",
       "      <td>1</td>\n",
       "      <td>0</td>\n",
       "      <td>1</td>\n",
       "      <td>1</td>\n",
       "      <td>1</td>\n",
       "      <td>0</td>\n",
       "      <td>1</td>\n",
       "    </tr>\n",
       "    <tr>\n",
       "      <th>LL3F3w</th>\n",
       "      <td>0</td>\n",
       "      <td>0</td>\n",
       "      <td>1</td>\n",
       "      <td>0</td>\n",
       "      <td>1</td>\n",
       "      <td>0</td>\n",
       "      <td>1</td>\n",
       "      <td>1</td>\n",
       "      <td>1</td>\n",
       "      <td>1</td>\n",
       "      <td>1</td>\n",
       "      <td>1</td>\n",
       "      <td>1</td>\n",
       "      <td>1</td>\n",
       "      <td>1</td>\n",
       "      <td>1</td>\n",
       "      <td>1</td>\n",
       "    </tr>\n",
       "    <tr>\n",
       "      <th>31MBYv</th>\n",
       "      <td>1</td>\n",
       "      <td>0</td>\n",
       "      <td>0</td>\n",
       "      <td>0</td>\n",
       "      <td>1</td>\n",
       "      <td>0</td>\n",
       "      <td>1</td>\n",
       "      <td>0</td>\n",
       "      <td>0</td>\n",
       "      <td>1</td>\n",
       "      <td>1</td>\n",
       "      <td>0</td>\n",
       "      <td>0</td>\n",
       "      <td>0</td>\n",
       "      <td>1</td>\n",
       "      <td>0</td>\n",
       "      <td>0</td>\n",
       "    </tr>\n",
       "    <tr>\n",
       "      <th>Fxophr</th>\n",
       "      <td>1</td>\n",
       "      <td>1</td>\n",
       "      <td>0</td>\n",
       "      <td>1</td>\n",
       "      <td>1</td>\n",
       "      <td>1</td>\n",
       "      <td>1</td>\n",
       "      <td>1</td>\n",
       "      <td>1</td>\n",
       "      <td>1</td>\n",
       "      <td>0</td>\n",
       "      <td>0</td>\n",
       "      <td>0</td>\n",
       "      <td>0</td>\n",
       "      <td>0</td>\n",
       "      <td>1</td>\n",
       "      <td>0</td>\n",
       "    </tr>\n",
       "    <tr>\n",
       "      <th>UUS84c</th>\n",
       "      <td>0</td>\n",
       "      <td>1</td>\n",
       "      <td>1</td>\n",
       "      <td>0</td>\n",
       "      <td>0</td>\n",
       "      <td>1</td>\n",
       "      <td>1</td>\n",
       "      <td>0</td>\n",
       "      <td>0</td>\n",
       "      <td>1</td>\n",
       "      <td>0</td>\n",
       "      <td>0</td>\n",
       "      <td>1</td>\n",
       "      <td>0</td>\n",
       "      <td>1</td>\n",
       "      <td>0</td>\n",
       "      <td>0</td>\n",
       "    </tr>\n",
       "  </tbody>\n",
       "</table>\n",
       "</div>"
      ],
      "text/plain": [
       "        Muscle Cramps  Weight Gain  Easy Bruising  Metallic Taste  Paranoia  \\\n",
       "mu2cAI              1            0              1               0         0   \n",
       "LL3F3w              0            0              1               0         1   \n",
       "31MBYv              1            0              0               0         1   \n",
       "Fxophr              1            1              0               1         1   \n",
       "UUS84c              0            1              1               0         0   \n",
       "\n",
       "        Leg Pain  Gas and Bloating  Mouth Sores  Nausea, Upset Stomach  \\\n",
       "mu2cAI         1                 1            1                      1   \n",
       "LL3F3w         0                 1            1                      1   \n",
       "31MBYv         0                 1            0                      0   \n",
       "Fxophr         1                 1            1                      1   \n",
       "UUS84c         1                 1            0                      0   \n",
       "\n",
       "        Rectal Bleeding  Shortness of Breath  Muscle Cramps  Urine Odor  \\\n",
       "mu2cAI                0                    1              0           1   \n",
       "LL3F3w                1                    1              1           1   \n",
       "31MBYv                1                    1              0           0   \n",
       "Fxophr                1                    0              0           0   \n",
       "UUS84c                1                    0              0           1   \n",
       "\n",
       "        Swollen Ankles and Feet  Joint Cracking  Eye Twitch  Dry Skin  \n",
       "mu2cAI                        1               1           0         1  \n",
       "LL3F3w                        1               1           1         1  \n",
       "31MBYv                        0               1           0         0  \n",
       "Fxophr                        0               0           1         0  \n",
       "UUS84c                        0               1           0         0  "
      ]
     },
     "execution_count": 15,
     "metadata": {},
     "output_type": "execute_result"
    }
   ],
   "source": [
    "patients_data = pd.DataFrame(columns=symptoms, data=data, index=patient_ids)\n",
    "patients_data.head()\n"
   ]
  },
  {
   "cell_type": "code",
   "execution_count": 20,
   "metadata": {
    "slideshow": {
     "slide_type": "slide"
    }
   },
   "outputs": [
    {
     "data": {
      "text/plain": [
       "array([ True,  True, False,  True,  True])"
      ]
     },
     "execution_count": 20,
     "metadata": {},
     "output_type": "execute_result"
    }
   ],
   "source": [
    "vec_1 = np.array([1, 0, 1, 1, 1])\n",
    "vec_2 = np.array([1, 0, 0, 1, 1])\n",
    "\n",
    "\n",
    "(vec_1 == vec_2) "
   ]
  },
  {
   "cell_type": "code",
   "execution_count": 23,
   "metadata": {
    "slideshow": {
     "slide_type": "slide"
    }
   },
   "outputs": [
    {
     "data": {
      "text/plain": [
       "array([ True, False, False])"
      ]
     },
     "execution_count": 23,
     "metadata": {},
     "output_type": "execute_result"
    }
   ],
   "source": [
    "x = np.array([ True,  True,  False])\n",
    "y = np.array([ True,  False, True])\n",
    "\n",
    "x & y"
   ]
  },
  {
   "cell_type": "code",
   "execution_count": 16,
   "metadata": {
    "slideshow": {
     "slide_type": "slide"
    }
   },
   "outputs": [
    {
     "data": {
      "text/plain": [
       "3"
      ]
     },
     "execution_count": 16,
     "metadata": {},
     "output_type": "execute_result"
    }
   ],
   "source": [
    "vec_1 = np.array([1, 0, 1, 1, 1])\n",
    "vec_2 = np.array([1, 0, 0, 1, 1])\n",
    "\n",
    "\n",
    "sum((vec_1 == vec_2) & (vec_1 == 1))\n"
   ]
  },
  {
   "cell_type": "code",
   "execution_count": 17,
   "metadata": {
    "slideshow": {
     "slide_type": "slide"
    }
   },
   "outputs": [
    {
     "data": {
      "text/plain": [
       "4"
      ]
     },
     "execution_count": 17,
     "metadata": {},
     "output_type": "execute_result"
    }
   ],
   "source": [
    "vec_1 = np.array([1, 0, 1, 1, 1])\n",
    "vec_2 = np.array([1, 0, 0, 1, 1])\n",
    "\n",
    "\n",
    "sum((vec_1 == 1) | (vec_2 == 1))\n"
   ]
  },
  {
   "cell_type": "code",
   "execution_count": 18,
   "metadata": {
    "slideshow": {
     "slide_type": "slide"
    }
   },
   "outputs": [],
   "source": [
    "def compute_Jaccard_distance(vec_1, vec_2 ):\n",
    "    \n",
    "    # All the symptoms shared by both\n",
    "    intersection = sum((vec_1 == vec_2) & (vec_1 == 1))\n",
    "    # All the symptoms that either one has\n",
    "    union = sum((vec_1 == 1) | (vec_2 == 1))\n",
    "    return 1 -  intersection / union\n",
    "    "
   ]
  },
  {
   "cell_type": "code",
   "execution_count": 19,
   "metadata": {
    "slideshow": {
     "slide_type": "slide"
    }
   },
   "outputs": [
    {
     "name": "stdout",
     "output_type": "stream",
     "text": [
      "0.25\n"
     ]
    }
   ],
   "source": [
    "vec_1 = np.array([1, 0, 1, 1, 1])\n",
    "vec_2 = np.array([1, 0, 0, 1, 1])\n",
    "\n",
    "\n",
    "print(compute_Jaccard_distance(vec_1, vec_2 ))"
   ]
  },
  {
   "cell_type": "markdown",
   "metadata": {
    "slideshow": {
     "slide_type": "slide"
    }
   },
   "source": [
    "### Distance Matrix\n",
    "\n",
    "* Common to store the pair-wise distances between data points in a distance matrix $M$\n",
    "\n",
    "* The matrix has a dimention $n \\times n$, where n is the number of data points\n",
    "\n",
    "* For any two points $p_i$ and $p_j$, \n",
    "\n",
    "\n",
    "$$ \n",
    "M[i, j] = d(p_i, p_j) \\\\\n",
    "M[j, i] = d(p_i, p_j)\n",
    "$$\n",
    "  \n"
   ]
  },
  {
   "cell_type": "code",
   "execution_count": 52,
   "metadata": {
    "slideshow": {
     "slide_type": "slide"
    }
   },
   "outputs": [
    {
     "data": {
      "text/plain": [
       "array([[0., 0., 0.],\n",
       "       [0., 0., 0.],\n",
       "       [0., 0., 0.]])"
      ]
     },
     "execution_count": 52,
     "metadata": {},
     "output_type": "execute_result"
    }
   ],
   "source": [
    "np.random.seed(42)\n",
    "dist_patients = np.zeros([3, 3])\n",
    "dist_patients\n"
   ]
  },
  {
   "cell_type": "code",
   "execution_count": 59,
   "metadata": {
    "slideshow": {
     "slide_type": "slide"
    }
   },
   "outputs": [
    {
     "data": {
      "text/plain": [
       "array([[0.  , 0.4 , 0.69, 0.69, 0.62, 0.54, 0.6 , 0.77, 0.93, 0.43, 0.6 ,\n",
       "        0.53, 0.47, 0.42, 0.47, 0.5 , 0.65, 0.57, 0.43, 0.62],\n",
       "       [0.4 , 0.  , 0.64, 0.65, 0.67, 0.38, 0.47, 0.88, 0.71, 0.4 , 0.56,\n",
       "        0.4 , 0.33, 0.6 , 0.44, 0.56, 0.44, 0.43, 0.5 , 0.4 ],\n",
       "       [0.69, 0.64, 0.  , 0.67, 0.7 , 0.6 , 0.67, 0.78, 0.78, 0.69, 0.86,\n",
       "        0.79, 0.71, 0.73, 0.71, 0.67, 0.5 , 0.75, 0.87, 0.79],\n",
       "       [0.69, 0.65, 0.67, 0.  , 0.69, 0.8 , 0.33, 0.5 , 0.64, 0.69, 0.57,\n",
       "        0.6 , 0.62, 0.71, 0.43, 0.57, 0.53, 0.54, 0.69, 0.6 ],\n",
       "       [0.62, 0.67, 0.7 , 0.69, 0.  , 0.64, 0.58, 0.8 , 0.8 , 0.5 , 0.69,\n",
       "        0.71, 0.54, 0.64, 0.81, 0.69, 0.64, 0.86, 0.71, 0.62],\n",
       "       [0.54, 0.38, 0.6 , 0.8 , 0.64, 0.  , 0.62, 0.92, 0.7 , 0.64, 0.62,\n",
       "        0.64, 0.46, 0.67, 0.57, 0.62, 0.57, 0.79, 0.64, 0.54],\n",
       "       [0.6 , 0.47, 0.67, 0.33, 0.58, 0.62, 0.  , 0.75, 0.64, 0.5 , 0.46,\n",
       "        0.69, 0.53, 0.8 , 0.43, 0.57, 0.53, 0.64, 0.76, 0.6 ],\n",
       "       [0.77, 0.88, 0.78, 0.5 , 0.8 , 0.92, 0.75, 0.  , 0.89, 0.77, 0.85,\n",
       "        0.77, 0.87, 0.7 , 0.69, 0.64, 0.69, 0.83, 0.67, 0.77],\n",
       "       [0.93, 0.71, 0.78, 0.64, 0.8 , 0.7 , 0.64, 0.89, 0.  , 0.77, 0.75,\n",
       "        0.86, 0.79, 0.92, 0.79, 0.93, 0.69, 0.73, 0.77, 0.55],\n",
       "       [0.43, 0.4 , 0.69, 0.69, 0.5 , 0.64, 0.5 , 0.77, 0.77, 0.  , 0.69,\n",
       "        0.53, 0.47, 0.54, 0.56, 0.5 , 0.47, 0.75, 0.53, 0.53],\n",
       "       [0.6 , 0.56, 0.86, 0.57, 0.69, 0.62, 0.46, 0.85, 0.75, 0.69, 0.  ,\n",
       "        0.6 , 0.43, 0.88, 0.43, 0.67, 0.62, 0.64, 0.6 , 0.6 ],\n",
       "       [0.53, 0.4 , 0.79, 0.6 , 0.71, 0.64, 0.69, 0.77, 0.86, 0.53, 0.6 ,\n",
       "        0.  , 0.47, 0.42, 0.47, 0.5 , 0.56, 0.57, 0.53, 0.53],\n",
       "       [0.47, 0.33, 0.71, 0.62, 0.54, 0.46, 0.53, 0.87, 0.79, 0.47, 0.43,\n",
       "        0.47, 0.  , 0.67, 0.4 , 0.43, 0.5 , 0.69, 0.56, 0.56],\n",
       "       [0.42, 0.6 , 0.73, 0.71, 0.64, 0.67, 0.8 , 0.7 , 0.92, 0.54, 0.88,\n",
       "        0.42, 0.67, 0.  , 0.67, 0.5 , 0.67, 0.69, 0.54, 0.64],\n",
       "       [0.47, 0.44, 0.71, 0.43, 0.81, 0.57, 0.43, 0.69, 0.79, 0.56, 0.43,\n",
       "        0.47, 0.4 , 0.67, 0.  , 0.31, 0.5 , 0.6 , 0.56, 0.65],\n",
       "       [0.5 , 0.56, 0.67, 0.57, 0.69, 0.62, 0.57, 0.64, 0.93, 0.5 , 0.67,\n",
       "        0.5 , 0.43, 0.5 , 0.31, 0.  , 0.43, 0.81, 0.6 , 0.69],\n",
       "       [0.65, 0.44, 0.5 , 0.53, 0.64, 0.57, 0.53, 0.69, 0.69, 0.47, 0.62,\n",
       "        0.56, 0.5 , 0.67, 0.5 , 0.43, 0.  , 0.69, 0.56, 0.47],\n",
       "       [0.57, 0.43, 0.75, 0.54, 0.86, 0.79, 0.64, 0.83, 0.73, 0.75, 0.64,\n",
       "        0.57, 0.69, 0.69, 0.6 , 0.81, 0.69, 0.  , 0.57, 0.57],\n",
       "       [0.43, 0.5 , 0.87, 0.69, 0.71, 0.64, 0.76, 0.67, 0.77, 0.53, 0.6 ,\n",
       "        0.53, 0.56, 0.54, 0.56, 0.6 , 0.56, 0.57, 0.  , 0.31],\n",
       "       [0.62, 0.4 , 0.79, 0.6 , 0.62, 0.54, 0.6 , 0.77, 0.55, 0.53, 0.6 ,\n",
       "        0.53, 0.56, 0.64, 0.65, 0.69, 0.47, 0.57, 0.31, 0.  ]])"
      ]
     },
     "execution_count": 59,
     "metadata": {},
     "output_type": "execute_result"
    }
   ],
   "source": [
    "# Compute All Pair-Wise Jaccard Coefficients\n",
    "dist_patients = np.zeros([len(patient_ids), len(patient_ids)])\n",
    "\n",
    "for i in range(patients_data.shape[0]):\n",
    "    for j in range(i, patients_data.shape[0]):\n",
    "        vec_1 = patients_data.iloc[i]\n",
    "        vec_2 = patients_data.iloc[j]\n",
    "\n",
    "        # compute distance and round to two decimal points\n",
    "        dist_patients[i, j] = round(compute_Jaccard_distnace(vec_1, vec_2 ), 2)\n",
    "        dist_patients[j, i] = dist_patients[i, j]\n",
    "        \n",
    "dist_patients"
   ]
  },
  {
   "cell_type": "code",
   "execution_count": 60,
   "metadata": {
    "slideshow": {
     "slide_type": "slide"
    }
   },
   "outputs": [
    {
     "name": "stdout",
     "output_type": "stream",
     "text": [
      "0.93 8\n",
      "(0, 8)\n",
      "0.0 0\n",
      "(0, 0)\n"
     ]
    }
   ],
   "source": [
    "from numpy import unravel_index\n",
    "\n",
    "print(np.max(dist_patients), np.argmax(dist_patients))\n",
    "\n",
    "print(unravel_index(np.argmax(dist_patients), dist_patients.shape))\n",
    "\n",
    "# dist_patients[dist_patients==0] = 10000\n",
    "\n",
    "# Use nanmin, nanmax, nanargmin and nanargmax \n",
    "print(np.nanmin(dist_patients), np.nanargmin(dist_patients))\n",
    "print(unravel_index(np.argmin(dist_patients), dist_patients.shape))\n"
   ]
  },
  {
   "cell_type": "code",
   "execution_count": 61,
   "metadata": {
    "slideshow": {
     "slide_type": "slide"
    }
   },
   "outputs": [
    {
     "data": {
      "text/html": [
       "<div>\n",
       "<style scoped>\n",
       "    .dataframe tbody tr th:only-of-type {\n",
       "        vertical-align: middle;\n",
       "    }\n",
       "\n",
       "    .dataframe tbody tr th {\n",
       "        vertical-align: top;\n",
       "    }\n",
       "\n",
       "    .dataframe thead th {\n",
       "        text-align: right;\n",
       "    }\n",
       "</style>\n",
       "<table border=\"1\" class=\"dataframe\">\n",
       "  <thead>\n",
       "    <tr style=\"text-align: right;\">\n",
       "      <th></th>\n",
       "      <th>Muscle Cramps</th>\n",
       "      <th>Weight Gain</th>\n",
       "      <th>Easy Bruising</th>\n",
       "      <th>Metallic Taste</th>\n",
       "      <th>Paranoia</th>\n",
       "      <th>Leg Pain</th>\n",
       "      <th>Gas and Bloating</th>\n",
       "      <th>Mouth Sores</th>\n",
       "      <th>Nausea, Upset Stomach</th>\n",
       "      <th>Rectal Bleeding</th>\n",
       "      <th>Shortness of Breath</th>\n",
       "      <th>Muscle Cramps</th>\n",
       "      <th>Urine Odor</th>\n",
       "      <th>Swollen Ankles and Feet</th>\n",
       "      <th>Joint Cracking</th>\n",
       "      <th>Eye Twitch</th>\n",
       "      <th>Dry Skin</th>\n",
       "    </tr>\n",
       "  </thead>\n",
       "  <tbody>\n",
       "    <tr>\n",
       "      <th>mu2cAI</th>\n",
       "      <td>1</td>\n",
       "      <td>0</td>\n",
       "      <td>1</td>\n",
       "      <td>0</td>\n",
       "      <td>0</td>\n",
       "      <td>1</td>\n",
       "      <td>1</td>\n",
       "      <td>1</td>\n",
       "      <td>1</td>\n",
       "      <td>0</td>\n",
       "      <td>1</td>\n",
       "      <td>0</td>\n",
       "      <td>1</td>\n",
       "      <td>1</td>\n",
       "      <td>1</td>\n",
       "      <td>0</td>\n",
       "      <td>1</td>\n",
       "    </tr>\n",
       "    <tr>\n",
       "      <th>bejGrB</th>\n",
       "      <td>0</td>\n",
       "      <td>1</td>\n",
       "      <td>0</td>\n",
       "      <td>0</td>\n",
       "      <td>1</td>\n",
       "      <td>0</td>\n",
       "      <td>0</td>\n",
       "      <td>1</td>\n",
       "      <td>0</td>\n",
       "      <td>1</td>\n",
       "      <td>0</td>\n",
       "      <td>1</td>\n",
       "      <td>0</td>\n",
       "      <td>0</td>\n",
       "      <td>0</td>\n",
       "      <td>0</td>\n",
       "      <td>0</td>\n",
       "    </tr>\n",
       "  </tbody>\n",
       "</table>\n",
       "</div>"
      ],
      "text/plain": [
       "        Muscle Cramps  Weight Gain  Easy Bruising  Metallic Taste  Paranoia  \\\n",
       "mu2cAI              1            0              1               0         0   \n",
       "bejGrB              0            1              0               0         1   \n",
       "\n",
       "        Leg Pain  Gas and Bloating  Mouth Sores  Nausea, Upset Stomach  \\\n",
       "mu2cAI         1                 1            1                      1   \n",
       "bejGrB         0                 0            1                      0   \n",
       "\n",
       "        Rectal Bleeding  Shortness of Breath  Muscle Cramps  Urine Odor  \\\n",
       "mu2cAI                0                    1              0           1   \n",
       "bejGrB                1                    0              1           0   \n",
       "\n",
       "        Swollen Ankles and Feet  Joint Cracking  Eye Twitch  Dry Skin  \n",
       "mu2cAI                        1               1           0         1  \n",
       "bejGrB                        0               0           0         0  "
      ]
     },
     "execution_count": 61,
     "metadata": {},
     "output_type": "execute_result"
    }
   ],
   "source": [
    "patients_data.iloc[[0,8]]\n"
   ]
  },
  {
   "cell_type": "code",
   "execution_count": 62,
   "metadata": {
    "slideshow": {
     "slide_type": "slide"
    }
   },
   "outputs": [
    {
     "name": "stdout",
     "output_type": "stream",
     "text": [
      "0.31 295\n",
      "(14, 15)\n"
     ]
    }
   ],
   "source": [
    "dist_patients_temp = dist_patients.copy() \n",
    "for i in range(patients_data.shape[0]):\n",
    "    dist_patients_temp[i,i] = 1000\n",
    "    \n",
    "print(np.nanmin(dist_patients_temp), np.nanargmin(dist_patients_temp))\n",
    "print(unravel_index(np.argmin(dist_patients_temp), dist_patients_temp.shape))\n"
   ]
  },
  {
   "cell_type": "code",
   "execution_count": 63,
   "metadata": {
    "colab_type": "text",
    "id": "D9TdfKY2ivBw",
    "slideshow": {
     "slide_type": "slide"
    }
   },
   "outputs": [
    {
     "data": {
      "text/html": [
       "<div>\n",
       "<style scoped>\n",
       "    .dataframe tbody tr th:only-of-type {\n",
       "        vertical-align: middle;\n",
       "    }\n",
       "\n",
       "    .dataframe tbody tr th {\n",
       "        vertical-align: top;\n",
       "    }\n",
       "\n",
       "    .dataframe thead th {\n",
       "        text-align: right;\n",
       "    }\n",
       "</style>\n",
       "<table border=\"1\" class=\"dataframe\">\n",
       "  <thead>\n",
       "    <tr style=\"text-align: right;\">\n",
       "      <th></th>\n",
       "      <th>Muscle Cramps</th>\n",
       "      <th>Weight Gain</th>\n",
       "      <th>Easy Bruising</th>\n",
       "      <th>Metallic Taste</th>\n",
       "      <th>Paranoia</th>\n",
       "      <th>Leg Pain</th>\n",
       "      <th>Gas and Bloating</th>\n",
       "      <th>Mouth Sores</th>\n",
       "      <th>Nausea, Upset Stomach</th>\n",
       "      <th>Rectal Bleeding</th>\n",
       "      <th>Shortness of Breath</th>\n",
       "      <th>Muscle Cramps</th>\n",
       "      <th>Urine Odor</th>\n",
       "      <th>Swollen Ankles and Feet</th>\n",
       "      <th>Joint Cracking</th>\n",
       "      <th>Eye Twitch</th>\n",
       "      <th>Dry Skin</th>\n",
       "    </tr>\n",
       "  </thead>\n",
       "  <tbody>\n",
       "    <tr>\n",
       "      <th>Mj4IMo</th>\n",
       "      <td>1</td>\n",
       "      <td>0</td>\n",
       "      <td>1</td>\n",
       "      <td>1</td>\n",
       "      <td>1</td>\n",
       "      <td>1</td>\n",
       "      <td>1</td>\n",
       "      <td>1</td>\n",
       "      <td>1</td>\n",
       "      <td>0</td>\n",
       "      <td>1</td>\n",
       "      <td>1</td>\n",
       "      <td>0</td>\n",
       "      <td>0</td>\n",
       "      <td>0</td>\n",
       "      <td>1</td>\n",
       "      <td>1</td>\n",
       "    </tr>\n",
       "    <tr>\n",
       "      <th>G18bhX</th>\n",
       "      <td>1</td>\n",
       "      <td>0</td>\n",
       "      <td>1</td>\n",
       "      <td>1</td>\n",
       "      <td>0</td>\n",
       "      <td>1</td>\n",
       "      <td>1</td>\n",
       "      <td>0</td>\n",
       "      <td>1</td>\n",
       "      <td>0</td>\n",
       "      <td>1</td>\n",
       "      <td>1</td>\n",
       "      <td>0</td>\n",
       "      <td>0</td>\n",
       "      <td>1</td>\n",
       "      <td>1</td>\n",
       "      <td>0</td>\n",
       "    </tr>\n",
       "  </tbody>\n",
       "</table>\n",
       "</div>"
      ],
      "text/plain": [
       "        Muscle Cramps  Weight Gain  Easy Bruising  Metallic Taste  Paranoia  \\\n",
       "Mj4IMo              1            0              1               1         1   \n",
       "G18bhX              1            0              1               1         0   \n",
       "\n",
       "        Leg Pain  Gas and Bloating  Mouth Sores  Nausea, Upset Stomach  \\\n",
       "Mj4IMo         1                 1            1                      1   \n",
       "G18bhX         1                 1            0                      1   \n",
       "\n",
       "        Rectal Bleeding  Shortness of Breath  Muscle Cramps  Urine Odor  \\\n",
       "Mj4IMo                0                    1              1           0   \n",
       "G18bhX                0                    1              1           0   \n",
       "\n",
       "        Swollen Ankles and Feet  Joint Cracking  Eye Twitch  Dry Skin  \n",
       "Mj4IMo                        0               0           1         1  \n",
       "G18bhX                        0               1           1         0  "
      ]
     },
     "execution_count": 63,
     "metadata": {},
     "output_type": "execute_result"
    }
   ],
   "source": [
    "patients_data.iloc[[14,15]]\n"
   ]
  },
  {
   "cell_type": "markdown",
   "metadata": {
    "slideshow": {
     "slide_type": "slide"
    }
   },
   "source": [
    "###  Devising you Own Distance\n",
    "\n",
    "* There are certain properties that a distance (or similarity) function should have\n",
    "  * A distance in a mathematical sense must have at least the following properties \n",
    "\n",
    "$$\n",
    "d(x, y) \\ge 0 \\\\\n",
    "d(x, y) = d(y, x) \\\\\n",
    "d(x, y) + d(y, z) \\ge d(x, z)\n",
    "$$ \n",
    "\n",
    "* In practice, it may be hard to identify a distance that guarantees  triangle inequality\n",
    "  * Some metrix are not symmetric\n",
    "     * E.g., length of the shortest clockwise path between $p$ and $q$ \n",
    "  * Some relatively good metrics are not transitive\n",
    "\n",
    "  * For technical reasons, the symmetry property is usually highly desirable. \n",
    "    * You can always construct an asymmetric distance function from an asymmetric one\n",
    "\n",
    "$$\n",
    "    dS(x,y)= \\frac{d(x,y)+d(y,x)}{2}\n",
    "$$"
   ]
  },
  {
   "cell_type": "markdown",
   "metadata": {
    "slideshow": {
     "slide_type": "slide"
    }
   },
   "source": [
    "### Smooth Function are Better thatn Non-Smooth Ones\n",
    "\n",
    "* Naive distance\n",
    "\n",
    "$$\n",
    "d(x,y) = \\sum{d_i(x_i, y_i)}~~\\mbox{where,}\\\\\n",
    "d_i(x_i, y_i)= \\left\\{\n",
    "    \\begin{array}{ll}\n",
    "        1 & \\mbox{if } x=y \\\\\n",
    "        0 & \\mbox{otherwise}\n",
    "    \\end{array}\n",
    "\\right.\n",
    "$$\n",
    "\n",
    "* This function is not smooth\n",
    "  * Difference between `[1,2]` and `[2,3]` is the same the difference between `[1,2]` and `[100, 200]`\n",
    "  \n"
   ]
  },
  {
   "cell_type": "markdown",
   "metadata": {
    "slideshow": {
     "slide_type": "slide"
    }
   },
   "source": [
    "### Clustering Approaches\n",
    "\n",
    "In this section will cover two approaches to clustering a set of points into  clusters\n",
    "\n",
    "* Hierarchical \n",
    "  * Each point is a cluster\n",
    "  * Repeatedly combine the two “closest” clusters into one\n",
    "  * Stop when only one cluster remains\n",
    "  * This is also known as \"agglomerative hierarchical clustering\"\n",
    "  \n",
    "* Point-to-cluster Assignment\n",
    "  * Maintain a set of k clusters (ex `k = 3`)\n",
    "  * Place points into “closest” cluster\n",
    "    * iteratively repeat the process until the solution is stable\n",
    "    \n",
    "    \n",
    "* There more advanced/complex approaches\n",
    "  * Difficult to combine into categories because of the diversity of approaches and overlaps\n",
    "  * Probabilistic methods increasingly popular\n"
   ]
  },
  {
   "cell_type": "markdown",
   "metadata": {
    "slideshow": {
     "slide_type": "slide"
    }
   },
   "source": [
    "### Hierarchical Clustering\n",
    "\n",
    "<img src=\"https://www.dropbox.com/s/pvsw16v49j1a9m4/hierarchical_clustering.png?dl=1\" alt=\"drawing\" width=\"600\"/>\n",
    "\n"
   ]
  },
  {
   "cell_type": "markdown",
   "metadata": {
    "slideshow": {
     "slide_type": "slide"
    }
   },
   "source": [
    "### Hierarchical Clustering Dendogram Representation\n",
    "\n",
    "<img src=\"https://www.dropbox.com/s/xyohvxzsgwkeo1d/hierarchical_clustering_dendo.png?dl=1\" alt=\"drawing\" width=\"700\"/>\n",
    "\n"
   ]
  },
  {
   "cell_type": "markdown",
   "metadata": {
    "slideshow": {
     "slide_type": "slide"
    }
   },
   "source": [
    "### Hierarchical Clustering - Cont'd\n",
    "\n",
    "* Repeatedly combine the two “closest” clusters into one\n",
    "\n",
    "* How do you know which pair of clusters is the closest\n",
    "  * We can only compute our distances between two points\n",
    "\n",
    "* One possible solution: \n",
    "    * represent the location of each cluster using a single measure:\n",
    "    * E.g., centroid, or the average of all points in a cluster\n",
    "\n",
    "* Take all centroids and find the closest pair      "
   ]
  },
  {
   "cell_type": "markdown",
   "metadata": {
    "slideshow": {
     "slide_type": "slide"
    }
   },
   "source": [
    "### Question\n",
    "\n",
    "* Does the centroid approach work for all types of data?\n",
    "\n",
    "    * How do you compute the centroid for the DNA sequences from before?\n"
   ]
  },
  {
   "cell_type": "markdown",
   "metadata": {
    "slideshow": {
     "slide_type": "slide"
    }
   },
   "source": [
    "### Hierarchical Clustering with Non Eclidean Distances\n",
    "\n",
    "* There is no “average” of two points\n",
    "\n",
    "* We can compute the distance between two clusters using other approaches. For example:\n",
    "    \n",
    "  * Minimum of the distances between any two points one from each cluster\n",
    "    * Minimum Linkage\n",
    "  * Maximum of the distances between any two points one from each cluster\n",
    "    * Maximum Linkage\n",
    "  * Average of the distances between any two points one from each cluster\n",
    "    * Average Linkage\n",
    "\n",
    "* Pick a notion of “cohesion” of clusters, e.g., the maximum distance from the clustroid \n",
    "\n",
    "  * A clusteroid is simply the center of the cluster based on, for example, the average of intra-cluster distances\n",
    "\n"
   ]
  },
  {
   "cell_type": "markdown",
   "metadata": {
    "slideshow": {
     "slide_type": "slide"
    }
   },
   "source": [
    "### Question:\n",
    "\n",
    "* Given $n$ data points, what is the complexity of clustering in the worst case scenario?\n",
    "* Recall we need to:\n",
    "  1- build the distance matrix\n",
    "  2- Merge n points iteratively until we end up with a single cluster\n",
    "\n",
    "\n"
   ]
  },
  {
   "cell_type": "markdown",
   "metadata": {
    "collapsed": true,
    "heading_collapsed": true,
    "slideshow": {
     "slide_type": "slide"
    }
   },
   "source": [
    "### Hierarchical Clustering Results\n",
    "\n",
    "* Easy to implement and understand (plus)\n",
    "\n",
    "\n",
    "* Method is computationally intensive (minus)\n",
    "\n",
    "* Extracting clusters can tricky! (minus)\n",
    "   * Data points are leaves \n",
    "   * Distance in the tree between the leaves is representative of the distance between the data points\n",
    " \n",
    "\n",
    "\n"
   ]
  },
  {
   "cell_type": "markdown",
   "metadata": {
    "slideshow": {
     "slide_type": "slide"
    }
   },
   "source": [
    "## Second Category: Assigning Points to Clusters\n",
    "\n",
    "* A popular clustering algorithm\n",
    "\n",
    "* Two steps\n",
    "  * Define the number of cluster on \n",
    "  * Initializing cluster representatives\n",
    "  * Assignment of points to each cluster\n",
    "  * Recalculating the centroids\n",
    "\n"
   ]
  },
  {
   "cell_type": "markdown",
   "metadata": {
    "slideshow": {
     "slide_type": "slide"
    }
   },
   "source": [
    "### Kmeans Clustering Steps\n",
    "\n",
    "* Assumes Euclidean space\n",
    "  * Cannot handle categorical data\n",
    "\n",
    "<img src=\"https://www.dropbox.com/s/sbfedy63m3krllm/kmeans_a.png?dl=1\" width=\"300\"/>\n"
   ]
  },
  {
   "cell_type": "markdown",
   "metadata": {
    "slideshow": {
     "slide_type": "slide"
    }
   },
   "source": [
    "\n",
    "### k-Means Clustering: Initialization\n",
    "\n",
    "* Initialize clusters by $k$ points; one per cluster\n",
    "  * Those are the cluster representatives; the cluster centroids\n",
    "     * For instance, take $k$ points in space at random\n",
    "  \n",
    "<img src=\"https://www.dropbox.com/s/ovkur4oeb5r3p9m/kmeans_b.png?dl=1\" width=\"300\"/>"
   ]
  },
  {
   "cell_type": "markdown",
   "metadata": {
    "slideshow": {
     "slide_type": "slide"
    }
   },
   "source": [
    "### k-Means Clustering: Assign points to clusters\n",
    "\n",
    "* Place each point in the cluster identified with by the closest centroid\n",
    "\n",
    "  * Here, we \"paint\" the examples the same color as the cluster centroid to which it was assigned\n",
    "  \n",
    "<img src=\"https://www.dropbox.com/s/i8ueidywma580a0/kmeans_c.png?dl=1\" width=\"300\"/>\n",
    "\n",
    "\n"
   ]
  },
  {
   "cell_type": "markdown",
   "metadata": {
    "colab_type": "text",
    "id": "8quv8Db0ivBx",
    "slideshow": {
     "slide_type": "slide"
    }
   },
   "source": [
    "### k-Means Clustering: Recalculating the centroids\n",
    "\n",
    "* After all points are assigned, recompute the centroids of the $k$ clusters\n",
    "\n",
    "<img src=\"https://www.dropbox.com/s/msdd7jlf9vq4cje/kmeans_d.png?dl=1\" width=\"300\"/>\n"
   ]
  },
  {
   "cell_type": "markdown",
   "metadata": {
    "colab_type": "text",
    "id": "poKo7tYIivB1",
    "slideshow": {
     "slide_type": "slide"
    }
   },
   "source": [
    "### k-Means Clustering: Assign and Recalculate Centroids \n",
    "\n",
    "* Repeat these two steps until convergence\n",
    "\n",
    "  * The clustering is stable, and nothing changes.\n",
    "      * i.e., computing assigning the points to the closest centroid and recomputing the centroids does not change the centroids or the assignments\n",
    "\n"
   ]
  },
  {
   "cell_type": "markdown",
   "metadata": {
    "slideshow": {
     "slide_type": "slide"
    }
   },
   "source": [
    "### K-means Clustering Results\n",
    "\n",
    "* Algorithm is non-nondeterministic (minus)\n",
    "  * A different choice of starting values may result in a different assignment of points to clusters\n",
    "    * Customary to run the k-means algorithm several times and compare results or compute a consensus\n",
    "* Cannot be used with categorical data (non-Euclidean space) (minus)\n",
    "  * Difficult, or sometimes impossible, to construct centroids from categorical data\n",
    "  \n",
    "* Can use k-medoid, the smallest average distance to all other points in the cluster (plus)\n",
    "    * A medoid is the point in the cluster with the smallest distance to all the other points in the cluster.\n",
    "        * Less affected by outliers\n",
    "        * More stable\n"
   ]
  },
  {
   "cell_type": "markdown",
   "metadata": {
    "slideshow": {
     "slide_type": "slide"
    }
   },
   "source": [
    "### K-means Clustering Results - Cont'd\n",
    "\n",
    "\n",
    "* Can take a long time to converge with some poor initializations  (minus)  \n",
    "  * Very rare, but a possibility, nevertheless \n",
    "\n",
    "* Computationally efficient $O(k \\cdot n)$ (plus)\n",
    "  * linear in the number of points!\n",
    "  * Small number of iterations to converge (10–50 iterations are typical)\n",
    "\n",
    "* Works relatively well in real life."
   ]
  },
  {
   "cell_type": "markdown",
   "metadata": {
    "slideshow": {
     "slide_type": "slide"
    }
   },
   "source": [
    "### How Do We compute the Results of Clustering\n",
    "\n",
    "* What distinguishes a good clustering from a bad one?\n",
    "\n",
    "* Recall that what we want is:\n",
    "  1. Points within the same cluster to be very similar; \n",
    "     * The average distance between points in the same cluster should be small\n",
    "     * This is called *cohesion* and it should be relatively small\n",
    "  2. Points across clusters to be highly dissimilar; \n",
    "      * Distnace between between points from distinct clusters should be large\n",
    "      * This is called *separation* and it should be relatively large\n",
    "  \n",
    "* A clustering solution is \n",
    "\n",
    "$$\n",
    "    \\frac{separation}{cohesion}\n",
    "$$ \n",
    "\n",
    "* Large separation compared to low cohesion\n",
    "* Large values are indicative of a good separation \n"
   ]
  },
  {
   "cell_type": "markdown",
   "metadata": {
    "slideshow": {
     "slide_type": "slide"
    }
   },
   "source": [
    "### The Silhouette Coefficient\n",
    "\n",
    "* A good \"score\" to estimate the ratio of separation to cohesion\n",
    "\n",
    "* For each cluster we denote:\n",
    "  * $a_i$ is the average distance that point $i$ has from all points in same cluster\n",
    "    * Represents the cohesion; we want it o be as small as possible   \n",
    "  * $b_i$ be the smallest distance between point $i$ and a point not in the same cluster as $i$\n",
    "    * Represents separation we want it to be as large as possible \n",
    "    \n"
   ]
  },
  {
   "cell_type": "markdown",
   "metadata": {
    "slideshow": {
     "slide_type": "slide"
    }
   },
   "source": [
    "### The Silhouette Coefficient - Cont'd\n",
    "\n",
    "* We measure the Silhouette Coefficient of a point $i$ as \n",
    "\n",
    "$$\n",
    "S_i = \\frac{b_i - a_i}{m(a_i, b_i)}\n",
    "$$\n",
    "\n",
    "* Silhouette coefficient ranges from −1 to 1\n",
    "  * Negative values indicate $a_i$ is larger than b_i\n",
    "    * Low cohesion or small separation or both\n",
    "    * This suggests poor clustering\n",
    "  * Positive values indicate $b_i$ is larger than $a_i$\n",
    "    * high cohesion or high separation or both\n",
    "    \n"
   ]
  },
  {
   "cell_type": "markdown",
   "metadata": {
    "slideshow": {
     "slide_type": "slide"
    }
   },
   "source": [
    "### Computing Cluster-Wide Silhouette Coefficient\n",
    "\n",
    "* Average silhouette coefficients within cluster \n",
    "  * A good indicator of the quality of the entire cluster\n",
    "  * Same observations as before; large values denote good separation\n"
   ]
  },
  {
   "cell_type": "code",
   "execution_count": 65,
   "metadata": {
    "slideshow": {
     "slide_type": "slide"
    }
   },
   "outputs": [
    {
     "data": {
      "text/plain": [
       "([], [])"
      ]
     },
     "execution_count": 65,
     "metadata": {},
     "output_type": "execute_result"
    },
    {
     "data": {
      "image/png": "[encoded data removed]",
      "text/plain": [
       "<Figure size 288x288 with 1 Axes>"
      ]
     },
     "metadata": {},
     "output_type": "display_data"
    }
   ],
   "source": [
    "mean_c1 = [8, 12]\n",
    "cov_c1 = [[1,0], [0, 1]]\n",
    "c1 = np.random.multivariate_normal(mean_c1, cov_c1, 40)\n",
    "\n",
    "mean_c2 = [4, 4]\n",
    "cov_c2 = [[1,0], [0, 1]]\n",
    "c2 = np.random.multivariate_normal(mean_c2, cov_c2, 29)\n",
    "\n",
    "\n",
    "\n",
    "plt.figure(figsize=(4,4))\n",
    "plt.scatter(c1[:,0], c1[:, 1])\n",
    "plt.scatter(c2[:,0], c2[:, 1])\n",
    "\n",
    "plt.xticks([], [])\n",
    "plt.yticks([], [])\n"
   ]
  },
  {
   "cell_type": "code",
   "execution_count": 81,
   "metadata": {
    "collapsed": true,
    "slideshow": {
     "slide_type": "slide"
    }
   },
   "outputs": [],
   "source": [
    "from scipy.spatial import distance\n",
    "\n",
    "def compute_b(pt_cl1, c2):\n",
    "    # Closest points across cluster distant points\n",
    "    min_dist = np.inf\n",
    "    hit_pt_c1, hit_pt_c2 = (None, None)\n",
    "    \n",
    "    for j, pt2 in enumerate(c2):\n",
    "        d = distance.euclidean(pt_cl1, pt2)\n",
    "        if d < min_dist:\n",
    "            min_dist = d\n",
    "            hit_pt_c2 = pt2\n",
    "    return hit_pt_c2,  min_dist\n"
   ]
  },
  {
   "cell_type": "code",
   "execution_count": 82,
   "metadata": {
    "slideshow": {
     "slide_type": "slide"
    }
   },
   "outputs": [
    {
     "data": {
      "image/png": "[encoded data removed]",
      "text/plain": [
       "<matplotlib.figure.Figure at 0x118ca9048>"
      ]
     },
     "metadata": {},
     "output_type": "display_data"
    }
   ],
   "source": [
    "pt_cl1 = c2[10]\n",
    "plt.figure(figsize=(8,8))\n",
    "plt.scatter(c1[:,0], c1[:, 1], c=\"green\", alpha=0.3)\n",
    "plt.scatter(c2[:,0], c2[:, 1], c='black', alpha=0.2)\n",
    "\n",
    "\n",
    "for other_pt in c1:\n",
    "    plt.plot([pt_cl1[0], other_pt[0]], [pt_cl1[1], other_pt[1]], 'r-', alpha=0.3)\n",
    "        "
   ]
  },
  {
   "cell_type": "code",
   "execution_count": 83,
   "metadata": {
    "slideshow": {
     "slide_type": "slide"
    }
   },
   "outputs": [
    {
     "data": {
      "text/plain": [
       "(array([4.25838338, 4.80299801]), 0.0)"
      ]
     },
     "execution_count": 83,
     "metadata": {},
     "output_type": "execute_result"
    }
   ],
   "source": [
    "compute_b(pt_cl1, c2)"
   ]
  },
  {
   "cell_type": "code",
   "execution_count": 85,
   "metadata": {
    "slideshow": {
     "slide_type": "slide"
    }
   },
   "outputs": [
    {
     "data": {
      "text/plain": [
       "[<matplotlib.lines.Line2D at 0x118e047b8>]"
      ]
     },
     "execution_count": 85,
     "metadata": {},
     "output_type": "execute_result"
    },
    {
     "data": {
      "image/png": "[encoded data removed]",
      "text/plain": [
       "<matplotlib.figure.Figure at 0x11776d048>"
      ]
     },
     "metadata": {},
     "output_type": "display_data"
    }
   ],
   "source": [
    "c1_pt2, _ =  compute_b(pt_cl1, c2)\n",
    "\n",
    "plt.figure(figsize=(8,8))\n",
    "plt.scatter(c1[:,0], c1[:, 1], c=\"green\")\n",
    "plt.scatter(c2[:,0], c2[:, 1], c='black')\n",
    "plt.scatter(c1_pt1[0], c1_pt1[1], color='red')\n",
    "plt.scatter(c1_pt2[0], c1_pt2[1], color='red')\n",
    "plt.xticks([], [])\n",
    "plt.yticks([], [])\n",
    "\n",
    "plt.plot([c1_pt1[0], c1_pt2[0]], [c1_pt1[1], c1_pt2[1]], 'ro-')\n"
   ]
  },
  {
   "cell_type": "code",
   "execution_count": 86,
   "metadata": {
    "collapsed": true,
    "slideshow": {
     "slide_type": "slide"
    }
   },
   "outputs": [],
   "source": [
    "def compute_a(cluster, target_pt_id):\n",
    "    distances = []\n",
    "    for other_pt_id in range(len(cluster)):\n",
    "        if  target_pt_id != other_pt_id:\n",
    "            distances.append(distance.euclidean(cluster[target_pt_id], cluster[other_pt_id]))\n",
    "    return np.mean(distances)\n",
    "        "
   ]
  },
  {
   "cell_type": "code",
   "execution_count": 87,
   "metadata": {
    "slideshow": {
     "slide_type": "slide"
    }
   },
   "outputs": [
    {
     "data": {
      "image/png": "[encoded data removed]",
      "text/plain": [
       "<matplotlib.figure.Figure at 0x11776d3c8>"
      ]
     },
     "metadata": {},
     "output_type": "display_data"
    }
   ],
   "source": [
    "plt.figure(figsize=(8,8))\n",
    "plt.scatter(c1[:,0], c1[:, 1], c=\"green\", alpha=0.3)\n",
    "plt.scatter(c2[:,0], c2[:, 1], c='black', alpha=0.2)\n",
    "\n",
    "\n",
    "for pt1 in c2:\n",
    "    if pt2 in c2:\n",
    "        plt.plot([pt1[0], pt2[0]], [pt1[1], pt2[1]], 'r-', alpha=0.3)\n",
    "        "
   ]
  },
  {
   "cell_type": "code",
   "execution_count": 88,
   "metadata": {
    "slideshow": {
     "slide_type": "slide"
    }
   },
   "outputs": [
    {
     "data": {
      "text/plain": [
       "1.3750303006078057"
      ]
     },
     "execution_count": 88,
     "metadata": {},
     "output_type": "execute_result"
    }
   ],
   "source": [
    "pt_id = 10\n",
    "compute_a(c2, pt_id)"
   ]
  },
  {
   "cell_type": "code",
   "execution_count": 89,
   "metadata": {
    "slideshow": {
     "slide_type": "slide"
    }
   },
   "outputs": [
    {
     "data": {
      "text/plain": [
       "<matplotlib.collections.PathCollection at 0x118b10748>"
      ]
     },
     "execution_count": 89,
     "metadata": {},
     "output_type": "execute_result"
    },
    {
     "data": {
      "image/png": "[encoded data removed]",
      "text/plain": [
       "<matplotlib.figure.Figure at 0x118e6ac88>"
      ]
     },
     "metadata": {},
     "output_type": "display_data"
    }
   ],
   "source": [
    "pt_id = 10\n",
    "pt = c2[10]\n",
    "plt.figure(figsize=(8,8))\n",
    "plt.scatter(c1[:,0], c1[:, 1], c=\"green\", alpha=0.2)\n",
    "plt.scatter(c2[:,0], c2[:, 1], c='black', alpha=0.3)\n",
    "\n",
    "plt.xticks([], [])\n",
    "plt.yticks([], [])\n",
    "\n",
    "for other_pt in c2:\n",
    "    if other_pt_id !=  point_id:\n",
    "        plt.plot([pt[0], other_pt[0]], [pt[1], other_pt[1]], 'r-', alpha=0.3)\n",
    "        \n",
    "plt.scatter(pt[0], pt[1], c='k', marker=\"s\", alpha=1)    \n"
   ]
  },
  {
   "cell_type": "code",
   "execution_count": 97,
   "metadata": {
    "slideshow": {
     "slide_type": "slide"
    }
   },
   "outputs": [
    {
     "data": {
      "text/plain": [
       "(array([4.25838338, 4.80299801]), 0.0)"
      ]
     },
     "execution_count": 97,
     "metadata": {},
     "output_type": "execute_result"
    }
   ],
   "source": [
    "compute_b(pt, c2)"
   ]
  },
  {
   "cell_type": "code",
   "execution_count": 136,
   "metadata": {
    "slideshow": {
     "slide_type": "slide"
    }
   },
   "outputs": [
    {
     "data": {
      "text/plain": [
       "0.7268230036476053"
      ]
     },
     "execution_count": 136,
     "metadata": {},
     "output_type": "execute_result"
    }
   ],
   "source": [
    "def pt_silhouette(cluster, target_pt_id, other_cluster):\n",
    "    a_i = compute_a(cluster, target_pt_id)\n",
    "    _, b_i = compute_b(cluster[target_pt_id], other_cluster)\n",
    "    return (b_i - a_i) / max(a_i, b_i)\n",
    "\n",
    "pt_silhouette(c2, pt_id, c1)    "
   ]
  },
  {
   "cell_type": "code",
   "execution_count": 137,
   "metadata": {
    "slideshow": {
     "slide_type": "slide"
    }
   },
   "outputs": [
    {
     "name": "stdout",
     "output_type": "stream",
     "text": [
      "2.6981120218302315\n",
      "21.759467543982822\n"
     ]
    },
    {
     "data": {
      "text/plain": [
       "0.3570589076309269"
      ]
     },
     "execution_count": 137,
     "metadata": {},
     "output_type": "execute_result"
    }
   ],
   "source": [
    "pt_id_c1 = 21\n",
    "pt_c1 = c1[21]\n",
    "print(compute_a(c1, pt_id_c1))\n",
    "print(compute_b(pt_id_c1, c2)[1])\n",
    "pt_silhouette(c1, pt_id, c2)"
   ]
  },
  {
   "cell_type": "code",
   "execution_count": 138,
   "metadata": {
    "slideshow": {
     "slide_type": "slide"
    }
   },
   "outputs": [
    {
     "data": {
      "text/plain": [
       "<matplotlib.collections.PathCollection at 0x118933be0>"
      ]
     },
     "execution_count": 138,
     "metadata": {},
     "output_type": "execute_result"
    },
    {
     "data": {
      "image/png": "[encoded data removed]",
      "text/plain": [
       "<matplotlib.figure.Figure at 0x118aecf60>"
      ]
     },
     "metadata": {},
     "output_type": "display_data"
    }
   ],
   "source": [
    "pt_id = 21\n",
    "pt = c1[10]\n",
    "plt.figure(figsize=(8,8))\n",
    "plt.scatter(c1[:,0], c1[:, 1], c=\"green\", alpha=0.2)\n",
    "plt.scatter(c2[:,0], c2[:, 1], c='black', alpha=0.3)\n",
    "\n",
    "plt.xticks([], [])\n",
    "plt.yticks([], [])\n",
    "\n",
    "for other_pt in c1:\n",
    "    if other_pt_id !=  point_id:\n",
    "        plt.plot([pt[0], other_pt[0]], [pt[1], other_pt[1]], 'r-', alpha=0.3)\n",
    "        \n",
    "plt.scatter(pt[0], pt[1], c='k', marker=\"s\", alpha=1)    \n"
   ]
  },
  {
   "cell_type": "markdown",
   "metadata": {
    "slideshow": {
     "slide_type": "slide"
    }
   },
   "source": [
    "### Computig Cluster-Wide Silhouette Coefficient\n",
    "\n",
    "* Average over the silhouette coefficients for all data points\n",
    "\n",
    "  * Provides a good estimator of the quality of the overall clustering\n",
    " "
   ]
  },
  {
   "cell_type": "code",
   "execution_count": 139,
   "metadata": {
    "collapsed": true,
    "slideshow": {
     "slide_type": "slide"
    }
   },
   "outputs": [],
   "source": [
    "# For simplicity, the solution assumes two clusters \n",
    "# Need to considers additional clusters in solution\n",
    "def cluster_silhouette(cluster, other_cluster):\n",
    "    silhouette_coeffs = []\n",
    "    for pt_id in range(len(cluster)):\n",
    "        silhouette_coeffs.append(pt_silhouette(cluster, pt_id, other_cluster))\n",
    "    return(np.mean(silhouette_coeffs))\n",
    "            \n",
    "                "
   ]
  },
  {
   "cell_type": "code",
   "execution_count": 148,
   "metadata": {
    "slideshow": {
     "slide_type": "slide"
    }
   },
   "outputs": [
    {
     "name": "stdout",
     "output_type": "stream",
     "text": [
      "0.6534134308853174 0.6904926432489982\n"
     ]
    },
    {
     "data": {
      "text/plain": [
       "0.6719530370671578"
      ]
     },
     "execution_count": 148,
     "metadata": {},
     "output_type": "execute_result"
    }
   ],
   "source": [
    "print(cluster_silhouette(c1, c2), cluster_silhouette(c2, c1))\n",
    "np.mean([cluster_silhouette(c1, c2), cluster_silhouette(c2, c1)])"
   ]
  },
  {
   "cell_type": "code",
   "execution_count": 67,
   "metadata": {
    "slideshow": {
     "slide_type": "slide"
    }
   },
   "outputs": [
    {
     "data": {
      "text/plain": [
       "([], [])"
      ]
     },
     "execution_count": 67,
     "metadata": {},
     "output_type": "execute_result"
    },
    {
     "data": {
      "image/png": "[encoded data removed]",
      "text/plain": [
       "<Figure size 288x288 with 1 Axes>"
      ]
     },
     "metadata": {},
     "output_type": "display_data"
    }
   ],
   "source": [
    "mean_c1 = [8, 12]\n",
    "cov_c1 = [[6,0], [0, 9]]\n",
    "c1 = np.random.multivariate_normal(mean_c1, cov_c1, 40)\n",
    "\n",
    "mean_c2 = [4, 4]\n",
    "cov_c2 = [[2,0], [0, 2]]\n",
    "c2 = np.random.multivariate_normal(mean_c2, cov_c2, 29)\n",
    "\n",
    "\n",
    "\n",
    "plt.figure(figsize=(4,4))\n",
    "plt.scatter(c1[:,0], c1[:, 1])\n",
    "plt.scatter(c2[:,0], c2[:, 1])\n",
    "\n",
    "plt.xticks([], [])\n",
    "plt.yticks([], [])\n"
   ]
  },
  {
   "cell_type": "code",
   "execution_count": 158,
   "metadata": {
    "slideshow": {
     "slide_type": "slide"
    }
   },
   "outputs": [
    {
     "name": "stdout",
     "output_type": "stream",
     "text": [
      "0.08026534373225395 0.08920863624598391\n"
     ]
    },
    {
     "data": {
      "text/plain": [
       "0.08473698998911894"
      ]
     },
     "execution_count": 158,
     "metadata": {},
     "output_type": "execute_result"
    }
   ],
   "source": [
    "print(cluster_silhouette(c1, c2), cluster_silhouette(c2, c1))\n",
    "np.mean([cluster_silhouette(c1, c2), cluster_silhouette(c2, c1)])"
   ]
  },
  {
   "cell_type": "code",
   "execution_count": 160,
   "metadata": {
    "slideshow": {
     "slide_type": "slide"
    }
   },
   "outputs": [
    {
     "data": {
      "text/plain": [
       "([], <a list of 0 Text yticklabel objects>)"
      ]
     },
     "execution_count": 160,
     "metadata": {},
     "output_type": "execute_result"
    },
    {
     "data": {
      "image/png": "[encoded data removed]",
      "text/plain": [
       "<matplotlib.figure.Figure at 0x118ad3cf8>"
      ]
     },
     "metadata": {},
     "output_type": "display_data"
    }
   ],
   "source": [
    "mean_c1 = [8, 12]\n",
    "cov_c1 = [[8,0], [0, 13]]\n",
    "c1 = np.random.multivariate_normal(mean_c1, cov_c1, 40)\n",
    "\n",
    "mean_c2 = [4, 4]\n",
    "cov_c2 = [[4,0], [0, 4]]\n",
    "c2 = np.random.multivariate_normal(mean_c2, cov_c2, 29)\n",
    "\n",
    "\n",
    "\n",
    "plt.figure(figsize=(8,8))\n",
    "plt.scatter(c1[:,0], c1[:, 1])\n",
    "plt.scatter(c2[:,0], c2[:, 1])\n",
    "\n",
    "plt.xticks([], [])\n",
    "plt.yticks([], [])\n"
   ]
  },
  {
   "cell_type": "code",
   "execution_count": 161,
   "metadata": {
    "slideshow": {
     "slide_type": "slide"
    }
   },
   "outputs": [
    {
     "name": "stdout",
     "output_type": "stream",
     "text": [
      "-0.19031767325037774 -0.06837193910062084\n"
     ]
    },
    {
     "data": {
      "text/plain": [
       "-0.1293448061754993"
      ]
     },
     "execution_count": 161,
     "metadata": {},
     "output_type": "execute_result"
    }
   ],
   "source": [
    "print(cluster_silhouette(c1, c2), cluster_silhouette(c2, c1))\n",
    "np.mean([cluster_silhouette(c1, c2), cluster_silhouette(c2, c1)])"
   ]
  },
  {
   "cell_type": "markdown",
   "metadata": {
    "slideshow": {
     "slide_type": "slide"
    }
   },
   "source": [
    "### Using Silhouettes to Decide on Best Number of Cluster \n",
    "\n",
    "* Silhouette coefficient can be useful to determine the number of clusters present in the dataset\n",
    "\n",
    "* Run the algorithm several times for each possible value of $k$ and compute the overall silhouette coefficient each time\n",
    "\n",
    "  * We should observe a peak at the best value of $k$\n",
    "\n",
    "### Question\n",
    "\n",
    "* Why do we need to Run the $k$-Means algorithm *several times* for each value of $k$ we would like to test?"
   ]
  }
 ],
 "metadata": {
  "celltoolbar": "Slideshow",
  "colab": {
   "name": "05.11-K-Means.ipynb",
   "provenance": [],
   "version": "0.3.2"
  },
  "hide_input": false,
  "kernelspec": {
   "display_name": "Python 3 (ipykernel)",
   "language": "python",
   "name": "python3"
  },
  "language_info": {
   "codemirror_mode": {
    "name": "ipython",
    "version": 3
   },
   "file_extension": ".py",
   "mimetype": "text/x-python",
   "name": "python",
   "nbconvert_exporter": "python",
   "pygments_lexer": "ipython3",
   "version": "3.8.11"
  }
 },
 "nbformat": 4,
 "nbformat_minor": 1
}

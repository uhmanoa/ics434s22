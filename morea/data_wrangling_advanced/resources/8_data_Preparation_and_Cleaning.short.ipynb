{
 "cells": [
  {
   "cell_type": "code",
   "execution_count": 3,
   "metadata": {
    "slideshow": {
     "slide_type": "slide"
    }
   },
   "outputs": [],
   "source": [
    "import pandas as pd\n",
    "import numpy as np\n",
    "import matplotlib.pyplot as plt\n"
   ]
  },
  {
   "cell_type": "markdown",
   "metadata": {
    "colab_type": "text",
    "id": "T_7eKUfcQhfL",
    "slideshow": {
     "slide_type": "slide"
    }
   },
   "source": [
    "# Data Preparation and Cleaning (i.e., Data Wrangling )\n",
    "\n",
    "---\n",
    "\n",
    "* Illustrating with a use case\n"
   ]
  },
  {
   "cell_type": "markdown",
   "metadata": {
    "colab_type": "text",
    "id": "OqcadNZH4qBy",
    "slideshow": {
     "slide_type": "slide"
    }
   },
   "source": [
    "### About the Data\n",
    "\n",
    "---\n",
    "\n",
    "* The dataset `spending_clean_ex.csv` was specifically constructed from the Medicare dataset\n",
    "* It was modified to contain interesting cleaning use cases\n",
    "\n"
   ]
  },
  {
   "cell_type": "code",
   "execution_count": 4,
   "metadata": {
    "colab": {},
    "colab_type": "code",
    "id": "pcmiQ3Ro-rdO",
    "slideshow": {
     "slide_type": "slide"
    }
   },
   "outputs": [
    {
     "data": {
      "text/html": [
       "<div>\n",
       "<style scoped>\n",
       "    .dataframe tbody tr th:only-of-type {\n",
       "        vertical-align: middle;\n",
       "    }\n",
       "\n",
       "    .dataframe tbody tr th {\n",
       "        vertical-align: top;\n",
       "    }\n",
       "\n",
       "    .dataframe thead th {\n",
       "        text-align: right;\n",
       "    }\n",
       "</style>\n",
       "<table border=\"1\" class=\"dataframe\">\n",
       "  <thead>\n",
       "    <tr style=\"text-align: right;\">\n",
       "      <th></th>\n",
       "      <th>doctor_id</th>\n",
       "      <th>specialty</th>\n",
       "      <th>medication</th>\n",
       "      <th>nb_beneficiaries</th>\n",
       "      <th>spending</th>\n",
       "    </tr>\n",
       "    <tr>\n",
       "      <th>unique_id</th>\n",
       "      <th></th>\n",
       "      <th></th>\n",
       "      <th></th>\n",
       "      <th></th>\n",
       "      <th></th>\n",
       "    </tr>\n",
       "  </thead>\n",
       "  <tbody>\n",
       "    <tr>\n",
       "      <th>BK982218</th>\n",
       "      <td>1750389599</td>\n",
       "      <td>INTERNAL MEDICINE</td>\n",
       "      <td>AZITHROMYCIN</td>\n",
       "      <td>12.0</td>\n",
       "      <td>$77.26</td>\n",
       "    </tr>\n",
       "    <tr>\n",
       "      <th>CG916968</th>\n",
       "      <td>1952344418</td>\n",
       "      <td>CARDIOLOGY</td>\n",
       "      <td>SIMVASTATIN</td>\n",
       "      <td>85.0</td>\n",
       "      <td>$767.83</td>\n",
       "    </tr>\n",
       "    <tr>\n",
       "      <th>SA964720</th>\n",
       "      <td>1669522744</td>\n",
       "      <td>INTERNAL MEDICINE</td>\n",
       "      <td>INSULIN DETEMIR</td>\n",
       "      <td>14.0</td>\n",
       "      <td>$5409.29</td>\n",
       "    </tr>\n",
       "    <tr>\n",
       "      <th>TR390895</th>\n",
       "      <td>1639597115</td>\n",
       "      <td>NaN</td>\n",
       "      <td>LOSARTAN POTASSIUM</td>\n",
       "      <td>11.0</td>\n",
       "      <td>$65.62</td>\n",
       "    </tr>\n",
       "    <tr>\n",
       "      <th>JA436080</th>\n",
       "      <td>1073781571</td>\n",
       "      <td>NaN</td>\n",
       "      <td>LAMOTRIGINE</td>\n",
       "      <td>12.0</td>\n",
       "      <td>$8873.7</td>\n",
       "    </tr>\n",
       "  </tbody>\n",
       "</table>\n",
       "</div>"
      ],
      "text/plain": [
       "            doctor_id          specialty          medication  \\\n",
       "unique_id                                                      \n",
       "BK982218   1750389599  INTERNAL MEDICINE        AZITHROMYCIN   \n",
       "CG916968   1952344418         CARDIOLOGY         SIMVASTATIN   \n",
       "SA964720   1669522744  INTERNAL MEDICINE     INSULIN DETEMIR   \n",
       "TR390895   1639597115                NaN  LOSARTAN POTASSIUM   \n",
       "JA436080   1073781571                NaN         LAMOTRIGINE   \n",
       "\n",
       "           nb_beneficiaries  spending  \n",
       "unique_id                              \n",
       "BK982218               12.0    $77.26  \n",
       "CG916968               85.0   $767.83  \n",
       "SA964720               14.0  $5409.29  \n",
       "TR390895               11.0    $65.62  \n",
       "JA436080               12.0   $8873.7  "
      ]
     },
     "execution_count": 4,
     "metadata": {},
     "output_type": "execute_result"
    }
   ],
   "source": [
    "spending_df = pd.read_csv('https://www.dropbox.com/s/nm0t3tsxi7rj5wj/spending_clean_ex.csv?dl=1', \n",
    "                          index_col='unique_id')\n",
    "spending_df.head()"
   ]
  },
  {
   "cell_type": "markdown",
   "metadata": {
    "colab_type": "text",
    "id": "UTG4gMfAQIr8",
    "slideshow": {
     "slide_type": "slide"
    }
   },
   "source": [
    "### Inspecting and Modifying Data Types\n",
    "---\n",
    "\n",
    "* Recall that `dtypes` returns data type of each column. \n",
    "\n",
    "```python\n",
    "spending_df.dtypes\n",
    "doctor_id             int64\n",
    "specialty            object\n",
    "medication           object\n",
    "nb_beneficiaries    float64\n",
    "spending             object\n",
    "dtype: object\n",
    "```\n",
    "\n",
    "* Issues: \n",
    "  * `doctor_id` is saved as an `int64`\n",
    "  * `spending` is saved as an `object`\n"
   ]
  },
  {
   "cell_type": "markdown",
   "metadata": {
    "slideshow": {
     "slide_type": "slide"
    }
   },
   "source": [
    "### Inspecting and Modifying Data Types\n",
    "\n",
    "* We need to cast the entries of each misidentified column to its appropriate `pandas` data type\n",
    "\n",
    "```python\n",
    "spending_df['doctor_id'].astype('object')\n",
    "```\n",
    "\n",
    "* As is the case with most operations in Pandas, `astype` is not `in-place`\n",
    "  * We need to manually update the data to make the change permanent by overwriting the column\n"
   ]
  },
  {
   "cell_type": "code",
   "execution_count": 6,
   "metadata": {
    "slideshow": {
     "slide_type": "slide"
    }
   },
   "outputs": [
    {
     "data": {
      "text/plain": [
       "doctor_id             int64\n",
       "specialty            object\n",
       "medication           object\n",
       "nb_beneficiaries    float64\n",
       "spending             object\n",
       "dtype: object"
      ]
     },
     "execution_count": 6,
     "metadata": {},
     "output_type": "execute_result"
    }
   ],
   "source": [
    "spending_df['doctor_id'].astype('object')\n",
    "spending_df.dtypes"
   ]
  },
  {
   "cell_type": "markdown",
   "metadata": {
    "slideshow": {
     "slide_type": "slide"
    }
   },
   "source": [
    "### Changing Column Data Type\n",
    "\n",
    "\n",
    "\n",
    "```python\n",
    ">>> spending_df.loc['doctor_id'] = spending_df.loc['doctor_id'].astype('object')\n",
    ">>> spending_df.dtypes\n",
    "doctor_id            object\n",
    "specialty            object\n",
    "medication           object\n",
    "nb_beneficiaries    float64\n",
    "spending             object\n",
    "dtype: object\n",
    "```\n",
    "\n"
   ]
  },
  {
   "cell_type": "code",
   "execution_count": 10,
   "metadata": {
    "slideshow": {
     "slide_type": "slide"
    }
   },
   "outputs": [
    {
     "data": {
      "text/plain": [
       "doctor_id            object\n",
       "specialty            object\n",
       "medication           object\n",
       "nb_beneficiaries    float64\n",
       "spending             object\n",
       "dtype: object"
      ]
     },
     "execution_count": 10,
     "metadata": {},
     "output_type": "execute_result"
    }
   ],
   "source": [
    "spending_df['doctor_id'] = spending_df['doctor_id'].astype('object')\n",
    "\n",
    "spending_df.dtypes"
   ]
  },
  {
   "cell_type": "markdown",
   "metadata": {
    "colab_type": "text",
    "id": "bfQbaD9BQW2Z",
    "slideshow": {
     "slide_type": "slide"
    }
   },
   "source": [
    "### String Methods on Series of type Object\n",
    "\n",
    "* A series of type `Object` has an accessor that can be used to create a new `str` object of the accessed object\n",
    "  * ``` spending_df[\"spending\"].str```\n",
    " \n",
    "* The accessor provides various methods that can be applied element-wise on the entries in the `Series `\n",
    "  * Same methods that are typically on Python String objects\n",
    "  * Difference is that the elements are applied element-wise; a Series is returned\n",
    "\n",
    "* String methods are not applied directly to the `Series`, but to the `string` attribute of the Series\n",
    " "
   ]
  },
  {
   "cell_type": "markdown",
   "metadata": {
    "slideshow": {
     "slide_type": "slide"
    }
   },
   "source": [
    "### String Methods on Series of type Object\n",
    "\n",
    "![](https://www.dropbox.com/s/uakp93fanxktwh3/str_upper.png?dl=1)"
   ]
  },
  {
   "cell_type": "code",
   "execution_count": 18,
   "metadata": {
    "slideshow": {
     "slide_type": "slide"
    }
   },
   "outputs": [
    {
     "data": {
      "text/plain": [
       "0      HI \n",
       "1    THERE\n",
       "2      HOW\n",
       "3      ARE\n",
       "4      YOU\n",
       "dtype: object"
      ]
     },
     "execution_count": 18,
     "metadata": {},
     "output_type": "execute_result"
    }
   ],
   "source": [
    "some_series = pd.Series([\"Hi \", \"There\", \"how\", \"are\", \"you\"])\n",
    "some_series.str.upper()\n"
   ]
  },
  {
   "cell_type": "markdown",
   "metadata": {
    "slideshow": {
     "slide_type": "slide"
    }
   },
   "source": [
    "### Using `replace()` to Fix Column's Data\n",
    "\n",
    "* We need to remove the `\"$\"` character\n",
    " \n",
    "  * With `replace()`, we can remove `\"$\"` by replacing it with the `\"\"` (empty string)\n",
    "\n",
    "* We need to remove the `\",\"` character (ex. 3,454,420.29 should be 3454420.29)\n",
    "   * With `replace()`, we can remove `\",\"` by replacing it with the `\"\"` (empty string)\n",
    "\n",
    "\n",
    "```python \n",
    "spending_df[\"spending\"].str.replace(\"$\", \"\")\n",
    "```\n",
    "\n",
    "* Since changes are not permanent, we need to overwrite the data in the column\n",
    "\n"
   ]
  },
  {
   "cell_type": "code",
   "execution_count": 19,
   "metadata": {
    "slideshow": {
     "slide_type": "slide"
    }
   },
   "outputs": [
    {
     "data": {
      "text/html": [
       "<div>\n",
       "<style scoped>\n",
       "    .dataframe tbody tr th:only-of-type {\n",
       "        vertical-align: middle;\n",
       "    }\n",
       "\n",
       "    .dataframe tbody tr th {\n",
       "        vertical-align: top;\n",
       "    }\n",
       "\n",
       "    .dataframe thead th {\n",
       "        text-align: right;\n",
       "    }\n",
       "</style>\n",
       "<table border=\"1\" class=\"dataframe\">\n",
       "  <thead>\n",
       "    <tr style=\"text-align: right;\">\n",
       "      <th></th>\n",
       "      <th>doctor_id</th>\n",
       "      <th>specialty</th>\n",
       "      <th>medication</th>\n",
       "      <th>nb_beneficiaries</th>\n",
       "      <th>spending</th>\n",
       "    </tr>\n",
       "    <tr>\n",
       "      <th>unique_id</th>\n",
       "      <th></th>\n",
       "      <th></th>\n",
       "      <th></th>\n",
       "      <th></th>\n",
       "      <th></th>\n",
       "    </tr>\n",
       "  </thead>\n",
       "  <tbody>\n",
       "    <tr>\n",
       "      <th>XI271888</th>\n",
       "      <td>1982785085</td>\n",
       "      <td>INTERNAL MEDICINE</td>\n",
       "      <td>BUDESONIDE/FORMOTEROL FUMARATE</td>\n",
       "      <td>37.0</td>\n",
       "      <td>10253.35</td>\n",
       "    </tr>\n",
       "    <tr>\n",
       "      <th>DJ966828</th>\n",
       "      <td>1629022389</td>\n",
       "      <td>NURSE PRACTITIONER</td>\n",
       "      <td>EZETIMIBE</td>\n",
       "      <td>20.0</td>\n",
       "      <td>10869.06</td>\n",
       "    </tr>\n",
       "    <tr>\n",
       "      <th>SU660670</th>\n",
       "      <td>1366528028</td>\n",
       "      <td>INTERNAL MEDICINE</td>\n",
       "      <td>LISINOPRIL</td>\n",
       "      <td>25.0</td>\n",
       "      <td>118.89</td>\n",
       "    </tr>\n",
       "    <tr>\n",
       "      <th>CQ964168</th>\n",
       "      <td>1174510481</td>\n",
       "      <td>OBSTETRICS/GYNECOLOGY</td>\n",
       "      <td>NYSTATIN/TRIAMCIN</td>\n",
       "      <td>11.0</td>\n",
       "      <td>1219.38</td>\n",
       "    </tr>\n",
       "    <tr>\n",
       "      <th>BU202944</th>\n",
       "      <td>1538156542</td>\n",
       "      <td>FAMILY PRACTICE</td>\n",
       "      <td>ALBUTEROL SULFATE</td>\n",
       "      <td>16.0</td>\n",
       "      <td>1456.08</td>\n",
       "    </tr>\n",
       "  </tbody>\n",
       "</table>\n",
       "</div>"
      ],
      "text/plain": [
       "            doctor_id              specialty                      medication  \\\n",
       "unique_id                                                                      \n",
       "XI271888   1982785085      INTERNAL MEDICINE  BUDESONIDE/FORMOTEROL FUMARATE   \n",
       "DJ966828   1629022389     NURSE PRACTITIONER                       EZETIMIBE   \n",
       "SU660670   1366528028      INTERNAL MEDICINE                      LISINOPRIL   \n",
       "CQ964168   1174510481  OBSTETRICS/GYNECOLOGY               NYSTATIN/TRIAMCIN   \n",
       "BU202944   1538156542        FAMILY PRACTICE               ALBUTEROL SULFATE   \n",
       "\n",
       "           nb_beneficiaries  spending  \n",
       "unique_id                              \n",
       "XI271888               37.0  10253.35  \n",
       "DJ966828               20.0  10869.06  \n",
       "SU660670               25.0    118.89  \n",
       "CQ964168               11.0   1219.38  \n",
       "BU202944               16.0   1456.08  "
      ]
     },
     "execution_count": 19,
     "metadata": {},
     "output_type": "execute_result"
    }
   ],
   "source": [
    "spending_df.sort_values(by=\"spending\").head()"
   ]
  },
  {
   "cell_type": "code",
   "execution_count": 20,
   "metadata": {
    "slideshow": {
     "slide_type": "slide"
    }
   },
   "outputs": [
    {
     "data": {
      "text/html": [
       "<div>\n",
       "<style scoped>\n",
       "    .dataframe tbody tr th:only-of-type {\n",
       "        vertical-align: middle;\n",
       "    }\n",
       "\n",
       "    .dataframe tbody tr th {\n",
       "        vertical-align: top;\n",
       "    }\n",
       "\n",
       "    .dataframe thead th {\n",
       "        text-align: right;\n",
       "    }\n",
       "</style>\n",
       "<table border=\"1\" class=\"dataframe\">\n",
       "  <thead>\n",
       "    <tr style=\"text-align: right;\">\n",
       "      <th></th>\n",
       "      <th>doctor_id</th>\n",
       "      <th>specialty</th>\n",
       "      <th>medication</th>\n",
       "      <th>nb_beneficiaries</th>\n",
       "      <th>spending</th>\n",
       "    </tr>\n",
       "    <tr>\n",
       "      <th>unique_id</th>\n",
       "      <th></th>\n",
       "      <th></th>\n",
       "      <th></th>\n",
       "      <th></th>\n",
       "      <th></th>\n",
       "    </tr>\n",
       "  </thead>\n",
       "  <tbody>\n",
       "    <tr>\n",
       "      <th>BK982218</th>\n",
       "      <td>1750389599</td>\n",
       "      <td>INTERNAL MEDICINE</td>\n",
       "      <td>AZITHROMYCIN</td>\n",
       "      <td>12.0</td>\n",
       "      <td>77.26</td>\n",
       "    </tr>\n",
       "    <tr>\n",
       "      <th>CG916968</th>\n",
       "      <td>1952344418</td>\n",
       "      <td>CARDIOLOGY</td>\n",
       "      <td>SIMVASTATIN</td>\n",
       "      <td>85.0</td>\n",
       "      <td>767.83</td>\n",
       "    </tr>\n",
       "    <tr>\n",
       "      <th>SA964720</th>\n",
       "      <td>1669522744</td>\n",
       "      <td>INTERNAL MEDICINE</td>\n",
       "      <td>INSULIN DETEMIR</td>\n",
       "      <td>14.0</td>\n",
       "      <td>5409.29</td>\n",
       "    </tr>\n",
       "    <tr>\n",
       "      <th>TR390895</th>\n",
       "      <td>1639597115</td>\n",
       "      <td>NaN</td>\n",
       "      <td>LOSARTAN POTASSIUM</td>\n",
       "      <td>11.0</td>\n",
       "      <td>65.62</td>\n",
       "    </tr>\n",
       "    <tr>\n",
       "      <th>JA436080</th>\n",
       "      <td>1073781571</td>\n",
       "      <td>NaN</td>\n",
       "      <td>LAMOTRIGINE</td>\n",
       "      <td>12.0</td>\n",
       "      <td>8873.70</td>\n",
       "    </tr>\n",
       "  </tbody>\n",
       "</table>\n",
       "</div>"
      ],
      "text/plain": [
       "            doctor_id          specialty          medication  \\\n",
       "unique_id                                                      \n",
       "BK982218   1750389599  INTERNAL MEDICINE        AZITHROMYCIN   \n",
       "CG916968   1952344418         CARDIOLOGY         SIMVASTATIN   \n",
       "SA964720   1669522744  INTERNAL MEDICINE     INSULIN DETEMIR   \n",
       "TR390895   1639597115                NaN  LOSARTAN POTASSIUM   \n",
       "JA436080   1073781571                NaN         LAMOTRIGINE   \n",
       "\n",
       "           nb_beneficiaries  spending  \n",
       "unique_id                              \n",
       "BK982218               12.0     77.26  \n",
       "CG916968               85.0    767.83  \n",
       "SA964720               14.0   5409.29  \n",
       "TR390895               11.0     65.62  \n",
       "JA436080               12.0   8873.70  "
      ]
     },
     "execution_count": 20,
     "metadata": {},
     "output_type": "execute_result"
    }
   ],
   "source": [
    "spending_df[\"spending\"] = spending_df[\"spending\"].str.replace(\"$\", \"\")\n",
    "\n",
    "spending_df[\"spending\"] = spending_df[\"spending\"].str.replace(\",\", \"\")\n",
    "\n",
    "spending_df[\"spending\"] = spending_df[\"spending\"].astype('float64')\n",
    "\n",
    "spending_df.head()"
   ]
  },
  {
   "cell_type": "markdown",
   "metadata": {
    "slideshow": {
     "slide_type": "slide"
    }
   },
   "source": [
    "### Combing Multiple String operations\n",
    "\n",
    "* We can use method chaining to carry out the operation\n",
    "  * Combines similar functionality in one line\n",
    "    * Easier to understand an maintain\n",
    "* Note that we need to call the '`str`' of each resulting `Series`\n",
    "\n",
    "```python\n",
    ">>> spending_df[\"spending\"] = (spending_df[\"spending\"]\n",
    "                               .str.replace(\"$\", \"\")\n",
    "                               .str.replace(\",\", \"\")\n",
    "                               .astype(\"float64\"))\n",
    "```"
   ]
  },
  {
   "cell_type": "code",
   "execution_count": 28,
   "metadata": {
    "colab": {},
    "colab_type": "code",
    "id": "TVJGCSZ1R8YE",
    "slideshow": {
     "slide_type": "slide"
    }
   },
   "outputs": [
    {
     "data": {
      "text/plain": [
       "doctor_id             int64\n",
       "specialty            object\n",
       "medication           object\n",
       "nb_beneficiaries    float64\n",
       "spending            float64\n",
       "dtype: object"
      ]
     },
     "execution_count": 28,
     "metadata": {},
     "output_type": "execute_result"
    }
   ],
   "source": [
    "spending_df[\"spending\"] = (spending_df[\"spending\"]\n",
    "                           .str.replace(\"$\", \"\")\n",
    "                           .str.replace(\",\", \"\")\n",
    "                           .astype(\"float64\"))\n",
    "spending_df.dtypes"
   ]
  },
  {
   "cell_type": "markdown",
   "metadata": {
    "colab_type": "text",
    "id": "QhkAynN4LxMR",
    "slideshow": {
     "slide_type": "slide"
    }
   },
   "source": [
    "### Question\n",
    "\n",
    "\n",
    "* Given the `Series` below, Which line of code modfies the `Series` so that each entry matches the string: 'UHManoa'?\n",
    "\n",
    "\n",
    "```python\n",
    ">>> UH_Series = pd.Series(['U H Manoa',  'UH_Manoa', 'UH Manoa', 'UH-Manoa'])\n",
    "```\n",
    "\n",
    "| Index |Data |\n",
    "|:----------|-----------|\n",
    "| 0 | 'U H Manoa' |\n",
    "| 1 | 'UH_Manoa' |\n",
    "| 2 | 'UH Manoa' |\n",
    "| 3 | 'UH-Manoa' |\n",
    "\n",
    "\n",
    "\n",
    "\n",
    "\n",
    "A:\n",
    "```python\n",
    "(UH_Series\n",
    " .str.replace(\" \", \"\")\n",
    " .str.replace(\"_\",\"\")\n",
    ".str.replace(\"-\",\"\"))\n",
    "```\n",
    "\n",
    "B: \n",
    "```python\n",
    "UH_Series\n",
    " .str.replace(\"_\",\" \")\n",
    ".str.replace(\"-\",\" \")\n",
    "```\n",
    "\n",
    "C:\n",
    "```python\n",
    "UH_Series = UH_Series\n",
    " .str.replace(\" \", \"\")\n",
    " .str.replace(\"_\",\"\")\n",
    ".str.replace(\"-\",\"\")\n",
    "```\n",
    "\n",
    "D:\n",
    "```python\n",
    "UH_Series = UH_Series.replace(\"_\",\"\").replace(\"-\",\"\").replace(\" \", \"\")\n",
    "```"
   ]
  },
  {
   "cell_type": "markdown",
   "metadata": {
    "colab_type": "text",
    "id": "NmleAIb8QTBH",
    "slideshow": {
     "slide_type": "slide"
    }
   },
   "source": [
    "### Missing Data\n",
    "\n",
    "\n",
    "* Missing data can complicate analysis or lead to erroneous results\n",
    "\n",
    "* Missing data can arise for various reasons\n",
    "  * Human error: data deleted by mistake\n",
    "  * Partial data collection\n",
    "    * E.g., the first round of data collection did not record a field (ex. salary) while the second round did\n",
    "  * Defective instrumentation or intermittent communication problems\n",
    "\n",
    "* Missing values can be indicated using a sentinel\n",
    " Ex. 9999, \"UNKNOWN\", \"N/A\", etc...\n"
   ]
  },
  {
   "cell_type": "markdown",
   "metadata": {
    "slideshow": {
     "slide_type": "slide"
    }
   },
   "source": [
    "### Handling Missing Data\n",
    "\n",
    "* Requires identifying missing values\n",
    "\n",
    "* Handling missing values is typically done by either: \n",
    "  1. Filtering out missing values\n",
    "  2. Filling in missing values with putative values (imputation)\n",
    "  \n",
    "\n",
    "* When to use which is application-specific and data specific\n",
    "  * Can you afford to throw away data?\n",
    "  * Is there an easy way to fill in, i.e., impute, missing values?\n",
    "    * Use default value for instance (ex. mean for that feature if numeric value)\n",
    "    * Use a statistical model \n"
   ]
  },
  {
   "cell_type": "markdown",
   "metadata": {
    "slideshow": {
     "slide_type": "slide"
    }
   },
   "source": [
    "### Identifying Missing Values \n",
    "\n",
    "* Missing value can occur in the data as:\n",
    "\n",
    "* Empty fields indicating that the value is missing\n",
    "    * `pandas` denotes missing values with `NaN`\n",
    "        * Automatically set if the value is `empty` in the data file\n",
    "\n",
    "  * NaN available in `numpy` is represented as a float that is not equal to any other number\n",
    "    * `np.Nan != np.NaN`\n",
    "  \n",
    "  \n",
    "  \n",
    "* Sentinel values\n",
    "  * Sentinels are typically dummy data that is added convenience to identify that a value is missing \n",
    "  * ex. replacing zip code with 999999 or salary with 0 or negative value (ex. -1) \n",
    "  \n"
   ]
  },
  {
   "cell_type": "markdown",
   "metadata": {
    "slideshow": {
     "slide_type": "slide"
    }
   },
   "source": [
    "### Identifying Missing Values - cont'd\n",
    "\n",
    "* Identifying missing values is critical for appropriately modeling the data\n",
    "\n",
    "* Leaving sentinel value in can skew the data\n",
    "  * Ex. computing mean salary if data contains sentinel value will skew the mean\n",
    "\n",
    "\n",
    "* Leavin `nan` values can lead to `nan` as a result\n",
    "  - Ex. Replace all the occurrences of  9999 with `np.nan`\n",
    "\n",
    "    \n",
    "\n"
   ]
  },
  {
   "cell_type": "code",
   "execution_count": 20,
   "metadata": {
    "slideshow": {
     "slide_type": "slide"
    }
   },
   "outputs": [
    {
     "data": {
      "text/plain": [
       "False"
      ]
     },
     "execution_count": 20,
     "metadata": {},
     "output_type": "execute_result"
    }
   ],
   "source": [
    "np.nan == np.nan"
   ]
  },
  {
   "cell_type": "code",
   "execution_count": 24,
   "metadata": {
    "slideshow": {
     "slide_type": "slide"
    }
   },
   "outputs": [
    {
     "data": {
      "text/plain": [
       "0    10.0\n",
       "1     NaN\n",
       "2     4.0\n",
       "dtype: float64"
      ]
     },
     "execution_count": 24,
     "metadata": {},
     "output_type": "execute_result"
    }
   ],
   "source": [
    "x = pd.Series([10, np.NaN, 4])\n",
    "x"
   ]
  },
  {
   "cell_type": "code",
   "execution_count": 26,
   "metadata": {
    "slideshow": {
     "slide_type": "slide"
    }
   },
   "outputs": [
    {
     "name": "stdout",
     "output_type": "stream",
     "text": [
      "The sum is nan\n",
      "The mean is 7.0\n",
      "The nanmean is 7.0\n"
     ]
    }
   ],
   "source": [
    "_sum = sum(x)\n",
    "_mean = np.mean(x) # did not work in previous versions :(\n",
    "nanmean = np.nanmean(x) # did not work in previous versions :(\n",
    "\n",
    "# different ways of printing  \n",
    "\n",
    "print(\"The sum is {}\".format(_sum))\n",
    "print(f\"The mean is {_mean}\")\n",
    "print(\"The nanmean is %s\" % (nanmean))\n"
   ]
  },
  {
   "cell_type": "markdown",
   "metadata": {
    "colab_type": "text",
    "id": "aCsc8QjfydXV",
    "slideshow": {
     "slide_type": "slide"
    }
   },
   "source": [
    "### Identifying Missing Values - cont'd\n",
    "\n",
    "\n",
    "- We can use the `isnull()` or `isna()` methods on a `Series` or `DataFrame` to identify missing valaues\n",
    "  - The method returns `True` if value is `NaN` and `False` otherwise\n",
    "  \n",
    "```python\n",
    "spending_df.isnull().head(n=4)\n",
    "           doctor_id  specialty  medication  nb_beneficiaries  spending\n",
    "unique_id                                                              \n",
    "BK982218       False      False       False             False     False\n",
    "CG916968       False      False       False             False     False\n",
    "SA964720       False      False       False             False     False\n",
    "TR390895       False       True       False             False     False\n",
    "```\n",
    "\n"
   ]
  },
  {
   "cell_type": "markdown",
   "metadata": {
    "slideshow": {
     "slide_type": "slide"
    }
   },
   "source": [
    "### Counting Missing Values\n",
    "\n",
    "\n",
    "* You can count the number of missing values by using the counting the number of `True` and `False` values \n",
    "  * Recall that Python encodes `True` as $1$ and `False` as $0$  \n",
    "  * use `sum` to count the number of `0`s and `1`s\n",
    "\n",
    "\n",
    "```python\n",
    "spending_df[\"spending\"].isnull().sum()\n",
    "```\n",
    "\n",
    "* You can achieve the same by subtracting the result of `count()` (Returns the number of non-NA/null) method from the result of the `size` attribute (dim., including missing values)\n",
    "\n",
    "```python\n",
    "spending_df[\"spending\"].size - spending_df[\"spending\"].count()\n",
    "```\n",
    "\n"
   ]
  },
  {
   "cell_type": "markdown",
   "metadata": {
    "slideshow": {
     "slide_type": "slide"
    }
   },
   "source": [
    "### Changing Column Data Type\n",
    "\n",
    "* Converting as we did above can only be done is the data in the column is compatible with the type\n",
    " * We mentioned that we cannot convert a column that contains last names into `float64` (number with decimal points)\n",
    " * Similarly, we cannot convert a column that contains a NaN to integer (recall that NaN is float)\n",
    " * Converting a column that contains a NaN to str results in `NaN` becoming the string `\"nan\"`\n",
    " \n",
    " \n"
   ]
  },
  {
   "cell_type": "code",
   "execution_count": 46,
   "metadata": {
    "slideshow": {
     "slide_type": "slide"
    }
   },
   "outputs": [
    {
     "data": {
      "text/plain": [
       "0    10.0\n",
       "1     NaN\n",
       "2     4.0\n",
       "Name: 1, dtype: float64"
      ]
     },
     "execution_count": 46,
     "metadata": {},
     "output_type": "execute_result"
    }
   ],
   "source": [
    "x = pd.DataFrame([[1, \"10\"],[2,np.NaN],[3,\"4\"]])\n",
    "x[1].astype('float64')"
   ]
  },
  {
   "cell_type": "code",
   "execution_count": 58,
   "metadata": {
    "slideshow": {
     "slide_type": "slide"
    }
   },
   "outputs": [
    {
     "name": "stdout",
     "output_type": "stream",
     "text": [
      "nan\n"
     ]
    },
    {
     "data": {
      "text/plain": [
       "str"
      ]
     },
     "execution_count": 58,
     "metadata": {},
     "output_type": "execute_result"
    }
   ],
   "source": [
    "x = pd.DataFrame([[1, 10],[2,np.NaN],[3,4]])\n",
    "y = x[1].astype('str')\n",
    "print(y[1])\n",
    "type(y[1])"
   ]
  },
  {
   "cell_type": "markdown",
   "metadata": {
    "slideshow": {
     "slide_type": "slide"
    }
   },
   "source": [
    "### Changing Column Data Type\n",
    "\n",
    "* `nb_beneficiaries` cannot readily be converted to `float64` \n",
    "\n",
    "```python\n",
    "spending_df['nb_beneficiaries'] = spending_df['nb_beneficiaries'].astype('int64')\n",
    "...\n",
    "ValueError: cannot convert float NaN to integer\n",
    "```\n",
    "\n",
    "* Pandas cannot convert `NaN` to `int`\n",
    "    * We need to first handle the missing value before converting"
   ]
  },
  {
   "cell_type": "markdown",
   "metadata": {
    "colab_type": "text",
    "id": "fF2jXG2ZyidR",
    "slideshow": {
     "slide_type": "slide"
    }
   },
   "source": [
    "### Filtering Missing Values\n",
    "\n",
    "* The trivial way to handle missing values is by dropping entries that contain them\n",
    "\n",
    "\n",
    "* Judgement call as to whether this can bias your analysis\n",
    "  * For instance, removing 5 instances out of 1M that have missing values should not be a problem.\n",
    "  * However, if all males have salary value missing. Removing all males data will bias your market segmentation model\n",
    "    \n",
    "* Can be carried out using subsetting or the  `dropna()` method \n"
   ]
  },
  {
   "cell_type": "markdown",
   "metadata": {
    "slideshow": {
     "slide_type": "slide"
    }
   },
   "source": [
    "### Filtering Missing Values\n",
    "\n",
    "* You **can** subset using a `Boolean` `Series`\n",
    "  * We previously saw how to subset using a list of indices and labels\n",
    "\n",
    "\n",
    "```python\n",
    "null_entries = spending_df[\"spending\"].isnull()\n",
    "not_null_entries = ~ null_entries\n",
    "spending_no_na_df = spending_df[not_null_entries]\n",
    "```\n",
    "\n",
    "#### Or simply\n",
    "\n",
    "```python\n",
    "spending_no_na_df = spending_df[ ~ spending_df[\"spending\"].isnull()]\n",
    "```\n",
    "\n",
    "* The index needs to have the same firs dimension as the object it is indexing"
   ]
  },
  {
   "cell_type": "code",
   "execution_count": 68,
   "metadata": {
    "slideshow": {
     "slide_type": "slide"
    }
   },
   "outputs": [
    {
     "data": {
      "text/html": [
       "<div>\n",
       "<style scoped>\n",
       "    .dataframe tbody tr th:only-of-type {\n",
       "        vertical-align: middle;\n",
       "    }\n",
       "\n",
       "    .dataframe tbody tr th {\n",
       "        vertical-align: top;\n",
       "    }\n",
       "\n",
       "    .dataframe thead th {\n",
       "        text-align: right;\n",
       "    }\n",
       "</style>\n",
       "<table border=\"1\" class=\"dataframe\">\n",
       "  <thead>\n",
       "    <tr style=\"text-align: right;\">\n",
       "      <th></th>\n",
       "      <th>A</th>\n",
       "      <th>B</th>\n",
       "    </tr>\n",
       "  </thead>\n",
       "  <tbody>\n",
       "    <tr>\n",
       "      <th>0</th>\n",
       "      <td>1</td>\n",
       "      <td>10.0</td>\n",
       "    </tr>\n",
       "    <tr>\n",
       "      <th>1</th>\n",
       "      <td>2</td>\n",
       "      <td>2.0</td>\n",
       "    </tr>\n",
       "    <tr>\n",
       "      <th>2</th>\n",
       "      <td>3</td>\n",
       "      <td>5.0</td>\n",
       "    </tr>\n",
       "    <tr>\n",
       "      <th>3</th>\n",
       "      <td>4</td>\n",
       "      <td>7.0</td>\n",
       "    </tr>\n",
       "    <tr>\n",
       "      <th>4</th>\n",
       "      <td>5</td>\n",
       "      <td>NaN</td>\n",
       "    </tr>\n",
       "    <tr>\n",
       "      <th>5</th>\n",
       "      <td>6</td>\n",
       "      <td>19.0</td>\n",
       "    </tr>\n",
       "  </tbody>\n",
       "</table>\n",
       "</div>"
      ],
      "text/plain": [
       "   A     B\n",
       "0  1  10.0\n",
       "1  2   2.0\n",
       "2  3   5.0\n",
       "3  4   7.0\n",
       "4  5   NaN\n",
       "5  6  19.0"
      ]
     },
     "execution_count": 68,
     "metadata": {},
     "output_type": "execute_result"
    }
   ],
   "source": [
    "data = pd.DataFrame({\"A\":[1, 2, 3, 4, 5, 6], \"B\":[10, 2, 5, 7, np.NaN, 19]})\n",
    "data\n"
   ]
  },
  {
   "cell_type": "code",
   "execution_count": 73,
   "metadata": {
    "slideshow": {
     "slide_type": "slide"
    }
   },
   "outputs": [
    {
     "data": {
      "text/plain": [
       "0    False\n",
       "1    False\n",
       "2    False\n",
       "3    False\n",
       "4     True\n",
       "5    False\n",
       "Name: B, dtype: bool"
      ]
     },
     "execution_count": 73,
     "metadata": {},
     "output_type": "execute_result"
    }
   ],
   "source": [
    "is_null_values = data[\"B\"].isnull()\n",
    "is_null_values\n"
   ]
  },
  {
   "cell_type": "code",
   "execution_count": 74,
   "metadata": {
    "slideshow": {
     "slide_type": "slide"
    }
   },
   "outputs": [
    {
     "data": {
      "text/html": [
       "<div>\n",
       "<style scoped>\n",
       "    .dataframe tbody tr th:only-of-type {\n",
       "        vertical-align: middle;\n",
       "    }\n",
       "\n",
       "    .dataframe tbody tr th {\n",
       "        vertical-align: top;\n",
       "    }\n",
       "\n",
       "    .dataframe thead th {\n",
       "        text-align: right;\n",
       "    }\n",
       "</style>\n",
       "<table border=\"1\" class=\"dataframe\">\n",
       "  <thead>\n",
       "    <tr style=\"text-align: right;\">\n",
       "      <th></th>\n",
       "      <th>A</th>\n",
       "      <th>B</th>\n",
       "    </tr>\n",
       "  </thead>\n",
       "  <tbody>\n",
       "    <tr>\n",
       "      <th>0</th>\n",
       "      <td>1</td>\n",
       "      <td>10.0</td>\n",
       "    </tr>\n",
       "    <tr>\n",
       "      <th>1</th>\n",
       "      <td>2</td>\n",
       "      <td>2.0</td>\n",
       "    </tr>\n",
       "    <tr>\n",
       "      <th>2</th>\n",
       "      <td>3</td>\n",
       "      <td>5.0</td>\n",
       "    </tr>\n",
       "    <tr>\n",
       "      <th>3</th>\n",
       "      <td>4</td>\n",
       "      <td>7.0</td>\n",
       "    </tr>\n",
       "    <tr>\n",
       "      <th>5</th>\n",
       "      <td>6</td>\n",
       "      <td>19.0</td>\n",
       "    </tr>\n",
       "  </tbody>\n",
       "</table>\n",
       "</div>"
      ],
      "text/plain": [
       "   A     B\n",
       "0  1  10.0\n",
       "1  2   2.0\n",
       "2  3   5.0\n",
       "3  4   7.0\n",
       "5  6  19.0"
      ]
     },
     "execution_count": 74,
     "metadata": {},
     "output_type": "execute_result"
    }
   ],
   "source": [
    "data[~is_null_values]"
   ]
  },
  {
   "cell_type": "code",
   "execution_count": 53,
   "metadata": {
    "slideshow": {
     "slide_type": "slide"
    }
   },
   "outputs": [
    {
     "data": {
      "text/plain": [
       "0    False\n",
       "1     True\n",
       "2    False\n",
       "3     True\n",
       "4    False\n",
       "5     True\n",
       "dtype: bool"
      ]
     },
     "execution_count": 53,
     "metadata": {},
     "output_type": "execute_result"
    }
   ],
   "source": [
    "some_data = pd.Series([1,2,3,4,5,6,])\n",
    "some_data % 2 == 0 "
   ]
  },
  {
   "cell_type": "code",
   "execution_count": 57,
   "metadata": {
    "slideshow": {
     "slide_type": "slide"
    }
   },
   "outputs": [
    {
     "name": "stdout",
     "output_type": "stream",
     "text": [
      "is_even\n",
      "0    False\n",
      "1     True\n",
      "2    False\n",
      "3     True\n",
      "4    False\n",
      "5     True\n",
      "dtype: bool\n",
      "~ is_even\n",
      "0     True\n",
      "1    False\n",
      "2     True\n",
      "3    False\n",
      "4     True\n",
      "5    False\n",
      "dtype: bool\n"
     ]
    }
   ],
   "source": [
    "some_data = pd.Series([1,2,3,4,5,6,])\n",
    "\n",
    "is_even = some_data % 2 ==0 \n",
    "\n",
    "print(\"is_even\")\n",
    "print(is_even)\n",
    "\n",
    "print(\"~ is_even\")\n",
    "print(~ is_even)"
   ]
  },
  {
   "cell_type": "code",
   "execution_count": 58,
   "metadata": {
    "slideshow": {
     "slide_type": "slide"
    }
   },
   "outputs": [
    {
     "data": {
      "text/plain": [
       "1    2\n",
       "3    4\n",
       "5    6\n",
       "dtype: int64"
      ]
     },
     "execution_count": 58,
     "metadata": {},
     "output_type": "execute_result"
    }
   ],
   "source": [
    "some_data = pd.Series([1,2,3,4,5,6,])\n",
    "is_even = some_data % 2 ==0 \n",
    "some_data[is_even]"
   ]
  },
  {
   "cell_type": "code",
   "execution_count": 59,
   "metadata": {
    "slideshow": {
     "slide_type": "slide"
    }
   },
   "outputs": [
    {
     "data": {
      "text/plain": [
       "0    1\n",
       "2    3\n",
       "4    5\n",
       "dtype: int64"
      ]
     },
     "execution_count": 59,
     "metadata": {},
     "output_type": "execute_result"
    }
   ],
   "source": [
    "some_data = pd.Series([1,2,3,4,5,6,])\n",
    "is_even = some_data % 2 ==0 \n",
    "\n",
    "some_data[~is_even]"
   ]
  },
  {
   "cell_type": "code",
   "execution_count": 61,
   "metadata": {
    "slideshow": {
     "slide_type": "slide"
    }
   },
   "outputs": [
    {
     "data": {
      "text/plain": [
       "(54, 5)"
      ]
     },
     "execution_count": 61,
     "metadata": {},
     "output_type": "execute_result"
    }
   ],
   "source": [
    "spending_df.shape"
   ]
  },
  {
   "cell_type": "code",
   "execution_count": 60,
   "metadata": {
    "slideshow": {
     "slide_type": "slide"
    }
   },
   "outputs": [
    {
     "data": {
      "text/plain": [
       "(50, 5)"
      ]
     },
     "execution_count": 60,
     "metadata": {},
     "output_type": "execute_result"
    }
   ],
   "source": [
    "null_entries = spending_df[\"spending\"].isnull()\n",
    "not_null_entries = ~ null_entries\n",
    "spending_no_na_df = spending_df[not_null_entries]\n",
    "\n",
    "spending_no_na_df.shape\n"
   ]
  },
  {
   "cell_type": "markdown",
   "metadata": {
    "slideshow": {
     "slide_type": "slide"
    }
   },
   "source": [
    "### Filtering `NaN` using the `dropna()` method \n",
    "\n",
    "* Considers, by default, all the columns\n",
    "  * Can consider a subset of columns\n",
    "\n",
    "* The method can be used to drop either lines or columns using `axis`\n",
    "\n",
    "<img src=\"https://www.dropbox.com/s/g2ousnl00zddhrr/axis_drop.png?dl=1\" alt=\"drawing\" style=\"width:500px;\"/>\n",
    "\n",
    "\n"
   ]
  },
  {
   "cell_type": "code",
   "execution_count": 30,
   "metadata": {
    "slideshow": {
     "slide_type": "slide"
    }
   },
   "outputs": [
    {
     "data": {
      "text/html": [
       "<div>\n",
       "<style scoped>\n",
       "    .dataframe tbody tr th:only-of-type {\n",
       "        vertical-align: middle;\n",
       "    }\n",
       "\n",
       "    .dataframe tbody tr th {\n",
       "        vertical-align: top;\n",
       "    }\n",
       "\n",
       "    .dataframe thead th {\n",
       "        text-align: right;\n",
       "    }\n",
       "</style>\n",
       "<table border=\"1\" class=\"dataframe\">\n",
       "  <thead>\n",
       "    <tr style=\"text-align: right;\">\n",
       "      <th></th>\n",
       "      <th>X</th>\n",
       "      <th>Y</th>\n",
       "    </tr>\n",
       "  </thead>\n",
       "  <tbody>\n",
       "    <tr>\n",
       "      <th>0</th>\n",
       "      <td>1</td>\n",
       "      <td>A</td>\n",
       "    </tr>\n",
       "    <tr>\n",
       "      <th>1</th>\n",
       "      <td>2</td>\n",
       "      <td>E</td>\n",
       "    </tr>\n",
       "    <tr>\n",
       "      <th>2</th>\n",
       "      <td>3</td>\n",
       "      <td>C</td>\n",
       "    </tr>\n",
       "    <tr>\n",
       "      <th>3</th>\n",
       "      <td>4</td>\n",
       "      <td>NaN</td>\n",
       "    </tr>\n",
       "  </tbody>\n",
       "</table>\n",
       "</div>"
      ],
      "text/plain": [
       "   X    Y\n",
       "0  1    A\n",
       "1  2    E\n",
       "2  3    C\n",
       "3  4  NaN"
      ]
     },
     "execution_count": 30,
     "metadata": {},
     "output_type": "execute_result"
    }
   ],
   "source": [
    "test_df = pd.DataFrame({\"X\": [1,2,3,4], \"Y\": ['A', 'E', 'C', np.nan]})\n",
    "test_df"
   ]
  },
  {
   "cell_type": "code",
   "execution_count": 31,
   "metadata": {
    "slideshow": {
     "slide_type": "slide"
    }
   },
   "outputs": [
    {
     "data": {
      "text/html": [
       "<div>\n",
       "<style scoped>\n",
       "    .dataframe tbody tr th:only-of-type {\n",
       "        vertical-align: middle;\n",
       "    }\n",
       "\n",
       "    .dataframe tbody tr th {\n",
       "        vertical-align: top;\n",
       "    }\n",
       "\n",
       "    .dataframe thead th {\n",
       "        text-align: right;\n",
       "    }\n",
       "</style>\n",
       "<table border=\"1\" class=\"dataframe\">\n",
       "  <thead>\n",
       "    <tr style=\"text-align: right;\">\n",
       "      <th></th>\n",
       "      <th>X</th>\n",
       "      <th>Y</th>\n",
       "    </tr>\n",
       "  </thead>\n",
       "  <tbody>\n",
       "    <tr>\n",
       "      <th>0</th>\n",
       "      <td>1</td>\n",
       "      <td>A</td>\n",
       "    </tr>\n",
       "    <tr>\n",
       "      <th>1</th>\n",
       "      <td>2</td>\n",
       "      <td>E</td>\n",
       "    </tr>\n",
       "    <tr>\n",
       "      <th>2</th>\n",
       "      <td>3</td>\n",
       "      <td>C</td>\n",
       "    </tr>\n",
       "  </tbody>\n",
       "</table>\n",
       "</div>"
      ],
      "text/plain": [
       "   X  Y\n",
       "0  1  A\n",
       "1  2  E\n",
       "2  3  C"
      ]
     },
     "execution_count": 31,
     "metadata": {},
     "output_type": "execute_result"
    }
   ],
   "source": [
    "test_df.dropna()"
   ]
  },
  {
   "cell_type": "code",
   "execution_count": 32,
   "metadata": {
    "slideshow": {
     "slide_type": "slide"
    }
   },
   "outputs": [
    {
     "data": {
      "text/html": [
       "<div>\n",
       "<style scoped>\n",
       "    .dataframe tbody tr th:only-of-type {\n",
       "        vertical-align: middle;\n",
       "    }\n",
       "\n",
       "    .dataframe tbody tr th {\n",
       "        vertical-align: top;\n",
       "    }\n",
       "\n",
       "    .dataframe thead th {\n",
       "        text-align: right;\n",
       "    }\n",
       "</style>\n",
       "<table border=\"1\" class=\"dataframe\">\n",
       "  <thead>\n",
       "    <tr style=\"text-align: right;\">\n",
       "      <th></th>\n",
       "      <th>X</th>\n",
       "    </tr>\n",
       "  </thead>\n",
       "  <tbody>\n",
       "    <tr>\n",
       "      <th>0</th>\n",
       "      <td>1</td>\n",
       "    </tr>\n",
       "    <tr>\n",
       "      <th>1</th>\n",
       "      <td>2</td>\n",
       "    </tr>\n",
       "    <tr>\n",
       "      <th>2</th>\n",
       "      <td>3</td>\n",
       "    </tr>\n",
       "    <tr>\n",
       "      <th>3</th>\n",
       "      <td>4</td>\n",
       "    </tr>\n",
       "  </tbody>\n",
       "</table>\n",
       "</div>"
      ],
      "text/plain": [
       "   X\n",
       "0  1\n",
       "1  2\n",
       "2  3\n",
       "3  4"
      ]
     },
     "execution_count": 32,
     "metadata": {},
     "output_type": "execute_result"
    }
   ],
   "source": [
    "test_df.dropna(axis=1)"
   ]
  },
  {
   "cell_type": "code",
   "execution_count": 40,
   "metadata": {
    "slideshow": {
     "slide_type": "slide"
    }
   },
   "outputs": [
    {
     "data": {
      "text/html": [
       "<div>\n",
       "<style scoped>\n",
       "    .dataframe tbody tr th:only-of-type {\n",
       "        vertical-align: middle;\n",
       "    }\n",
       "\n",
       "    .dataframe tbody tr th {\n",
       "        vertical-align: top;\n",
       "    }\n",
       "\n",
       "    .dataframe thead th {\n",
       "        text-align: right;\n",
       "    }\n",
       "</style>\n",
       "<table border=\"1\" class=\"dataframe\">\n",
       "  <thead>\n",
       "    <tr style=\"text-align: right;\">\n",
       "      <th></th>\n",
       "      <th>X</th>\n",
       "      <th>Y</th>\n",
       "    </tr>\n",
       "  </thead>\n",
       "  <tbody>\n",
       "    <tr>\n",
       "      <th>0</th>\n",
       "      <td>1</td>\n",
       "      <td>A</td>\n",
       "    </tr>\n",
       "    <tr>\n",
       "      <th>1</th>\n",
       "      <td>2</td>\n",
       "      <td>E</td>\n",
       "    </tr>\n",
       "    <tr>\n",
       "      <th>2</th>\n",
       "      <td>3</td>\n",
       "      <td>C</td>\n",
       "    </tr>\n",
       "    <tr>\n",
       "      <th>3</th>\n",
       "      <td>4</td>\n",
       "      <td>NaN</td>\n",
       "    </tr>\n",
       "  </tbody>\n",
       "</table>\n",
       "</div>"
      ],
      "text/plain": [
       "   X    Y\n",
       "0  1    A\n",
       "1  2    E\n",
       "2  3    C\n",
       "3  4  NaN"
      ]
     },
     "execution_count": 40,
     "metadata": {},
     "output_type": "execute_result"
    }
   ],
   "source": [
    "# This is when small test cases are useful\n",
    "\n",
    "test_df.dropna(axis=0, subset=[\"X\"])"
   ]
  },
  {
   "cell_type": "code",
   "execution_count": 41,
   "metadata": {
    "slideshow": {
     "slide_type": "slide"
    }
   },
   "outputs": [
    {
     "data": {
      "text/html": [
       "<div>\n",
       "<style scoped>\n",
       "    .dataframe tbody tr th:only-of-type {\n",
       "        vertical-align: middle;\n",
       "    }\n",
       "\n",
       "    .dataframe tbody tr th {\n",
       "        vertical-align: top;\n",
       "    }\n",
       "\n",
       "    .dataframe thead th {\n",
       "        text-align: right;\n",
       "    }\n",
       "</style>\n",
       "<table border=\"1\" class=\"dataframe\">\n",
       "  <thead>\n",
       "    <tr style=\"text-align: right;\">\n",
       "      <th></th>\n",
       "      <th>X</th>\n",
       "      <th>Y</th>\n",
       "    </tr>\n",
       "  </thead>\n",
       "  <tbody>\n",
       "    <tr>\n",
       "      <th>0</th>\n",
       "      <td>1</td>\n",
       "      <td>A</td>\n",
       "    </tr>\n",
       "    <tr>\n",
       "      <th>1</th>\n",
       "      <td>2</td>\n",
       "      <td>E</td>\n",
       "    </tr>\n",
       "    <tr>\n",
       "      <th>2</th>\n",
       "      <td>3</td>\n",
       "      <td>C</td>\n",
       "    </tr>\n",
       "  </tbody>\n",
       "</table>\n",
       "</div>"
      ],
      "text/plain": [
       "   X  Y\n",
       "0  1  A\n",
       "1  2  E\n",
       "2  3  C"
      ]
     },
     "execution_count": 41,
     "metadata": {},
     "output_type": "execute_result"
    }
   ],
   "source": [
    "test_df.dropna(axis=0, subset=[\"Y\"])"
   ]
  },
  {
   "cell_type": "markdown",
   "metadata": {
    "colab_type": "text",
    "id": "w2zUWIeUyliB",
    "slideshow": {
     "slide_type": "slide"
    }
   },
   "source": [
    "### Filling Missing Values\n",
    "\n",
    "* Filling missing values is often referred to as missing value *imputation*, or simply imputation\n",
    "\n",
    "* When data is scarce, being able to impute missing values is critical\n",
    "\n",
    "* Two high-level strategies for imputing data: \n",
    "\n",
    "    1. Filling the value with a representative constant\n",
    "\n",
    "    2. Filling the value dynamically\n",
    "      * How many cars went through the University ave's H1 exit this Wednesday?\n",
    "        * Probably close to the same number as last Wednesday\n",
    "      * what was the temperature reported by a sensor at 2PM\n",
    "         * An average of the temperatures at times 1:55PM and 2:05PM is probably a good estimate.\n",
    "\n",
    "* Both approaches can be carried out using `fillna()`\n"
   ]
  },
  {
   "cell_type": "markdown",
   "metadata": {
    "colab_type": "text",
    "id": "8Bv6CdF-_Nsw",
    "slideshow": {
     "slide_type": "slide"
    }
   },
   "source": [
    "### Filling Continued: `fillna()` with Static Values \n",
    "\n",
    "* Use a scalar constant to replace all missing values\n",
    "* Use a dictionary with specific values for each column. \n",
    "\n",
    "```python\n",
    ">>> filled_spending_df = spending_df.fillna(0)\n",
    "```\n",
    "\n",
    " \n",
    "\n",
    "```python\n",
    ">>> filled_spending_df = spending_df.fillna( { \"specialty\": \"UNKNOWN\", \n",
    "                              \"nb_beneficiaries\": 0, \n",
    "                              \"spending\": 0 } )\n",
    "```\n"
   ]
  },
  {
   "cell_type": "markdown",
   "metadata": {
    "colab_type": "text",
    "id": "tmPGR3ZdAVbZ",
    "slideshow": {
     "slide_type": "slide"
    }
   },
   "source": [
    "### `fillna()` with Dynamically Computed Values - Cont'd\n",
    "\n",
    "* Dynamic value imputation refers to filling the missing entries with a value that depends on the existing data\n",
    "\n",
    "* Many different approaches for doing this\n",
    "  * Ex. replace a value with the column's mean? \n",
    "\n",
    "\n",
    "```python\n",
    ">>> average_spending = spending_df[\"spending\"].mean()\n",
    ">>> average_nb_beneficiaries = spending_df[\"nb_beneficiaries\"].mean()\n",
    ">>> filled_spending_df = spending_df.fillna({\"nb_beneficiaries\": average_nb_beneficiaries , \n",
    "                      \"spending\": average_spending})\n",
    "```\n",
    "\n"
   ]
  },
  {
   "cell_type": "markdown",
   "metadata": {
    "slideshow": {
     "slide_type": "slide"
    }
   },
   "source": [
    "### `fillna()` with Dynamic Values for Time Series -- Cont'd\n",
    "\n",
    "*  `fillna()` has a `method` parameter that can be modified to either:\n",
    "  * back fill, `method='bfill'`\n",
    "    * Fill a missing value with the non-missing value that came before it\n",
    "  * forward fill, `method=ffill`\n",
    "    * Fill a missing value with the non-missing value that comes after it\n",
    "\n",
    "* Another stratgy is to just avg. the the previous and next values\n"
   ]
  },
  {
   "cell_type": "markdown",
   "metadata": {
    "colab_type": "text",
    "id": "3H2b-pDgESgV",
    "slideshow": {
     "slide_type": "slide"
    }
   },
   "source": [
    "### `fillna()` with Dynamic Values -- Cont'd\n",
    "\n",
    "* Dozens of possible stratgies.\n",
    "  * We will see regression as a simple model to impute missing values\n",
    "  * More sophisticated machine learning models can be used.\n",
    "\n",
    "* When instances (entries) are similar, a good stratgy is to just copy value from previous or next instnace\n",
    "\n",
    "  * Alternaitvely, we can average based on `k-nearest` neighbors\n",
    "\n",
    "\n",
    "* You can come up with your own model (logic) and apply it using iteratively\n",
    "\n",
    "  * Part of assignment `1`"
   ]
  },
  {
   "cell_type": "code",
   "execution_count": 42,
   "metadata": {
    "slideshow": {
     "slide_type": "slide"
    }
   },
   "outputs": [
    {
     "data": {
      "text/html": [
       "<div>\n",
       "<style scoped>\n",
       "    .dataframe tbody tr th:only-of-type {\n",
       "        vertical-align: middle;\n",
       "    }\n",
       "\n",
       "    .dataframe tbody tr th {\n",
       "        vertical-align: top;\n",
       "    }\n",
       "\n",
       "    .dataframe thead th {\n",
       "        text-align: right;\n",
       "    }\n",
       "</style>\n",
       "<table border=\"1\" class=\"dataframe\">\n",
       "  <thead>\n",
       "    <tr style=\"text-align: right;\">\n",
       "      <th></th>\n",
       "      <th>Complete</th>\n",
       "      <th>test_df</th>\n",
       "    </tr>\n",
       "  </thead>\n",
       "  <tbody>\n",
       "    <tr>\n",
       "      <th>0</th>\n",
       "      <td>10</td>\n",
       "      <td>10.0</td>\n",
       "    </tr>\n",
       "    <tr>\n",
       "      <th>1</th>\n",
       "      <td>20</td>\n",
       "      <td>20.0</td>\n",
       "    </tr>\n",
       "    <tr>\n",
       "      <th>2</th>\n",
       "      <td>20</td>\n",
       "      <td>20.0</td>\n",
       "    </tr>\n",
       "    <tr>\n",
       "      <th>3</th>\n",
       "      <td>30</td>\n",
       "      <td>30.0</td>\n",
       "    </tr>\n",
       "    <tr>\n",
       "      <th>4</th>\n",
       "      <td>30</td>\n",
       "      <td>NaN</td>\n",
       "    </tr>\n",
       "    <tr>\n",
       "      <th>5</th>\n",
       "      <td>40</td>\n",
       "      <td>40.0</td>\n",
       "    </tr>\n",
       "    <tr>\n",
       "      <th>6</th>\n",
       "      <td>30</td>\n",
       "      <td>30.0</td>\n",
       "    </tr>\n",
       "    <tr>\n",
       "      <th>7</th>\n",
       "      <td>20</td>\n",
       "      <td>20.0</td>\n",
       "    </tr>\n",
       "    <tr>\n",
       "      <th>8</th>\n",
       "      <td>10</td>\n",
       "      <td>10.0</td>\n",
       "    </tr>\n",
       "    <tr>\n",
       "      <th>9</th>\n",
       "      <td>10</td>\n",
       "      <td>10.0</td>\n",
       "    </tr>\n",
       "    <tr>\n",
       "      <th>10</th>\n",
       "      <td>20</td>\n",
       "      <td>20.0</td>\n",
       "    </tr>\n",
       "    <tr>\n",
       "      <th>11</th>\n",
       "      <td>10</td>\n",
       "      <td>10.0</td>\n",
       "    </tr>\n",
       "    <tr>\n",
       "      <th>12</th>\n",
       "      <td>10</td>\n",
       "      <td>10.0</td>\n",
       "    </tr>\n",
       "    <tr>\n",
       "      <th>13</th>\n",
       "      <td>20</td>\n",
       "      <td>NaN</td>\n",
       "    </tr>\n",
       "    <tr>\n",
       "      <th>14</th>\n",
       "      <td>35</td>\n",
       "      <td>35.0</td>\n",
       "    </tr>\n",
       "    <tr>\n",
       "      <th>15</th>\n",
       "      <td>40</td>\n",
       "      <td>40.0</td>\n",
       "    </tr>\n",
       "    <tr>\n",
       "      <th>16</th>\n",
       "      <td>50</td>\n",
       "      <td>50.0</td>\n",
       "    </tr>\n",
       "    <tr>\n",
       "      <th>17</th>\n",
       "      <td>50</td>\n",
       "      <td>50.0</td>\n",
       "    </tr>\n",
       "    <tr>\n",
       "      <th>18</th>\n",
       "      <td>50</td>\n",
       "      <td>50.0</td>\n",
       "    </tr>\n",
       "    <tr>\n",
       "      <th>19</th>\n",
       "      <td>50</td>\n",
       "      <td>50.0</td>\n",
       "    </tr>\n",
       "    <tr>\n",
       "      <th>20</th>\n",
       "      <td>60</td>\n",
       "      <td>60.0</td>\n",
       "    </tr>\n",
       "  </tbody>\n",
       "</table>\n",
       "</div>"
      ],
      "text/plain": [
       "    Complete  test_df\n",
       "0         10     10.0\n",
       "1         20     20.0\n",
       "2         20     20.0\n",
       "3         30     30.0\n",
       "4         30      NaN\n",
       "5         40     40.0\n",
       "6         30     30.0\n",
       "7         20     20.0\n",
       "8         10     10.0\n",
       "9         10     10.0\n",
       "10        20     20.0\n",
       "11        10     10.0\n",
       "12        10     10.0\n",
       "13        20      NaN\n",
       "14        35     35.0\n",
       "15        40     40.0\n",
       "16        50     50.0\n",
       "17        50     50.0\n",
       "18        50     50.0\n",
       "19        50     50.0\n",
       "20        60     60.0"
      ]
     },
     "execution_count": 42,
     "metadata": {},
     "output_type": "execute_result"
    }
   ],
   "source": [
    "complete_data = pd.Series([10, 20, 20, 30, 30, 40, 30, 20, 10, 10, 20, 10, 10, 20, 35, 40, 50, 50, 50, 50, 60])\n",
    "test_df = pd.Series([10, 20, 20, 30, np.NaN, 40, 30, 20, 10, 10, 20, 10, 10, np.NaN, 35, 40, 50, 50, 50, 50, 60])\n",
    "data = pd.DataFrame({\"Complete\": complete_data, \"test_df\":test_df})\n",
    "\n",
    "data\n"
   ]
  },
  {
   "cell_type": "code",
   "execution_count": 119,
   "metadata": {
    "slideshow": {
     "slide_type": "slide"
    }
   },
   "outputs": [
    {
     "data": {
      "text/html": [
       "<div>\n",
       "<style scoped>\n",
       "    .dataframe tbody tr th:only-of-type {\n",
       "        vertical-align: middle;\n",
       "    }\n",
       "\n",
       "    .dataframe tbody tr th {\n",
       "        vertical-align: top;\n",
       "    }\n",
       "\n",
       "    .dataframe thead th {\n",
       "        text-align: right;\n",
       "    }\n",
       "</style>\n",
       "<table border=\"1\" class=\"dataframe\">\n",
       "  <thead>\n",
       "    <tr style=\"text-align: right;\">\n",
       "      <th></th>\n",
       "      <th>Complete</th>\n",
       "      <th>test_df</th>\n",
       "    </tr>\n",
       "  </thead>\n",
       "  <tbody>\n",
       "    <tr>\n",
       "      <th>0</th>\n",
       "      <td>10</td>\n",
       "      <td>10.0</td>\n",
       "    </tr>\n",
       "    <tr>\n",
       "      <th>1</th>\n",
       "      <td>20</td>\n",
       "      <td>20.0</td>\n",
       "    </tr>\n",
       "    <tr>\n",
       "      <th>2</th>\n",
       "      <td>20</td>\n",
       "      <td>20.0</td>\n",
       "    </tr>\n",
       "    <tr>\n",
       "      <th>3</th>\n",
       "      <td>30</td>\n",
       "      <td>30.0</td>\n",
       "    </tr>\n",
       "    <tr>\n",
       "      <th>4</th>\n",
       "      <td>30</td>\n",
       "      <td>30.0</td>\n",
       "    </tr>\n",
       "    <tr>\n",
       "      <th>5</th>\n",
       "      <td>40</td>\n",
       "      <td>40.0</td>\n",
       "    </tr>\n",
       "    <tr>\n",
       "      <th>6</th>\n",
       "      <td>30</td>\n",
       "      <td>30.0</td>\n",
       "    </tr>\n",
       "    <tr>\n",
       "      <th>7</th>\n",
       "      <td>20</td>\n",
       "      <td>20.0</td>\n",
       "    </tr>\n",
       "    <tr>\n",
       "      <th>8</th>\n",
       "      <td>10</td>\n",
       "      <td>10.0</td>\n",
       "    </tr>\n",
       "    <tr>\n",
       "      <th>9</th>\n",
       "      <td>10</td>\n",
       "      <td>10.0</td>\n",
       "    </tr>\n",
       "    <tr>\n",
       "      <th>10</th>\n",
       "      <td>20</td>\n",
       "      <td>20.0</td>\n",
       "    </tr>\n",
       "    <tr>\n",
       "      <th>11</th>\n",
       "      <td>10</td>\n",
       "      <td>10.0</td>\n",
       "    </tr>\n",
       "    <tr>\n",
       "      <th>12</th>\n",
       "      <td>10</td>\n",
       "      <td>10.0</td>\n",
       "    </tr>\n",
       "    <tr>\n",
       "      <th>13</th>\n",
       "      <td>20</td>\n",
       "      <td>10.0</td>\n",
       "    </tr>\n",
       "    <tr>\n",
       "      <th>14</th>\n",
       "      <td>35</td>\n",
       "      <td>35.0</td>\n",
       "    </tr>\n",
       "    <tr>\n",
       "      <th>15</th>\n",
       "      <td>40</td>\n",
       "      <td>40.0</td>\n",
       "    </tr>\n",
       "    <tr>\n",
       "      <th>16</th>\n",
       "      <td>50</td>\n",
       "      <td>50.0</td>\n",
       "    </tr>\n",
       "    <tr>\n",
       "      <th>17</th>\n",
       "      <td>50</td>\n",
       "      <td>50.0</td>\n",
       "    </tr>\n",
       "    <tr>\n",
       "      <th>18</th>\n",
       "      <td>50</td>\n",
       "      <td>50.0</td>\n",
       "    </tr>\n",
       "    <tr>\n",
       "      <th>19</th>\n",
       "      <td>50</td>\n",
       "      <td>50.0</td>\n",
       "    </tr>\n",
       "    <tr>\n",
       "      <th>20</th>\n",
       "      <td>60</td>\n",
       "      <td>60.0</td>\n",
       "    </tr>\n",
       "  </tbody>\n",
       "</table>\n",
       "</div>"
      ],
      "text/plain": [
       "    Complete  test_df\n",
       "0         10     10.0\n",
       "1         20     20.0\n",
       "2         20     20.0\n",
       "3         30     30.0\n",
       "4         30     30.0\n",
       "5         40     40.0\n",
       "6         30     30.0\n",
       "7         20     20.0\n",
       "8         10     10.0\n",
       "9         10     10.0\n",
       "10        20     20.0\n",
       "11        10     10.0\n",
       "12        10     10.0\n",
       "13        20     10.0\n",
       "14        35     35.0\n",
       "15        40     40.0\n",
       "16        50     50.0\n",
       "17        50     50.0\n",
       "18        50     50.0\n",
       "19        50     50.0\n",
       "20        60     60.0"
      ]
     },
     "execution_count": 119,
     "metadata": {},
     "output_type": "execute_result"
    }
   ],
   "source": [
    "ffilled_data = data.fillna(method='ffill')\n",
    "ffilled_data\n"
   ]
  },
  {
   "cell_type": "code",
   "execution_count": 120,
   "metadata": {
    "slideshow": {
     "slide_type": "slide"
    }
   },
   "outputs": [
    {
     "data": {
      "text/plain": [
       "<matplotlib.axes._subplots.AxesSubplot at 0x11e0bfc70>"
      ]
     },
     "execution_count": 120,
     "metadata": {},
     "output_type": "execute_result"
    },
    {
     "data": {
      "image/png": "[encoded data removed]",
      "text/plain": [
       "<Figure size 432x288 with 1 Axes>"
      ]
     },
     "metadata": {
      "needs_background": "light"
     },
     "output_type": "display_data"
    }
   ],
   "source": [
    "ffilled_data.plot()"
   ]
  },
  {
   "cell_type": "code",
   "execution_count": 121,
   "metadata": {
    "slideshow": {
     "slide_type": "slide"
    }
   },
   "outputs": [
    {
     "data": {
      "text/html": [
       "<div>\n",
       "<style scoped>\n",
       "    .dataframe tbody tr th:only-of-type {\n",
       "        vertical-align: middle;\n",
       "    }\n",
       "\n",
       "    .dataframe tbody tr th {\n",
       "        vertical-align: top;\n",
       "    }\n",
       "\n",
       "    .dataframe thead th {\n",
       "        text-align: right;\n",
       "    }\n",
       "</style>\n",
       "<table border=\"1\" class=\"dataframe\">\n",
       "  <thead>\n",
       "    <tr style=\"text-align: right;\">\n",
       "      <th></th>\n",
       "      <th>Complete</th>\n",
       "      <th>test_df</th>\n",
       "    </tr>\n",
       "  </thead>\n",
       "  <tbody>\n",
       "    <tr>\n",
       "      <th>0</th>\n",
       "      <td>10</td>\n",
       "      <td>10.0</td>\n",
       "    </tr>\n",
       "    <tr>\n",
       "      <th>1</th>\n",
       "      <td>20</td>\n",
       "      <td>20.0</td>\n",
       "    </tr>\n",
       "    <tr>\n",
       "      <th>2</th>\n",
       "      <td>20</td>\n",
       "      <td>20.0</td>\n",
       "    </tr>\n",
       "    <tr>\n",
       "      <th>3</th>\n",
       "      <td>30</td>\n",
       "      <td>30.0</td>\n",
       "    </tr>\n",
       "    <tr>\n",
       "      <th>4</th>\n",
       "      <td>30</td>\n",
       "      <td>40.0</td>\n",
       "    </tr>\n",
       "    <tr>\n",
       "      <th>5</th>\n",
       "      <td>40</td>\n",
       "      <td>40.0</td>\n",
       "    </tr>\n",
       "    <tr>\n",
       "      <th>6</th>\n",
       "      <td>30</td>\n",
       "      <td>30.0</td>\n",
       "    </tr>\n",
       "    <tr>\n",
       "      <th>7</th>\n",
       "      <td>20</td>\n",
       "      <td>20.0</td>\n",
       "    </tr>\n",
       "    <tr>\n",
       "      <th>8</th>\n",
       "      <td>10</td>\n",
       "      <td>10.0</td>\n",
       "    </tr>\n",
       "    <tr>\n",
       "      <th>9</th>\n",
       "      <td>10</td>\n",
       "      <td>10.0</td>\n",
       "    </tr>\n",
       "    <tr>\n",
       "      <th>10</th>\n",
       "      <td>20</td>\n",
       "      <td>20.0</td>\n",
       "    </tr>\n",
       "    <tr>\n",
       "      <th>11</th>\n",
       "      <td>10</td>\n",
       "      <td>10.0</td>\n",
       "    </tr>\n",
       "    <tr>\n",
       "      <th>12</th>\n",
       "      <td>10</td>\n",
       "      <td>10.0</td>\n",
       "    </tr>\n",
       "    <tr>\n",
       "      <th>13</th>\n",
       "      <td>20</td>\n",
       "      <td>35.0</td>\n",
       "    </tr>\n",
       "    <tr>\n",
       "      <th>14</th>\n",
       "      <td>35</td>\n",
       "      <td>35.0</td>\n",
       "    </tr>\n",
       "    <tr>\n",
       "      <th>15</th>\n",
       "      <td>40</td>\n",
       "      <td>40.0</td>\n",
       "    </tr>\n",
       "    <tr>\n",
       "      <th>16</th>\n",
       "      <td>50</td>\n",
       "      <td>50.0</td>\n",
       "    </tr>\n",
       "    <tr>\n",
       "      <th>17</th>\n",
       "      <td>50</td>\n",
       "      <td>50.0</td>\n",
       "    </tr>\n",
       "    <tr>\n",
       "      <th>18</th>\n",
       "      <td>50</td>\n",
       "      <td>50.0</td>\n",
       "    </tr>\n",
       "    <tr>\n",
       "      <th>19</th>\n",
       "      <td>50</td>\n",
       "      <td>50.0</td>\n",
       "    </tr>\n",
       "    <tr>\n",
       "      <th>20</th>\n",
       "      <td>60</td>\n",
       "      <td>60.0</td>\n",
       "    </tr>\n",
       "  </tbody>\n",
       "</table>\n",
       "</div>"
      ],
      "text/plain": [
       "    Complete  test_df\n",
       "0         10     10.0\n",
       "1         20     20.0\n",
       "2         20     20.0\n",
       "3         30     30.0\n",
       "4         30     40.0\n",
       "5         40     40.0\n",
       "6         30     30.0\n",
       "7         20     20.0\n",
       "8         10     10.0\n",
       "9         10     10.0\n",
       "10        20     20.0\n",
       "11        10     10.0\n",
       "12        10     10.0\n",
       "13        20     35.0\n",
       "14        35     35.0\n",
       "15        40     40.0\n",
       "16        50     50.0\n",
       "17        50     50.0\n",
       "18        50     50.0\n",
       "19        50     50.0\n",
       "20        60     60.0"
      ]
     },
     "execution_count": 121,
     "metadata": {},
     "output_type": "execute_result"
    }
   ],
   "source": [
    "bfilled_data = data.fillna(method='bfill')\n",
    "bfilled_data"
   ]
  },
  {
   "cell_type": "code",
   "execution_count": 122,
   "metadata": {
    "slideshow": {
     "slide_type": "slide"
    }
   },
   "outputs": [
    {
     "data": {
      "text/plain": [
       "<matplotlib.axes._subplots.AxesSubplot at 0x11e1e84f0>"
      ]
     },
     "execution_count": 122,
     "metadata": {},
     "output_type": "execute_result"
    },
    {
     "data": {
      "image/png": "[encoded data removed]",
      "text/plain": [
       "<Figure size 432x288 with 1 Axes>"
      ]
     },
     "metadata": {
      "needs_background": "light"
     },
     "output_type": "display_data"
    }
   ],
   "source": [
    "bfilled_data.plot()\n"
   ]
  },
  {
   "cell_type": "code",
   "execution_count": 29,
   "metadata": {
    "slideshow": {
     "slide_type": "skip"
    }
   },
   "outputs": [
    {
     "data": {
      "text/plain": [
       "0     -1\n",
       "1      2\n",
       "2     -1\n",
       "3      4\n",
       "4     -1\n",
       "5      6\n",
       "6     -1\n",
       "7      8\n",
       "8     -1\n",
       "9     10\n",
       "10    -1\n",
       "dtype: int64"
      ]
     },
     "execution_count": 29,
     "metadata": {},
     "output_type": "execute_result"
    }
   ],
   "source": [
    "### Skip this\n",
    "t = pd.Series([1, 2, 3, 4, 5, 6, 7, 8, 9, 10, 11])\n",
    "\n",
    "def is_even(x):\n",
    "    return x%2 == 0 \n",
    "    \n",
    "    \n",
    "s = t.where(is_even, -1)\n",
    "s"
   ]
  }
 ],
 "metadata": {
  "celltoolbar": "Slideshow",
  "colab": {
   "collapsed_sections": [],
   "name": "4_Data Preparation_and_Cleaning.ipynb",
   "provenance": [],
   "toc_visible": true,
   "version": "0.3.2"
  },
  "hide_input": false,
  "kernelspec": {
   "display_name": "Python 3 (ipykernel)",
   "language": "python",
   "name": "python3"
  },
  "language_info": {
   "codemirror_mode": {
    "name": "ipython",
    "version": 3
   },
   "file_extension": ".py",
   "mimetype": "text/x-python",
   "name": "python",
   "nbconvert_exporter": "python",
   "pygments_lexer": "ipython3",
   "version": "3.9.9"
  }
 },
 "nbformat": 4,
 "nbformat_minor": 1
}

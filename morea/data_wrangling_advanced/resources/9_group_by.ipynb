{
 "cells": [
  {
   "cell_type": "code",
   "execution_count": 3,
   "metadata": {
    "slideshow": {
     "slide_type": "skip"
    }
   },
   "outputs": [],
   "source": [
    "# from IPython.core.display import HTML\n",
    "import pandas as pd "
   ]
  },
  {
   "cell_type": "code",
   "execution_count": 10,
   "metadata": {
    "slideshow": {
     "slide_type": "slide"
    }
   },
   "outputs": [
    {
     "data": {
      "text/html": [
       "<div>\n",
       "<style scoped>\n",
       "    .dataframe tbody tr th:only-of-type {\n",
       "        vertical-align: middle;\n",
       "    }\n",
       "\n",
       "    .dataframe tbody tr th {\n",
       "        vertical-align: top;\n",
       "    }\n",
       "\n",
       "    .dataframe thead th {\n",
       "        text-align: right;\n",
       "    }\n",
       "</style>\n",
       "<table border=\"1\" class=\"dataframe\">\n",
       "  <thead>\n",
       "    <tr style=\"text-align: right;\">\n",
       "      <th></th>\n",
       "      <th>doctor_id</th>\n",
       "      <th>specialty</th>\n",
       "      <th>medication</th>\n",
       "      <th>nb_beneficiaries</th>\n",
       "      <th>spending</th>\n",
       "    </tr>\n",
       "    <tr>\n",
       "      <th>unique_id</th>\n",
       "      <th></th>\n",
       "      <th></th>\n",
       "      <th></th>\n",
       "      <th></th>\n",
       "      <th></th>\n",
       "    </tr>\n",
       "  </thead>\n",
       "  <tbody>\n",
       "    <tr>\n",
       "      <th>NX531425</th>\n",
       "      <td>1255626040</td>\n",
       "      <td>FAMILY PRACTICE</td>\n",
       "      <td>METFORMIN HCL</td>\n",
       "      <td>30</td>\n",
       "      <td>135.24</td>\n",
       "    </tr>\n",
       "    <tr>\n",
       "      <th>QG879256</th>\n",
       "      <td>1699761833</td>\n",
       "      <td>FAMILY PRACTICE</td>\n",
       "      <td>ALLOPURINOL</td>\n",
       "      <td>30</td>\n",
       "      <td>715.76</td>\n",
       "    </tr>\n",
       "    <tr>\n",
       "      <th>FW363228</th>\n",
       "      <td>1538148804</td>\n",
       "      <td>INTERNAL MEDICINE</td>\n",
       "      <td>LOSARTAN POTASSIUM</td>\n",
       "      <td>146</td>\n",
       "      <td>1056.47</td>\n",
       "    </tr>\n",
       "    <tr>\n",
       "      <th>WD733417</th>\n",
       "      <td>1730200619</td>\n",
       "      <td>PSYCHIATRY</td>\n",
       "      <td>OLANZAPINE</td>\n",
       "      <td>13</td>\n",
       "      <td>28226.97</td>\n",
       "    </tr>\n",
       "    <tr>\n",
       "      <th>XW149832</th>\n",
       "      <td>1023116894</td>\n",
       "      <td>FAMILY PRACTICE</td>\n",
       "      <td>PRAVASTATIN SODIUM</td>\n",
       "      <td>348</td>\n",
       "      <td>8199.48</td>\n",
       "    </tr>\n",
       "    <tr>\n",
       "      <th>QT485324</th>\n",
       "      <td>1952359671</td>\n",
       "      <td>FAMILY PRACTICE</td>\n",
       "      <td>HYDROCHLOROTHIAZIDE</td>\n",
       "      <td>57</td>\n",
       "      <td>247.01</td>\n",
       "    </tr>\n",
       "    <tr>\n",
       "      <th>NA293426</th>\n",
       "      <td>1841235223</td>\n",
       "      <td>FAMILY PRACTICE</td>\n",
       "      <td>SEVELAMER CARBONATE</td>\n",
       "      <td>11</td>\n",
       "      <td>4869.32</td>\n",
       "    </tr>\n",
       "    <tr>\n",
       "      <th>IF945618</th>\n",
       "      <td>1326095662</td>\n",
       "      <td>INTERNAL MEDICINE</td>\n",
       "      <td>FLUTICASONE/SALMETEROL</td>\n",
       "      <td>20</td>\n",
       "      <td>7832.46</td>\n",
       "    </tr>\n",
       "    <tr>\n",
       "      <th>PH384257</th>\n",
       "      <td>1821126830</td>\n",
       "      <td>HEMATOLOGY/ONCOLOGY</td>\n",
       "      <td>ZOLPIDEM TARTRATE</td>\n",
       "      <td>14</td>\n",
       "      <td>65.21</td>\n",
       "    </tr>\n",
       "    <tr>\n",
       "      <th>JY407340</th>\n",
       "      <td>1710986088</td>\n",
       "      <td>INTERNAL MEDICINE</td>\n",
       "      <td>MECLIZINE HCL</td>\n",
       "      <td>47</td>\n",
       "      <td>861.67</td>\n",
       "    </tr>\n",
       "  </tbody>\n",
       "</table>\n",
       "</div>"
      ],
      "text/plain": [
       "            doctor_id            specialty              medication  \\\n",
       "unique_id                                                            \n",
       "NX531425   1255626040      FAMILY PRACTICE           METFORMIN HCL   \n",
       "QG879256   1699761833      FAMILY PRACTICE             ALLOPURINOL   \n",
       "FW363228   1538148804    INTERNAL MEDICINE      LOSARTAN POTASSIUM   \n",
       "WD733417   1730200619           PSYCHIATRY              OLANZAPINE   \n",
       "XW149832   1023116894      FAMILY PRACTICE      PRAVASTATIN SODIUM   \n",
       "QT485324   1952359671      FAMILY PRACTICE     HYDROCHLOROTHIAZIDE   \n",
       "NA293426   1841235223      FAMILY PRACTICE     SEVELAMER CARBONATE   \n",
       "IF945618   1326095662    INTERNAL MEDICINE  FLUTICASONE/SALMETEROL   \n",
       "PH384257   1821126830  HEMATOLOGY/ONCOLOGY       ZOLPIDEM TARTRATE   \n",
       "JY407340   1710986088    INTERNAL MEDICINE           MECLIZINE HCL   \n",
       "\n",
       "           nb_beneficiaries  spending  \n",
       "unique_id                              \n",
       "NX531425                 30    135.24  \n",
       "QG879256                 30    715.76  \n",
       "FW363228                146   1056.47  \n",
       "WD733417                 13  28226.97  \n",
       "XW149832                348   8199.48  \n",
       "QT485324                 57    247.01  \n",
       "NA293426                 11   4869.32  \n",
       "IF945618                 20   7832.46  \n",
       "PH384257                 14     65.21  \n",
       "JY407340                 47    861.67  "
      ]
     },
     "execution_count": 10,
     "metadata": {},
     "output_type": "execute_result"
    }
   ],
   "source": [
    "spending_df = pd.read_csv('https://www.dropbox.com/s/ce9b47nzt3sx7y5/spending_10k.csv?dl=1', index_col=\"unique_id\", dtype={\"doctor_id\":\"object\"})\n",
    "spending_df.head(10)"
   ]
  },
  {
   "cell_type": "markdown",
   "metadata": {
    "slideshow": {
     "slide_type": "slide"
    }
   },
   "source": [
    "### Overview\n",
    "\n",
    "\n",
    "* In this section, we will tackle the handy `groupby` method.\n",
    "\n",
    "* We also cover the split-apply-combine scheme to:\n",
    "\n",
    "  * Aggregate data in each group\n",
    "  * Transform data in each group\n",
    "  * Filter the data in each group\n",
    "  * Thin the data in each group"
   ]
  },
  {
   "cell_type": "markdown",
   "metadata": {
    "slideshow": {
     "slide_type": "slide"
    }
   },
   "source": [
    "### `group_by` and `DataFrame` groups\n",
    "\n",
    "* The `groupby()` method is used to group the data using values from one or more columns.\n",
    "\n",
    "   * `groupby` takes as input one or more column labels, which it uses to group the data.\n",
    "\n",
    "```python\n",
    "df_1.groupby(\"X\")\n",
    "```\n",
    "\n",
    "![](https://www.dropbox.com/s/86bi697t59zmkdn/groupby.png?dl=1)\n",
    "\n"
   ]
  },
  {
   "cell_type": "markdown",
   "metadata": {
    "slideshow": {
     "slide_type": "slide"
    }
   },
   "source": [
    "### Identifying Groups from a GroupBy Object\n",
    "\n",
    "\n",
    "```python\n",
    "spending_df.groupby('specialty')\n",
    "```\n",
    "\n",
    "![](https://www.dropbox.com/s/bs8o34e4s7bdqa8/group_by_specialty.png?dl=1)\n",
    "\n",
    "* The `groupby` method returns an object of type `DataFrameGroupBy.`\n",
    "  * This is not a `DataFrame`, and does not, therefore, have the `DataFrame` methods discussed previously \n",
    "\n",
    "* We can get `DataFrameGroupBy`  element using a valid `groupby` column(s) value(s)\n"
   ]
  },
  {
   "cell_type": "code",
   "execution_count": 3,
   "metadata": {
    "slideshow": {
     "slide_type": "slide"
    }
   },
   "outputs": [
    {
     "data": {
      "text/plain": [
       "pandas.core.groupby.generic.DataFrameGroupBy"
      ]
     },
     "execution_count": 3,
     "metadata": {},
     "output_type": "execute_result"
    }
   ],
   "source": [
    "x = spending_df.groupby('specialty')\n",
    "type(x)"
   ]
  },
  {
   "cell_type": "code",
   "execution_count": 12,
   "metadata": {
    "slideshow": {
     "slide_type": "slide"
    }
   },
   "outputs": [
    {
     "data": {
      "text/html": [
       "<div>\n",
       "<style scoped>\n",
       "    .dataframe tbody tr th:only-of-type {\n",
       "        vertical-align: middle;\n",
       "    }\n",
       "\n",
       "    .dataframe tbody tr th {\n",
       "        vertical-align: top;\n",
       "    }\n",
       "\n",
       "    .dataframe thead th {\n",
       "        text-align: right;\n",
       "    }\n",
       "</style>\n",
       "<table border=\"1\" class=\"dataframe\">\n",
       "  <thead>\n",
       "    <tr style=\"text-align: right;\">\n",
       "      <th></th>\n",
       "      <th>doctor_id</th>\n",
       "      <th>specialty</th>\n",
       "      <th>medication</th>\n",
       "      <th>nb_beneficiaries</th>\n",
       "      <th>spending</th>\n",
       "    </tr>\n",
       "    <tr>\n",
       "      <th>unique_id</th>\n",
       "      <th></th>\n",
       "      <th></th>\n",
       "      <th></th>\n",
       "      <th></th>\n",
       "      <th></th>\n",
       "    </tr>\n",
       "  </thead>\n",
       "  <tbody>\n",
       "    <tr>\n",
       "      <th>VG585760</th>\n",
       "      <td>1801032297</td>\n",
       "      <td>ADDICTION MEDICINE</td>\n",
       "      <td>LAMOTRIGINE</td>\n",
       "      <td>11</td>\n",
       "      <td>82.62</td>\n",
       "    </tr>\n",
       "    <tr>\n",
       "      <th>GJ278932</th>\n",
       "      <td>1134139991</td>\n",
       "      <td>ADDICTION MEDICINE</td>\n",
       "      <td>BUSPIRONE HCL</td>\n",
       "      <td>49</td>\n",
       "      <td>817.88</td>\n",
       "    </tr>\n",
       "    <tr>\n",
       "      <th>TX420809</th>\n",
       "      <td>1801032297</td>\n",
       "      <td>ADDICTION MEDICINE</td>\n",
       "      <td>LORAZEPAM</td>\n",
       "      <td>14</td>\n",
       "      <td>19.56</td>\n",
       "    </tr>\n",
       "  </tbody>\n",
       "</table>\n",
       "</div>"
      ],
      "text/plain": [
       "            doctor_id           specialty     medication  nb_beneficiaries  \\\n",
       "unique_id                                                                    \n",
       "VG585760   1801032297  ADDICTION MEDICINE    LAMOTRIGINE                11   \n",
       "GJ278932   1134139991  ADDICTION MEDICINE  BUSPIRONE HCL                49   \n",
       "TX420809   1801032297  ADDICTION MEDICINE      LORAZEPAM                14   \n",
       "\n",
       "           spending  \n",
       "unique_id            \n",
       "VG585760      82.62  \n",
       "GJ278932     817.88  \n",
       "TX420809      19.56  "
      ]
     },
     "execution_count": 12,
     "metadata": {},
     "output_type": "execute_result"
    }
   ],
   "source": [
    "spending_by_specialty = spending_df.groupby('specialty')\n",
    "\n",
    "addiction_med_group = spending_by_specialty.get_group(\"ADDICTION MEDICINE\")\n",
    "addiction_med_group"
   ]
  },
  {
   "cell_type": "markdown",
   "metadata": {
    "slideshow": {
     "slide_type": "slide"
    }
   },
   "source": [
    "### `groupby` and Group-Specific Processing\n",
    "\n",
    "* An ideal use-case for `groupby` consists of applying operations to each group independently.\n",
    "\n",
    "* For instance, to compute the total spending by `specialty`, we need to:\n",
    "  * Split the data by `specialty`.\n",
    "  * Sum the total `spending` for each type of `specialty`\n",
    "  * Combine and return the sums for each group into as a new `DataFrame`.\n",
    "\n"
   ]
  },
  {
   "cell_type": "markdown",
   "metadata": {
    "slideshow": {
     "slide_type": "slide"
    }
   },
   "source": [
    "\n",
    "### Split-Apply-Combine Paradigm\n",
    "\n",
    "* `groupby()` is often applied in the context of the data processing paradigm called \"split-apply-combine\".\n",
    "\n",
    "  * **Split**: you need to split the data into chunks defined using one or more columns.\n",
    "    * This is typically done using `groupby`.\n",
    "  * **Apply**: apply some operation to the chunks generated.\n",
    "    * Ex. Count the number of rows in each chunk, average the values for a specific column, etc.\n",
    "  * **Combine**: combine the results of the applied operation into a new `DataFrame`.\n",
    "\n",
    "\n"
   ]
  },
  {
   "cell_type": "markdown",
   "metadata": {
    "slideshow": {
     "slide_type": "slide"
    }
   },
   "source": [
    "### Split-Apply-Combine Example\n",
    "\n",
    "![](https://www.dropbox.com/s/aecufw3mfu2mlah/split_apply_combine_example.png?dl=1)\n",
    "\n",
    "* The type of Split-Apply-Combine applied here is referred to as aggregation.\n",
    "  * Aggregations refer to any operation that aggregates (reduces) group data to a single value."
   ]
  },
  {
   "cell_type": "markdown",
   "metadata": {
    "slideshow": {
     "slide_type": "slide"
    }
   },
   "source": [
    "### The 3 ( or 3  $\\frac{1}{2}$) Classes of Opearations on Groups\n",
    "\n",
    "\n",
    "* Three are 3 formal classes of split-apply-combine operations that can be applied to group data.\n",
    "\n",
    "  * I include a variant ($\\frac{1}{2}$ a class) which I think is useful to better classify split-apply-combine operations.\n",
    "\n",
    "\n",
    "1\\.$~~$__Aggregations__ generate a single value for each group\n",
    "   * E.g., Sum the spending by specialty\n",
    "  \n",
    "2\\.$~~$ __Transformations__ convert the data and generate a group of the same size as the original group.\n",
    "   * E.g., Convert the currency by country for some datasets that contains medication cost by country.\n",
    "\n",
    "3\\.$~~$ __Filters__ retain or discard a group based on group-specific boolean computations.\n",
    "   * E.g., drop specialty if the sum of spending is below some threshold\n",
    "\n",
    "3$\\frac{1}{2}$\\.$~$\"__Thinning__\" drops entries in a group based on some defined logic.\n",
    "  * E.g., compute how far off are the group values from the group mean."
   ]
  },
  {
   "cell_type": "markdown",
   "metadata": {
    "collapsed": true,
    "slideshow": {
     "slide_type": "slide"
    }
   },
   "source": [
    "### Aggregations\n",
    "\n",
    "- __Aggregations__ aggregate the data in each group, i.e., they reduce the data in each group to a single value. \n",
    "\n",
    "  * This includes, for instance, computing group sums, means, maximums, minimums, _etc_.\n",
    "\n"
   ]
  },
  {
   "cell_type": "markdown",
   "metadata": {
    "slideshow": {
     "slide_type": "slide"
    }
   },
   "source": [
    "![](https://www.dropbox.com/s/9q54na9szs5syi5/aggregate.png?dl=1)\n"
   ]
  },
  {
   "cell_type": "markdown",
   "metadata": {
    "slideshow": {
     "slide_type": "slide"
    }
   },
   "source": [
    "\n",
    "### Transforming Group Data\n",
    "\n",
    "* __Transform__ will trnsform the data in a group-specific way.\n",
    "\n",
    "   * E.g., transform the value by dividing it by the group mean\n",
    "\n",
    "*  The number of entries per group resulting from a transformation is the same as the number of entries in the group before the transformation.\n",
    "\n"
   ]
  },
  {
   "cell_type": "markdown",
   "metadata": {
    "slideshow": {
     "slide_type": "slide"
    }
   },
   "source": [
    "- The diagram below shows an example where the data in column \"Y\" in transformed by dividing it by the group mean.\n",
    "\n",
    "![](https://www.dropbox.com/s/nf8lg0lqk3yxf7k/transform_2.png?dl=1)\n"
   ]
  },
  {
   "cell_type": "markdown",
   "metadata": {
    "slideshow": {
     "slide_type": "slide"
    }
   },
   "source": [
    "### Filtering Group Data\n",
    "\n",
    "* Consist of dropping or retaining that group in a way that depends on a group-specific computation that returns `True` or `False`. \n",
    "\n",
    "* For instance, we can filter specialties that don't have enough entries or for which the mean `spending` if below a certain threshold.\n",
    "  * Groups are either retained or discarded. Groups that are retained are unmodified.\n"
   ]
  },
  {
   "cell_type": "markdown",
   "metadata": {
    "slideshow": {
     "slide_type": "slide"
    }
   },
   "source": [
    "- The diagram below shows an example where groups are filtered if their sum for column `Y` is less than 10.\n",
    "\n",
    "![](https://www.dropbox.com/s/ncmv2xsupjok7va/filter.png?dl=1)"
   ]
  },
  {
   "cell_type": "markdown",
   "metadata": {
    "collapsed": true,
    "slideshow": {
     "slide_type": "slide"
    }
   },
   "source": [
    "### Thinning Group Data\n",
    "\n",
    "* Consist of reducing the number of entries using a group-specific operation.\n",
    "\n",
    "* Thinning can be useful to, for instance:\n",
    "  * Sub-sample the data at the group level (create a blanced dataset)\n",
    "  * Returning the top `n` entries in each group\n",
    "  * etc. \n",
    "\n",
    "  * As opposed to aggregating functions, thinning does not have to reduce the group into a single entry; although it could\n",
    "\n",
    "    \n",
    "![](https://www.dropbox.com/s/m4p4f5nk55w2ni2/thin.png?dl=1) "
   ]
  },
  {
   "cell_type": "markdown",
   "metadata": {
    "slideshow": {
     "slide_type": "slide"
    }
   },
   "source": [
    "\n",
    "### Aggregating the Data Using `groupby`\n",
    "\n",
    "* Aggregation is commonly used to compute summary statistics on each of the groups.\n",
    "\n",
    "* Some of the interesting/important summary aggregation methods `DataFrameGroupBy` objects are:\n",
    "\n",
    "|Methods           |        Decription                              |\n",
    "|:-----------------|:-----------------------------------------------|\n",
    "| `mean`, `median` | Computes the mean and the median in each group | \n",
    "| `min` , `max`    | computes the min and max in each group         | \n",
    "| `size`           | computes the number of values in each group    | \n",
    "\n",
    "* The function applies to all valid columns that are available after using the `groupby` argument as an index\n",
    "\n",
    "\n"
   ]
  },
  {
   "cell_type": "markdown",
   "metadata": {
    "slideshow": {
     "slide_type": "slide"
    }
   },
   "source": [
    "##### Aggregating the Data Using `groupby` Cont'd \n",
    "\n",
    "- The functions above all use the same syntax:\n",
    " \n",
    "```python\n",
    "spending_df.groupby('specialty').sum()\n",
    "# or\n",
    "spending_df.groupby('specialty').min()\n",
    "```\n"
   ]
  },
  {
   "cell_type": "code",
   "execution_count": 8,
   "metadata": {
    "slideshow": {
     "slide_type": "slide"
    }
   },
   "outputs": [
    {
     "data": {
      "text/html": [
       "<div>\n",
       "<style scoped>\n",
       "    .dataframe tbody tr th:only-of-type {\n",
       "        vertical-align: middle;\n",
       "    }\n",
       "\n",
       "    .dataframe tbody tr th {\n",
       "        vertical-align: top;\n",
       "    }\n",
       "\n",
       "    .dataframe thead th {\n",
       "        text-align: right;\n",
       "    }\n",
       "</style>\n",
       "<table border=\"1\" class=\"dataframe\">\n",
       "  <thead>\n",
       "    <tr style=\"text-align: right;\">\n",
       "      <th></th>\n",
       "      <th>B</th>\n",
       "    </tr>\n",
       "    <tr>\n",
       "      <th>A</th>\n",
       "      <th></th>\n",
       "    </tr>\n",
       "  </thead>\n",
       "  <tbody>\n",
       "    <tr>\n",
       "      <th>1</th>\n",
       "      <td>3</td>\n",
       "    </tr>\n",
       "    <tr>\n",
       "      <th>2</th>\n",
       "      <td>7</td>\n",
       "    </tr>\n",
       "    <tr>\n",
       "      <th>3</th>\n",
       "      <td>11</td>\n",
       "    </tr>\n",
       "  </tbody>\n",
       "</table>\n",
       "</div>"
      ],
      "text/plain": [
       "    B\n",
       "A    \n",
       "1   3\n",
       "2   7\n",
       "3  11"
      ]
     },
     "execution_count": 8,
     "metadata": {},
     "output_type": "execute_result"
    }
   ],
   "source": [
    "df = pd.DataFrame({\"A\":[1,1,2,2,3,3], \"B\":[1,2,3,4,5,6], \"C\":[\"A\",\"B\",\"C\",\"D\",\"E\",\"F\"]})\n",
    "\n",
    "df.groupby(\"A\").sum()\n"
   ]
  },
  {
   "cell_type": "code",
   "execution_count": 6,
   "metadata": {
    "slideshow": {
     "slide_type": "slide"
    }
   },
   "outputs": [
    {
     "data": {
      "text/html": [
       "<div>\n",
       "<style scoped>\n",
       "    .dataframe tbody tr th:only-of-type {\n",
       "        vertical-align: middle;\n",
       "    }\n",
       "\n",
       "    .dataframe tbody tr th {\n",
       "        vertical-align: top;\n",
       "    }\n",
       "\n",
       "    .dataframe thead th {\n",
       "        text-align: right;\n",
       "    }\n",
       "</style>\n",
       "<table border=\"1\" class=\"dataframe\">\n",
       "  <thead>\n",
       "    <tr style=\"text-align: right;\">\n",
       "      <th></th>\n",
       "      <th>doctor_id</th>\n",
       "      <th>specialty</th>\n",
       "      <th>medication</th>\n",
       "      <th>nb_beneficiaries</th>\n",
       "      <th>spending</th>\n",
       "    </tr>\n",
       "    <tr>\n",
       "      <th>unique_id</th>\n",
       "      <th></th>\n",
       "      <th></th>\n",
       "      <th></th>\n",
       "      <th></th>\n",
       "      <th></th>\n",
       "    </tr>\n",
       "  </thead>\n",
       "  <tbody>\n",
       "    <tr>\n",
       "      <th>NX531425</th>\n",
       "      <td>1255626040</td>\n",
       "      <td>FAMILY PRACTICE</td>\n",
       "      <td>METFORMIN HCL</td>\n",
       "      <td>30</td>\n",
       "      <td>135.24</td>\n",
       "    </tr>\n",
       "    <tr>\n",
       "      <th>QG879256</th>\n",
       "      <td>1699761833</td>\n",
       "      <td>FAMILY PRACTICE</td>\n",
       "      <td>ALLOPURINOL</td>\n",
       "      <td>30</td>\n",
       "      <td>715.76</td>\n",
       "    </tr>\n",
       "    <tr>\n",
       "      <th>FW363228</th>\n",
       "      <td>1538148804</td>\n",
       "      <td>INTERNAL MEDICINE</td>\n",
       "      <td>LOSARTAN POTASSIUM</td>\n",
       "      <td>146</td>\n",
       "      <td>1056.47</td>\n",
       "    </tr>\n",
       "    <tr>\n",
       "      <th>WD733417</th>\n",
       "      <td>1730200619</td>\n",
       "      <td>PSYCHIATRY</td>\n",
       "      <td>OLANZAPINE</td>\n",
       "      <td>13</td>\n",
       "      <td>28226.97</td>\n",
       "    </tr>\n",
       "    <tr>\n",
       "      <th>XW149832</th>\n",
       "      <td>1023116894</td>\n",
       "      <td>FAMILY PRACTICE</td>\n",
       "      <td>PRAVASTATIN SODIUM</td>\n",
       "      <td>348</td>\n",
       "      <td>8199.48</td>\n",
       "    </tr>\n",
       "  </tbody>\n",
       "</table>\n",
       "</div>"
      ],
      "text/plain": [
       "            doctor_id          specialty          medication  \\\n",
       "unique_id                                                      \n",
       "NX531425   1255626040    FAMILY PRACTICE       METFORMIN HCL   \n",
       "QG879256   1699761833    FAMILY PRACTICE         ALLOPURINOL   \n",
       "FW363228   1538148804  INTERNAL MEDICINE  LOSARTAN POTASSIUM   \n",
       "WD733417   1730200619         PSYCHIATRY          OLANZAPINE   \n",
       "XW149832   1023116894    FAMILY PRACTICE  PRAVASTATIN SODIUM   \n",
       "\n",
       "           nb_beneficiaries  spending  \n",
       "unique_id                              \n",
       "NX531425                 30    135.24  \n",
       "QG879256                 30    715.76  \n",
       "FW363228                146   1056.47  \n",
       "WD733417                 13  28226.97  \n",
       "XW149832                348   8199.48  "
      ]
     },
     "execution_count": 6,
     "metadata": {},
     "output_type": "execute_result"
    }
   ],
   "source": [
    "spending_df.head()"
   ]
  },
  {
   "cell_type": "code",
   "execution_count": 7,
   "metadata": {
    "slideshow": {
     "slide_type": "slide"
    }
   },
   "outputs": [
    {
     "data": {
      "text/html": [
       "<div>\n",
       "<style scoped>\n",
       "    .dataframe tbody tr th:only-of-type {\n",
       "        vertical-align: middle;\n",
       "    }\n",
       "\n",
       "    .dataframe tbody tr th {\n",
       "        vertical-align: top;\n",
       "    }\n",
       "\n",
       "    .dataframe thead th {\n",
       "        text-align: right;\n",
       "    }\n",
       "</style>\n",
       "<table border=\"1\" class=\"dataframe\">\n",
       "  <thead>\n",
       "    <tr style=\"text-align: right;\">\n",
       "      <th></th>\n",
       "      <th>nb_beneficiaries</th>\n",
       "      <th>spending</th>\n",
       "    </tr>\n",
       "    <tr>\n",
       "      <th>specialty</th>\n",
       "      <th></th>\n",
       "      <th></th>\n",
       "    </tr>\n",
       "  </thead>\n",
       "  <tbody>\n",
       "    <tr>\n",
       "      <th>ADDICTION MEDICINE</th>\n",
       "      <td>74</td>\n",
       "      <td>920.06</td>\n",
       "    </tr>\n",
       "    <tr>\n",
       "      <th>ALLERGY/IMMUNOLOGY</th>\n",
       "      <td>1063</td>\n",
       "      <td>189174.06</td>\n",
       "    </tr>\n",
       "    <tr>\n",
       "      <th>ANESTHESIOLOGY</th>\n",
       "      <td>1673</td>\n",
       "      <td>142804.73</td>\n",
       "    </tr>\n",
       "    <tr>\n",
       "      <th>CARDIAC ELECTROPHYSIOLOGY</th>\n",
       "      <td>1041</td>\n",
       "      <td>225543.62</td>\n",
       "    </tr>\n",
       "    <tr>\n",
       "      <th>CARDIAC SURGERY</th>\n",
       "      <td>33</td>\n",
       "      <td>12432.92</td>\n",
       "    </tr>\n",
       "    <tr>\n",
       "      <th>CARDIOLOGY</th>\n",
       "      <td>29638</td>\n",
       "      <td>1915787.90</td>\n",
       "    </tr>\n",
       "    <tr>\n",
       "      <th>CERTIFIED CLINICAL NURSE SPECIALIST</th>\n",
       "      <td>1146</td>\n",
       "      <td>114057.40</td>\n",
       "    </tr>\n",
       "    <tr>\n",
       "      <th>CERTIFIED NURSE MIDWIFE</th>\n",
       "      <td>58</td>\n",
       "      <td>14763.47</td>\n",
       "    </tr>\n",
       "    <tr>\n",
       "      <th>CLINIC/CENTER</th>\n",
       "      <td>23</td>\n",
       "      <td>3110.16</td>\n",
       "    </tr>\n",
       "    <tr>\n",
       "      <th>CLINICAL PSYCHOLOGIST</th>\n",
       "      <td>83</td>\n",
       "      <td>495.95</td>\n",
       "    </tr>\n",
       "  </tbody>\n",
       "</table>\n",
       "</div>"
      ],
      "text/plain": [
       "                                     nb_beneficiaries    spending\n",
       "specialty                                                        \n",
       "ADDICTION MEDICINE                                 74      920.06\n",
       "ALLERGY/IMMUNOLOGY                               1063   189174.06\n",
       "ANESTHESIOLOGY                                   1673   142804.73\n",
       "CARDIAC ELECTROPHYSIOLOGY                        1041   225543.62\n",
       "CARDIAC SURGERY                                    33    12432.92\n",
       "CARDIOLOGY                                      29638  1915787.90\n",
       "CERTIFIED CLINICAL NURSE SPECIALIST              1146   114057.40\n",
       "CERTIFIED NURSE MIDWIFE                            58    14763.47\n",
       "CLINIC/CENTER                                      23     3110.16\n",
       "CLINICAL PSYCHOLOGIST                              83      495.95"
      ]
     },
     "execution_count": 7,
     "metadata": {},
     "output_type": "execute_result"
    }
   ],
   "source": [
    "spending_df.groupby('specialty').sum().head(10)\n"
   ]
  },
  {
   "cell_type": "markdown",
   "metadata": {
    "slideshow": {
     "slide_type": "slide"
    }
   },
   "source": [
    "\n",
    "### Applying Functions to Group Columns\n",
    "\n",
    "* The method `agg()` can be used where complex or custom aggregation logic is required.\n",
    "* Note tht `agg` applies to a `DataFrameGroupBy` object\n",
    "  *  The method `agg` takes a function (or a list of functions) and uses it (them) to aggregate the group's colum(s)\n",
    "\n",
    "* Example, we can use `sum_spending_CAD` to return the sum of the spending in Canadian Dollars.\n"
   ]
  },
  {
   "cell_type": "markdown",
   "metadata": {
    "slideshow": {
     "slide_type": "slide"
    }
   },
   "source": [
    "```python\n",
    "def sum_spending_CAD(x):\n",
    "    return x.sum() * 1.32\n",
    "\n",
    "spending_by_specialty['spending'].agg(sum_spending_CAD)\n",
    "```\n",
    "\n",
    "\n",
    "* `agg` can take a dictionary of functions to aggregate on.\n",
    "    * Required for aggregating more than one column \n",
    "\n",
    "    ```python \n",
    "    spending_by_specialty.agg({'nb_beneficiaries' :sum,\n",
    "                               'spending' : sum_spending_CAD)\n",
    "    ```\n",
    "\n",
    "* `agg` can take a list of function to apply to each column functions to aggregate on.\n",
    "  \n",
    "    `\n",
    "    spending_by_specialty.agg([min,max,sum])\n",
    "    `"
   ]
  },
  {
   "cell_type": "code",
   "execution_count": 15,
   "metadata": {
    "slideshow": {
     "slide_type": "slide"
    }
   },
   "outputs": [
    {
     "data": {
      "text/html": [
       "<div>\n",
       "<style scoped>\n",
       "    .dataframe tbody tr th:only-of-type {\n",
       "        vertical-align: middle;\n",
       "    }\n",
       "\n",
       "    .dataframe tbody tr th {\n",
       "        vertical-align: top;\n",
       "    }\n",
       "\n",
       "    .dataframe thead th {\n",
       "        text-align: right;\n",
       "    }\n",
       "</style>\n",
       "<table border=\"1\" class=\"dataframe\">\n",
       "  <thead>\n",
       "    <tr style=\"text-align: right;\">\n",
       "      <th></th>\n",
       "      <th>nb_beneficiaries</th>\n",
       "      <th>spending</th>\n",
       "    </tr>\n",
       "    <tr>\n",
       "      <th>specialty</th>\n",
       "      <th></th>\n",
       "      <th></th>\n",
       "    </tr>\n",
       "  </thead>\n",
       "  <tbody>\n",
       "    <tr>\n",
       "      <th>ADDICTION MEDICINE</th>\n",
       "      <td>74</td>\n",
       "      <td>1168.4762</td>\n",
       "    </tr>\n",
       "    <tr>\n",
       "      <th>ALLERGY/IMMUNOLOGY</th>\n",
       "      <td>1063</td>\n",
       "      <td>240251.0562</td>\n",
       "    </tr>\n",
       "    <tr>\n",
       "      <th>ANESTHESIOLOGY</th>\n",
       "      <td>1673</td>\n",
       "      <td>181362.0071</td>\n",
       "    </tr>\n",
       "    <tr>\n",
       "      <th>CARDIAC ELECTROPHYSIOLOGY</th>\n",
       "      <td>1041</td>\n",
       "      <td>286440.3974</td>\n",
       "    </tr>\n",
       "    <tr>\n",
       "      <th>CARDIAC SURGERY</th>\n",
       "      <td>33</td>\n",
       "      <td>15789.8084</td>\n",
       "    </tr>\n",
       "  </tbody>\n",
       "</table>\n",
       "</div>"
      ],
      "text/plain": [
       "                           nb_beneficiaries     spending\n",
       "specialty                                               \n",
       "ADDICTION MEDICINE                       74    1168.4762\n",
       "ALLERGY/IMMUNOLOGY                     1063  240251.0562\n",
       "ANESTHESIOLOGY                         1673  181362.0071\n",
       "CARDIAC ELECTROPHYSIOLOGY              1041  286440.3974\n",
       "CARDIAC SURGERY                          33   15789.8084"
      ]
     },
     "execution_count": 15,
     "metadata": {},
     "output_type": "execute_result"
    }
   ],
   "source": [
    "def sum_spending_CAD(x):\n",
    "    return x.sum() * 1.27\n",
    "\n",
    "# format\n",
    "(\n",
    "    spending_by_specialty.agg({ 'nb_beneficiaries': sum, 'spending': sum_spending_CAD })\n",
    "                         .head(5)\n",
    ")\n",
    "\n"
   ]
  },
  {
   "cell_type": "code",
   "execution_count": 18,
   "metadata": {
    "slideshow": {
     "slide_type": "slide"
    }
   },
   "outputs": [
    {
     "data": {
      "text/html": [
       "<div>\n",
       "<style scoped>\n",
       "    .dataframe tbody tr th:only-of-type {\n",
       "        vertical-align: middle;\n",
       "    }\n",
       "\n",
       "    .dataframe tbody tr th {\n",
       "        vertical-align: top;\n",
       "    }\n",
       "\n",
       "    .dataframe thead tr th {\n",
       "        text-align: left;\n",
       "    }\n",
       "\n",
       "    .dataframe thead tr:last-of-type th {\n",
       "        text-align: right;\n",
       "    }\n",
       "</style>\n",
       "<table border=\"1\" class=\"dataframe\">\n",
       "  <thead>\n",
       "    <tr>\n",
       "      <th></th>\n",
       "      <th colspan=\"3\" halign=\"left\">spending</th>\n",
       "      <th colspan=\"3\" halign=\"left\">nb_beneficiaries</th>\n",
       "    </tr>\n",
       "    <tr>\n",
       "      <th></th>\n",
       "      <th>sum</th>\n",
       "      <th>min</th>\n",
       "      <th>max</th>\n",
       "      <th>sum</th>\n",
       "      <th>min</th>\n",
       "      <th>max</th>\n",
       "    </tr>\n",
       "    <tr>\n",
       "      <th>specialty</th>\n",
       "      <th></th>\n",
       "      <th></th>\n",
       "      <th></th>\n",
       "      <th></th>\n",
       "      <th></th>\n",
       "      <th></th>\n",
       "    </tr>\n",
       "  </thead>\n",
       "  <tbody>\n",
       "    <tr>\n",
       "      <th>ADDICTION MEDICINE</th>\n",
       "      <td>920.06</td>\n",
       "      <td>19.56</td>\n",
       "      <td>817.88</td>\n",
       "      <td>74</td>\n",
       "      <td>11</td>\n",
       "      <td>49</td>\n",
       "    </tr>\n",
       "    <tr>\n",
       "      <th>ALLERGY/IMMUNOLOGY</th>\n",
       "      <td>189174.06</td>\n",
       "      <td>109.80</td>\n",
       "      <td>52389.61</td>\n",
       "      <td>1063</td>\n",
       "      <td>11</td>\n",
       "      <td>297</td>\n",
       "    </tr>\n",
       "    <tr>\n",
       "      <th>ANESTHESIOLOGY</th>\n",
       "      <td>142804.73</td>\n",
       "      <td>35.33</td>\n",
       "      <td>34073.91</td>\n",
       "      <td>1673</td>\n",
       "      <td>12</td>\n",
       "      <td>419</td>\n",
       "    </tr>\n",
       "    <tr>\n",
       "      <th>CARDIAC ELECTROPHYSIOLOGY</th>\n",
       "      <td>225543.62</td>\n",
       "      <td>69.85</td>\n",
       "      <td>89101.54</td>\n",
       "      <td>1041</td>\n",
       "      <td>12</td>\n",
       "      <td>188</td>\n",
       "    </tr>\n",
       "    <tr>\n",
       "      <th>CARDIAC SURGERY</th>\n",
       "      <td>12432.92</td>\n",
       "      <td>442.91</td>\n",
       "      <td>11990.01</td>\n",
       "      <td>33</td>\n",
       "      <td>15</td>\n",
       "      <td>18</td>\n",
       "    </tr>\n",
       "  </tbody>\n",
       "</table>\n",
       "</div>"
      ],
      "text/plain": [
       "                            spending                   nb_beneficiaries      \\\n",
       "                                 sum     min       max              sum min   \n",
       "specialty                                                                     \n",
       "ADDICTION MEDICINE            920.06   19.56    817.88               74  11   \n",
       "ALLERGY/IMMUNOLOGY         189174.06  109.80  52389.61             1063  11   \n",
       "ANESTHESIOLOGY             142804.73   35.33  34073.91             1673  12   \n",
       "CARDIAC ELECTROPHYSIOLOGY  225543.62   69.85  89101.54             1041  12   \n",
       "CARDIAC SURGERY             12432.92  442.91  11990.01               33  15   \n",
       "\n",
       "                                \n",
       "                           max  \n",
       "specialty                       \n",
       "ADDICTION MEDICINE          49  \n",
       "ALLERGY/IMMUNOLOGY         297  \n",
       "ANESTHESIOLOGY             419  \n",
       "CARDIAC ELECTROPHYSIOLOGY  188  \n",
       "CARDIAC SURGERY             18  "
      ]
     },
     "execution_count": 18,
     "metadata": {},
     "output_type": "execute_result"
    }
   ],
   "source": [
    "# note that sum, min and max here are functions\n",
    "spending_by_specialty[['spending', 'nb_beneficiaries']].agg([sum, min, max]).head()"
   ]
  },
  {
   "cell_type": "code",
   "execution_count": 19,
   "metadata": {
    "slideshow": {
     "slide_type": "slide"
    }
   },
   "outputs": [
    {
     "data": {
      "text/html": [
       "<div>\n",
       "<style scoped>\n",
       "    .dataframe tbody tr th:only-of-type {\n",
       "        vertical-align: middle;\n",
       "    }\n",
       "\n",
       "    .dataframe tbody tr th {\n",
       "        vertical-align: top;\n",
       "    }\n",
       "\n",
       "    .dataframe thead th {\n",
       "        text-align: right;\n",
       "    }\n",
       "</style>\n",
       "<table border=\"1\" class=\"dataframe\">\n",
       "  <thead>\n",
       "    <tr style=\"text-align: right;\">\n",
       "      <th></th>\n",
       "      <th>nb_beneficiaries</th>\n",
       "      <th>spending</th>\n",
       "    </tr>\n",
       "    <tr>\n",
       "      <th>specialty</th>\n",
       "      <th></th>\n",
       "      <th></th>\n",
       "    </tr>\n",
       "  </thead>\n",
       "  <tbody>\n",
       "    <tr>\n",
       "      <th>ADDICTION MEDICINE</th>\n",
       "      <td>11</td>\n",
       "      <td>817.88</td>\n",
       "    </tr>\n",
       "    <tr>\n",
       "      <th>ALLERGY/IMMUNOLOGY</th>\n",
       "      <td>11</td>\n",
       "      <td>52389.61</td>\n",
       "    </tr>\n",
       "    <tr>\n",
       "      <th>ANESTHESIOLOGY</th>\n",
       "      <td>12</td>\n",
       "      <td>34073.91</td>\n",
       "    </tr>\n",
       "    <tr>\n",
       "      <th>CARDIAC ELECTROPHYSIOLOGY</th>\n",
       "      <td>12</td>\n",
       "      <td>89101.54</td>\n",
       "    </tr>\n",
       "    <tr>\n",
       "      <th>CARDIAC SURGERY</th>\n",
       "      <td>15</td>\n",
       "      <td>11990.01</td>\n",
       "    </tr>\n",
       "  </tbody>\n",
       "</table>\n",
       "</div>"
      ],
      "text/plain": [
       "                           nb_beneficiaries  spending\n",
       "specialty                                            \n",
       "ADDICTION MEDICINE                       11    817.88\n",
       "ALLERGY/IMMUNOLOGY                       11  52389.61\n",
       "ANESTHESIOLOGY                           12  34073.91\n",
       "CARDIAC ELECTROPHYSIOLOGY                12  89101.54\n",
       "CARDIAC SURGERY                          15  11990.01"
      ]
     },
     "execution_count": 19,
     "metadata": {},
     "output_type": "execute_result"
    }
   ],
   "source": [
    "spending_by_specialty.agg({'nb_beneficiaries' :min,\n",
    "                           'spending' : max}).head()\n"
   ]
  },
  {
   "cell_type": "code",
   "execution_count": 20,
   "metadata": {
    "slideshow": {
     "slide_type": "slide"
    }
   },
   "outputs": [
    {
     "data": {
      "text/html": [
       "<div>\n",
       "<style scoped>\n",
       "    .dataframe tbody tr th:only-of-type {\n",
       "        vertical-align: middle;\n",
       "    }\n",
       "\n",
       "    .dataframe tbody tr th {\n",
       "        vertical-align: top;\n",
       "    }\n",
       "\n",
       "    .dataframe thead tr th {\n",
       "        text-align: left;\n",
       "    }\n",
       "\n",
       "    .dataframe thead tr:last-of-type th {\n",
       "        text-align: right;\n",
       "    }\n",
       "</style>\n",
       "<table border=\"1\" class=\"dataframe\">\n",
       "  <thead>\n",
       "    <tr>\n",
       "      <th></th>\n",
       "      <th colspan=\"2\" halign=\"left\">nb_beneficiaries</th>\n",
       "      <th>spending</th>\n",
       "    </tr>\n",
       "    <tr>\n",
       "      <th></th>\n",
       "      <th>min</th>\n",
       "      <th>sum</th>\n",
       "      <th>max</th>\n",
       "    </tr>\n",
       "    <tr>\n",
       "      <th>specialty</th>\n",
       "      <th></th>\n",
       "      <th></th>\n",
       "      <th></th>\n",
       "    </tr>\n",
       "  </thead>\n",
       "  <tbody>\n",
       "    <tr>\n",
       "      <th>ADDICTION MEDICINE</th>\n",
       "      <td>11</td>\n",
       "      <td>74</td>\n",
       "      <td>817.88</td>\n",
       "    </tr>\n",
       "    <tr>\n",
       "      <th>ALLERGY/IMMUNOLOGY</th>\n",
       "      <td>11</td>\n",
       "      <td>1063</td>\n",
       "      <td>52389.61</td>\n",
       "    </tr>\n",
       "    <tr>\n",
       "      <th>ANESTHESIOLOGY</th>\n",
       "      <td>12</td>\n",
       "      <td>1673</td>\n",
       "      <td>34073.91</td>\n",
       "    </tr>\n",
       "    <tr>\n",
       "      <th>CARDIAC ELECTROPHYSIOLOGY</th>\n",
       "      <td>12</td>\n",
       "      <td>1041</td>\n",
       "      <td>89101.54</td>\n",
       "    </tr>\n",
       "    <tr>\n",
       "      <th>CARDIAC SURGERY</th>\n",
       "      <td>15</td>\n",
       "      <td>33</td>\n",
       "      <td>11990.01</td>\n",
       "    </tr>\n",
       "  </tbody>\n",
       "</table>\n",
       "</div>"
      ],
      "text/plain": [
       "                          nb_beneficiaries        spending\n",
       "                                       min   sum       max\n",
       "specialty                                                 \n",
       "ADDICTION MEDICINE                      11    74    817.88\n",
       "ALLERGY/IMMUNOLOGY                      11  1063  52389.61\n",
       "ANESTHESIOLOGY                          12  1673  34073.91\n",
       "CARDIAC ELECTROPHYSIOLOGY               12  1041  89101.54\n",
       "CARDIAC SURGERY                         15    33  11990.01"
      ]
     },
     "execution_count": 20,
     "metadata": {},
     "output_type": "execute_result"
    }
   ],
   "source": [
    "spending_by_specialty.agg({'nb_beneficiaries' :[min, sum],\n",
    "                           'spending' : max}).head()\n"
   ]
  },
  {
   "cell_type": "markdown",
   "metadata": {
    "slideshow": {
     "slide_type": "slide"
    }
   },
   "source": [
    "### Transforming  the `groupby` `DataFrames`\n",
    "\n",
    "- As opposed to aggregations, which reduce the data into a single value, transformations modify the data but don't change the `shape` (dimension) of the groups\n",
    "\n",
    "- Transformations are useful for applying operations that are group specific"
   ]
  },
  {
   "cell_type": "markdown",
   "metadata": {
    "slideshow": {
     "slide_type": "slide"
    }
   },
   "source": [
    "### Transforming the Data in `groupby` Cont'd\n",
    "\n",
    "\n",
    "- The example below computes the percent contribution of each entry to each specialty by applying a transformation that normalizes the entry's spending over the total spending in that specialty. \n",
    "\n",
    "![](https://www.dropbox.com/s/ewfaj5rjszbvzz3/transform_spending.png?dl=1)\n"
   ]
  },
  {
   "cell_type": "code",
   "execution_count": 16,
   "metadata": {
    "slideshow": {
     "slide_type": "slide"
    }
   },
   "outputs": [
    {
     "data": {
      "text/plain": [
       "unique_id\n",
       "VG585760    82.620\n",
       "GJ278932   817.880\n",
       "TX420809    19.560\n",
       "Name: spending, dtype: float64"
      ]
     },
     "execution_count": 16,
     "metadata": {},
     "output_type": "execute_result"
    }
   ],
   "source": [
    "spending_by_specialty[\"spending\"].get_group(\"ADDICTION MEDICINE\")"
   ]
  },
  {
   "cell_type": "markdown",
   "metadata": {
    "slideshow": {
     "slide_type": "slide"
    }
   },
   "source": [
    "### Applying a Transformation\n",
    "\n",
    "- Applying a transformation is done using the method called `transform`.\n",
    "\n",
    "\n",
    "- The method `transform` takes as input a function name, which it calls on each group of the `DataFrameGroupBy` object"
   ]
  },
  {
   "cell_type": "code",
   "execution_count": 24,
   "metadata": {
    "slideshow": {
     "slide_type": "slide"
    }
   },
   "outputs": [
    {
     "data": {
      "text/plain": [
       "unique_id\n",
       "NX531425    0.002075\n",
       "QG879256    0.010985\n",
       "FW363228    0.010855\n",
       "WD733417    1.614442\n",
       "XW149832    0.125835\n",
       "QT485324    0.003791\n",
       "NA293426    0.074728\n",
       "IF945618    0.080474\n",
       "PH384257    0.005987\n",
       "JY407340    0.008853\n",
       "Name: spending, dtype: float64"
      ]
     },
     "execution_count": 24,
     "metadata": {},
     "output_type": "execute_result"
    }
   ],
   "source": [
    "def my_function(x):\n",
    "    return (x   / x.sum() ) * 100\n",
    "    \n",
    "spending_by_specialty['spending'].transform(my_function).head(10)\n",
    "\n"
   ]
  },
  {
   "cell_type": "code",
   "execution_count": 26,
   "metadata": {
    "slideshow": {
     "slide_type": "slide"
    }
   },
   "outputs": [
    {
     "data": {
      "text/html": [
       "<div>\n",
       "<style scoped>\n",
       "    .dataframe tbody tr th:only-of-type {\n",
       "        vertical-align: middle;\n",
       "    }\n",
       "\n",
       "    .dataframe tbody tr th {\n",
       "        vertical-align: top;\n",
       "    }\n",
       "\n",
       "    .dataframe thead th {\n",
       "        text-align: right;\n",
       "    }\n",
       "</style>\n",
       "<table border=\"1\" class=\"dataframe\">\n",
       "  <thead>\n",
       "    <tr style=\"text-align: right;\">\n",
       "      <th></th>\n",
       "      <th>doctor_id</th>\n",
       "      <th>specialty</th>\n",
       "      <th>medication</th>\n",
       "      <th>nb_beneficiaries</th>\n",
       "      <th>spending</th>\n",
       "      <th>spending_pct</th>\n",
       "    </tr>\n",
       "    <tr>\n",
       "      <th>unique_id</th>\n",
       "      <th></th>\n",
       "      <th></th>\n",
       "      <th></th>\n",
       "      <th></th>\n",
       "      <th></th>\n",
       "      <th></th>\n",
       "    </tr>\n",
       "  </thead>\n",
       "  <tbody>\n",
       "    <tr>\n",
       "      <th>NX531425</th>\n",
       "      <td>1255626040</td>\n",
       "      <td>FAMILY PRACTICE</td>\n",
       "      <td>METFORMIN HCL</td>\n",
       "      <td>30</td>\n",
       "      <td>135.24</td>\n",
       "      <td>0.002075</td>\n",
       "    </tr>\n",
       "    <tr>\n",
       "      <th>QG879256</th>\n",
       "      <td>1699761833</td>\n",
       "      <td>FAMILY PRACTICE</td>\n",
       "      <td>ALLOPURINOL</td>\n",
       "      <td>30</td>\n",
       "      <td>715.76</td>\n",
       "      <td>0.010985</td>\n",
       "    </tr>\n",
       "    <tr>\n",
       "      <th>FW363228</th>\n",
       "      <td>1538148804</td>\n",
       "      <td>INTERNAL MEDICINE</td>\n",
       "      <td>LOSARTAN POTASSIUM</td>\n",
       "      <td>146</td>\n",
       "      <td>1056.47</td>\n",
       "      <td>0.010855</td>\n",
       "    </tr>\n",
       "    <tr>\n",
       "      <th>WD733417</th>\n",
       "      <td>1730200619</td>\n",
       "      <td>PSYCHIATRY</td>\n",
       "      <td>OLANZAPINE</td>\n",
       "      <td>13</td>\n",
       "      <td>28226.97</td>\n",
       "      <td>1.614442</td>\n",
       "    </tr>\n",
       "    <tr>\n",
       "      <th>XW149832</th>\n",
       "      <td>1023116894</td>\n",
       "      <td>FAMILY PRACTICE</td>\n",
       "      <td>PRAVASTATIN SODIUM</td>\n",
       "      <td>348</td>\n",
       "      <td>8199.48</td>\n",
       "      <td>0.125835</td>\n",
       "    </tr>\n",
       "  </tbody>\n",
       "</table>\n",
       "</div>"
      ],
      "text/plain": [
       "            doctor_id          specialty          medication  \\\n",
       "unique_id                                                      \n",
       "NX531425   1255626040    FAMILY PRACTICE       METFORMIN HCL   \n",
       "QG879256   1699761833    FAMILY PRACTICE         ALLOPURINOL   \n",
       "FW363228   1538148804  INTERNAL MEDICINE  LOSARTAN POTASSIUM   \n",
       "WD733417   1730200619         PSYCHIATRY          OLANZAPINE   \n",
       "XW149832   1023116894    FAMILY PRACTICE  PRAVASTATIN SODIUM   \n",
       "\n",
       "           nb_beneficiaries  spending  spending_pct  \n",
       "unique_id                                            \n",
       "NX531425                 30    135.24      0.002075  \n",
       "QG879256                 30    715.76      0.010985  \n",
       "FW363228                146   1056.47      0.010855  \n",
       "WD733417                 13  28226.97      1.614442  \n",
       "XW149832                348   8199.48      0.125835  "
      ]
     },
     "execution_count": 26,
     "metadata": {},
     "output_type": "execute_result"
    }
   ],
   "source": [
    "spending_df[\"spending_pct\"] = spending_by_specialty['spending'].transform(my_function)\n",
    "\n",
    "spending_df.head()"
   ]
  },
  {
   "cell_type": "code",
   "execution_count": 27,
   "metadata": {
    "slideshow": {
     "slide_type": "slide"
    }
   },
   "outputs": [
    {
     "data": {
      "text/html": [
       "<div>\n",
       "<style scoped>\n",
       "    .dataframe tbody tr th:only-of-type {\n",
       "        vertical-align: middle;\n",
       "    }\n",
       "\n",
       "    .dataframe tbody tr th {\n",
       "        vertical-align: top;\n",
       "    }\n",
       "\n",
       "    .dataframe thead th {\n",
       "        text-align: right;\n",
       "    }\n",
       "</style>\n",
       "<table border=\"1\" class=\"dataframe\">\n",
       "  <thead>\n",
       "    <tr style=\"text-align: right;\">\n",
       "      <th></th>\n",
       "      <th>doctor_id</th>\n",
       "      <th>specialty</th>\n",
       "      <th>medication</th>\n",
       "      <th>nb_beneficiaries</th>\n",
       "      <th>spending</th>\n",
       "      <th>spending_pct</th>\n",
       "    </tr>\n",
       "    <tr>\n",
       "      <th>unique_id</th>\n",
       "      <th></th>\n",
       "      <th></th>\n",
       "      <th></th>\n",
       "      <th></th>\n",
       "      <th></th>\n",
       "      <th></th>\n",
       "    </tr>\n",
       "  </thead>\n",
       "  <tbody>\n",
       "    <tr>\n",
       "      <th>VG585760</th>\n",
       "      <td>1801032297</td>\n",
       "      <td>ADDICTION MEDICINE</td>\n",
       "      <td>LAMOTRIGINE</td>\n",
       "      <td>11</td>\n",
       "      <td>82.62</td>\n",
       "      <td>8.979849</td>\n",
       "    </tr>\n",
       "    <tr>\n",
       "      <th>GJ278932</th>\n",
       "      <td>1134139991</td>\n",
       "      <td>ADDICTION MEDICINE</td>\n",
       "      <td>BUSPIRONE HCL</td>\n",
       "      <td>49</td>\n",
       "      <td>817.88</td>\n",
       "      <td>88.894203</td>\n",
       "    </tr>\n",
       "    <tr>\n",
       "      <th>TX420809</th>\n",
       "      <td>1801032297</td>\n",
       "      <td>ADDICTION MEDICINE</td>\n",
       "      <td>LORAZEPAM</td>\n",
       "      <td>14</td>\n",
       "      <td>19.56</td>\n",
       "      <td>2.125948</td>\n",
       "    </tr>\n",
       "  </tbody>\n",
       "</table>\n",
       "</div>"
      ],
      "text/plain": [
       "            doctor_id           specialty     medication  nb_beneficiaries  \\\n",
       "unique_id                                                                    \n",
       "VG585760   1801032297  ADDICTION MEDICINE    LAMOTRIGINE                11   \n",
       "GJ278932   1134139991  ADDICTION MEDICINE  BUSPIRONE HCL                49   \n",
       "TX420809   1801032297  ADDICTION MEDICINE      LORAZEPAM                14   \n",
       "\n",
       "           spending  spending_pct  \n",
       "unique_id                          \n",
       "VG585760      82.62      8.979849  \n",
       "GJ278932     817.88     88.894203  \n",
       "TX420809      19.56      2.125948  "
      ]
     },
     "execution_count": 27,
     "metadata": {},
     "output_type": "execute_result"
    }
   ],
   "source": [
    "spending_df[spending_df['specialty'] == \"ADDICTION MEDICINE\"]"
   ]
  },
  {
   "cell_type": "code",
   "execution_count": 28,
   "metadata": {
    "slideshow": {
     "slide_type": "slide"
    }
   },
   "outputs": [
    {
     "data": {
      "text/html": [
       "<div>\n",
       "<style scoped>\n",
       "    .dataframe tbody tr th:only-of-type {\n",
       "        vertical-align: middle;\n",
       "    }\n",
       "\n",
       "    .dataframe tbody tr th {\n",
       "        vertical-align: top;\n",
       "    }\n",
       "\n",
       "    .dataframe thead th {\n",
       "        text-align: right;\n",
       "    }\n",
       "</style>\n",
       "<table border=\"1\" class=\"dataframe\">\n",
       "  <thead>\n",
       "    <tr style=\"text-align: right;\">\n",
       "      <th></th>\n",
       "      <th>doctor_id</th>\n",
       "      <th>specialty</th>\n",
       "      <th>medication</th>\n",
       "      <th>nb_beneficiaries</th>\n",
       "      <th>spending</th>\n",
       "      <th>spending_pct</th>\n",
       "    </tr>\n",
       "    <tr>\n",
       "      <th>unique_id</th>\n",
       "      <th></th>\n",
       "      <th></th>\n",
       "      <th></th>\n",
       "      <th></th>\n",
       "      <th></th>\n",
       "      <th></th>\n",
       "    </tr>\n",
       "  </thead>\n",
       "  <tbody>\n",
       "    <tr>\n",
       "      <th>GJ278932</th>\n",
       "      <td>1134139991</td>\n",
       "      <td>ADDICTION MEDICINE</td>\n",
       "      <td>BUSPIRONE HCL</td>\n",
       "      <td>49</td>\n",
       "      <td>817.88</td>\n",
       "      <td>88.894203</td>\n",
       "    </tr>\n",
       "    <tr>\n",
       "      <th>VG585760</th>\n",
       "      <td>1801032297</td>\n",
       "      <td>ADDICTION MEDICINE</td>\n",
       "      <td>LAMOTRIGINE</td>\n",
       "      <td>11</td>\n",
       "      <td>82.62</td>\n",
       "      <td>8.979849</td>\n",
       "    </tr>\n",
       "    <tr>\n",
       "      <th>TX420809</th>\n",
       "      <td>1801032297</td>\n",
       "      <td>ADDICTION MEDICINE</td>\n",
       "      <td>LORAZEPAM</td>\n",
       "      <td>14</td>\n",
       "      <td>19.56</td>\n",
       "      <td>2.125948</td>\n",
       "    </tr>\n",
       "    <tr>\n",
       "      <th>XY715196</th>\n",
       "      <td>1376691626</td>\n",
       "      <td>ALLERGY/IMMUNOLOGY</td>\n",
       "      <td>FLUTICASONE/SALMETEROL</td>\n",
       "      <td>102</td>\n",
       "      <td>52389.61</td>\n",
       "      <td>27.693866</td>\n",
       "    </tr>\n",
       "    <tr>\n",
       "      <th>DL492570</th>\n",
       "      <td>1962588053</td>\n",
       "      <td>ALLERGY/IMMUNOLOGY</td>\n",
       "      <td>OMALIZUMAB</td>\n",
       "      <td>12</td>\n",
       "      <td>29153.71</td>\n",
       "      <td>15.411051</td>\n",
       "    </tr>\n",
       "    <tr>\n",
       "      <th>UJ888112</th>\n",
       "      <td>1003897851</td>\n",
       "      <td>ALLERGY/IMMUNOLOGY</td>\n",
       "      <td>MOMETASONE FUROATE</td>\n",
       "      <td>55</td>\n",
       "      <td>20759.04</td>\n",
       "      <td>10.973513</td>\n",
       "    </tr>\n",
       "    <tr>\n",
       "      <th>GO641321</th>\n",
       "      <td>1255301404</td>\n",
       "      <td>ALLERGY/IMMUNOLOGY</td>\n",
       "      <td>FLUTICASONE/SALMETEROL</td>\n",
       "      <td>35</td>\n",
       "      <td>14277.61</td>\n",
       "      <td>7.547340</td>\n",
       "    </tr>\n",
       "    <tr>\n",
       "      <th>JU235992</th>\n",
       "      <td>1003812595</td>\n",
       "      <td>ALLERGY/IMMUNOLOGY</td>\n",
       "      <td>MOMETASONE FUROATE</td>\n",
       "      <td>50</td>\n",
       "      <td>13559.50</td>\n",
       "      <td>7.167737</td>\n",
       "    </tr>\n",
       "    <tr>\n",
       "      <th>WE196352</th>\n",
       "      <td>1720080062</td>\n",
       "      <td>ALLERGY/IMMUNOLOGY</td>\n",
       "      <td>FLUTICASONE/SALMETEROL</td>\n",
       "      <td>37</td>\n",
       "      <td>12594.63</td>\n",
       "      <td>6.657694</td>\n",
       "    </tr>\n",
       "    <tr>\n",
       "      <th>EW891894</th>\n",
       "      <td>1104888403</td>\n",
       "      <td>ALLERGY/IMMUNOLOGY</td>\n",
       "      <td>DEXLANSOPRAZOLE</td>\n",
       "      <td>32</td>\n",
       "      <td>12411.92</td>\n",
       "      <td>6.561111</td>\n",
       "    </tr>\n",
       "  </tbody>\n",
       "</table>\n",
       "</div>"
      ],
      "text/plain": [
       "            doctor_id           specialty              medication  \\\n",
       "unique_id                                                           \n",
       "GJ278932   1134139991  ADDICTION MEDICINE           BUSPIRONE HCL   \n",
       "VG585760   1801032297  ADDICTION MEDICINE             LAMOTRIGINE   \n",
       "TX420809   1801032297  ADDICTION MEDICINE               LORAZEPAM   \n",
       "XY715196   1376691626  ALLERGY/IMMUNOLOGY  FLUTICASONE/SALMETEROL   \n",
       "DL492570   1962588053  ALLERGY/IMMUNOLOGY              OMALIZUMAB   \n",
       "UJ888112   1003897851  ALLERGY/IMMUNOLOGY      MOMETASONE FUROATE   \n",
       "GO641321   1255301404  ALLERGY/IMMUNOLOGY  FLUTICASONE/SALMETEROL   \n",
       "JU235992   1003812595  ALLERGY/IMMUNOLOGY      MOMETASONE FUROATE   \n",
       "WE196352   1720080062  ALLERGY/IMMUNOLOGY  FLUTICASONE/SALMETEROL   \n",
       "EW891894   1104888403  ALLERGY/IMMUNOLOGY         DEXLANSOPRAZOLE   \n",
       "\n",
       "           nb_beneficiaries  spending  spending_pct  \n",
       "unique_id                                            \n",
       "GJ278932                 49    817.88     88.894203  \n",
       "VG585760                 11     82.62      8.979849  \n",
       "TX420809                 14     19.56      2.125948  \n",
       "XY715196                102  52389.61     27.693866  \n",
       "DL492570                 12  29153.71     15.411051  \n",
       "UJ888112                 55  20759.04     10.973513  \n",
       "GO641321                 35  14277.61      7.547340  \n",
       "JU235992                 50  13559.50      7.167737  \n",
       "WE196352                 37  12594.63      6.657694  \n",
       "EW891894                 32  12411.92      6.561111  "
      ]
     },
     "execution_count": 28,
     "metadata": {},
     "output_type": "execute_result"
    }
   ],
   "source": [
    "spending_df.sort_values(['specialty', 'spending_pct'], ascending=[True, False]).head(10)"
   ]
  },
  {
   "cell_type": "markdown",
   "metadata": {
    "slideshow": {
     "slide_type": "slide"
    }
   },
   "source": [
    "### More complex Transformations\n",
    "\n",
    "* As you may have noted above, drugs are still duplicated across `doctor_ids` within the same `specialty.`\n",
    "  *  ex. FLUTICASONE/SALMETEROL is prescribed by at least 3 doctors whose specialty is ALLERGY/IMMUNOLOGY\n",
    "  \n",
    "* To see the percent spending by `drug` column, we need to group on both the `specialty` and the `medication` and then sum the `spending_pct` computed previously\n",
    "\n",
    "```python\n",
    "medication_spendng_pct =  spending_df.groupby([\"specialty\", \"medication\"])[\"spending_pct\"].sum()\n",
    "```\n",
    "\n"
   ]
  },
  {
   "cell_type": "code",
   "execution_count": 28,
   "metadata": {
    "slideshow": {
     "slide_type": "slide"
    }
   },
   "outputs": [
    {
     "data": {
      "text/plain": [
       "specialty           medication                \n",
       "ADDICTION MEDICINE  BUSPIRONE HCL                 88.894203\n",
       "                    LAMOTRIGINE                    8.979849\n",
       "                    LORAZEPAM                      2.125948\n",
       "ALLERGY/IMMUNOLOGY  ALBUTEROL SULFATE              3.553199\n",
       "                    AMOXICILLIN/POTASSIUM CLAV     0.196089\n",
       "Name: spending_pct, dtype: float64"
      ]
     },
     "execution_count": 28,
     "metadata": {},
     "output_type": "execute_result"
    }
   ],
   "source": [
    "medication_spendng_pct =  spending_df.groupby([\"specialty\", \"medication\"])[\"spending_pct\"].sum()\n",
    "medication_spendng_pct.head()"
   ]
  },
  {
   "cell_type": "code",
   "execution_count": 44,
   "metadata": {
    "slideshow": {
     "slide_type": "slide"
    }
   },
   "outputs": [
    {
     "data": {
      "text/plain": [
       "MultiIndex([('ADDICTION MEDICINE',                 'BUSPIRONE HCL'),\n",
       "            ('ADDICTION MEDICINE',                   'LAMOTRIGINE'),\n",
       "            ('ADDICTION MEDICINE',                     'LORAZEPAM'),\n",
       "            ('ALLERGY/IMMUNOLOGY',             'ALBUTEROL SULFATE'),\n",
       "            ('ALLERGY/IMMUNOLOGY',    'AMOXICILLIN/POTASSIUM CLAV'),\n",
       "            ('ALLERGY/IMMUNOLOGY',                'AZELASTINE HCL'),\n",
       "            ('ALLERGY/IMMUNOLOGY',                  'AZITHROMYCIN'),\n",
       "            ('ALLERGY/IMMUNOLOGY',               'DEXLANSOPRAZOLE'),\n",
       "            ('ALLERGY/IMMUNOLOGY',                 'DILTIAZEM HCL'),\n",
       "            ('ALLERGY/IMMUNOLOGY',            'DOXAZOSIN MESYLATE'),\n",
       "            ...\n",
       "            (           'UROLOGY',            'SILDENAFIL CITRATE'),\n",
       "            (           'UROLOGY', 'SULFAMETHOXAZOLE/TRIMETHOPRIM'),\n",
       "            (           'UROLOGY',                     'TADALAFIL'),\n",
       "            (           'UROLOGY',                'TAMSULOSIN HCL'),\n",
       "            (           'UROLOGY',                  'TESTOSTERONE'),\n",
       "            (           'UROLOGY',          'TOLTERODINE TARTRATE'),\n",
       "            (           'UROLOGY',    'TRAMADOL HCL/ACETAMINOPHEN'),\n",
       "            (           'UROLOGY',                  'TRIMETHOPRIM'),\n",
       "            (  'VASCULAR SURGERY',    'ACETAMINOPHEN WITH CODEINE'),\n",
       "            (  'VASCULAR SURGERY',                      'APIXABAN')],\n",
       "           names=['specialty', 'medication'], length=2779)"
      ]
     },
     "execution_count": 44,
     "metadata": {},
     "output_type": "execute_result"
    }
   ],
   "source": [
    "\n",
    "\n",
    "medication_spendng_pct.index\n",
    "\n"
   ]
  },
  {
   "cell_type": "markdown",
   "metadata": {
    "slideshow": {
     "slide_type": "slide"
    }
   },
   "source": [
    "### Pandas `MultiIndex`\n",
    "\n",
    "* When we group by more than one column, the result is a (Multindex). \n",
    "  *  I.e., the index that involves more than one column\n",
    "* Indexing into a 'Series' or DataFrame that has a MultiIndex requires a tuple with at least one value\n",
    "\n",
    "https://www.dropbox.com/s/tuzw74t017vyk9m/multi-index.png?dl=1"
   ]
  },
  {
   "cell_type": "code",
   "execution_count": 41,
   "metadata": {
    "slideshow": {
     "slide_type": "slide"
    }
   },
   "outputs": [
    {
     "data": {
      "text/html": [
       "<div>\n",
       "<style scoped>\n",
       "    .dataframe tbody tr th:only-of-type {\n",
       "        vertical-align: middle;\n",
       "    }\n",
       "\n",
       "    .dataframe tbody tr th {\n",
       "        vertical-align: top;\n",
       "    }\n",
       "\n",
       "    .dataframe thead th {\n",
       "        text-align: right;\n",
       "    }\n",
       "</style>\n",
       "<table border=\"1\" class=\"dataframe\">\n",
       "  <thead>\n",
       "    <tr style=\"text-align: right;\">\n",
       "      <th></th>\n",
       "      <th>A</th>\n",
       "      <th>B</th>\n",
       "      <th>C</th>\n",
       "    </tr>\n",
       "  </thead>\n",
       "  <tbody>\n",
       "    <tr>\n",
       "      <th>0</th>\n",
       "      <td>1</td>\n",
       "      <td>1</td>\n",
       "      <td>1</td>\n",
       "    </tr>\n",
       "    <tr>\n",
       "      <th>1</th>\n",
       "      <td>1</td>\n",
       "      <td>2</td>\n",
       "      <td>2</td>\n",
       "    </tr>\n",
       "    <tr>\n",
       "      <th>2</th>\n",
       "      <td>2</td>\n",
       "      <td>1</td>\n",
       "      <td>3</td>\n",
       "    </tr>\n",
       "    <tr>\n",
       "      <th>3</th>\n",
       "      <td>2</td>\n",
       "      <td>2</td>\n",
       "      <td>4</td>\n",
       "    </tr>\n",
       "  </tbody>\n",
       "</table>\n",
       "</div>"
      ],
      "text/plain": [
       "   A  B  C\n",
       "0  1  1  1\n",
       "1  1  2  2\n",
       "2  2  1  3\n",
       "3  2  2  4"
      ]
     },
     "execution_count": 41,
     "metadata": {},
     "output_type": "execute_result"
    }
   ],
   "source": [
    "df = pd.DataFrame([[1,1,1], [1,2,2], [2,1,3], [2,2,4]], columns=[\"A\", \"B\", \"C\"])\n",
    "df\n"
   ]
  },
  {
   "cell_type": "code",
   "execution_count": 42,
   "metadata": {
    "slideshow": {
     "slide_type": "slide"
    }
   },
   "outputs": [
    {
     "data": {
      "text/plain": [
       "MultiIndex([(1, 1),\n",
       "            (1, 2),\n",
       "            (2, 1),\n",
       "            (2, 2)],\n",
       "           names=['A', 'B'])"
      ]
     },
     "execution_count": 42,
     "metadata": {},
     "output_type": "execute_result"
    }
   ],
   "source": [
    "df = df.set_index([\"A\", \"B\"])\n",
    "df.index\n"
   ]
  },
  {
   "cell_type": "code",
   "execution_count": 58,
   "metadata": {
    "slideshow": {
     "slide_type": "slide"
    }
   },
   "outputs": [
    {
     "data": {
      "text/plain": [
       "88.89420255200748"
      ]
     },
     "execution_count": 58,
     "metadata": {},
     "output_type": "execute_result"
    }
   ],
   "source": [
    "medication_spendng_pct[('ADDICTION MEDICINE', 'BUSPIRONE HCL')]"
   ]
  },
  {
   "cell_type": "code",
   "execution_count": 63,
   "metadata": {
    "slideshow": {
     "slide_type": "slide"
    }
   },
   "outputs": [
    {
     "data": {
      "text/plain": [
       "medication\n",
       "BUSPIRONE HCL    88.894203\n",
       "LAMOTRIGINE       8.979849\n",
       "LORAZEPAM         2.125948\n",
       "Name: spending_pct, dtype: float64"
      ]
     },
     "execution_count": 63,
     "metadata": {},
     "output_type": "execute_result"
    }
   ],
   "source": [
    "medication_spendng_pct[('ADDICTION MEDICINE', )]"
   ]
  },
  {
   "cell_type": "code",
   "execution_count": 46,
   "metadata": {
    "slideshow": {
     "slide_type": "slide"
    }
   },
   "outputs": [
    {
     "data": {
      "text/plain": [
       "medication\n",
       "ALBUTEROL SULFATE                  3.553199\n",
       "AMOXICILLIN/POTASSIUM CLAV         0.196089\n",
       "AZELASTINE HCL                     3.646451\n",
       "AZITHROMYCIN                       0.100500\n",
       "DEXLANSOPRAZOLE                    6.561111\n",
       "DILTIAZEM HCL                      0.293666\n",
       "DOXAZOSIN MESYLATE                 0.104872\n",
       "ENALAPRIL MALEATE                  0.318553\n",
       "FLUTICASONE PROPIONATE             2.842509\n",
       "FLUTICASONE/SALMETEROL            41.898900\n",
       "HYDROXYZINE HCL                    0.135473\n",
       "IRBESARTAN                         0.058042\n",
       "LEVOCETIRIZINE DIHYDROCHLORIDE     1.200698\n",
       "MOMETASONE FUROATE                18.141250\n",
       "MOMETASONE/FORMOTEROL              2.566123\n",
       "OMALIZUMAB                        15.411051\n",
       "PREGABALIN                         2.679754\n",
       "RANITIDINE HCL                     0.091477\n",
       "TRIAMCINOLONE ACETONIDE            0.200281\n",
       "Name: spending_pct, dtype: float64"
      ]
     },
     "execution_count": 46,
     "metadata": {},
     "output_type": "execute_result"
    }
   ],
   "source": [
    "medication_spendng_pct[('ALLERGY/IMMUNOLOGY', )]"
   ]
  },
  {
   "cell_type": "code",
   "execution_count": 47,
   "metadata": {
    "slideshow": {
     "slide_type": "slide"
    }
   },
   "outputs": [
    {
     "data": {
      "text/plain": [
       "100.0"
      ]
     },
     "execution_count": 47,
     "metadata": {},
     "output_type": "execute_result"
    }
   ],
   "source": [
    "medication_spendng_pct[('ALLERGY/IMMUNOLOGY', )].sum()"
   ]
  },
  {
   "cell_type": "markdown",
   "metadata": {
    "slideshow": {
     "slide_type": "slide"
    }
   },
   "source": [
    "### More complex Transformations - Cont'd\n",
    "\n",
    "* The multi-index is sometimes inconvenient to work with, or we may have a better column to index on\n",
    "\n",
    "* We can reset (drop) the index using the method `reset_index`\n",
    "  * `reset_index` converts the MutliIndex into columns and uses a range index (0 to n-1)\n",
    "  * Allows us to sort on `specialty` and `spending_pct` as we did earlier\n",
    "\n"
   ]
  },
  {
   "cell_type": "code",
   "execution_count": 65,
   "metadata": {
    "slideshow": {
     "slide_type": "slide"
    }
   },
   "outputs": [
    {
     "data": {
      "text/plain": [
       "specialty           medication                \n",
       "ADDICTION MEDICINE  BUSPIRONE HCL                 88.894203\n",
       "                    LAMOTRIGINE                    8.979849\n",
       "                    LORAZEPAM                      2.125948\n",
       "ALLERGY/IMMUNOLOGY  ALBUTEROL SULFATE              3.553199\n",
       "                    AMOXICILLIN/POTASSIUM CLAV     0.196089\n",
       "Name: spending_pct, dtype: float64"
      ]
     },
     "execution_count": 65,
     "metadata": {},
     "output_type": "execute_result"
    }
   ],
   "source": [
    "spending_df.groupby([\"specialty\", \"medication\"])[\"spending_pct\"].sum().head()"
   ]
  },
  {
   "cell_type": "code",
   "execution_count": 31,
   "metadata": {
    "slideshow": {
     "slide_type": "slide"
    }
   },
   "outputs": [
    {
     "data": {
      "text/html": [
       "<div>\n",
       "<style scoped>\n",
       "    .dataframe tbody tr th:only-of-type {\n",
       "        vertical-align: middle;\n",
       "    }\n",
       "\n",
       "    .dataframe tbody tr th {\n",
       "        vertical-align: top;\n",
       "    }\n",
       "\n",
       "    .dataframe thead th {\n",
       "        text-align: right;\n",
       "    }\n",
       "</style>\n",
       "<table border=\"1\" class=\"dataframe\">\n",
       "  <thead>\n",
       "    <tr style=\"text-align: right;\">\n",
       "      <th></th>\n",
       "      <th>specialty</th>\n",
       "      <th>medication</th>\n",
       "      <th>spending_pct</th>\n",
       "    </tr>\n",
       "  </thead>\n",
       "  <tbody>\n",
       "    <tr>\n",
       "      <th>0</th>\n",
       "      <td>ADDICTION MEDICINE</td>\n",
       "      <td>BUSPIRONE HCL</td>\n",
       "      <td>88.894203</td>\n",
       "    </tr>\n",
       "    <tr>\n",
       "      <th>1</th>\n",
       "      <td>ADDICTION MEDICINE</td>\n",
       "      <td>LAMOTRIGINE</td>\n",
       "      <td>8.979849</td>\n",
       "    </tr>\n",
       "    <tr>\n",
       "      <th>2</th>\n",
       "      <td>ADDICTION MEDICINE</td>\n",
       "      <td>LORAZEPAM</td>\n",
       "      <td>2.125948</td>\n",
       "    </tr>\n",
       "    <tr>\n",
       "      <th>3</th>\n",
       "      <td>ALLERGY/IMMUNOLOGY</td>\n",
       "      <td>ALBUTEROL SULFATE</td>\n",
       "      <td>3.553199</td>\n",
       "    </tr>\n",
       "    <tr>\n",
       "      <th>4</th>\n",
       "      <td>ALLERGY/IMMUNOLOGY</td>\n",
       "      <td>AMOXICILLIN/POTASSIUM CLAV</td>\n",
       "      <td>0.196089</td>\n",
       "    </tr>\n",
       "  </tbody>\n",
       "</table>\n",
       "</div>"
      ],
      "text/plain": [
       "            specialty                  medication  spending_pct\n",
       "0  ADDICTION MEDICINE               BUSPIRONE HCL     88.894203\n",
       "1  ADDICTION MEDICINE                 LAMOTRIGINE      8.979849\n",
       "2  ADDICTION MEDICINE                   LORAZEPAM      2.125948\n",
       "3  ALLERGY/IMMUNOLOGY           ALBUTEROL SULFATE      3.553199\n",
       "4  ALLERGY/IMMUNOLOGY  AMOXICILLIN/POTASSIUM CLAV      0.196089"
      ]
     },
     "execution_count": 31,
     "metadata": {},
     "output_type": "execute_result"
    }
   ],
   "source": [
    "medication_spendng_pct = spending_df.groupby([\"specialty\", \"medication\"])[\"spending_pct\"].sum().reset_index()\n",
    "medication_spendng_pct.head()\n"
   ]
  },
  {
   "cell_type": "code",
   "execution_count": 34,
   "metadata": {
    "slideshow": {
     "slide_type": "slide"
    }
   },
   "outputs": [
    {
     "data": {
      "text/html": [
       "<div>\n",
       "<style scoped>\n",
       "    .dataframe tbody tr th:only-of-type {\n",
       "        vertical-align: middle;\n",
       "    }\n",
       "\n",
       "    .dataframe tbody tr th {\n",
       "        vertical-align: top;\n",
       "    }\n",
       "\n",
       "    .dataframe thead th {\n",
       "        text-align: right;\n",
       "    }\n",
       "</style>\n",
       "<table border=\"1\" class=\"dataframe\">\n",
       "  <thead>\n",
       "    <tr style=\"text-align: right;\">\n",
       "      <th></th>\n",
       "      <th>specialty</th>\n",
       "      <th>medication</th>\n",
       "      <th>spending_pct</th>\n",
       "    </tr>\n",
       "  </thead>\n",
       "  <tbody>\n",
       "    <tr>\n",
       "      <th>0</th>\n",
       "      <td>ADDICTION MEDICINE</td>\n",
       "      <td>BUSPIRONE HCL</td>\n",
       "      <td>88.894203</td>\n",
       "    </tr>\n",
       "    <tr>\n",
       "      <th>1</th>\n",
       "      <td>ADDICTION MEDICINE</td>\n",
       "      <td>LAMOTRIGINE</td>\n",
       "      <td>8.979849</td>\n",
       "    </tr>\n",
       "    <tr>\n",
       "      <th>2</th>\n",
       "      <td>ADDICTION MEDICINE</td>\n",
       "      <td>LORAZEPAM</td>\n",
       "      <td>2.125948</td>\n",
       "    </tr>\n",
       "    <tr>\n",
       "      <th>12</th>\n",
       "      <td>ALLERGY/IMMUNOLOGY</td>\n",
       "      <td>FLUTICASONE/SALMETEROL</td>\n",
       "      <td>41.898900</td>\n",
       "    </tr>\n",
       "    <tr>\n",
       "      <th>16</th>\n",
       "      <td>ALLERGY/IMMUNOLOGY</td>\n",
       "      <td>MOMETASONE FUROATE</td>\n",
       "      <td>18.141250</td>\n",
       "    </tr>\n",
       "    <tr>\n",
       "      <th>18</th>\n",
       "      <td>ALLERGY/IMMUNOLOGY</td>\n",
       "      <td>OMALIZUMAB</td>\n",
       "      <td>15.411051</td>\n",
       "    </tr>\n",
       "    <tr>\n",
       "      <th>7</th>\n",
       "      <td>ALLERGY/IMMUNOLOGY</td>\n",
       "      <td>DEXLANSOPRAZOLE</td>\n",
       "      <td>6.561111</td>\n",
       "    </tr>\n",
       "    <tr>\n",
       "      <th>5</th>\n",
       "      <td>ALLERGY/IMMUNOLOGY</td>\n",
       "      <td>AZELASTINE HCL</td>\n",
       "      <td>3.646451</td>\n",
       "    </tr>\n",
       "    <tr>\n",
       "      <th>3</th>\n",
       "      <td>ALLERGY/IMMUNOLOGY</td>\n",
       "      <td>ALBUTEROL SULFATE</td>\n",
       "      <td>3.553199</td>\n",
       "    </tr>\n",
       "    <tr>\n",
       "      <th>11</th>\n",
       "      <td>ALLERGY/IMMUNOLOGY</td>\n",
       "      <td>FLUTICASONE PROPIONATE</td>\n",
       "      <td>2.842509</td>\n",
       "    </tr>\n",
       "  </tbody>\n",
       "</table>\n",
       "</div>"
      ],
      "text/plain": [
       "             specialty              medication  spending_pct\n",
       "0   ADDICTION MEDICINE           BUSPIRONE HCL     88.894203\n",
       "1   ADDICTION MEDICINE             LAMOTRIGINE      8.979849\n",
       "2   ADDICTION MEDICINE               LORAZEPAM      2.125948\n",
       "12  ALLERGY/IMMUNOLOGY  FLUTICASONE/SALMETEROL     41.898900\n",
       "16  ALLERGY/IMMUNOLOGY      MOMETASONE FUROATE     18.141250\n",
       "18  ALLERGY/IMMUNOLOGY              OMALIZUMAB     15.411051\n",
       "7   ALLERGY/IMMUNOLOGY         DEXLANSOPRAZOLE      6.561111\n",
       "5   ALLERGY/IMMUNOLOGY          AZELASTINE HCL      3.646451\n",
       "3   ALLERGY/IMMUNOLOGY       ALBUTEROL SULFATE      3.553199\n",
       "11  ALLERGY/IMMUNOLOGY  FLUTICASONE PROPIONATE      2.842509"
      ]
     },
     "execution_count": 34,
     "metadata": {},
     "output_type": "execute_result"
    }
   ],
   "source": [
    "medication_spendng_pct.sort_values([\"specialty\", \"spending_pct\"], ascending=[True, False]).head(10)"
   ]
  },
  {
   "cell_type": "markdown",
   "metadata": {
    "slideshow": {
     "slide_type": "slide"
    }
   },
   "source": [
    "### Filtering Groups\n",
    "\n",
    "- Filtering a group is done using the method called `filter`\n",
    "\n",
    "\n",
    "- The method `filter` takes as input a function name, which it calls on each group of the `DataFrameGroupBy` object\n",
    "  - The function must return either `True` or `False`.\n",
    "  - Groups for which the function returns `False` are dropped.\n",
    "\n",
    "\n",
    "- The resulting` DataFrame` has its entries in the same order as the original `DataFrame`.\n",
    " \n"
   ]
  },
  {
   "cell_type": "code",
   "execution_count": 48,
   "metadata": {
    "slideshow": {
     "slide_type": "slide"
    }
   },
   "outputs": [
    {
     "data": {
      "text/html": [
       "<div>\n",
       "<style scoped>\n",
       "    .dataframe tbody tr th:only-of-type {\n",
       "        vertical-align: middle;\n",
       "    }\n",
       "\n",
       "    .dataframe tbody tr th {\n",
       "        vertical-align: top;\n",
       "    }\n",
       "\n",
       "    .dataframe thead th {\n",
       "        text-align: right;\n",
       "    }\n",
       "</style>\n",
       "<table border=\"1\" class=\"dataframe\">\n",
       "  <thead>\n",
       "    <tr style=\"text-align: right;\">\n",
       "      <th></th>\n",
       "      <th>A</th>\n",
       "      <th>B</th>\n",
       "    </tr>\n",
       "  </thead>\n",
       "  <tbody>\n",
       "    <tr>\n",
       "      <th>0</th>\n",
       "      <td>1</td>\n",
       "      <td>1</td>\n",
       "    </tr>\n",
       "    <tr>\n",
       "      <th>1</th>\n",
       "      <td>1</td>\n",
       "      <td>2</td>\n",
       "    </tr>\n",
       "    <tr>\n",
       "      <th>2</th>\n",
       "      <td>2</td>\n",
       "      <td>3</td>\n",
       "    </tr>\n",
       "    <tr>\n",
       "      <th>3</th>\n",
       "      <td>2</td>\n",
       "      <td>4</td>\n",
       "    </tr>\n",
       "  </tbody>\n",
       "</table>\n",
       "</div>"
      ],
      "text/plain": [
       "   A  B\n",
       "0  1  1\n",
       "1  1  2\n",
       "2  2  3\n",
       "3  2  4"
      ]
     },
     "execution_count": 48,
     "metadata": {},
     "output_type": "execute_result"
    }
   ],
   "source": [
    "df = pd.DataFrame([[1,1], [1,2], [2,3], [2,4]], columns=[\"A\", \"B\"])\n",
    "df\n"
   ]
  },
  {
   "cell_type": "code",
   "execution_count": 50,
   "metadata": {
    "slideshow": {
     "slide_type": "slide"
    }
   },
   "outputs": [
    {
     "data": {
      "text/html": [
       "<div>\n",
       "<style scoped>\n",
       "    .dataframe tbody tr th:only-of-type {\n",
       "        vertical-align: middle;\n",
       "    }\n",
       "\n",
       "    .dataframe tbody tr th {\n",
       "        vertical-align: top;\n",
       "    }\n",
       "\n",
       "    .dataframe thead th {\n",
       "        text-align: right;\n",
       "    }\n",
       "</style>\n",
       "<table border=\"1\" class=\"dataframe\">\n",
       "  <thead>\n",
       "    <tr style=\"text-align: right;\">\n",
       "      <th></th>\n",
       "      <th>A</th>\n",
       "      <th>B</th>\n",
       "    </tr>\n",
       "  </thead>\n",
       "  <tbody>\n",
       "    <tr>\n",
       "      <th>2</th>\n",
       "      <td>2</td>\n",
       "      <td>3</td>\n",
       "    </tr>\n",
       "    <tr>\n",
       "      <th>3</th>\n",
       "      <td>2</td>\n",
       "      <td>4</td>\n",
       "    </tr>\n",
       "  </tbody>\n",
       "</table>\n",
       "</div>"
      ],
      "text/plain": [
       "   A  B\n",
       "2  2  3\n",
       "3  2  4"
      ]
     },
     "execution_count": 50,
     "metadata": {},
     "output_type": "execute_result"
    }
   ],
   "source": [
    "df.groupby(\"A\").filter(lambda x: x[\"B\"].sum() > 4)"
   ]
  },
  {
   "cell_type": "code",
   "execution_count": 51,
   "metadata": {
    "slideshow": {
     "slide_type": "slide"
    }
   },
   "outputs": [
    {
     "name": "stdout",
     "output_type": "stream",
     "text": [
      "75\n"
     ]
    },
    {
     "data": {
      "text/plain": [
       "array(['FAMILY PRACTICE', 'INTERNAL MEDICINE', 'PSYCHIATRY',\n",
       "       'HEMATOLOGY/ONCOLOGY', 'OPHTHALMOLOGY', 'NEUROLOGY',\n",
       "       'NURSE PRACTITIONER', 'NEPHROLOGY', 'DENTIST', 'SPECIALIST',\n",
       "       'GENERAL PRACTICE', 'INTERVENTIONAL CARDIOLOGY',\n",
       "       'OBSTETRICS/GYNECOLOGY', 'PHYSICIAN ASSISTANT', 'CARDIOLOGY',\n",
       "       'ENDOCRINOLOGY', 'RHEUMATOLOGY', 'OPTOMETRY',\n",
       "       'STUDENT IN AN ORGANIZED HEALTH CARE EDUCATION/TRAINING PROGRAM',\n",
       "       'PULMONARY DISEASE'], dtype=object)"
      ]
     },
     "execution_count": 51,
     "metadata": {},
     "output_type": "execute_result"
    }
   ],
   "source": [
    "print(len(spending_df['specialty'].unique()))\n",
    "spending_df['specialty'].unique()[:20]"
   ]
  },
  {
   "cell_type": "code",
   "execution_count": 54,
   "metadata": {
    "slideshow": {
     "slide_type": "slide"
    }
   },
   "outputs": [],
   "source": [
    "\n",
    "def filter_on_spending(x):\n",
    "    return x['spending'].sum() > 50_000\n",
    "\n",
    "high_spending_df = spending_df[[\"specialty\", 'spending']].groupby('specialty').filter(filter_on_spending)\n",
    "\n"
   ]
  },
  {
   "cell_type": "code",
   "execution_count": 55,
   "metadata": {
    "slideshow": {
     "slide_type": "slide"
    }
   },
   "outputs": [
    {
     "name": "stdout",
     "output_type": "stream",
     "text": [
      "38\n"
     ]
    },
    {
     "data": {
      "text/plain": [
       "array(['FAMILY PRACTICE', 'INTERNAL MEDICINE', 'PSYCHIATRY',\n",
       "       'HEMATOLOGY/ONCOLOGY', 'OPHTHALMOLOGY', 'NEUROLOGY',\n",
       "       'NURSE PRACTITIONER', 'NEPHROLOGY', 'GENERAL PRACTICE',\n",
       "       'INTERVENTIONAL CARDIOLOGY', 'OBSTETRICS/GYNECOLOGY',\n",
       "       'PHYSICIAN ASSISTANT', 'CARDIOLOGY', 'ENDOCRINOLOGY',\n",
       "       'RHEUMATOLOGY', 'OPTOMETRY', 'PULMONARY DISEASE', 'DERMATOLOGY',\n",
       "       'INTERVENTIONAL PAIN MANAGEMENT', 'PSYCHIATRY & NEUROLOGY'],\n",
       "      dtype=object)"
      ]
     },
     "execution_count": 55,
     "metadata": {},
     "output_type": "execute_result"
    }
   ],
   "source": [
    "print(len(high_spending_df['specialty'].unique()))\n",
    "high_spending_df['specialty'].unique()[:20]\n"
   ]
  },
  {
   "cell_type": "markdown",
   "metadata": {
    "slideshow": {
     "slide_type": "slide"
    }
   },
   "source": [
    "### Thinning Groups\n",
    "\n",
    "* Thinning the data consist in reducing the number of entries in a group\n",
    "\n",
    "* As opposed to aggregating functions, thinning does not have to reduce the group into a single entry\n",
    "  * Although it could reduce it to a single entry\n",
    "\n",
    "* Thinning can be used, for instance, to return only the top 3 entries in each category, or to randomly sample a small subset of entries from each category"
   ]
  },
  {
   "cell_type": "markdown",
   "metadata": {
    "slideshow": {
     "slide_type": "slide"
    }
   },
   "source": [
    "### Thinning Methods and `apply`\n",
    "\n",
    "* `pandas` offers a few methods for thinning the data\n",
    "  * Ex. `nlargest`, `nsmallest`\n",
    "        \n",
    "* However, thinning  is most often carried out using a method  called `apply` \n",
    "\n",
    "* The  method `apply` takes as input a function that it calls on each group of the `DataFrameGroupBy` object\n"
   ]
  },
  {
   "cell_type": "code",
   "execution_count": 54,
   "metadata": {
    "slideshow": {
     "slide_type": "slide"
    }
   },
   "outputs": [
    {
     "data": {
      "text/plain": [
       "specialty                  unique_id\n",
       "ADDICTION MEDICINE         GJ278932      817.880\n",
       "                           VG585760       82.620\n",
       "ALLERGY/IMMUNOLOGY         XY715196    52389.610\n",
       "                           DL492570    29153.710\n",
       "ANESTHESIOLOGY             WD732008    34073.910\n",
       "                           ZJ839161    33127.750\n",
       "CARDIAC ELECTROPHYSIOLOGY  XZ523373    89101.540\n",
       "                           RR251593    59935.970\n",
       "CARDIAC SURGERY            YC312951    11990.010\n",
       "                           FK638917      442.910\n",
       "Name: spending, dtype: float64"
      ]
     },
     "execution_count": 54,
     "metadata": {},
     "output_type": "execute_result"
    }
   ],
   "source": [
    "spending_by_specialty['spending'].nlargest(2)"
   ]
  },
  {
   "cell_type": "code",
   "execution_count": 24,
   "metadata": {
    "slideshow": {
     "slide_type": "slide"
    }
   },
   "outputs": [
    {
     "data": {
      "text/plain": [
       "specialty                  unique_id\n",
       "ADDICTION MEDICINE         TX420809     19.560\n",
       "                           VG585760     82.620\n",
       "                           GJ278932    817.880\n",
       "ALLERGY/IMMUNOLOGY         HQ120242    109.800\n",
       "                           HN843226    173.050\n",
       "                           LE617956    190.120\n",
       "ANESTHESIOLOGY             IS925171     35.330\n",
       "                           XZ351859     38.960\n",
       "                           HY359879     56.860\n",
       "CARDIAC ELECTROPHYSIOLOGY  XR445715     69.850\n",
       "Name: spending, dtype: float64"
      ]
     },
     "execution_count": 24,
     "metadata": {},
     "output_type": "execute_result"
    }
   ],
   "source": [
    "spending_by_specialty['spending'].nsmallest(3)"
   ]
  },
  {
   "cell_type": "code",
   "execution_count": 8,
   "metadata": {},
   "outputs": [
    {
     "data": {
      "text/html": [
       "<div>\n",
       "<style scoped>\n",
       "    .dataframe tbody tr th:only-of-type {\n",
       "        vertical-align: middle;\n",
       "    }\n",
       "\n",
       "    .dataframe tbody tr th {\n",
       "        vertical-align: top;\n",
       "    }\n",
       "\n",
       "    .dataframe thead th {\n",
       "        text-align: right;\n",
       "    }\n",
       "</style>\n",
       "<table border=\"1\" class=\"dataframe\">\n",
       "  <thead>\n",
       "    <tr style=\"text-align: right;\">\n",
       "      <th></th>\n",
       "      <th>A</th>\n",
       "    </tr>\n",
       "  </thead>\n",
       "  <tbody>\n",
       "    <tr>\n",
       "      <th>0</th>\n",
       "      <td>1</td>\n",
       "    </tr>\n",
       "    <tr>\n",
       "      <th>1</th>\n",
       "      <td>2</td>\n",
       "    </tr>\n",
       "    <tr>\n",
       "      <th>2</th>\n",
       "      <td>3</td>\n",
       "    </tr>\n",
       "    <tr>\n",
       "      <th>3</th>\n",
       "      <td>4</td>\n",
       "    </tr>\n",
       "  </tbody>\n",
       "</table>\n",
       "</div>"
      ],
      "text/plain": [
       "   A\n",
       "0  1\n",
       "1  2\n",
       "2  3\n",
       "3  4"
      ]
     },
     "execution_count": 8,
     "metadata": {},
     "output_type": "execute_result"
    }
   ],
   "source": [
    "import pandas as pd\n",
    "data_frame = pd.DataFrame({\"A\": [1,2,3,4]})\n",
    "data_frame"
   ]
  },
  {
   "cell_type": "code",
   "execution_count": 10,
   "metadata": {},
   "outputs": [
    {
     "name": "stdout",
     "output_type": "stream",
     "text": [
      "<class 'pandas.core.series.Series'>\n",
      "0    1\n",
      "1    2\n",
      "2    3\n",
      "3    4\n",
      "Name: A, dtype: int64\n",
      "----\n"
     ]
    },
    {
     "data": {
      "text/html": [
       "<div>\n",
       "<style scoped>\n",
       "    .dataframe tbody tr th:only-of-type {\n",
       "        vertical-align: middle;\n",
       "    }\n",
       "\n",
       "    .dataframe tbody tr th {\n",
       "        vertical-align: top;\n",
       "    }\n",
       "\n",
       "    .dataframe thead th {\n",
       "        text-align: right;\n",
       "    }\n",
       "</style>\n",
       "<table border=\"1\" class=\"dataframe\">\n",
       "  <thead>\n",
       "    <tr style=\"text-align: right;\">\n",
       "      <th></th>\n",
       "      <th>A</th>\n",
       "    </tr>\n",
       "  </thead>\n",
       "  <tbody>\n",
       "    <tr>\n",
       "      <th>0</th>\n",
       "      <td>1.000000</td>\n",
       "    </tr>\n",
       "    <tr>\n",
       "      <th>1</th>\n",
       "      <td>2.639016</td>\n",
       "    </tr>\n",
       "    <tr>\n",
       "      <th>2</th>\n",
       "      <td>4.655537</td>\n",
       "    </tr>\n",
       "    <tr>\n",
       "      <th>3</th>\n",
       "      <td>6.964405</td>\n",
       "    </tr>\n",
       "  </tbody>\n",
       "</table>\n",
       "</div>"
      ],
      "text/plain": [
       "          A\n",
       "0  1.000000\n",
       "1  2.639016\n",
       "2  4.655537\n",
       "3  6.964405"
      ]
     },
     "execution_count": 10,
     "metadata": {},
     "output_type": "execute_result"
    }
   ],
   "source": [
    "# temp\n",
    "data_frame = pd.DataFrame({\"A\": [1,2,3,4]})\n",
    "\n",
    "def some_function(x):    \n",
    "    print(type(x))\n",
    "    print(x)\n",
    "    print(\"----\")\n",
    "    # does somet\n",
    "    return x**1.4\n",
    "\n",
    "\n",
    "data_frame.apply(some_function, axis=0)"
   ]
  },
  {
   "cell_type": "code",
   "execution_count": 59,
   "metadata": {
    "slideshow": {
     "slide_type": "slide"
    }
   },
   "outputs": [
    {
     "data": {
      "text/plain": [
       "specialty           unique_id\n",
       "ADDICTION MEDICINE  GJ278932       817.88\n",
       "                    VG585760        82.62\n",
       "                    TX420809        19.56\n",
       "ALLERGY/IMMUNOLOGY  XY715196     52389.61\n",
       "                    DL492570     29153.71\n",
       "                                   ...   \n",
       "UROLOGY             XR127617     97962.00\n",
       "                    IW761955     74482.73\n",
       "                    RY513742     28282.76\n",
       "VASCULAR SURGERY    KL360002      4309.59\n",
       "                    CU764903        57.59\n",
       "Name: spending, Length: 201, dtype: float64"
      ]
     },
     "execution_count": 59,
     "metadata": {},
     "output_type": "execute_result"
    }
   ],
   "source": [
    "# implementation of nlargest using apply\n",
    "spending_by_specialty['spending'].apply(lambda x: x.sort_values(ascending=False).head(3))"
   ]
  },
  {
   "cell_type": "markdown",
   "metadata": {
    "slideshow": {
     "slide_type": "slide"
    }
   },
   "source": [
    "### Sub-sampling a `DataFrame` \n",
    "\n",
    "* Subsampling is the process of selecting a subset of the original data.\n",
    "\n",
    "* This can be achived using the DataFrame mthod called `sample.` \n",
    "  * On of two parameters are relevant in this scenario,`n` the number of samples to randomly select or `frac` a portion of the data to retun\n",
    "\n",
    "```python\n",
    " spending_df.sample(frac=0.001)\n",
    "```\n",
    "\n",
    "* Subsampling is an ideal way to handle datasets that are unbalanced across some factor(s).\n",
    "\n"
   ]
  },
  {
   "cell_type": "code",
   "execution_count": 61,
   "metadata": {
    "slideshow": {
     "slide_type": "slide"
    }
   },
   "outputs": [
    {
     "data": {
      "text/html": [
       "<div>\n",
       "<style scoped>\n",
       "    .dataframe tbody tr th:only-of-type {\n",
       "        vertical-align: middle;\n",
       "    }\n",
       "\n",
       "    .dataframe tbody tr th {\n",
       "        vertical-align: top;\n",
       "    }\n",
       "\n",
       "    .dataframe thead th {\n",
       "        text-align: right;\n",
       "    }\n",
       "</style>\n",
       "<table border=\"1\" class=\"dataframe\">\n",
       "  <thead>\n",
       "    <tr style=\"text-align: right;\">\n",
       "      <th></th>\n",
       "      <th>doctor_id</th>\n",
       "      <th>specialty</th>\n",
       "      <th>medication</th>\n",
       "      <th>nb_beneficiaries</th>\n",
       "      <th>spending</th>\n",
       "      <th>spending_pct</th>\n",
       "    </tr>\n",
       "    <tr>\n",
       "      <th>unique_id</th>\n",
       "      <th></th>\n",
       "      <th></th>\n",
       "      <th></th>\n",
       "      <th></th>\n",
       "      <th></th>\n",
       "      <th></th>\n",
       "    </tr>\n",
       "  </thead>\n",
       "  <tbody>\n",
       "    <tr>\n",
       "      <th>LI169511</th>\n",
       "      <td>1023166931</td>\n",
       "      <td>FAMILY PRACTICE</td>\n",
       "      <td>DIGOXIN</td>\n",
       "      <td>15</td>\n",
       "      <td>1272.74</td>\n",
       "      <td>0.019532</td>\n",
       "    </tr>\n",
       "    <tr>\n",
       "      <th>XN442217</th>\n",
       "      <td>1811078496</td>\n",
       "      <td>FAMILY PRACTICE</td>\n",
       "      <td>HYDRALAZINE HCL</td>\n",
       "      <td>11</td>\n",
       "      <td>63.69</td>\n",
       "      <td>0.000977</td>\n",
       "    </tr>\n",
       "    <tr>\n",
       "      <th>WT456371</th>\n",
       "      <td>1669472544</td>\n",
       "      <td>CARDIOLOGY</td>\n",
       "      <td>AMLODIPINE BESYLATE</td>\n",
       "      <td>11</td>\n",
       "      <td>1276.39</td>\n",
       "      <td>0.066625</td>\n",
       "    </tr>\n",
       "    <tr>\n",
       "      <th>KX243031</th>\n",
       "      <td>1942241039</td>\n",
       "      <td>FAMILY PRACTICE</td>\n",
       "      <td>TOLTERODINE TARTRATE</td>\n",
       "      <td>12</td>\n",
       "      <td>1117.52</td>\n",
       "      <td>0.017150</td>\n",
       "    </tr>\n",
       "    <tr>\n",
       "      <th>YK440438</th>\n",
       "      <td>1104827666</td>\n",
       "      <td>INTERNAL MEDICINE</td>\n",
       "      <td>LORAZEPAM</td>\n",
       "      <td>39</td>\n",
       "      <td>340.17</td>\n",
       "      <td>0.003495</td>\n",
       "    </tr>\n",
       "    <tr>\n",
       "      <th>...</th>\n",
       "      <td>...</td>\n",
       "      <td>...</td>\n",
       "      <td>...</td>\n",
       "      <td>...</td>\n",
       "      <td>...</td>\n",
       "      <td>...</td>\n",
       "    </tr>\n",
       "    <tr>\n",
       "      <th>SG456311</th>\n",
       "      <td>1932291408</td>\n",
       "      <td>PHYSICAL MEDICINE AND REHABILITATION</td>\n",
       "      <td>MORPHINE SULFATE</td>\n",
       "      <td>59</td>\n",
       "      <td>1556.85</td>\n",
       "      <td>1.001234</td>\n",
       "    </tr>\n",
       "    <tr>\n",
       "      <th>DM221303</th>\n",
       "      <td>1053397018</td>\n",
       "      <td>INTERNAL MEDICINE</td>\n",
       "      <td>OXYBUTYNIN CHLORIDE</td>\n",
       "      <td>18</td>\n",
       "      <td>529.15</td>\n",
       "      <td>0.005437</td>\n",
       "    </tr>\n",
       "    <tr>\n",
       "      <th>SB520504</th>\n",
       "      <td>1164416210</td>\n",
       "      <td>INTERNAL MEDICINE</td>\n",
       "      <td>PHENYTOIN</td>\n",
       "      <td>13</td>\n",
       "      <td>366.18</td>\n",
       "      <td>0.003762</td>\n",
       "    </tr>\n",
       "    <tr>\n",
       "      <th>UY206941</th>\n",
       "      <td>1194871772</td>\n",
       "      <td>GERIATRIC MEDICINE</td>\n",
       "      <td>TIOTROPIUM BROMIDE</td>\n",
       "      <td>71</td>\n",
       "      <td>31431.92</td>\n",
       "      <td>11.268722</td>\n",
       "    </tr>\n",
       "    <tr>\n",
       "      <th>HF785480</th>\n",
       "      <td>1427016179</td>\n",
       "      <td>GENERAL PRACTICE</td>\n",
       "      <td>GEMFIBROZIL</td>\n",
       "      <td>15</td>\n",
       "      <td>692.43</td>\n",
       "      <td>0.143901</td>\n",
       "    </tr>\n",
       "  </tbody>\n",
       "</table>\n",
       "<p>100 rows × 6 columns</p>\n",
       "</div>"
      ],
      "text/plain": [
       "            doctor_id                             specialty  \\\n",
       "unique_id                                                     \n",
       "LI169511   1023166931                       FAMILY PRACTICE   \n",
       "XN442217   1811078496                       FAMILY PRACTICE   \n",
       "WT456371   1669472544                            CARDIOLOGY   \n",
       "KX243031   1942241039                       FAMILY PRACTICE   \n",
       "YK440438   1104827666                     INTERNAL MEDICINE   \n",
       "...               ...                                   ...   \n",
       "SG456311   1932291408  PHYSICAL MEDICINE AND REHABILITATION   \n",
       "DM221303   1053397018                     INTERNAL MEDICINE   \n",
       "SB520504   1164416210                     INTERNAL MEDICINE   \n",
       "UY206941   1194871772                    GERIATRIC MEDICINE   \n",
       "HF785480   1427016179                      GENERAL PRACTICE   \n",
       "\n",
       "                     medication  nb_beneficiaries  spending  spending_pct  \n",
       "unique_id                                                                  \n",
       "LI169511                DIGOXIN                15   1272.74      0.019532  \n",
       "XN442217        HYDRALAZINE HCL                11     63.69      0.000977  \n",
       "WT456371    AMLODIPINE BESYLATE                11   1276.39      0.066625  \n",
       "KX243031   TOLTERODINE TARTRATE                12   1117.52      0.017150  \n",
       "YK440438              LORAZEPAM                39    340.17      0.003495  \n",
       "...                         ...               ...       ...           ...  \n",
       "SG456311       MORPHINE SULFATE                59   1556.85      1.001234  \n",
       "DM221303    OXYBUTYNIN CHLORIDE                18    529.15      0.005437  \n",
       "SB520504              PHENYTOIN                13    366.18      0.003762  \n",
       "UY206941     TIOTROPIUM BROMIDE                71  31431.92     11.268722  \n",
       "HF785480            GEMFIBROZIL                15    692.43      0.143901  \n",
       "\n",
       "[100 rows x 6 columns]"
      ]
     },
     "execution_count": 61,
     "metadata": {},
     "output_type": "execute_result"
    }
   ],
   "source": [
    "# return 0.01% of the data, i.e 100 entries\n",
    "spending_df.sample(frac=0.01)\n"
   ]
  },
  {
   "cell_type": "code",
   "execution_count": 79,
   "metadata": {
    "slideshow": {
     "slide_type": "slide"
    }
   },
   "outputs": [
    {
     "data": {
      "text/html": [
       "<div>\n",
       "<style scoped>\n",
       "    .dataframe tbody tr th:only-of-type {\n",
       "        vertical-align: middle;\n",
       "    }\n",
       "\n",
       "    .dataframe tbody tr th {\n",
       "        vertical-align: top;\n",
       "    }\n",
       "\n",
       "    .dataframe thead th {\n",
       "        text-align: right;\n",
       "    }\n",
       "</style>\n",
       "<table border=\"1\" class=\"dataframe\">\n",
       "  <thead>\n",
       "    <tr style=\"text-align: right;\">\n",
       "      <th></th>\n",
       "      <th>doctor_id</th>\n",
       "      <th>specialty</th>\n",
       "      <th>medication</th>\n",
       "      <th>nb_beneficiaries</th>\n",
       "      <th>spending</th>\n",
       "      <th>spending_pct</th>\n",
       "    </tr>\n",
       "    <tr>\n",
       "      <th>unique_id</th>\n",
       "      <th></th>\n",
       "      <th></th>\n",
       "      <th></th>\n",
       "      <th></th>\n",
       "      <th></th>\n",
       "      <th></th>\n",
       "    </tr>\n",
       "  </thead>\n",
       "  <tbody>\n",
       "    <tr>\n",
       "      <th>XU586884</th>\n",
       "      <td>1033436191</td>\n",
       "      <td>INTERNAL MEDICINE</td>\n",
       "      <td>PREDNISONE</td>\n",
       "      <td>133</td>\n",
       "      <td>956.19</td>\n",
       "      <td>0.009824</td>\n",
       "    </tr>\n",
       "    <tr>\n",
       "      <th>QX729814</th>\n",
       "      <td>1336148527</td>\n",
       "      <td>FAMILY PRACTICE</td>\n",
       "      <td>PANTOPRAZOLE SODIUM</td>\n",
       "      <td>23</td>\n",
       "      <td>455.55</td>\n",
       "      <td>0.006991</td>\n",
       "    </tr>\n",
       "    <tr>\n",
       "      <th>TW888849</th>\n",
       "      <td>1245439066</td>\n",
       "      <td>INTERNAL MEDICINE</td>\n",
       "      <td>POTASSIUM CHLORIDE</td>\n",
       "      <td>24</td>\n",
       "      <td>680.11</td>\n",
       "      <td>0.006988</td>\n",
       "    </tr>\n",
       "    <tr>\n",
       "      <th>XF660832</th>\n",
       "      <td>1093702656</td>\n",
       "      <td>ENDOCRINOLOGY</td>\n",
       "      <td>INSULIN GLARGINE,HUM.REC.ANLOG</td>\n",
       "      <td>74</td>\n",
       "      <td>58245.83</td>\n",
       "      <td>5.018179</td>\n",
       "    </tr>\n",
       "    <tr>\n",
       "      <th>RX503583</th>\n",
       "      <td>1487731113</td>\n",
       "      <td>FAMILY PRACTICE</td>\n",
       "      <td>EZETIMIBE</td>\n",
       "      <td>12</td>\n",
       "      <td>2896.16</td>\n",
       "      <td>0.044447</td>\n",
       "    </tr>\n",
       "    <tr>\n",
       "      <th>KY117143</th>\n",
       "      <td>1255352415</td>\n",
       "      <td>FAMILY PRACTICE</td>\n",
       "      <td>ALBUTEROL SULFATE</td>\n",
       "      <td>29</td>\n",
       "      <td>1878.05</td>\n",
       "      <td>0.028822</td>\n",
       "    </tr>\n",
       "    <tr>\n",
       "      <th>OP336625</th>\n",
       "      <td>1083612212</td>\n",
       "      <td>INTERNAL MEDICINE</td>\n",
       "      <td>ESCITALOPRAM OXALATE</td>\n",
       "      <td>13</td>\n",
       "      <td>821.24</td>\n",
       "      <td>0.008438</td>\n",
       "    </tr>\n",
       "    <tr>\n",
       "      <th>XQ119106</th>\n",
       "      <td>1821031469</td>\n",
       "      <td>FAMILY PRACTICE</td>\n",
       "      <td>POTASSIUM CHLORIDE</td>\n",
       "      <td>17</td>\n",
       "      <td>561.80</td>\n",
       "      <td>0.008622</td>\n",
       "    </tr>\n",
       "    <tr>\n",
       "      <th>LY596583</th>\n",
       "      <td>1891803037</td>\n",
       "      <td>INTERNAL MEDICINE</td>\n",
       "      <td>MEMANTINE HCL</td>\n",
       "      <td>11</td>\n",
       "      <td>3665.31</td>\n",
       "      <td>0.037659</td>\n",
       "    </tr>\n",
       "    <tr>\n",
       "      <th>HV509183</th>\n",
       "      <td>1548447675</td>\n",
       "      <td>INTERNAL MEDICINE</td>\n",
       "      <td>BECLOMETHASONE DIPROPIONATE</td>\n",
       "      <td>30</td>\n",
       "      <td>6180.59</td>\n",
       "      <td>0.063502</td>\n",
       "    </tr>\n",
       "  </tbody>\n",
       "</table>\n",
       "</div>"
      ],
      "text/plain": [
       "            doctor_id          specialty                      medication  \\\n",
       "unique_id                                                                  \n",
       "XU586884   1033436191  INTERNAL MEDICINE                      PREDNISONE   \n",
       "QX729814   1336148527    FAMILY PRACTICE             PANTOPRAZOLE SODIUM   \n",
       "TW888849   1245439066  INTERNAL MEDICINE              POTASSIUM CHLORIDE   \n",
       "XF660832   1093702656      ENDOCRINOLOGY  INSULIN GLARGINE,HUM.REC.ANLOG   \n",
       "RX503583   1487731113    FAMILY PRACTICE                       EZETIMIBE   \n",
       "KY117143   1255352415    FAMILY PRACTICE               ALBUTEROL SULFATE   \n",
       "OP336625   1083612212  INTERNAL MEDICINE            ESCITALOPRAM OXALATE   \n",
       "XQ119106   1821031469    FAMILY PRACTICE              POTASSIUM CHLORIDE   \n",
       "LY596583   1891803037  INTERNAL MEDICINE                   MEMANTINE HCL   \n",
       "HV509183   1548447675  INTERNAL MEDICINE     BECLOMETHASONE DIPROPIONATE   \n",
       "\n",
       "           nb_beneficiaries  spending  spending_pct  \n",
       "unique_id                                            \n",
       "XU586884                133    956.19      0.009824  \n",
       "QX729814                 23    455.55      0.006991  \n",
       "TW888849                 24    680.11      0.006988  \n",
       "XF660832                 74  58245.83      5.018179  \n",
       "RX503583                 12   2896.16      0.044447  \n",
       "KY117143                 29   1878.05      0.028822  \n",
       "OP336625                 13    821.24      0.008438  \n",
       "XQ119106                 17    561.80      0.008622  \n",
       "LY596583                 11   3665.31      0.037659  \n",
       "HV509183                 30   6180.59      0.063502  "
      ]
     },
     "execution_count": 79,
     "metadata": {},
     "output_type": "execute_result"
    }
   ],
   "source": [
    "spending_df.sample(n=10) "
   ]
  },
  {
   "cell_type": "code",
   "execution_count": 80,
   "metadata": {
    "slideshow": {
     "slide_type": "slide"
    }
   },
   "outputs": [
    {
     "data": {
      "text/plain": [
       "specialty\n",
       "ADDICTION MEDICINE                                                 3\n",
       "ALLERGY/IMMUNOLOGY                                                24\n",
       "ANESTHESIOLOGY                                                    30\n",
       "CARDIAC ELECTROPHYSIOLOGY                                         20\n",
       "CARDIAC SURGERY                                                    2\n",
       "                                                                  ..\n",
       "STUDENT IN AN ORGANIZED HEALTH CARE EDUCATION/TRAINING PROGRAM    40\n",
       "THORACIC SURGERY                                                   2\n",
       "UNKNOWN PHYSICIAN SPECIALTY CODE                                   4\n",
       "UROLOGY                                                           59\n",
       "VASCULAR SURGERY                                                   2\n",
       "Length: 75, dtype: int64"
      ]
     },
     "execution_count": 80,
     "metadata": {},
     "output_type": "execute_result"
    }
   ],
   "source": [
    "spending_df.groupby('specialty').size()"
   ]
  },
  {
   "cell_type": "code",
   "execution_count": 81,
   "metadata": {
    "slideshow": {
     "slide_type": "slide"
    }
   },
   "outputs": [
    {
     "data": {
      "text/plain": [
       "<AxesSubplot:xlabel='specialty'>"
      ]
     },
     "execution_count": 81,
     "metadata": {},
     "output_type": "execute_result"
    },
    {
     "data": {
      "image/png": "[encoded data removed]",
      "text/plain": [
       "<Figure size 1152x288 with 1 Axes>"
      ]
     },
     "metadata": {
      "needs_background": "light"
     },
     "output_type": "display_data"
    }
   ],
   "source": [
    "spending_df.groupby('specialty').size().plot.bar(figsize=(16,4))"
   ]
  },
  {
   "cell_type": "code",
   "execution_count": 101,
   "metadata": {
    "slideshow": {
     "slide_type": "slide"
    }
   },
   "outputs": [],
   "source": [
    "# We sample only 10% of the Data in each category\n",
    "\n",
    "def sample_10p(x):\n",
    "    return x.sample(n=10, replace=True)\n",
    "    \n",
    "    \n",
    "# spending_by_specialty.apply(sample_10p).head()\n",
    "spending_subsampled_df = spending_df.groupby('specialty').apply(sample_10p)"
   ]
  },
  {
   "cell_type": "code",
   "execution_count": 102,
   "metadata": {
    "slideshow": {
     "slide_type": "slide"
    }
   },
   "outputs": [
    {
     "data": {
      "text/html": [
       "<div>\n",
       "<style scoped>\n",
       "    .dataframe tbody tr th:only-of-type {\n",
       "        vertical-align: middle;\n",
       "    }\n",
       "\n",
       "    .dataframe tbody tr th {\n",
       "        vertical-align: top;\n",
       "    }\n",
       "\n",
       "    .dataframe thead th {\n",
       "        text-align: right;\n",
       "    }\n",
       "</style>\n",
       "<table border=\"1\" class=\"dataframe\">\n",
       "  <thead>\n",
       "    <tr style=\"text-align: right;\">\n",
       "      <th></th>\n",
       "      <th></th>\n",
       "      <th>doctor_id</th>\n",
       "      <th>specialty</th>\n",
       "      <th>medication</th>\n",
       "      <th>nb_beneficiaries</th>\n",
       "      <th>spending</th>\n",
       "      <th>spending_pct</th>\n",
       "    </tr>\n",
       "    <tr>\n",
       "      <th>specialty</th>\n",
       "      <th>unique_id</th>\n",
       "      <th></th>\n",
       "      <th></th>\n",
       "      <th></th>\n",
       "      <th></th>\n",
       "      <th></th>\n",
       "      <th></th>\n",
       "    </tr>\n",
       "  </thead>\n",
       "  <tbody>\n",
       "    <tr>\n",
       "      <th rowspan=\"5\" valign=\"top\">ADDICTION MEDICINE</th>\n",
       "      <th>VG585760</th>\n",
       "      <td>1801032297</td>\n",
       "      <td>ADDICTION MEDICINE</td>\n",
       "      <td>LAMOTRIGINE</td>\n",
       "      <td>11</td>\n",
       "      <td>82.62</td>\n",
       "      <td>8.979849</td>\n",
       "    </tr>\n",
       "    <tr>\n",
       "      <th>GJ278932</th>\n",
       "      <td>1134139991</td>\n",
       "      <td>ADDICTION MEDICINE</td>\n",
       "      <td>BUSPIRONE HCL</td>\n",
       "      <td>49</td>\n",
       "      <td>817.88</td>\n",
       "      <td>88.894203</td>\n",
       "    </tr>\n",
       "    <tr>\n",
       "      <th>GJ278932</th>\n",
       "      <td>1134139991</td>\n",
       "      <td>ADDICTION MEDICINE</td>\n",
       "      <td>BUSPIRONE HCL</td>\n",
       "      <td>49</td>\n",
       "      <td>817.88</td>\n",
       "      <td>88.894203</td>\n",
       "    </tr>\n",
       "    <tr>\n",
       "      <th>VG585760</th>\n",
       "      <td>1801032297</td>\n",
       "      <td>ADDICTION MEDICINE</td>\n",
       "      <td>LAMOTRIGINE</td>\n",
       "      <td>11</td>\n",
       "      <td>82.62</td>\n",
       "      <td>8.979849</td>\n",
       "    </tr>\n",
       "    <tr>\n",
       "      <th>VG585760</th>\n",
       "      <td>1801032297</td>\n",
       "      <td>ADDICTION MEDICINE</td>\n",
       "      <td>LAMOTRIGINE</td>\n",
       "      <td>11</td>\n",
       "      <td>82.62</td>\n",
       "      <td>8.979849</td>\n",
       "    </tr>\n",
       "  </tbody>\n",
       "</table>\n",
       "</div>"
      ],
      "text/plain": [
       "                               doctor_id           specialty     medication  \\\n",
       "specialty          unique_id                                                  \n",
       "ADDICTION MEDICINE VG585760   1801032297  ADDICTION MEDICINE    LAMOTRIGINE   \n",
       "                   GJ278932   1134139991  ADDICTION MEDICINE  BUSPIRONE HCL   \n",
       "                   GJ278932   1134139991  ADDICTION MEDICINE  BUSPIRONE HCL   \n",
       "                   VG585760   1801032297  ADDICTION MEDICINE    LAMOTRIGINE   \n",
       "                   VG585760   1801032297  ADDICTION MEDICINE    LAMOTRIGINE   \n",
       "\n",
       "                              nb_beneficiaries  spending  spending_pct  \n",
       "specialty          unique_id                                            \n",
       "ADDICTION MEDICINE VG585760                 11     82.62      8.979849  \n",
       "                   GJ278932                 49    817.88     88.894203  \n",
       "                   GJ278932                 49    817.88     88.894203  \n",
       "                   VG585760                 11     82.62      8.979849  \n",
       "                   VG585760                 11     82.62      8.979849  "
      ]
     },
     "execution_count": 102,
     "metadata": {},
     "output_type": "execute_result"
    }
   ],
   "source": [
    "spending_subsampled_df.head()"
   ]
  },
  {
   "cell_type": "code",
   "execution_count": 103,
   "metadata": {
    "slideshow": {
     "slide_type": "slide"
    }
   },
   "outputs": [
    {
     "data": {
      "text/html": [
       "<div>\n",
       "<style scoped>\n",
       "    .dataframe tbody tr th:only-of-type {\n",
       "        vertical-align: middle;\n",
       "    }\n",
       "\n",
       "    .dataframe tbody tr th {\n",
       "        vertical-align: top;\n",
       "    }\n",
       "\n",
       "    .dataframe thead th {\n",
       "        text-align: right;\n",
       "    }\n",
       "</style>\n",
       "<table border=\"1\" class=\"dataframe\">\n",
       "  <thead>\n",
       "    <tr style=\"text-align: right;\">\n",
       "      <th></th>\n",
       "      <th></th>\n",
       "      <th>doctor_id</th>\n",
       "      <th>medication</th>\n",
       "      <th>nb_beneficiaries</th>\n",
       "      <th>spending</th>\n",
       "      <th>spending_pct</th>\n",
       "    </tr>\n",
       "    <tr>\n",
       "      <th>specialty</th>\n",
       "      <th>unique_id</th>\n",
       "      <th></th>\n",
       "      <th></th>\n",
       "      <th></th>\n",
       "      <th></th>\n",
       "      <th></th>\n",
       "    </tr>\n",
       "  </thead>\n",
       "  <tbody>\n",
       "    <tr>\n",
       "      <th rowspan=\"5\" valign=\"top\">ADDICTION MEDICINE</th>\n",
       "      <th>VG585760</th>\n",
       "      <td>1801032297</td>\n",
       "      <td>LAMOTRIGINE</td>\n",
       "      <td>11</td>\n",
       "      <td>82.62</td>\n",
       "      <td>8.979849</td>\n",
       "    </tr>\n",
       "    <tr>\n",
       "      <th>GJ278932</th>\n",
       "      <td>1134139991</td>\n",
       "      <td>BUSPIRONE HCL</td>\n",
       "      <td>49</td>\n",
       "      <td>817.88</td>\n",
       "      <td>88.894203</td>\n",
       "    </tr>\n",
       "    <tr>\n",
       "      <th>GJ278932</th>\n",
       "      <td>1134139991</td>\n",
       "      <td>BUSPIRONE HCL</td>\n",
       "      <td>49</td>\n",
       "      <td>817.88</td>\n",
       "      <td>88.894203</td>\n",
       "    </tr>\n",
       "    <tr>\n",
       "      <th>VG585760</th>\n",
       "      <td>1801032297</td>\n",
       "      <td>LAMOTRIGINE</td>\n",
       "      <td>11</td>\n",
       "      <td>82.62</td>\n",
       "      <td>8.979849</td>\n",
       "    </tr>\n",
       "    <tr>\n",
       "      <th>VG585760</th>\n",
       "      <td>1801032297</td>\n",
       "      <td>LAMOTRIGINE</td>\n",
       "      <td>11</td>\n",
       "      <td>82.62</td>\n",
       "      <td>8.979849</td>\n",
       "    </tr>\n",
       "    <tr>\n",
       "      <th>...</th>\n",
       "      <th>...</th>\n",
       "      <td>...</td>\n",
       "      <td>...</td>\n",
       "      <td>...</td>\n",
       "      <td>...</td>\n",
       "      <td>...</td>\n",
       "    </tr>\n",
       "    <tr>\n",
       "      <th rowspan=\"5\" valign=\"top\">VASCULAR SURGERY</th>\n",
       "      <th>KL360002</th>\n",
       "      <td>1710981444</td>\n",
       "      <td>APIXABAN</td>\n",
       "      <td>14</td>\n",
       "      <td>4309.59</td>\n",
       "      <td>98.681300</td>\n",
       "    </tr>\n",
       "    <tr>\n",
       "      <th>KL360002</th>\n",
       "      <td>1710981444</td>\n",
       "      <td>APIXABAN</td>\n",
       "      <td>14</td>\n",
       "      <td>4309.59</td>\n",
       "      <td>98.681300</td>\n",
       "    </tr>\n",
       "    <tr>\n",
       "      <th>KL360002</th>\n",
       "      <td>1710981444</td>\n",
       "      <td>APIXABAN</td>\n",
       "      <td>14</td>\n",
       "      <td>4309.59</td>\n",
       "      <td>98.681300</td>\n",
       "    </tr>\n",
       "    <tr>\n",
       "      <th>CU764903</th>\n",
       "      <td>1780885574</td>\n",
       "      <td>ACETAMINOPHEN WITH CODEINE</td>\n",
       "      <td>16</td>\n",
       "      <td>57.59</td>\n",
       "      <td>1.318700</td>\n",
       "    </tr>\n",
       "    <tr>\n",
       "      <th>KL360002</th>\n",
       "      <td>1710981444</td>\n",
       "      <td>APIXABAN</td>\n",
       "      <td>14</td>\n",
       "      <td>4309.59</td>\n",
       "      <td>98.681300</td>\n",
       "    </tr>\n",
       "  </tbody>\n",
       "</table>\n",
       "<p>750 rows × 5 columns</p>\n",
       "</div>"
      ],
      "text/plain": [
       "                               doctor_id                  medication  \\\n",
       "specialty          unique_id                                           \n",
       "ADDICTION MEDICINE VG585760   1801032297                 LAMOTRIGINE   \n",
       "                   GJ278932   1134139991               BUSPIRONE HCL   \n",
       "                   GJ278932   1134139991               BUSPIRONE HCL   \n",
       "                   VG585760   1801032297                 LAMOTRIGINE   \n",
       "                   VG585760   1801032297                 LAMOTRIGINE   \n",
       "...                                  ...                         ...   \n",
       "VASCULAR SURGERY   KL360002   1710981444                    APIXABAN   \n",
       "                   KL360002   1710981444                    APIXABAN   \n",
       "                   KL360002   1710981444                    APIXABAN   \n",
       "                   CU764903   1780885574  ACETAMINOPHEN WITH CODEINE   \n",
       "                   KL360002   1710981444                    APIXABAN   \n",
       "\n",
       "                              nb_beneficiaries  spending  spending_pct  \n",
       "specialty          unique_id                                            \n",
       "ADDICTION MEDICINE VG585760                 11     82.62      8.979849  \n",
       "                   GJ278932                 49    817.88     88.894203  \n",
       "                   GJ278932                 49    817.88     88.894203  \n",
       "                   VG585760                 11     82.62      8.979849  \n",
       "                   VG585760                 11     82.62      8.979849  \n",
       "...                                        ...       ...           ...  \n",
       "VASCULAR SURGERY   KL360002                 14   4309.59     98.681300  \n",
       "                   KL360002                 14   4309.59     98.681300  \n",
       "                   KL360002                 14   4309.59     98.681300  \n",
       "                   CU764903                 16     57.59      1.318700  \n",
       "                   KL360002                 14   4309.59     98.681300  \n",
       "\n",
       "[750 rows x 5 columns]"
      ]
     },
     "execution_count": 103,
     "metadata": {},
     "output_type": "execute_result"
    }
   ],
   "source": [
    "spending_subsampled_df.drop(\"specialty\", axis =1 )"
   ]
  },
  {
   "cell_type": "code",
   "execution_count": 104,
   "metadata": {
    "slideshow": {
     "slide_type": "slide"
    }
   },
   "outputs": [
    {
     "data": {
      "text/html": [
       "<div>\n",
       "<style scoped>\n",
       "    .dataframe tbody tr th:only-of-type {\n",
       "        vertical-align: middle;\n",
       "    }\n",
       "\n",
       "    .dataframe tbody tr th {\n",
       "        vertical-align: top;\n",
       "    }\n",
       "\n",
       "    .dataframe thead th {\n",
       "        text-align: right;\n",
       "    }\n",
       "</style>\n",
       "<table border=\"1\" class=\"dataframe\">\n",
       "  <thead>\n",
       "    <tr style=\"text-align: right;\">\n",
       "      <th></th>\n",
       "      <th>specialty</th>\n",
       "      <th>doctor_id</th>\n",
       "      <th>medication</th>\n",
       "      <th>nb_beneficiaries</th>\n",
       "      <th>spending</th>\n",
       "      <th>spending_pct</th>\n",
       "    </tr>\n",
       "    <tr>\n",
       "      <th>unique_id</th>\n",
       "      <th></th>\n",
       "      <th></th>\n",
       "      <th></th>\n",
       "      <th></th>\n",
       "      <th></th>\n",
       "      <th></th>\n",
       "    </tr>\n",
       "  </thead>\n",
       "  <tbody>\n",
       "    <tr>\n",
       "      <th>VG585760</th>\n",
       "      <td>ADDICTION MEDICINE</td>\n",
       "      <td>1801032297</td>\n",
       "      <td>LAMOTRIGINE</td>\n",
       "      <td>11</td>\n",
       "      <td>82.62</td>\n",
       "      <td>8.979849</td>\n",
       "    </tr>\n",
       "    <tr>\n",
       "      <th>GJ278932</th>\n",
       "      <td>ADDICTION MEDICINE</td>\n",
       "      <td>1134139991</td>\n",
       "      <td>BUSPIRONE HCL</td>\n",
       "      <td>49</td>\n",
       "      <td>817.88</td>\n",
       "      <td>88.894203</td>\n",
       "    </tr>\n",
       "    <tr>\n",
       "      <th>GJ278932</th>\n",
       "      <td>ADDICTION MEDICINE</td>\n",
       "      <td>1134139991</td>\n",
       "      <td>BUSPIRONE HCL</td>\n",
       "      <td>49</td>\n",
       "      <td>817.88</td>\n",
       "      <td>88.894203</td>\n",
       "    </tr>\n",
       "    <tr>\n",
       "      <th>VG585760</th>\n",
       "      <td>ADDICTION MEDICINE</td>\n",
       "      <td>1801032297</td>\n",
       "      <td>LAMOTRIGINE</td>\n",
       "      <td>11</td>\n",
       "      <td>82.62</td>\n",
       "      <td>8.979849</td>\n",
       "    </tr>\n",
       "    <tr>\n",
       "      <th>VG585760</th>\n",
       "      <td>ADDICTION MEDICINE</td>\n",
       "      <td>1801032297</td>\n",
       "      <td>LAMOTRIGINE</td>\n",
       "      <td>11</td>\n",
       "      <td>82.62</td>\n",
       "      <td>8.979849</td>\n",
       "    </tr>\n",
       "    <tr>\n",
       "      <th>...</th>\n",
       "      <td>...</td>\n",
       "      <td>...</td>\n",
       "      <td>...</td>\n",
       "      <td>...</td>\n",
       "      <td>...</td>\n",
       "      <td>...</td>\n",
       "    </tr>\n",
       "    <tr>\n",
       "      <th>KL360002</th>\n",
       "      <td>VASCULAR SURGERY</td>\n",
       "      <td>1710981444</td>\n",
       "      <td>APIXABAN</td>\n",
       "      <td>14</td>\n",
       "      <td>4309.59</td>\n",
       "      <td>98.681300</td>\n",
       "    </tr>\n",
       "    <tr>\n",
       "      <th>KL360002</th>\n",
       "      <td>VASCULAR SURGERY</td>\n",
       "      <td>1710981444</td>\n",
       "      <td>APIXABAN</td>\n",
       "      <td>14</td>\n",
       "      <td>4309.59</td>\n",
       "      <td>98.681300</td>\n",
       "    </tr>\n",
       "    <tr>\n",
       "      <th>KL360002</th>\n",
       "      <td>VASCULAR SURGERY</td>\n",
       "      <td>1710981444</td>\n",
       "      <td>APIXABAN</td>\n",
       "      <td>14</td>\n",
       "      <td>4309.59</td>\n",
       "      <td>98.681300</td>\n",
       "    </tr>\n",
       "    <tr>\n",
       "      <th>CU764903</th>\n",
       "      <td>VASCULAR SURGERY</td>\n",
       "      <td>1780885574</td>\n",
       "      <td>ACETAMINOPHEN WITH CODEINE</td>\n",
       "      <td>16</td>\n",
       "      <td>57.59</td>\n",
       "      <td>1.318700</td>\n",
       "    </tr>\n",
       "    <tr>\n",
       "      <th>KL360002</th>\n",
       "      <td>VASCULAR SURGERY</td>\n",
       "      <td>1710981444</td>\n",
       "      <td>APIXABAN</td>\n",
       "      <td>14</td>\n",
       "      <td>4309.59</td>\n",
       "      <td>98.681300</td>\n",
       "    </tr>\n",
       "  </tbody>\n",
       "</table>\n",
       "<p>750 rows × 6 columns</p>\n",
       "</div>"
      ],
      "text/plain": [
       "                    specialty   doctor_id                  medication  \\\n",
       "unique_id                                                               \n",
       "VG585760   ADDICTION MEDICINE  1801032297                 LAMOTRIGINE   \n",
       "GJ278932   ADDICTION MEDICINE  1134139991               BUSPIRONE HCL   \n",
       "GJ278932   ADDICTION MEDICINE  1134139991               BUSPIRONE HCL   \n",
       "VG585760   ADDICTION MEDICINE  1801032297                 LAMOTRIGINE   \n",
       "VG585760   ADDICTION MEDICINE  1801032297                 LAMOTRIGINE   \n",
       "...                       ...         ...                         ...   \n",
       "KL360002     VASCULAR SURGERY  1710981444                    APIXABAN   \n",
       "KL360002     VASCULAR SURGERY  1710981444                    APIXABAN   \n",
       "KL360002     VASCULAR SURGERY  1710981444                    APIXABAN   \n",
       "CU764903     VASCULAR SURGERY  1780885574  ACETAMINOPHEN WITH CODEINE   \n",
       "KL360002     VASCULAR SURGERY  1710981444                    APIXABAN   \n",
       "\n",
       "           nb_beneficiaries  spending  spending_pct  \n",
       "unique_id                                            \n",
       "VG585760                 11     82.62      8.979849  \n",
       "GJ278932                 49    817.88     88.894203  \n",
       "GJ278932                 49    817.88     88.894203  \n",
       "VG585760                 11     82.62      8.979849  \n",
       "VG585760                 11     82.62      8.979849  \n",
       "...                     ...       ...           ...  \n",
       "KL360002                 14   4309.59     98.681300  \n",
       "KL360002                 14   4309.59     98.681300  \n",
       "KL360002                 14   4309.59     98.681300  \n",
       "CU764903                 16     57.59      1.318700  \n",
       "KL360002                 14   4309.59     98.681300  \n",
       "\n",
       "[750 rows x 6 columns]"
      ]
     },
     "execution_count": 104,
     "metadata": {},
     "output_type": "execute_result"
    }
   ],
   "source": [
    "# Note that we first need to drop the colum\n",
    "spending_subsampled_df = spending_subsampled_df.drop(\"specialty\", axis =1).reset_index((0,))\n",
    "spending_subsampled_df"
   ]
  },
  {
   "cell_type": "code",
   "execution_count": 105,
   "metadata": {
    "slideshow": {
     "slide_type": "slide"
    }
   },
   "outputs": [
    {
     "data": {
      "text/plain": [
       "<AxesSubplot:xlabel='specialty'>"
      ]
     },
     "execution_count": 105,
     "metadata": {},
     "output_type": "execute_result"
    },
    {
     "data": {
      "image/png": "[encoded data removed]",
      "text/plain": [
       "<Figure size 1152x288 with 1 Axes>"
      ]
     },
     "metadata": {
      "needs_background": "light"
     },
     "output_type": "display_data"
    }
   ],
   "source": [
    "spending_subsampled_df.groupby('specialty').size().plot.bar(figsize=(16,4))"
   ]
  }
 ],
 "metadata": {
  "celltoolbar": "Slideshow",
  "hide_input": false,
  "kernelspec": {
   "display_name": "Python 3 (ipykernel)",
   "language": "python",
   "name": "python3"
  },
  "language_info": {
   "codemirror_mode": {
    "name": "ipython",
    "version": 3
   },
   "file_extension": ".py",
   "mimetype": "text/x-python",
   "name": "python",
   "nbconvert_exporter": "python",
   "pygments_lexer": "ipython3",
   "version": "3.8.11"
  }
 },
 "nbformat": 4,
 "nbformat_minor": 2
}

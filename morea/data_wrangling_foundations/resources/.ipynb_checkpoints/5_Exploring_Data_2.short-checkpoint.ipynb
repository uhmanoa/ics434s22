{
 "cells": [
  {
   "cell_type": "code",
   "execution_count": 1,
   "metadata": {
    "slideshow": {
     "slide_type": "skip"
    }
   },
   "outputs": [],
   "source": [
    "import pandas as pd"
   ]
  },
  {
   "cell_type": "markdown",
   "metadata": {
    "colab_type": "text",
    "id": "Qcm-BNiPgSsM",
    "slideshow": {
     "slide_type": "slide"
    }
   },
   "source": [
    "# Arithmetic Operations and Data Alignment\n",
    "\n",
    "---"
   ]
  },
  {
   "cell_type": "markdown",
   "metadata": {
    "colab_type": "text",
    "id": "Ft4T8eRUiJW9",
    "slideshow": {
     "slide_type": "slide"
    }
   },
   "source": [
    "### Vectorization\n",
    "\n",
    "A vectorized operation applies to a list of elements at once\n",
    "  * Implemented on `numpy` library\n",
    "  * Easily extends to Pandas, which uses Numpy to store data\n",
    "* Taking advantage of the parallel capabilities of modern CPUs, it is much more efficient than Python *for loops*\n",
    "  * Automatically handles collection of data in parallel\n"
   ]
  },
  {
   "cell_type": "markdown",
   "metadata": {
    "slideshow": {
     "slide_type": "slide"
    }
   },
   "source": [
    "### Vectorization -- Cont'd\n",
    "\n",
    "* A `Series` contains only homogeneous data types\n",
    "       Python typically works with lists of heterogeneous datatypes.\n",
    "* Series operations are delegated to optimized and compiled C code. \n",
    "  * This process is known as vectorization. \n",
    "  The result is a tremendous speedup compared to an analogous computation in Python, which:\n",
    "    * Iterates through the arrays\n",
    "    Each item is painstakingly checked for its data type \n"
   ]
  },
  {
   "cell_type": "code",
   "execution_count": 9,
   "metadata": {
    "slideshow": {
     "slide_type": "slide"
    }
   },
   "outputs": [
    {
     "data": {
      "text/plain": [
       "0    0\n",
       "1    1\n",
       "2    2\n",
       "3    3\n",
       "4    4\n",
       "dtype: int64"
      ]
     },
     "execution_count": 9,
     "metadata": {},
     "output_type": "execute_result"
    }
   ],
   "source": [
    "x = pd.Series(range(100_000))\n",
    "x.head()"
   ]
  },
  {
   "cell_type": "code",
   "execution_count": 44,
   "metadata": {
    "slideshow": {
     "slide_type": "slide"
    }
   },
   "outputs": [
    {
     "name": "stdout",
     "output_type": "stream",
     "text": [
      "CPU times: user 9.07 ms, sys: 344 µs, total: 9.42 ms\n",
      "Wall time: 10.2 ms\n"
     ]
    }
   ],
   "source": [
    "%%time\n",
    "a = range(10_000)\n",
    "b = []\n",
    "for elem in a:\n",
    "    b.append(elem**2)\n"
   ]
  },
  {
   "cell_type": "code",
   "execution_count": 46,
   "metadata": {
    "slideshow": {
     "slide_type": "slide"
    }
   },
   "outputs": [
    {
     "name": "stdout",
     "output_type": "stream",
     "text": [
      "CPU times: user 320 µs, sys: 24 µs, total: 344 µs\n",
      "Wall time: 349 µs\n"
     ]
    }
   ],
   "source": [
    "%%time\n",
    "y = x**2"
   ]
  },
  {
   "cell_type": "markdown",
   "metadata": {
    "slideshow": {
     "slide_type": "slide"
    }
   },
   "source": [
    "### The Numerical Python (numpy) Library\n",
    "\n",
    "\n",
    "* `numpy` is a Python library for array-based computing implemented in the C language\n",
    "  * The *de facto* standard for scientific computing\n",
    "    * Foundation for the Python scientific stack\n",
    "  \n",
    "* Pandas uses `numpy` to store the data behind the scenes    \n",
    "\n",
    "```python\n",
    ">>> x = pd.Series([1,2,3 ])\n",
    ">>> print(type(x.values))\n",
    "\n",
    "<class 'numpy.ndarray'>\n",
    "```\n",
    "    "
   ]
  },
  {
   "cell_type": "code",
   "execution_count": 25,
   "metadata": {
    "slideshow": {
     "slide_type": "slide"
    }
   },
   "outputs": [
    {
     "name": "stdout",
     "output_type": "stream",
     "text": [
      "<class 'numpy.ndarray'>\n"
     ]
    }
   ],
   "source": [
    "x = pd.Series([1,2,3 ])\n",
    "print(type(x.values))\n"
   ]
  },
  {
   "cell_type": "markdown",
   "metadata": {
    "slideshow": {
     "slide_type": "slide"
    }
   },
   "source": [
    "### The Numerical Python (numpy) Library\n",
    "\n",
    "* Python lists and `numpy` arrays are similar in structure. Numpy arrays differ in that they are densely packed with uniform values, as opposed to references to objects. This is especially useful:\n",
    "  * When working with large amounts of data.\n",
    "  * Relatively small data fits in cache\n",
    "  * Data can be traversed relatively quickly\n",
    "* `numpy` objects have various `methods` to work with the data they contain\n",
    "    \n",
    "   \n",
    "    "
   ]
  },
  {
   "cell_type": "markdown",
   "metadata": {
    "slideshow": {
     "slide_type": "slide"
    }
   },
   "source": [
    "### Broadcasting\n",
    "\n",
    "* Broadcasting is simply a set of rules for applying binary functions (e.g., addition, subtraction, multiplication, etc.) on arrays of different sizes.\n",
    "* Broadcasting follows a strict set of rules to determine the interaction between the two arrays\n",
    "  * When working with arrays in one dimension, the rules are fairly simple:\n",
    "  1. If the shape of the two arrays does not match, the array with a shape equal to 1 is stretched to match the second array\n",
    "  2. If sizes disagree and neither is equal to 1, an error is raised."
   ]
  },
  {
   "cell_type": "code",
   "execution_count": 49,
   "metadata": {
    "slideshow": {
     "slide_type": "slide"
    }
   },
   "outputs": [
    {
     "data": {
      "text/plain": [
       "array([4, 4, 4])"
      ]
     },
     "execution_count": 49,
     "metadata": {},
     "output_type": "execute_result"
    }
   ],
   "source": [
    "x = np.array([1,2,3])\n",
    "y = np.array([3,2,1])\n",
    "x+y"
   ]
  },
  {
   "cell_type": "code",
   "execution_count": 50,
   "metadata": {
    "slideshow": {
     "slide_type": "slide"
    }
   },
   "outputs": [
    {
     "data": {
      "text/plain": [
       "array([2, 3, 4])"
      ]
     },
     "execution_count": 50,
     "metadata": {},
     "output_type": "execute_result"
    }
   ],
   "source": [
    "x = np.array([1,2,3])\n",
    "y = np.array([1])\n",
    "x+y\n"
   ]
  },
  {
   "cell_type": "code",
   "execution_count": 52,
   "metadata": {
    "slideshow": {
     "slide_type": "slide"
    }
   },
   "outputs": [
    {
     "ename": "ValueError",
     "evalue": "operands could not be broadcast together with shapes (3,) (2,) ",
     "output_type": "error",
     "traceback": [
      "\u001b[0;31m---------------------------------------------------------------------------\u001b[0m",
      "\u001b[0;31mValueError\u001b[0m                                Traceback (most recent call last)",
      "\u001b[0;32m/var/folders/6m/188vj34d6nv8qsnxqt6plydw0000gn/T/ipykernel_26867/3859932382.py\u001b[0m in \u001b[0;36m<module>\u001b[0;34m\u001b[0m\n\u001b[1;32m      2\u001b[0m \u001b[0mx\u001b[0m \u001b[0;34m=\u001b[0m \u001b[0mnp\u001b[0m\u001b[0;34m.\u001b[0m\u001b[0marray\u001b[0m\u001b[0;34m(\u001b[0m\u001b[0;34m[\u001b[0m\u001b[0;36m1\u001b[0m\u001b[0;34m,\u001b[0m\u001b[0;36m2\u001b[0m\u001b[0;34m,\u001b[0m\u001b[0;36m3\u001b[0m\u001b[0;34m]\u001b[0m\u001b[0;34m)\u001b[0m\u001b[0;34m\u001b[0m\u001b[0;34m\u001b[0m\u001b[0m\n\u001b[1;32m      3\u001b[0m \u001b[0my\u001b[0m \u001b[0;34m=\u001b[0m \u001b[0mnp\u001b[0m\u001b[0;34m.\u001b[0m\u001b[0marray\u001b[0m\u001b[0;34m(\u001b[0m\u001b[0;34m[\u001b[0m\u001b[0;36m1\u001b[0m\u001b[0;34m,\u001b[0m\u001b[0;36m2\u001b[0m\u001b[0;34m]\u001b[0m\u001b[0;34m)\u001b[0m\u001b[0;34m\u001b[0m\u001b[0;34m\u001b[0m\u001b[0m\n\u001b[0;32m----> 4\u001b[0;31m \u001b[0mx\u001b[0m\u001b[0;34m+\u001b[0m\u001b[0my\u001b[0m\u001b[0;34m\u001b[0m\u001b[0;34m\u001b[0m\u001b[0m\n\u001b[0m",
      "\u001b[0;31mValueError\u001b[0m: operands could not be broadcast together with shapes (3,) (2,) "
     ]
    }
   ],
   "source": [
    "# Second condition throws and error\n",
    "x = np.array([1,2,3])\n",
    "y = np.array([1,2])\n",
    "x+y\n"
   ]
  },
  {
   "cell_type": "markdown",
   "metadata": {
    "slideshow": {
     "slide_type": "slide"
    }
   },
   "source": [
    "### Broadcasting\n",
    "\n",
    "![](https://www.dropbox.com/s/3od0bxsa7ne1470/broadcasting.png?dl=1)"
   ]
  },
  {
   "cell_type": "markdown",
   "metadata": {
    "slideshow": {
     "slide_type": "slide"
    }
   },
   "source": [
    "### Vectorization: Arithmetic Operations\n",
    "\n",
    "* Arithmetic operations in `pandas`  are vectorized\n",
    "  * You can sum or multiply two columns and the operation would be vectorized, i.e., parallelized\n",
    "  \n",
    "* We explore using a trivial dataset\n",
    "\n",
    "```python\n",
    "df_1 = pd.DataFrame({'AA':{'A':79, 'C':2, 'T':12, 'X':21},\n",
    "                     'BB':{'A':11, 'C':2, 'T':2, 'X':9}})\n",
    "df_1[\"AA\"] + df_2[\"BB\"]                  \n",
    "```\n"
   ]
  },
  {
   "cell_type": "code",
   "execution_count": 53,
   "metadata": {
    "colab": {},
    "colab_type": "code",
    "id": "nPMiIVzJy7cc",
    "slideshow": {
     "slide_type": "slide"
    }
   },
   "outputs": [
    {
     "data": {
      "text/html": [
       "<div>\n",
       "<style scoped>\n",
       "    .dataframe tbody tr th:only-of-type {\n",
       "        vertical-align: middle;\n",
       "    }\n",
       "\n",
       "    .dataframe tbody tr th {\n",
       "        vertical-align: top;\n",
       "    }\n",
       "\n",
       "    .dataframe thead th {\n",
       "        text-align: right;\n",
       "    }\n",
       "</style>\n",
       "<table border=\"1\" class=\"dataframe\">\n",
       "  <thead>\n",
       "    <tr style=\"text-align: right;\">\n",
       "      <th></th>\n",
       "      <th>AA</th>\n",
       "      <th>BB</th>\n",
       "    </tr>\n",
       "  </thead>\n",
       "  <tbody>\n",
       "    <tr>\n",
       "      <th>A</th>\n",
       "      <td>79</td>\n",
       "      <td>11</td>\n",
       "    </tr>\n",
       "    <tr>\n",
       "      <th>C</th>\n",
       "      <td>2</td>\n",
       "      <td>2</td>\n",
       "    </tr>\n",
       "    <tr>\n",
       "      <th>T</th>\n",
       "      <td>12</td>\n",
       "      <td>2</td>\n",
       "    </tr>\n",
       "    <tr>\n",
       "      <th>X</th>\n",
       "      <td>21</td>\n",
       "      <td>9</td>\n",
       "    </tr>\n",
       "  </tbody>\n",
       "</table>\n",
       "</div>"
      ],
      "text/plain": [
       "   AA  BB\n",
       "A  79  11\n",
       "C   2   2\n",
       "T  12   2\n",
       "X  21   9"
      ]
     },
     "execution_count": 53,
     "metadata": {},
     "output_type": "execute_result"
    }
   ],
   "source": [
    "df_1 = pd.DataFrame({'AA':{'A':79, 'C':2, 'T':12, 'X':21},\n",
    "                     'BB':{'A':11, 'C':2, 'T':2, 'X':9}})\n",
    "\n",
    "df_1"
   ]
  },
  {
   "cell_type": "code",
   "execution_count": 11,
   "metadata": {
    "slideshow": {
     "slide_type": "slide"
    }
   },
   "outputs": [
    {
     "data": {
      "text/plain": [
       "A    90\n",
       "C     4\n",
       "T    14\n",
       "X    30\n",
       "dtype: int64"
      ]
     },
     "execution_count": 11,
     "metadata": {},
     "output_type": "execute_result"
    }
   ],
   "source": [
    "df_1[\"AA\"] + df_1[\"BB\"]"
   ]
  },
  {
   "cell_type": "markdown",
   "metadata": {
    "slideshow": {
     "slide_type": "slide"
    }
   },
   "source": [
    "## Arithmetic Operations - Cont'd\n",
    "\n",
    "* Are not limited to arithmetic operations on the data with the same index \n",
    "  * i.e., `Series` of the same size\n",
    "\n",
    "```python\n",
    "df_2 = pd.DataFrame({'AA':{'A':21,'D':14,'T':5},\n",
    "                     'CC':{'A':12,'D':28,'T':121}})\n",
    "df_2\n",
    "```"
   ]
  },
  {
   "cell_type": "code",
   "execution_count": 54,
   "metadata": {
    "slideshow": {
     "slide_type": "slide"
    }
   },
   "outputs": [
    {
     "data": {
      "text/html": [
       "<div>\n",
       "<style scoped>\n",
       "    .dataframe tbody tr th:only-of-type {\n",
       "        vertical-align: middle;\n",
       "    }\n",
       "\n",
       "    .dataframe tbody tr th {\n",
       "        vertical-align: top;\n",
       "    }\n",
       "\n",
       "    .dataframe thead th {\n",
       "        text-align: right;\n",
       "    }\n",
       "</style>\n",
       "<table border=\"1\" class=\"dataframe\">\n",
       "  <thead>\n",
       "    <tr style=\"text-align: right;\">\n",
       "      <th></th>\n",
       "      <th>AA</th>\n",
       "      <th>CC</th>\n",
       "    </tr>\n",
       "  </thead>\n",
       "  <tbody>\n",
       "    <tr>\n",
       "      <th>A</th>\n",
       "      <td>21</td>\n",
       "      <td>12</td>\n",
       "    </tr>\n",
       "    <tr>\n",
       "      <th>D</th>\n",
       "      <td>14</td>\n",
       "      <td>28</td>\n",
       "    </tr>\n",
       "    <tr>\n",
       "      <th>T</th>\n",
       "      <td>5</td>\n",
       "      <td>121</td>\n",
       "    </tr>\n",
       "  </tbody>\n",
       "</table>\n",
       "</div>"
      ],
      "text/plain": [
       "   AA   CC\n",
       "A  21   12\n",
       "D  14   28\n",
       "T   5  121"
      ]
     },
     "execution_count": 54,
     "metadata": {},
     "output_type": "execute_result"
    }
   ],
   "source": [
    "df_2 = pd.DataFrame({'AA':{'A':21,'D':14,'T':5},\n",
    "                     'CC':{'A':12,'D':28,'T':121}})\n",
    "df_2"
   ]
  },
  {
   "cell_type": "code",
   "execution_count": 13,
   "metadata": {
    "slideshow": {
     "slide_type": "slide"
    }
   },
   "outputs": [
    {
     "data": {
      "text/plain": [
       "A    100.0\n",
       "C      NaN\n",
       "D      NaN\n",
       "T     17.0\n",
       "X      NaN\n",
       "Name: AA, dtype: float64"
      ]
     },
     "execution_count": 13,
     "metadata": {},
     "output_type": "execute_result"
    }
   ],
   "source": [
    "df_1[\"AA\"]  + df_2[\"AA\"] "
   ]
  },
  {
   "cell_type": "markdown",
   "metadata": {
    "colab_type": "text",
    "id": "YfChLH62O48W",
    "slideshow": {
     "slide_type": "slide"
    }
   },
   "source": [
    "### Vectorized Arithmetic Between `Series` (`DataFrame` col)\n",
    "\n",
    "* Column-wise vectorized operations require aligning the data on the index\n",
    "  * A new index is created from the union of the indices of both `Series`\n",
    "  * Missing values in either one of the Series are filled with missing values (`NaN`)\n",
    "\n",
    "<img src=\"https://www.dropbox.com/s/bq7rxybrhw9flqb/alignment_arithmetic_col.png?dl=1\" alt=\"drawing\" style=\"width:900px;\"/>\n"
   ]
  },
  {
   "cell_type": "markdown",
   "metadata": {
    "colab_type": "text",
    "id": "ErZIn1TSP5KI",
    "slideshow": {
     "slide_type": "slide"
    }
   },
   "source": [
    "### Vectorized Arithmetic Between `Series` (`DataFrame` Row)\n",
    "\n",
    "* operations on row `Series` work the same way as columns \n",
    "\n",
    "```python\n",
    "df_1.loc[\"A\"] + df_2.loc[\"D\"]\n",
    "```\n",
    "<img src=\"https://www.dropbox.com/s/gol9h2c34ngk8ff/alignment_arithmetic_row.png?dl=1\" alt=\"drawing\" style=\"width:900px;\"/>\n",
    "\n"
   ]
  },
  {
   "cell_type": "code",
   "execution_count": 55,
   "metadata": {
    "colab": {},
    "colab_type": "code",
    "id": "41SxTmdV5wvU",
    "slideshow": {
     "slide_type": "slide"
    }
   },
   "outputs": [
    {
     "data": {
      "text/plain": [
       "AA    93.0\n",
       "BB     NaN\n",
       "CC     NaN\n",
       "dtype: float64"
      ]
     },
     "execution_count": 55,
     "metadata": {},
     "output_type": "execute_result"
    }
   ],
   "source": [
    "df_1.loc[\"A\"] + df_2.loc[\"D\"]"
   ]
  },
  {
   "cell_type": "markdown",
   "metadata": {
    "colab_type": "text",
    "id": "PIG2G5gkPADE",
    "slideshow": {
     "slide_type": "slide"
    }
   },
   "source": [
    "### Vectorized Arithmetic on DataFrames\n",
    "\n",
    "* We can also perform arithmetic operations on the whole `DataFrame`\n",
    "  * This is simply an extension of the alignments on columns or rows\n",
    " \n",
    "\n",
    "```python\n",
    "df_1 + df_2\n",
    "```\n",
    "\n",
    "<img src=\"https://www.dropbox.com/s/c1ub1zki0vaey9s/alignment_arithmetic_df.png?dl=1\" alt=\"drawing\" style=\"width:950px;\"/>\n"
   ]
  },
  {
   "cell_type": "markdown",
   "metadata": {
    "slideshow": {
     "slide_type": "slide"
    }
   },
   "source": [
    "### Question? \n",
    "\n",
    "* What would the outcome be if a column is present in one `DataFrame` and not the other?\n",
    "\n",
    "* Ex.  df_1 + df_2?\n",
    "\n",
    "<img src=\"https://www.dropbox.com/s/8ckdy571w313dgc/question.png?dl=1\" alt=\"drawing\" style=\"width:350px;\"/>\n"
   ]
  },
  {
   "cell_type": "code",
   "execution_count": 59,
   "metadata": {
    "colab": {
     "base_uri": "https://localhost:8080/",
     "height": 202
    },
    "colab_type": "code",
    "executionInfo": {
     "elapsed": 408,
     "status": "ok",
     "timestamp": 1534192063202,
     "user": {
      "displayName": "Charles Dickens",
      "photoUrl": "//lh6.googleusercontent.com/-LyFY-SmW2Wk/AAAAAAAAAAI/AAAAAAAAAJc/aBlebAB4Y_M/s50-c-k-no/photo.jpg",
      "userId": "116926057727252856181"
     },
     "user_tz": 600
    },
    "id": "oUlho1G3ne1P",
    "outputId": "643ae759-cf1d-4491-9e28-b60bd60f3cad",
    "slideshow": {
     "slide_type": "slide"
    }
   },
   "outputs": [
    {
     "data": {
      "text/html": [
       "<div>\n",
       "<style scoped>\n",
       "    .dataframe tbody tr th:only-of-type {\n",
       "        vertical-align: middle;\n",
       "    }\n",
       "\n",
       "    .dataframe tbody tr th {\n",
       "        vertical-align: top;\n",
       "    }\n",
       "\n",
       "    .dataframe thead th {\n",
       "        text-align: right;\n",
       "    }\n",
       "</style>\n",
       "<table border=\"1\" class=\"dataframe\">\n",
       "  <thead>\n",
       "    <tr style=\"text-align: right;\">\n",
       "      <th></th>\n",
       "      <th>AA</th>\n",
       "      <th>BB</th>\n",
       "      <th>CC</th>\n",
       "    </tr>\n",
       "  </thead>\n",
       "  <tbody>\n",
       "    <tr>\n",
       "      <th>A</th>\n",
       "      <td>100.0</td>\n",
       "      <td>NaN</td>\n",
       "      <td>NaN</td>\n",
       "    </tr>\n",
       "    <tr>\n",
       "      <th>C</th>\n",
       "      <td>NaN</td>\n",
       "      <td>NaN</td>\n",
       "      <td>NaN</td>\n",
       "    </tr>\n",
       "    <tr>\n",
       "      <th>D</th>\n",
       "      <td>NaN</td>\n",
       "      <td>NaN</td>\n",
       "      <td>NaN</td>\n",
       "    </tr>\n",
       "    <tr>\n",
       "      <th>T</th>\n",
       "      <td>17.0</td>\n",
       "      <td>NaN</td>\n",
       "      <td>NaN</td>\n",
       "    </tr>\n",
       "    <tr>\n",
       "      <th>X</th>\n",
       "      <td>NaN</td>\n",
       "      <td>NaN</td>\n",
       "      <td>NaN</td>\n",
       "    </tr>\n",
       "  </tbody>\n",
       "</table>\n",
       "</div>"
      ],
      "text/plain": [
       "      AA  BB  CC\n",
       "A  100.0 NaN NaN\n",
       "C    NaN NaN NaN\n",
       "D    NaN NaN NaN\n",
       "T   17.0 NaN NaN\n",
       "X    NaN NaN NaN"
      ]
     },
     "execution_count": 59,
     "metadata": {},
     "output_type": "execute_result"
    }
   ],
   "source": [
    "df_1 + df_2"
   ]
  },
  {
   "cell_type": "markdown",
   "metadata": {
    "colab_type": "text",
    "id": "CKrdPyVogezm",
    "slideshow": {
     "slide_type": "slide"
    }
   },
   "source": [
    "## Vectorization Example with the Medical Spending DataSet\n",
    "\n",
    "* An arithmetic operation between two `series`, yields a `Series`\n",
    "  * We can use the resulting `Series` in new computations\n",
    "  \n",
    "\n",
    "* Example, we can compute the average spending per beneficiary of the `spending_df` `DataFrame` using the following step:\n",
    "\n",
    "\n",
    "1. For each `unique_id` (row), we can divide `spending` by  `nb_beneficiaries`\n",
    "  * This gives us the spending for each beneficiary for each `unique_id`\n",
    "2. Compute the mean of the resulting values\n"
   ]
  },
  {
   "cell_type": "code",
   "execution_count": 61,
   "metadata": {
    "slideshow": {
     "slide_type": "slide"
    }
   },
   "outputs": [
    {
     "data": {
      "text/html": [
       "<div>\n",
       "<style scoped>\n",
       "    .dataframe tbody tr th:only-of-type {\n",
       "        vertical-align: middle;\n",
       "    }\n",
       "\n",
       "    .dataframe tbody tr th {\n",
       "        vertical-align: top;\n",
       "    }\n",
       "\n",
       "    .dataframe thead th {\n",
       "        text-align: right;\n",
       "    }\n",
       "</style>\n",
       "<table border=\"1\" class=\"dataframe\">\n",
       "  <thead>\n",
       "    <tr style=\"text-align: right;\">\n",
       "      <th></th>\n",
       "      <th>doctor_id</th>\n",
       "      <th>specialty</th>\n",
       "      <th>medication</th>\n",
       "      <th>nb_beneficiaries</th>\n",
       "      <th>spending</th>\n",
       "    </tr>\n",
       "    <tr>\n",
       "      <th>unique_id</th>\n",
       "      <th></th>\n",
       "      <th></th>\n",
       "      <th></th>\n",
       "      <th></th>\n",
       "      <th></th>\n",
       "    </tr>\n",
       "  </thead>\n",
       "  <tbody>\n",
       "    <tr>\n",
       "      <th>NX531425</th>\n",
       "      <td>1255626040</td>\n",
       "      <td>FAMILY PRACTICE</td>\n",
       "      <td>METFORMIN HCL</td>\n",
       "      <td>30</td>\n",
       "      <td>135.24</td>\n",
       "    </tr>\n",
       "    <tr>\n",
       "      <th>QG879256</th>\n",
       "      <td>1699761833</td>\n",
       "      <td>FAMILY PRACTICE</td>\n",
       "      <td>ALLOPURINOL</td>\n",
       "      <td>30</td>\n",
       "      <td>715.76</td>\n",
       "    </tr>\n",
       "    <tr>\n",
       "      <th>FW363228</th>\n",
       "      <td>1538148804</td>\n",
       "      <td>INTERNAL MEDICINE</td>\n",
       "      <td>LOSARTAN POTASSIUM</td>\n",
       "      <td>146</td>\n",
       "      <td>1056.47</td>\n",
       "    </tr>\n",
       "    <tr>\n",
       "      <th>WD733417</th>\n",
       "      <td>1730200619</td>\n",
       "      <td>PSYCHIATRY</td>\n",
       "      <td>OLANZAPINE</td>\n",
       "      <td>13</td>\n",
       "      <td>28226.97</td>\n",
       "    </tr>\n",
       "    <tr>\n",
       "      <th>XW149832</th>\n",
       "      <td>1023116894</td>\n",
       "      <td>FAMILY PRACTICE</td>\n",
       "      <td>PRAVASTATIN SODIUM</td>\n",
       "      <td>348</td>\n",
       "      <td>8199.48</td>\n",
       "    </tr>\n",
       "  </tbody>\n",
       "</table>\n",
       "</div>"
      ],
      "text/plain": [
       "            doctor_id          specialty          medication  \\\n",
       "unique_id                                                      \n",
       "NX531425   1255626040    FAMILY PRACTICE       METFORMIN HCL   \n",
       "QG879256   1699761833    FAMILY PRACTICE         ALLOPURINOL   \n",
       "FW363228   1538148804  INTERNAL MEDICINE  LOSARTAN POTASSIUM   \n",
       "WD733417   1730200619         PSYCHIATRY          OLANZAPINE   \n",
       "XW149832   1023116894    FAMILY PRACTICE  PRAVASTATIN SODIUM   \n",
       "\n",
       "           nb_beneficiaries  spending  \n",
       "unique_id                              \n",
       "NX531425                 30    135.24  \n",
       "QG879256                 30    715.76  \n",
       "FW363228                146   1056.47  \n",
       "WD733417                 13  28226.97  \n",
       "XW149832                348   8199.48  "
      ]
     },
     "execution_count": 61,
     "metadata": {},
     "output_type": "execute_result"
    }
   ],
   "source": [
    "spending_df = pd.read_csv('https://www.dropbox.com/s/jb76ktxunwhd9q3/spending_10k.csv?dl=1', index_col='unique_id')\n",
    "spending_df.head()"
   ]
  },
  {
   "cell_type": "code",
   "execution_count": 63,
   "metadata": {
    "slideshow": {
     "slide_type": "slide"
    }
   },
   "outputs": [
    {
     "data": {
      "text/plain": [
       "pandas.core.series.Series"
      ]
     },
     "execution_count": 63,
     "metadata": {},
     "output_type": "execute_result"
    }
   ],
   "source": [
    "spending_benef =  spending_df['spending'] / spending_df['nb_beneficiaries']\n",
    "\n",
    "type(spending_benef)"
   ]
  },
  {
   "cell_type": "code",
   "execution_count": 64,
   "metadata": {
    "slideshow": {
     "slide_type": "slide"
    }
   },
   "outputs": [
    {
     "data": {
      "text/plain": [
       "131.9261641934523"
      ]
     },
     "execution_count": 64,
     "metadata": {},
     "output_type": "execute_result"
    }
   ],
   "source": [
    "spending_benef.mean()"
   ]
  },
  {
   "cell_type": "code",
   "execution_count": 65,
   "metadata": {
    "colab": {},
    "colab_type": "code",
    "id": "O9yZ2OYGftw6",
    "slideshow": {
     "slide_type": "slide"
    }
   },
   "outputs": [
    {
     "data": {
      "text/plain": [
       "131.9261641934523"
      ]
     },
     "execution_count": 65,
     "metadata": {},
     "output_type": "execute_result"
    }
   ],
   "source": [
    "# operation chaining\n",
    "(spending_df['spending'] / spending_df['nb_beneficiaries']).mean()"
   ]
  },
  {
   "cell_type": "markdown",
   "metadata": {
    "colab_type": "text",
    "id": "r5pyeKdsiMyT",
    "slideshow": {
     "slide_type": "slide"
    }
   },
   "source": [
    "### Broadcasting\n",
    "\n",
    "* What happens with an arithmetic operation that involves a `Series` and a single value (`scalar`)?\n",
    "  * The logic is the same for `DataFrame` and a single value; \n",
    "\n",
    "* The `scalar` is expanded ( broadcasted), to fit the dimension of the `Series` (or `DataFrame`)\n",
    "  \n",
    "```python\n",
    "df_1['AA'] + 1.2\n",
    "```"
   ]
  },
  {
   "cell_type": "markdown",
   "metadata": {
    "colab": {},
    "colab_type": "code",
    "id": "UYL_NlZmnmFu",
    "slideshow": {
     "slide_type": "slide"
    }
   },
   "source": [
    "### Broadcasting -- Cont'd\n",
    "\n",
    "<img src=\"https://www.dropbox.com/s/uj6wpo4s7xzpily/alignment.png?dl=1\" alt=\"drawing\" style=\"width:800px;\"/>\n"
   ]
  },
  {
   "cell_type": "markdown",
   "metadata": {
    "colab_type": "text",
    "id": "scMKa-1MgEWn",
    "slideshow": {
     "slide_type": "slide"
    }
   },
   "source": [
    "### Subsetting\n",
    "\n",
    "\n",
    "* We often need to subset a dataset and we know how to subset a dataset to extract a single row\n",
    "\n",
    "```python \n",
    "spending_df.iloc[1]\n",
    "```\n",
    "* We know how to subset a dataset to extract a range of rows\n",
    "\n",
    "```python \n",
    "spending_df.iloc[1:32]\n",
    "```\n",
    "\n",
    "* But it's also very useful to subset the data based on some condition:\n",
    "  * Extract all the entries in cardiology\n",
    "  * How many flights out of HNL were going to Nebraska?\n",
    "  * How many Biki bicycles were checked out in a specific geographical region?"
   ]
  },
  {
   "cell_type": "markdown",
   "metadata": {
    "colab_type": "text",
    "id": "dCjOGvOmh7OG",
    "slideshow": {
     "slide_type": "slide"
    }
   },
   "source": [
    "## Comparison Operations\n",
    "\n",
    "* Comparison operators (\"`<`\" , \"`>`\" , \"`==`\" , \"`>=`\" , \"`<=`\" , \"`<>`\" , \"`!=`\") are applied in the same fashion as arithmetic operations \n",
    "\n",
    "  * Result in Booleans (True or False)\n",
    "\n",
    "```python\n",
    ">>> df_3 = pd.DataFrame({'AA':{'A':64, 'C':2, 'T':6, 'X':22}, \n",
    "                           'BB':{'A':3, 'C':2, 'T':7, 'X':12}})\n",
    "```\n",
    "\n",
    "```python\n",
    ">>> df_1.loc[:, \"AA\"] > df_3.loc[:, \"AA\"]\n",
    "A     True\n",
    "C    False\n",
    "T     True\n",
    "X    False\n",
    "Name: AA, dtype: bool\n",
    "```\n",
    "\n"
   ]
  },
  {
   "cell_type": "markdown",
   "metadata": {
    "slideshow": {
     "slide_type": "slide"
    }
   },
   "source": [
    "### Comparison Result\n",
    "\n",
    "* Result of the comparison is a `Series` with the same indices in `df_1` and `df_3` \n",
    "  * IMPORTANT: comparisons between 2 `Series` or `DataFrames` can only be carried out if both objects are identically labeled\n",
    "  * Have the same row **and** column names\n",
    "\n",
    "* All entries are of type   `bool`\n",
    "  * `True` is the position passed the comparison test and `False` otherwise\n",
    "\n",
    "```python\n",
    ">>> df_1.loc[:, \"AA\"] > df_2.loc[:, \"AA\"]\n",
    "...\n",
    "ValueError: Can only compare identically-labeled Series objects\n",
    "```"
   ]
  },
  {
   "cell_type": "code",
   "execution_count": 69,
   "metadata": {
    "colab": {},
    "colab_type": "code",
    "id": "EDN5mfqQn19O",
    "slideshow": {
     "slide_type": "slide"
    }
   },
   "outputs": [
    {
     "data": {
      "text/plain": [
       "A     True\n",
       "C    False\n",
       "T     True\n",
       "X    False\n",
       "Name: AA, dtype: bool"
      ]
     },
     "execution_count": 69,
     "metadata": {},
     "output_type": "execute_result"
    }
   ],
   "source": [
    "df_3 = pd.DataFrame({'AA':{'A':64, 'C':2, 'T':6, 'X':22},\n",
    "                     'BB':{'A':3, 'C':2, 'T':7, 'X':12}})\n",
    "\n",
    "df_1[\"AA\"] > df_3[\"AA\"]"
   ]
  },
  {
   "cell_type": "code",
   "execution_count": 70,
   "metadata": {
    "slideshow": {
     "slide_type": "slide"
    }
   },
   "outputs": [
    {
     "ename": "ValueError",
     "evalue": "Can only compare identically-labeled Series objects",
     "output_type": "error",
     "traceback": [
      "\u001b[0;31m---------------------------------------------------------------------------\u001b[0m",
      "\u001b[0;31mValueError\u001b[0m                                Traceback (most recent call last)",
      "\u001b[0;32m/var/folders/6m/188vj34d6nv8qsnxqt6plydw0000gn/T/ipykernel_26867/2937163858.py\u001b[0m in \u001b[0;36m<module>\u001b[0;34m\u001b[0m\n\u001b[1;32m      3\u001b[0m \u001b[0mdf_4\u001b[0m \u001b[0;34m=\u001b[0m \u001b[0mpd\u001b[0m\u001b[0;34m.\u001b[0m\u001b[0mDataFrame\u001b[0m\u001b[0;34m(\u001b[0m\u001b[0;34m{\u001b[0m\u001b[0;34m'AA'\u001b[0m\u001b[0;34m:\u001b[0m\u001b[0;34m{\u001b[0m\u001b[0;34m'I'\u001b[0m\u001b[0;34m:\u001b[0m\u001b[0;36m64\u001b[0m\u001b[0;34m,\u001b[0m \u001b[0;34m'J'\u001b[0m\u001b[0;34m:\u001b[0m\u001b[0;36m2\u001b[0m\u001b[0;34m,\u001b[0m \u001b[0;34m'K'\u001b[0m\u001b[0;34m:\u001b[0m\u001b[0;36m6\u001b[0m\u001b[0;34m}\u001b[0m\u001b[0;34m}\u001b[0m\u001b[0;34m)\u001b[0m\u001b[0;34m\u001b[0m\u001b[0;34m\u001b[0m\u001b[0m\n\u001b[1;32m      4\u001b[0m \u001b[0;34m\u001b[0m\u001b[0m\n\u001b[0;32m----> 5\u001b[0;31m \u001b[0mdf_1\u001b[0m\u001b[0;34m[\u001b[0m\u001b[0;34m\"AA\"\u001b[0m\u001b[0;34m]\u001b[0m \u001b[0;34m>\u001b[0m \u001b[0mdf_4\u001b[0m\u001b[0;34m[\u001b[0m\u001b[0;34m\"AA\"\u001b[0m\u001b[0;34m]\u001b[0m\u001b[0;34m\u001b[0m\u001b[0;34m\u001b[0m\u001b[0m\n\u001b[0m",
      "\u001b[0;32m~/mambaforge/lib/python3.9/site-packages/pandas/core/ops/common.py\u001b[0m in \u001b[0;36mnew_method\u001b[0;34m(self, other)\u001b[0m\n\u001b[1;32m     67\u001b[0m         \u001b[0mother\u001b[0m \u001b[0;34m=\u001b[0m \u001b[0mitem_from_zerodim\u001b[0m\u001b[0;34m(\u001b[0m\u001b[0mother\u001b[0m\u001b[0;34m)\u001b[0m\u001b[0;34m\u001b[0m\u001b[0;34m\u001b[0m\u001b[0m\n\u001b[1;32m     68\u001b[0m \u001b[0;34m\u001b[0m\u001b[0m\n\u001b[0;32m---> 69\u001b[0;31m         \u001b[0;32mreturn\u001b[0m \u001b[0mmethod\u001b[0m\u001b[0;34m(\u001b[0m\u001b[0mself\u001b[0m\u001b[0;34m,\u001b[0m \u001b[0mother\u001b[0m\u001b[0;34m)\u001b[0m\u001b[0;34m\u001b[0m\u001b[0;34m\u001b[0m\u001b[0m\n\u001b[0m\u001b[1;32m     70\u001b[0m \u001b[0;34m\u001b[0m\u001b[0m\n\u001b[1;32m     71\u001b[0m     \u001b[0;32mreturn\u001b[0m \u001b[0mnew_method\u001b[0m\u001b[0;34m\u001b[0m\u001b[0;34m\u001b[0m\u001b[0m\n",
      "\u001b[0;32m~/mambaforge/lib/python3.9/site-packages/pandas/core/arraylike.py\u001b[0m in \u001b[0;36m__gt__\u001b[0;34m(self, other)\u001b[0m\n\u001b[1;32m     46\u001b[0m     \u001b[0;34m@\u001b[0m\u001b[0munpack_zerodim_and_defer\u001b[0m\u001b[0;34m(\u001b[0m\u001b[0;34m\"__gt__\"\u001b[0m\u001b[0;34m)\u001b[0m\u001b[0;34m\u001b[0m\u001b[0;34m\u001b[0m\u001b[0m\n\u001b[1;32m     47\u001b[0m     \u001b[0;32mdef\u001b[0m \u001b[0m__gt__\u001b[0m\u001b[0;34m(\u001b[0m\u001b[0mself\u001b[0m\u001b[0;34m,\u001b[0m \u001b[0mother\u001b[0m\u001b[0;34m)\u001b[0m\u001b[0;34m:\u001b[0m\u001b[0;34m\u001b[0m\u001b[0;34m\u001b[0m\u001b[0m\n\u001b[0;32m---> 48\u001b[0;31m         \u001b[0;32mreturn\u001b[0m \u001b[0mself\u001b[0m\u001b[0;34m.\u001b[0m\u001b[0m_cmp_method\u001b[0m\u001b[0;34m(\u001b[0m\u001b[0mother\u001b[0m\u001b[0;34m,\u001b[0m \u001b[0moperator\u001b[0m\u001b[0;34m.\u001b[0m\u001b[0mgt\u001b[0m\u001b[0;34m)\u001b[0m\u001b[0;34m\u001b[0m\u001b[0;34m\u001b[0m\u001b[0m\n\u001b[0m\u001b[1;32m     49\u001b[0m \u001b[0;34m\u001b[0m\u001b[0m\n\u001b[1;32m     50\u001b[0m     \u001b[0;34m@\u001b[0m\u001b[0munpack_zerodim_and_defer\u001b[0m\u001b[0;34m(\u001b[0m\u001b[0;34m\"__ge__\"\u001b[0m\u001b[0;34m)\u001b[0m\u001b[0;34m\u001b[0m\u001b[0;34m\u001b[0m\u001b[0m\n",
      "\u001b[0;32m~/mambaforge/lib/python3.9/site-packages/pandas/core/series.py\u001b[0m in \u001b[0;36m_cmp_method\u001b[0;34m(self, other, op)\u001b[0m\n\u001b[1;32m   5494\u001b[0m \u001b[0;34m\u001b[0m\u001b[0m\n\u001b[1;32m   5495\u001b[0m         \u001b[0;32mif\u001b[0m \u001b[0misinstance\u001b[0m\u001b[0;34m(\u001b[0m\u001b[0mother\u001b[0m\u001b[0;34m,\u001b[0m \u001b[0mSeries\u001b[0m\u001b[0;34m)\u001b[0m \u001b[0;32mand\u001b[0m \u001b[0;32mnot\u001b[0m \u001b[0mself\u001b[0m\u001b[0;34m.\u001b[0m\u001b[0m_indexed_same\u001b[0m\u001b[0;34m(\u001b[0m\u001b[0mother\u001b[0m\u001b[0;34m)\u001b[0m\u001b[0;34m:\u001b[0m\u001b[0;34m\u001b[0m\u001b[0;34m\u001b[0m\u001b[0m\n\u001b[0;32m-> 5496\u001b[0;31m             \u001b[0;32mraise\u001b[0m \u001b[0mValueError\u001b[0m\u001b[0;34m(\u001b[0m\u001b[0;34m\"Can only compare identically-labeled Series objects\"\u001b[0m\u001b[0;34m)\u001b[0m\u001b[0;34m\u001b[0m\u001b[0;34m\u001b[0m\u001b[0m\n\u001b[0m\u001b[1;32m   5497\u001b[0m \u001b[0;34m\u001b[0m\u001b[0m\n\u001b[1;32m   5498\u001b[0m         \u001b[0mlvalues\u001b[0m \u001b[0;34m=\u001b[0m \u001b[0mself\u001b[0m\u001b[0;34m.\u001b[0m\u001b[0m_values\u001b[0m\u001b[0;34m\u001b[0m\u001b[0;34m\u001b[0m\u001b[0m\n",
      "\u001b[0;31mValueError\u001b[0m: Can only compare identically-labeled Series objects"
     ]
    }
   ],
   "source": [
    "## Not the same number of rows now the same index\n",
    "\n",
    "df_4 = pd.DataFrame({'AA':{'I':64, 'J':2, 'K':6}})\n",
    "\n",
    "df_1[\"AA\"] > df_4[\"AA\"]"
   ]
  },
  {
   "cell_type": "markdown",
   "metadata": {
    "colab_type": "text",
    "id": "E-MJyvA0V_kc",
    "slideshow": {
     "slide_type": "slide"
    }
   },
   "source": [
    "### Comparison Operations  and Indexing\n",
    "\n",
    "* Comparison operators are ideal for querying and subsetting\n",
    "\n",
    "  * SQL-like functionality although at much lower efficient (both RAM and CPU intensive compared to dedicated DBMS)\n",
    "  \n",
    "\n",
    "* We can subset a `Series` using a *list* ([]) of `Boolean`s that has the same size.\n",
    "\n"
   ]
  },
  {
   "cell_type": "code",
   "execution_count": 72,
   "metadata": {
    "slideshow": {
     "slide_type": "slide"
    }
   },
   "outputs": [
    {
     "data": {
      "text/plain": [
       "0    1\n",
       "2    3\n",
       "dtype: int64"
      ]
     },
     "execution_count": 72,
     "metadata": {},
     "output_type": "execute_result"
    }
   ],
   "source": [
    "x = pd.Series([1,2,3])\n",
    "\n",
    "my_filter = pd.Series([True, False, True])\n",
    "\n",
    "x[my_filter]"
   ]
  },
  {
   "cell_type": "code",
   "execution_count": 73,
   "metadata": {
    "colab": {},
    "colab_type": "code",
    "id": "X71kcE8ZpMWx",
    "slideshow": {
     "slide_type": "slide"
    }
   },
   "outputs": [
    {
     "data": {
      "text/plain": [
       "A    79\n",
       "C     2\n",
       "Name: AA, dtype: int64"
      ]
     },
     "execution_count": 73,
     "metadata": {},
     "output_type": "execute_result"
    }
   ],
   "source": [
    "boolean_list = [True, True, False, False]\n",
    "df_1.loc[:, 'AA'][boolean_list]"
   ]
  },
  {
   "cell_type": "code",
   "execution_count": 38,
   "metadata": {
    "slideshow": {
     "slide_type": "slide"
    }
   },
   "outputs": [
    {
     "data": {
      "text/plain": [
       "A     True\n",
       "C    False\n",
       "T     True\n",
       "X     True\n",
       "Name: AA, dtype: bool"
      ]
     },
     "execution_count": 38,
     "metadata": {},
     "output_type": "execute_result"
    }
   ],
   "source": [
    "df_1['AA'] > 3"
   ]
  },
  {
   "cell_type": "markdown",
   "metadata": {
    "slideshow": {
     "slide_type": "slide"
    }
   },
   "source": [
    "### Comparison Operations  and Indexing - Cont'd\n",
    "\n",
    "* Subsetting can also leverage broadcasting\n",
    "\n",
    "<img src=\"https://www.dropbox.com/s/mjbdxykdaa9cy3q/filter_dataframe.png?dl=1\" alt=\"drawing\" style=\"width:500px;\"/>\n",
    "\n"
   ]
  },
  {
   "cell_type": "markdown",
   "metadata": {
    "colab_type": "text",
    "id": "3YRBdeK5h--o",
    "slideshow": {
     "slide_type": "slide"
    }
   },
   "source": [
    "## Boolean Operations\n",
    "\n",
    "* Conditional expressions allow us to create more sophisticated queries for our dataset\n",
    "  * Queries commonly rely on boolean logic (boolean operators)\n",
    "\n",
    "* `pandas'` `Boolean` operations are slightly different from Python's\n",
    "\n",
    " * `and` is replaced with `&` \n",
    " * `or` is replaced with `|`\n",
    " * `not` is replaced with `~`\n",
    " \n",
    "* The operators above return a boolean object of the same shape as the input"
   ]
  },
  {
   "cell_type": "markdown",
   "metadata": {
    "slideshow": {
     "slide_type": "slide"
    }
   },
   "source": [
    "### Boolean operators example\n",
    "\n",
    "* Find instances in df_1 where values in col. \"AA\" and \"BB\" are greater than 3.\n",
    "```python\n",
    ">>> true_false_series = (df_1['AA'] > 3) & (df_1['BB'] > 3) \n",
    ">>> true_false_series\n",
    "A     True\n",
    "C    False\n",
    "T    False\n",
    "X     True\n",
    "dtype: bool\n",
    "```"
   ]
  },
  {
   "cell_type": "code",
   "execution_count": 75,
   "metadata": {
    "slideshow": {
     "slide_type": "slide"
    }
   },
   "outputs": [
    {
     "data": {
      "text/plain": [
       "A     True\n",
       "C    False\n",
       "T    False\n",
       "X     True\n",
       "dtype: bool"
      ]
     },
     "execution_count": 75,
     "metadata": {},
     "output_type": "execute_result"
    }
   ],
   "source": [
    "true_false_series = (df_1['AA'] > 3) & (df_1['BB'] > 3) \n",
    "true_false_series"
   ]
  },
  {
   "cell_type": "code",
   "execution_count": 76,
   "metadata": {
    "slideshow": {
     "slide_type": "slide"
    }
   },
   "outputs": [
    {
     "data": {
      "text/html": [
       "<div>\n",
       "<style scoped>\n",
       "    .dataframe tbody tr th:only-of-type {\n",
       "        vertical-align: middle;\n",
       "    }\n",
       "\n",
       "    .dataframe tbody tr th {\n",
       "        vertical-align: top;\n",
       "    }\n",
       "\n",
       "    .dataframe thead th {\n",
       "        text-align: right;\n",
       "    }\n",
       "</style>\n",
       "<table border=\"1\" class=\"dataframe\">\n",
       "  <thead>\n",
       "    <tr style=\"text-align: right;\">\n",
       "      <th></th>\n",
       "      <th>AA</th>\n",
       "      <th>BB</th>\n",
       "    </tr>\n",
       "  </thead>\n",
       "  <tbody>\n",
       "    <tr>\n",
       "      <th>A</th>\n",
       "      <td>79</td>\n",
       "      <td>11</td>\n",
       "    </tr>\n",
       "    <tr>\n",
       "      <th>X</th>\n",
       "      <td>21</td>\n",
       "      <td>9</td>\n",
       "    </tr>\n",
       "  </tbody>\n",
       "</table>\n",
       "</div>"
      ],
      "text/plain": [
       "   AA  BB\n",
       "A  79  11\n",
       "X  21   9"
      ]
     },
     "execution_count": 76,
     "metadata": {},
     "output_type": "execute_result"
    }
   ],
   "source": [
    "df_1[true_false_series]"
   ]
  },
  {
   "cell_type": "code",
   "execution_count": 77,
   "metadata": {
    "slideshow": {
     "slide_type": "slide"
    }
   },
   "outputs": [
    {
     "data": {
      "text/html": [
       "<div>\n",
       "<style scoped>\n",
       "    .dataframe tbody tr th:only-of-type {\n",
       "        vertical-align: middle;\n",
       "    }\n",
       "\n",
       "    .dataframe tbody tr th {\n",
       "        vertical-align: top;\n",
       "    }\n",
       "\n",
       "    .dataframe thead th {\n",
       "        text-align: right;\n",
       "    }\n",
       "</style>\n",
       "<table border=\"1\" class=\"dataframe\">\n",
       "  <thead>\n",
       "    <tr style=\"text-align: right;\">\n",
       "      <th></th>\n",
       "      <th>AA</th>\n",
       "      <th>BB</th>\n",
       "    </tr>\n",
       "  </thead>\n",
       "  <tbody>\n",
       "    <tr>\n",
       "      <th>A</th>\n",
       "      <td>79</td>\n",
       "      <td>11</td>\n",
       "    </tr>\n",
       "    <tr>\n",
       "      <th>X</th>\n",
       "      <td>21</td>\n",
       "      <td>9</td>\n",
       "    </tr>\n",
       "  </tbody>\n",
       "</table>\n",
       "</div>"
      ],
      "text/plain": [
       "   AA  BB\n",
       "A  79  11\n",
       "X  21   9"
      ]
     },
     "execution_count": 77,
     "metadata": {},
     "output_type": "execute_result"
    }
   ],
   "source": [
    "df_1[(df_1['AA'] > 3) & (df_1['BB'] > 3)]"
   ]
  },
  {
   "cell_type": "markdown",
   "metadata": {
    "colab_type": "text",
    "id": "3HzjmNVfuWXi",
    "slideshow": {
     "slide_type": "slide"
    }
   },
   "source": [
    "### Boolean Operations Examples with the Medical Spending Data Set\n",
    "\n",
    "\n",
    "* Let's subset the spending_df to retain rows that:\n",
    "\n",
    "  * Have 'Dentist' as `specialty` \n",
    "  * Have spending below \\$100 \n",
    "  \n",
    "* Save results to a new `DataFrame`"
   ]
  },
  {
   "cell_type": "markdown",
   "metadata": {
    "slideshow": {
     "slide_type": "slide"
    }
   },
   "source": [
    "### Examples - Cont'd\n",
    "\n",
    "* Have 'Dentist' as `specialty`\n",
    "\n",
    "```python\n",
    "(spending_df['specialty'] == 'DENTIST')\n",
    "``` \n",
    "\n"
   ]
  },
  {
   "cell_type": "code",
   "execution_count": 78,
   "metadata": {
    "slideshow": {
     "slide_type": "slide"
    }
   },
   "outputs": [
    {
     "data": {
      "text/plain": [
       "unique_id\n",
       "NX531425    False\n",
       "QG879256    False\n",
       "FW363228    False\n",
       "WD733417    False\n",
       "XW149832    False\n",
       "Name: specialty, dtype: bool"
      ]
     },
     "execution_count": 78,
     "metadata": {},
     "output_type": "execute_result"
    }
   ],
   "source": [
    "(spending_df['specialty'] == 'DENTIST').head()"
   ]
  },
  {
   "cell_type": "markdown",
   "metadata": {
    "slideshow": {
     "slide_type": "slide"
    }
   },
   "source": [
    "### Examples - Cont'd\n",
    "\n",
    "* Have spending below \\$100 \n",
    "    \n",
    "```python \n",
    "(spending_df['spending'] < 100)\n",
    "``` \n",
    "\n"
   ]
  },
  {
   "cell_type": "code",
   "execution_count": 79,
   "metadata": {
    "slideshow": {
     "slide_type": "slide"
    }
   },
   "outputs": [
    {
     "data": {
      "text/plain": [
       "unique_id\n",
       "NX531425    False\n",
       "QG879256    False\n",
       "FW363228    False\n",
       "WD733417    False\n",
       "XW149832    False\n",
       "Name: spending, dtype: bool"
      ]
     },
     "execution_count": 79,
     "metadata": {},
     "output_type": "execute_result"
    }
   ],
   "source": [
    "(spending_df['spending'] < 100).head()"
   ]
  },
  {
   "cell_type": "markdown",
   "metadata": {
    "slideshow": {
     "slide_type": "slide"
    }
   },
   "source": [
    "### Examples - Cont'd\n",
    "\n",
    "\n",
    "* Combine both conditions\n",
    "\n",
    "```python\n",
    "(spending_df.loc[:, 'specialty'] == 'DENTIST') & (spending_df.loc[:, 'spending'] < 100)\n",
    "```"
   ]
  },
  {
   "cell_type": "code",
   "execution_count": 80,
   "metadata": {
    "slideshow": {
     "slide_type": "slide"
    }
   },
   "outputs": [
    {
     "data": {
      "text/plain": [
       "unique_id\n",
       "NX531425    False\n",
       "QG879256    False\n",
       "FW363228    False\n",
       "WD733417    False\n",
       "XW149832    False\n",
       "dtype: bool"
      ]
     },
     "execution_count": 80,
     "metadata": {},
     "output_type": "execute_result"
    }
   ],
   "source": [
    "((spending_df.loc[:, 'specialty'] == 'DENTIST') & (spending_df.loc[:, 'spending'] < 100)).head()"
   ]
  },
  {
   "cell_type": "markdown",
   "metadata": {
    "slideshow": {
     "slide_type": "slide"
    }
   },
   "source": [
    "### Examples - Cont'd\n",
    "\n",
    "* Subset the original dataset\n",
    "\n",
    "```python\n",
    "dentist_and_small_spending= (spending_df.loc[:, 'specialty'] == 'DENTIST') & (spending_df.loc[:, 'spending'] < 100)\n",
    "spending_df.loc[dentist_and_small_spending]\n",
    "```"
   ]
  },
  {
   "cell_type": "code",
   "execution_count": 82,
   "metadata": {
    "slideshow": {
     "slide_type": "slide"
    }
   },
   "outputs": [
    {
     "data": {
      "text/html": [
       "<div>\n",
       "<style scoped>\n",
       "    .dataframe tbody tr th:only-of-type {\n",
       "        vertical-align: middle;\n",
       "    }\n",
       "\n",
       "    .dataframe tbody tr th {\n",
       "        vertical-align: top;\n",
       "    }\n",
       "\n",
       "    .dataframe thead th {\n",
       "        text-align: right;\n",
       "    }\n",
       "</style>\n",
       "<table border=\"1\" class=\"dataframe\">\n",
       "  <thead>\n",
       "    <tr style=\"text-align: right;\">\n",
       "      <th></th>\n",
       "      <th>doctor_id</th>\n",
       "      <th>specialty</th>\n",
       "      <th>medication</th>\n",
       "      <th>nb_beneficiaries</th>\n",
       "      <th>spending</th>\n",
       "    </tr>\n",
       "    <tr>\n",
       "      <th>unique_id</th>\n",
       "      <th></th>\n",
       "      <th></th>\n",
       "      <th></th>\n",
       "      <th></th>\n",
       "      <th></th>\n",
       "    </tr>\n",
       "  </thead>\n",
       "  <tbody>\n",
       "    <tr>\n",
       "      <th>XY759578</th>\n",
       "      <td>1114930567</td>\n",
       "      <td>DENTIST</td>\n",
       "      <td>IBUPROFEN</td>\n",
       "      <td>23</td>\n",
       "      <td>67.19</td>\n",
       "    </tr>\n",
       "    <tr>\n",
       "      <th>NR408938</th>\n",
       "      <td>1407936230</td>\n",
       "      <td>DENTIST</td>\n",
       "      <td>IBUPROFEN</td>\n",
       "      <td>20</td>\n",
       "      <td>64.20</td>\n",
       "    </tr>\n",
       "    <tr>\n",
       "      <th>KK703203</th>\n",
       "      <td>1669464095</td>\n",
       "      <td>DENTIST</td>\n",
       "      <td>CLINDAMYCIN HCL</td>\n",
       "      <td>14</td>\n",
       "      <td>94.95</td>\n",
       "    </tr>\n",
       "    <tr>\n",
       "      <th>RI403710</th>\n",
       "      <td>1063709178</td>\n",
       "      <td>DENTIST</td>\n",
       "      <td>HYDROCODONE/ACETAMINOPHEN</td>\n",
       "      <td>14</td>\n",
       "      <td>74.48</td>\n",
       "    </tr>\n",
       "    <tr>\n",
       "      <th>YM646458</th>\n",
       "      <td>1528120383</td>\n",
       "      <td>DENTIST</td>\n",
       "      <td>AMOXICILLIN</td>\n",
       "      <td>23</td>\n",
       "      <td>63.84</td>\n",
       "    </tr>\n",
       "  </tbody>\n",
       "</table>\n",
       "</div>"
      ],
      "text/plain": [
       "            doctor_id specialty                 medication  nb_beneficiaries  \\\n",
       "unique_id                                                                      \n",
       "XY759578   1114930567   DENTIST                  IBUPROFEN                23   \n",
       "NR408938   1407936230   DENTIST                  IBUPROFEN                20   \n",
       "KK703203   1669464095   DENTIST            CLINDAMYCIN HCL                14   \n",
       "RI403710   1063709178   DENTIST  HYDROCODONE/ACETAMINOPHEN                14   \n",
       "YM646458   1528120383   DENTIST                AMOXICILLIN                23   \n",
       "\n",
       "           spending  \n",
       "unique_id            \n",
       "XY759578      67.19  \n",
       "NR408938      64.20  \n",
       "KK703203      94.95  \n",
       "RI403710      74.48  \n",
       "YM646458      63.84  "
      ]
     },
     "execution_count": 82,
     "metadata": {},
     "output_type": "execute_result"
    }
   ],
   "source": [
    "dentist_and_small_spending = (spending_df.loc[:, 'specialty'] == 'DENTIST') & (spending_df.loc[:, 'spending'] < 100)\n",
    "spending_df.loc[dentist_and_small_spending].head()"
   ]
  }
 ],
 "metadata": {
  "celltoolbar": "Slideshow",
  "colab": {
   "collapsed_sections": [
    "0LJYevev1Ppg"
   ],
   "name": "3_Exploring_Data.ipynb",
   "provenance": [],
   "toc_visible": true,
   "version": "0.3.2"
  },
  "hide_input": false,
  "kernelspec": {
   "display_name": "Python 3 (ipykernel)",
   "language": "python",
   "name": "python3"
  },
  "language_info": {
   "codemirror_mode": {
    "name": "ipython",
    "version": 3
   },
   "file_extension": ".py",
   "mimetype": "text/x-python",
   "name": "python",
   "nbconvert_exporter": "python",
   "pygments_lexer": "ipython3",
   "version": "3.9.7"
  }
 },
 "nbformat": 4,
 "nbformat_minor": 1
}

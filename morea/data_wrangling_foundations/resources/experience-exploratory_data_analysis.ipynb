{
 "cells": [
  {
   "cell_type": "markdown",
   "id": "30610127",
   "metadata": {},
   "source": [
    "### Q.1\n",
    "\n",
    "* Assuming the `DataFrame`'s `HNL_flights_df` contains information about all the arriving and departing flights in and out of the Honolulu airport (HNL).\n",
    "\n",
    "* Which of the following lines of code will give the number of rows and columns of the `HNL_flights_df DataFrame`?  \n",
    "\n",
    "A:\n",
    "```python\n",
    "HNL_flights_df.size\n",
    "```\n",
    "\n",
    "B: \n",
    "```python\n",
    "HNL_flights_df.shape\n",
    "```\n",
    "\n",
    "C: \n",
    "```python\n",
    "HNL_flights_df.shape()\n",
    "```\n",
    "\n",
    "D: \n",
    "```python\n",
    "pd.shape(HNL_flights_df)\n",
    "```"
   ]
  },
  {
   "cell_type": "code",
   "execution_count": null,
   "id": "4e5d5465",
   "metadata": {},
   "outputs": [],
   "source": [
    "### Q.2\n",
    "\n",
    "Which of the following lines of code will output the average arrival delay time for the flights described in `HNL_flights_df`? \n",
    "\n",
    "A:\n",
    "```python\n",
    "HNL_flights_df['ARRIVAL_DELAY'].mean()\n",
    "```\n",
    "\n",
    "B:\n",
    "```python\n",
    "HNL_flights_df.mean()\n",
    "```\n",
    "\n",
    "C:\n",
    "```python\n",
    "HNL_flights_df[\"ARRIVAL_DELAY\"].sum() / HNL_flights_df[\"ARRIVAL_DELAY\"].size\n",
    "```\n",
    "\n",
    "D:\n",
    "```python\n",
    "HNL_flights_df.describe().ARRIVAL_DELAY\n",
    "```"
   ]
  },
  {
   "cell_type": "code",
   "execution_count": null,
   "id": "821dedb6",
   "metadata": {},
   "outputs": [],
   "source": [
    "### Q.3\n",
    "\n",
    "\n",
    "Which line of code will correctly sort `HNL_flights_df` by the arrival delay in order of largest to least,\n",
    "\n",
    "A:\n",
    "```python\n",
    "HNL_flights_df.sort_values(by='ARRIVAL_DELAY')\n",
    "```\n",
    "\n",
    "B:\n",
    "```python\n",
    "HNL_flights_df.sort_values(by='ARRIVAL_DELAY', ascending = True)\n",
    "```\n",
    "\n",
    "C:\n",
    "```python\n",
    "HNL_flights_df.sort_index(by='ARRIVAL_DELAY', descending=False)\n",
    "```\n",
    "\n",
    "D:\n",
    "```python\n",
    "HNL_flights_df.sort(by='ARRIVAL_DELAY', ascending = False)\n",
    "```"
   ]
  },
  {
   "cell_type": "code",
   "execution_count": null,
   "id": "410f76f4",
   "metadata": {
    "pycharm": {
     "name": "#%%\n"
    }
   },
   "outputs": [],
   "source": [
    "Q.4\n",
    "\n",
    "10 users were asked to select from four options (A, B, C and D). Their responses are stored in the variable `x` below.\n",
    "\n",
    "```python\n",
    "x = pd.Series([\"A\" , \"B\", \"A\", \"A\", \"D\", \"C\", \"A\", \"C\", \"A\", \"A\"])\n",
    "```\n",
    "\n",
    "Use the data in `x` to plot a piechart representing the counts for each of the 4 options. Your plot should look like the following:\n",
    "\n",
    "![](https://www.dropbox.com/s/jgq8whc8jcdazkj/pie_chart.png?dl=1)\n",
    "\n",
    "This can be done by:\n",
    "\n",
    "1. Counting the number of occurrences of each option and storing it into a DataFrame that looks like this:\n",
    "\n",
    "![](https://www.dropbox.com/s/qmr3y9ppf6qllle/counts_df.png?dl=1)\n",
    "\n",
    "2. Invoking the plot method with `pie` option on the `DataFrame`, indicating that your `y` value is the `counts` column."
   ]
  }
 ],
 "metadata": {
  "kernelspec": {
   "display_name": "Python 3 (ipykernel)",
   "language": "python",
   "name": "python3"
  },
  "language_info": {
   "codemirror_mode": {
    "name": "ipython",
    "version": 3
   },
   "file_extension": ".py",
   "mimetype": "text/x-python",
   "name": "python",
   "nbconvert_exporter": "python",
   "pygments_lexer": "ipython3",
   "version": "3.8.12"
  }
 },
 "nbformat": 4,
 "nbformat_minor": 5
}
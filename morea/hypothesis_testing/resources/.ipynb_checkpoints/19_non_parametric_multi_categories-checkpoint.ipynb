{
 "cells": [
  {
   "cell_type": "code",
   "execution_count": 2,
   "metadata": {
    "slideshow": {
     "slide_type": "skip"
    }
   },
   "outputs": [],
   "source": [
    "import numpy as np\n",
    "import matplotlib.pyplot as plt\n",
    "import pandas as pd\n",
    "%matplotlib inline"
   ]
  },
  {
   "cell_type": "markdown",
   "metadata": {
    "slideshow": {
     "slide_type": "slide"
    }
   },
   "source": [
    "#### Comparing proportions\n",
    "\n",
    "* The proportion of branded to unbranded generic medications 5:1 (based on data published on www.statista.com/)\n",
    "\n",
    "* An NGO is exploring incentive to increase use of unbranded generics as to control healthcare spending\n",
    "\n",
    "  * The incentives are tested in a geographical area for one year\n",
    "  * In a survey of the medication sold in that area, out of the 4,434 drugs sold, 3,766 were generics\n",
    "\n",
    "* Is the result different from the national proportion of branded to unbranded generic medications?\n",
    "  * Not that we are merely asking whether the results are different, not whether the program worked?\n"
   ]
  },
  {
   "cell_type": "markdown",
   "metadata": {
    "slideshow": {
     "slide_type": "slide"
    }
   },
   "source": [
    "### Testing Propotion\n",
    "\n",
    "*  A ratio of 5:1  means that 5/6 or ~ 83% of the drugs are generic\n",
    "    * In our survey, 3,766 out of 4,434, or 84.9% are generic.\n",
    "\n",
    "* Can this result be due to sampling alone or is the strategy causing the result to be different\n",
    "\n",
    "* We are interested in the distance between 83%, the national ratio and the survey results.\n",
    "  * Big distances are evidence that the method is causing some difference\n",
    "  \n"
   ]
  },
  {
   "cell_type": "markdown",
   "metadata": {
    "slideshow": {
     "slide_type": "slide"
    }
   },
   "source": [
    "\n",
    "### Deciding on the Test Statistic\n",
    "\n",
    "* We can use the absolute distance between  the national proportion and that obtained from the survey\n",
    "\n",
    "$$\n",
    "∣ (\\text{sample \\% of generic drugs})  − 83 ∣\n",
    "$$\n",
    "\n",
    "\n",
    "* Null Hypothesis: there is no difference between sample % of generic drugs sold and 83\n",
    "\n",
    "  * i.e., the observed difference is merely due to sampling variance\n",
    "\n",
    "\n",
    "* Alternative Hypothesis: The difference is unlikely to have arisen due to chance alone"
   ]
  },
  {
   "cell_type": "markdown",
   "metadata": {
    "slideshow": {
     "slide_type": "slide"
    }
   },
   "source": [
    "### Simulating Data to Sampling Distribution of the Test Statistic\n",
    "\n",
    "* What plausible values of the test statistic under the null hypothesis?\n",
    "\n",
    "* If we were to sample data from outside of the testing area, a difference of the samples and national mean look like\n",
    "  * G: Generic, B: Brand Name\n",
    "\n",
    "![](https://www.dropbox.com/s/m2f6aj5y32qt4tf/method_ratio.png?dl=1)"
   ]
  },
  {
   "cell_type": "markdown",
   "metadata": {
    "slideshow": {
     "slide_type": "slide"
    }
   },
   "source": [
    "### Question \n",
    "\n",
    "* What does the resulting Distribution look like?\n",
    "\n",
    "![](https://www.dropbox.com/s/xrfx4hcw527r71y/answers_a_b.png?dl=1)"
   ]
  },
  {
   "cell_type": "code",
   "execution_count": 193,
   "metadata": {
    "slideshow": {
     "slide_type": "slide"
    }
   },
   "outputs": [
    {
     "data": {
      "image/png": "[encoded data removed]",
      "text/plain": [
       "<matplotlib.figure.Figure at 0x122744be0>"
      ]
     },
     "metadata": {},
     "output_type": "display_data"
    }
   ],
   "source": [
    "data = np.random.normal(0,2, 1000)\n",
    "\n",
    "plt.figure(figsize=(20,6))\n",
    "\n",
    "plt.subplot(1, 2, 1)\n",
    "\n",
    "_ = plt.hist(data, bins=15, edgecolor='k', linewidth=1.4)\n",
    "plt.subplot(1, 2, 2)\n",
    "\n",
    "_ = plt.hist(np.abs(data), bins=15, edgecolor='k', linewidth=1.4)\n"
   ]
  },
  {
   "cell_type": "markdown",
   "metadata": {
    "slideshow": {
     "slide_type": "slide"
    }
   },
   "source": [
    "### Question\n",
    "\n",
    "* Beyond sampling another dataset form the surveyed area, what other strategies can we use to explore the range of difference between 83% and samples that come from the same distribution\n",
    "  * I.e, how can we generate random samples that look like those produced under the null hypothesis without physically sampling new data\n",
    "    \n",
    "    \n"
   ]
  },
  {
   "cell_type": "code",
   "execution_count": 194,
   "metadata": {
    "slideshow": {
     "slide_type": "slide"
    }
   },
   "outputs": [
    {
     "data": {
      "text/plain": [
       "array(['G', 'G', 'G', ..., 'G', 'G', 'B'], dtype='<U1')"
      ]
     },
     "execution_count": 194,
     "metadata": {},
     "output_type": "execute_result"
    }
   ],
   "source": [
    "# First exampl\n",
    "model_proportions = [0.17, 0.83]\n",
    "\n",
    "data = np.random.choice([\"B\",\"G\"], p=model_proportions, size=4434)\n",
    "data\n",
    "\n"
   ]
  },
  {
   "cell_type": "code",
   "execution_count": 195,
   "metadata": {
    "slideshow": {
     "slide_type": "slide"
    }
   },
   "outputs": [
    {
     "data": {
      "text/plain": [
       "83.15290933694182"
      ]
     },
     "execution_count": 195,
     "metadata": {},
     "output_type": "execute_result"
    }
   ],
   "source": [
    "sum(data == \"G\") / 4434 * 100"
   ]
  },
  {
   "cell_type": "code",
   "execution_count": 5,
   "metadata": {},
   "outputs": [
    {
     "data": {
      "text/plain": [
       "7"
      ]
     },
     "execution_count": 5,
     "metadata": {},
     "output_type": "execute_result"
    }
   ],
   "source": [
    "np.random.binomial(10, 0.83)"
   ]
  },
  {
   "cell_type": "code",
   "execution_count": 3,
   "metadata": {
    "slideshow": {
     "slide_type": "slide"
    }
   },
   "outputs": [
    {
     "data": {
      "text/plain": [
       "82.70184934596301"
      ]
     },
     "execution_count": 3,
     "metadata": {},
     "output_type": "execute_result"
    }
   ],
   "source": [
    "# Or using the binomial distribution\n",
    "np.random.binomial(4434, 0.83) / 4434 * 100"
   ]
  },
  {
   "cell_type": "code",
   "execution_count": 212,
   "metadata": {
    "slideshow": {
     "slide_type": "slide"
    }
   },
   "outputs": [
    {
     "data": {
      "image/png": "[encoded data removed]",
      "text/plain": [
       "<matplotlib.figure.Figure at 0x12344c908>"
      ]
     },
     "metadata": {},
     "output_type": "display_data"
    }
   ],
   "source": [
    "plt.figure(figsize=(12,6))\n",
    "\n",
    "sample_diffs_null = []\n",
    "for _ in range(5000):\n",
    "    sample_proportion = sum(np.random.choice([0,1], p=model_proportions, size=4434)) / 4434 * 100\n",
    "    sample_diff = np.abs(sample_proportion - 83)\n",
    "    sample_diffs_null.append(sample_diff)\n",
    "_ = plt.hist(sample_diffs_null, bins=15, edgecolor='k', linewidth=1.4)"
   ]
  },
  {
   "cell_type": "code",
   "execution_count": 213,
   "metadata": {
    "slideshow": {
     "slide_type": "slide"
    }
   },
   "outputs": [
    {
     "data": {
      "image/png": "[encoded data removed]",
      "text/plain": [
       "<matplotlib.figure.Figure at 0x1237ebeb8>"
      ]
     },
     "metadata": {},
     "output_type": "display_data"
    }
   ],
   "source": [
    "plt.figure(figsize=(12,6))\n",
    "_ = plt.hist(sample_diffs_null, bins=15, edgecolor='k', linewidth=1.4)\n",
    "\n",
    "_ = plt.scatter( 1.9 ,0, color='r', s=140)\n"
   ]
  },
  {
   "cell_type": "code",
   "execution_count": 201,
   "metadata": {
    "slideshow": {
     "slide_type": "slide"
    }
   },
   "outputs": [
    {
     "data": {
      "text/plain": [
       "0.001"
      ]
     },
     "execution_count": 201,
     "metadata": {},
     "output_type": "execute_result"
    }
   ],
   "source": [
    "# computimg the p-value\n",
    "p_value = sum(np.array(sample_diffs_null) > 1.9) / len(sample_diffs_null)\n",
    "p_value"
   ]
  },
  {
   "cell_type": "markdown",
   "metadata": {
    "slideshow": {
     "slide_type": "slide"
    }
   },
   "source": [
    "### Comparing Multiple Categories\n",
    "\n",
    "* The method we used in the previous example extends to models with multiple categories\n",
    "\n",
    "* The approach will be the same as before \n",
    "\n",
    "  * The only difference is that we have to come up with a new test  statistic \n",
    "\n"
   ]
  },
  {
   "cell_type": "markdown",
   "metadata": {
    "slideshow": {
     "slide_type": "slide"
    }
   },
   "source": [
    "### New Methods for Estimating Fish Diversity?\n",
    "\n",
    "* You have a faster, autonomous machine learning-based method of estimating the diversity of fish in a given area\n",
    "\n",
    "<img src=\"https://www.dropbox.com/s/bngjfwafy0umnhd/eDNA_fish.png?dl=1\" alt=\"drawing\" style=\"width:900px;\"/>\n",
    "\n",
    "\n"
   ]
  },
  {
   "cell_type": "markdown",
   "metadata": {
    "slideshow": {
     "slide_type": "slide"
    }
   },
   "source": [
    "### New Methods for Estimating Fish Diversity - Cont'd\n",
    "\n",
    "* Your method can provide ratios for Tilapia, Blenny, Angelfish, Salmon and Other in a pisciculture pond\n",
    "* You manually collected 2,000 and counted each ratio \n",
    "  * This is tedious method is the current state of the art\n",
    "* You used you eDNA to estimate the ratios.\n",
    "* Results are shown in the graph below\n",
    "\n",
    "\n"
   ]
  },
  {
   "cell_type": "code",
   "execution_count": 203,
   "metadata": {
    "slideshow": {
     "slide_type": "slide"
    }
   },
   "outputs": [
    {
     "data": {
      "text/html": [
       "<div>\n",
       "<style scoped>\n",
       "    .dataframe tbody tr th:only-of-type {\n",
       "        vertical-align: middle;\n",
       "    }\n",
       "\n",
       "    .dataframe tbody tr th {\n",
       "        vertical-align: top;\n",
       "    }\n",
       "\n",
       "    .dataframe thead th {\n",
       "        text-align: right;\n",
       "    }\n",
       "</style>\n",
       "<table border=\"1\" class=\"dataframe\">\n",
       "  <thead>\n",
       "    <tr style=\"text-align: right;\">\n",
       "      <th></th>\n",
       "      <th>kind</th>\n",
       "      <th>sampled</th>\n",
       "      <th>eDNA</th>\n",
       "    </tr>\n",
       "  </thead>\n",
       "  <tbody>\n",
       "    <tr>\n",
       "      <th>0</th>\n",
       "      <td>Tilapia</td>\n",
       "      <td>0.20</td>\n",
       "      <td>0.26</td>\n",
       "    </tr>\n",
       "    <tr>\n",
       "      <th>1</th>\n",
       "      <td>Blenny</td>\n",
       "      <td>0.08</td>\n",
       "      <td>0.08</td>\n",
       "    </tr>\n",
       "    <tr>\n",
       "      <th>2</th>\n",
       "      <td>Angelfish</td>\n",
       "      <td>0.12</td>\n",
       "      <td>0.08</td>\n",
       "    </tr>\n",
       "    <tr>\n",
       "      <th>3</th>\n",
       "      <td>Salmon</td>\n",
       "      <td>0.54</td>\n",
       "      <td>0.54</td>\n",
       "    </tr>\n",
       "    <tr>\n",
       "      <th>4</th>\n",
       "      <td>Other</td>\n",
       "      <td>0.06</td>\n",
       "      <td>0.04</td>\n",
       "    </tr>\n",
       "  </tbody>\n",
       "</table>\n",
       "</div>"
      ],
      "text/plain": [
       "        kind  sampled  eDNA\n",
       "0    Tilapia     0.20  0.26\n",
       "1     Blenny     0.08  0.08\n",
       "2  Angelfish     0.12  0.08\n",
       "3     Salmon     0.54  0.54\n",
       "4      Other     0.06  0.04"
      ]
     },
     "execution_count": 203,
     "metadata": {},
     "output_type": "execute_result"
    }
   ],
   "source": [
    "fish_proportions = pd.DataFrame({'kind': ['Tilapia', 'Blenny', 'Angelfish', 'Salmon', 'Other'], 'sampled': [0.20, 0.08, 0.12, 0.54, 0.06], 'eDNA': [0.26, 0.08, 0.08, 0.54, 0.04]})\n",
    "\n",
    "fish_proportions"
   ]
  },
  {
   "cell_type": "code",
   "execution_count": 204,
   "metadata": {
    "slideshow": {
     "slide_type": "slide"
    }
   },
   "outputs": [
    {
     "data": {
      "text/plain": [
       "<matplotlib.axes._subplots.AxesSubplot at 0x122a6a438>"
      ]
     },
     "execution_count": 204,
     "metadata": {},
     "output_type": "execute_result"
    },
    {
     "data": {
      "image/png": "[encoded data removed]",
      "text/plain": [
       "<matplotlib.figure.Figure at 0x1235ede48>"
      ]
     },
     "metadata": {},
     "output_type": "display_data"
    }
   ],
   "source": [
    "fish_proportions.plot.barh(x=\"kind\", figsize=(12,6))"
   ]
  },
  {
   "cell_type": "markdown",
   "metadata": {
    "slideshow": {
     "slide_type": "slide"
    }
   },
   "source": [
    "### Question\n",
    "\n",
    "* The data distributions looks slightly different\n",
    "\n",
    "* We need to answer the following questions:\n",
    "\n",
    "  1. What are the null and alternative hypotheses?\n",
    "  2. What is a useful test statistic for this problem?\n",
    "  3. How can we generate data following the null hypothesis?\n",
    "\n"
   ]
  },
  {
   "cell_type": "markdown",
   "metadata": {
    "slideshow": {
     "slide_type": "slide"
    }
   },
   "source": [
    "### Null and Alternative Hypotheses\n",
    "\n",
    "1. Our hypotheses are:\n",
    "\n",
    "  * Null hypothesis: The observed difference between both methods is due to sampling\n",
    "    * If we were to sample again, we may see an even greater difference\n",
    "  * Alternative hypothesis: The difference is too big to be due to random chance alone.\n",
    "    * If we were to sample again, we would rarely, if ever, observe such a difference barplot\n",
    "    \n",
    "  * Not that here again, we are not concerned in whether or not on method is over or underestimating a specific fish\n",
    "    * we only care about whether or not the method yields equivalent results to the counting a large sample manually"
   ]
  },
  {
   "cell_type": "markdown",
   "metadata": {
    "slideshow": {
     "slide_type": "slide"
    }
   },
   "source": [
    "### 1. The test statistic\n",
    "\n",
    "* A good test statistic for this problem is on that allows us to quantify the difference between the two distribution\n",
    "  * Discrepancy in graph's labels `basin = sampled` and `collected = eDNA`\n",
    "\n",
    "![](https://www.dropbox.com/s/3q9zr7clxhll3nj/difference.png?dl=1)"
   ]
  },
  {
   "cell_type": "markdown",
   "metadata": {
    "slideshow": {
     "slide_type": "slide"
    }
   },
   "source": [
    "### The Distance Between Two Distributions\n",
    "\n",
    "* We can quantify the distance between two distributions using the **total variation distance** \n",
    "\n",
    "  - Conceptually similar to the Euclidean distance between two vectors\n"
   ]
  },
  {
   "cell_type": "code",
   "execution_count": 205,
   "metadata": {
    "slideshow": {
     "slide_type": "slide"
    }
   },
   "outputs": [
    {
     "data": {
      "text/html": [
       "<div>\n",
       "<style scoped>\n",
       "    .dataframe tbody tr th:only-of-type {\n",
       "        vertical-align: middle;\n",
       "    }\n",
       "\n",
       "    .dataframe tbody tr th {\n",
       "        vertical-align: top;\n",
       "    }\n",
       "\n",
       "    .dataframe thead th {\n",
       "        text-align: right;\n",
       "    }\n",
       "</style>\n",
       "<table border=\"1\" class=\"dataframe\">\n",
       "  <thead>\n",
       "    <tr style=\"text-align: right;\">\n",
       "      <th></th>\n",
       "      <th>kind</th>\n",
       "      <th>sampled</th>\n",
       "      <th>eDNA</th>\n",
       "      <th>difference</th>\n",
       "    </tr>\n",
       "  </thead>\n",
       "  <tbody>\n",
       "    <tr>\n",
       "      <th>0</th>\n",
       "      <td>Tilapia</td>\n",
       "      <td>0.20</td>\n",
       "      <td>0.26</td>\n",
       "      <td>-0.06</td>\n",
       "    </tr>\n",
       "    <tr>\n",
       "      <th>1</th>\n",
       "      <td>Blenny</td>\n",
       "      <td>0.08</td>\n",
       "      <td>0.08</td>\n",
       "      <td>0.00</td>\n",
       "    </tr>\n",
       "    <tr>\n",
       "      <th>2</th>\n",
       "      <td>Angelfish</td>\n",
       "      <td>0.12</td>\n",
       "      <td>0.08</td>\n",
       "      <td>0.04</td>\n",
       "    </tr>\n",
       "    <tr>\n",
       "      <th>3</th>\n",
       "      <td>Salmon</td>\n",
       "      <td>0.54</td>\n",
       "      <td>0.54</td>\n",
       "      <td>0.00</td>\n",
       "    </tr>\n",
       "    <tr>\n",
       "      <th>4</th>\n",
       "      <td>Other</td>\n",
       "      <td>0.06</td>\n",
       "      <td>0.04</td>\n",
       "      <td>0.02</td>\n",
       "    </tr>\n",
       "  </tbody>\n",
       "</table>\n",
       "</div>"
      ],
      "text/plain": [
       "        kind  sampled  eDNA  difference\n",
       "0    Tilapia     0.20  0.26       -0.06\n",
       "1     Blenny     0.08  0.08        0.00\n",
       "2  Angelfish     0.12  0.08        0.04\n",
       "3     Salmon     0.54  0.54        0.00\n",
       "4      Other     0.06  0.04        0.02"
      ]
     },
     "execution_count": 205,
     "metadata": {},
     "output_type": "execute_result"
    }
   ],
   "source": [
    "fish_proportions[\"difference\"] = fish_proportions[\"sampled\"] - fish_proportions[\"eDNA\"]\n",
    "fish_proportions"
   ]
  },
  {
   "cell_type": "markdown",
   "metadata": {
    "slideshow": {
     "slide_type": "slide"
    }
   },
   "source": [
    "### The Total Variation Distance\n",
    "\n",
    "* Notice that the sum of the entries of `difference` is 0\n",
    "\n",
    "  * the positive entries add up to 0.14, exactly canceling the total of the negative entries which is -0.14. \n",
    "  \n",
    "* ``basin`` and ``collected`` add up to 1\n",
    "\n",
    "  * `1-1` needs to be equal to zero\n",
    "    \n",
    "* To avoid numbers canceling each other, we sum the absolute values and divide by two.\n",
    "\n",
    "$$\n",
    "tvd = \\frac{1}{2}\\sum_{x \\in \\Omega}|P(x) - Q(x)|,\n",
    "$$\n",
    "\n",
    "Where `P` and `Q` are the two probability measure over $\\Omega$\n",
    "\n",
    "* Other distances but this one is intuitive and fast to compute"
   ]
  },
  {
   "cell_type": "code",
   "execution_count": 206,
   "metadata": {
    "collapsed": true,
    "slideshow": {
     "slide_type": "slide"
    }
   },
   "outputs": [],
   "source": [
    "observed_tvd = 1/2 * sum(np.abs(fish_proportions['sampled'] - fish_proportions['eDNA']) )"
   ]
  },
  {
   "cell_type": "markdown",
   "metadata": {
    "slideshow": {
     "slide_type": "slide"
    }
   },
   "source": [
    "### 3. Generating Data Under the Null \n",
    "\n",
    "* Given two categories, Tilpia and Other, and propotion of each p(True) = 0.15 and  P(False) = 1-p(True) = 0.85\n",
    "\n",
    "  * We can generate 200 instances (Tilapia or Other) using the binomial distribution\n",
    "\n"
   ]
  },
  {
   "cell_type": "code",
   "execution_count": 14,
   "metadata": {
    "slideshow": {
     "slide_type": "slide"
    }
   },
   "outputs": [
    {
     "name": "stdout",
     "output_type": "stream",
     "text": [
      "['Other' 'Other' 'Other' 'Other' 'Other' 'Other' 'Tilapia' 'Other'\n",
      " 'Tilapia' 'Other']\n",
      "35\n"
     ]
    }
   ],
   "source": [
    "sample_1 = np.random.choice(['Tilapia', 'Other'], p=[0.15, 0.85], size=200)\n",
    "print(sample_1[0:10])\n",
    "print(sum(sample_1 == \"Tilapia\"))\n"
   ]
  },
  {
   "cell_type": "code",
   "execution_count": 9,
   "metadata": {},
   "outputs": [
    {
     "name": "stdout",
     "output_type": "stream",
     "text": [
      "30\n",
      "32\n"
     ]
    }
   ],
   "source": [
    "print(np.random.binomial(200, 0.15))\n",
    "print(np.random.binomial(200, 0.15))"
   ]
  },
  {
   "cell_type": "markdown",
   "metadata": {
    "slideshow": {
     "slide_type": "slide"
    }
   },
   "source": [
    "### The Multionomial Distribution\n",
    "\n",
    "* The Multinomial generalized the binomial distribution to multiple categories\n",
    "  * The trials are independent\n",
    "  * The probability of each outcome across trials is constant\n",
    "  * The experiment consists of $n$ repeated trials\n",
    "  * Each trial has a discrete number of possible outcomes (the categories)\n"
   ]
  },
  {
   "cell_type": "code",
   "execution_count": 207,
   "metadata": {
    "slideshow": {
     "slide_type": "slide"
    }
   },
   "outputs": [
    {
     "data": {
      "text/plain": [
       "337"
      ]
     },
     "execution_count": 207,
     "metadata": {},
     "output_type": "execute_result"
    }
   ],
   "source": [
    "# This is equivalent to the binomial above, but  returns the outcomes of each trial rather than the outcomes at the end\n",
    "np.random.binomial(2000, p=0.15)"
   ]
  },
  {
   "cell_type": "code",
   "execution_count": 208,
   "metadata": {
    "slideshow": {
     "slide_type": "slide"
    }
   },
   "outputs": [
    {
     "data": {
      "text/plain": [
       "array(['Tilapia', 'Salmon', 'Salmon', 'Salmon', 'Salmon', 'Tilapia',\n",
       "       'Salmon', 'Salmon', 'Salmon', 'Tilapia', 'Blenny', 'Salmon',\n",
       "       'Salmon', 'Blenny', 'Salmon', 'Angelfish', 'Blenny', 'Tilapia',\n",
       "       'Tilapia', 'Blenny', 'Angelfish', 'Salmon', 'Blenny', 'Salmon',\n",
       "       'Salmon', 'Angelfish', 'Tilapia', 'Salmon', 'Blenny', 'Tilapia',\n",
       "       'Salmon', 'Blenny', 'Tilapia', 'Tilapia', 'Salmon', 'Blenny',\n",
       "       'Salmon', 'Blenny', 'Salmon', 'Other', 'Blenny', 'Salmon',\n",
       "       'Salmon', 'Tilapia', 'Salmon', 'Salmon', 'Salmon', 'Tilapia',\n",
       "       'Salmon', 'Salmon', 'Blenny', 'Blenny', 'Blenny', 'Salmon',\n",
       "       'Tilapia', 'Salmon', 'Salmon', 'Angelfish', 'Salmon', 'Salmon',\n",
       "       'Salmon', 'Salmon', 'Blenny', 'Blenny', 'Tilapia', 'Salmon',\n",
       "       'Blenny', 'Blenny', 'Tilapia', 'Salmon', 'Salmon', 'Blenny',\n",
       "       'Salmon', 'Blenny', 'Tilapia', 'Salmon', 'Salmon', 'Salmon',\n",
       "       'Salmon', 'Salmon', 'Blenny', 'Blenny', 'Salmon', 'Angelfish',\n",
       "       'Salmon', 'Salmon', 'Tilapia', 'Salmon', 'Blenny', 'Tilapia',\n",
       "       'Tilapia', 'Blenny', 'Salmon', 'Salmon', 'Salmon', 'Salmon',\n",
       "       'Salmon', 'Salmon', 'Blenny', 'Tilapia', 'Salmon', 'Salmon',\n",
       "       'Blenny', 'Tilapia', 'Blenny', 'Blenny', 'Salmon', 'Angelfish',\n",
       "       'Tilapia', 'Tilapia', 'Salmon', 'Salmon', 'Blenny', 'Salmon',\n",
       "       'Blenny', 'Angelfish', 'Salmon', 'Tilapia', 'Angelfish', 'Tilapia',\n",
       "       'Angelfish', 'Salmon', 'Angelfish', 'Salmon', 'Salmon', 'Blenny',\n",
       "       'Salmon', 'Salmon', 'Salmon', 'Angelfish', 'Tilapia', 'Salmon',\n",
       "       'Tilapia', 'Salmon', 'Blenny', 'Blenny', 'Salmon', 'Angelfish',\n",
       "       'Tilapia', 'Angelfish', 'Other', 'Blenny', 'Blenny', 'Angelfish',\n",
       "       'Angelfish', 'Tilapia', 'Salmon', 'Angelfish', 'Salmon', 'Blenny',\n",
       "       'Salmon', 'Blenny', 'Salmon', 'Blenny', 'Salmon', 'Tilapia',\n",
       "       'Blenny', 'Salmon', 'Tilapia', 'Blenny', 'Salmon', 'Angelfish',\n",
       "       'Tilapia', 'Tilapia', 'Salmon', 'Salmon', 'Tilapia', 'Tilapia',\n",
       "       'Angelfish', 'Salmon', 'Tilapia', 'Blenny', 'Salmon', 'Salmon',\n",
       "       'Angelfish', 'Salmon', 'Salmon', 'Salmon', 'Angelfish', 'Salmon',\n",
       "       'Tilapia', 'Salmon', 'Salmon', 'Salmon', 'Angelfish', 'Salmon',\n",
       "       'Salmon', 'Tilapia', 'Salmon', 'Blenny', 'Salmon', 'Tilapia',\n",
       "       'Tilapia', 'Salmon', 'Salmon', 'Salmon', 'Tilapia', 'Salmon',\n",
       "       'Salmon', 'Angelfish'], dtype='<U9')"
      ]
     },
     "execution_count": 208,
     "metadata": {},
     "output_type": "execute_result"
    }
   ],
   "source": [
    "# This is equivalent to the multinomial above but returns the outcomes of each trial rather than the outcomes at the end\n",
    "np.random.choice(['Tilapia', 'Blenny', 'Angelfish', 'Salmon', 'Other'], p=[0.15, 0.18, 0.12, 0.54, 0.01], size=200)"
   ]
  },
  {
   "cell_type": "code",
   "execution_count": 210,
   "metadata": {
    "slideshow": {
     "slide_type": "slide"
    }
   },
   "outputs": [
    {
     "data": {
      "text/plain": [
       "array([20, 15, 29, 19, 18, 19])"
      ]
     },
     "execution_count": 210,
     "metadata": {},
     "output_type": "execute_result"
    }
   ],
   "source": [
    "# Throw a dice 120 times\n",
    "np.random.multinomial(120, pvals=[1/6, 1/6, 1/6, 1/6, 1/6, 1/6] ) "
   ]
  },
  {
   "cell_type": "markdown",
   "metadata": {
    "slideshow": {
     "slide_type": "slide"
    }
   },
   "source": [
    "### Simulating the experiment\n",
    "\n",
    "* Given the sample proportions, what is the sampling distribution of the `tvd`\n",
    "\n",
    "1. generate a random sample using the multinomial distributions and the observed proportions\n",
    "2. Compute and store the sample `tvd`"
   ]
  },
  {
   "cell_type": "code",
   "execution_count": 211,
   "metadata": {
    "slideshow": {
     "slide_type": "slide"
    }
   },
   "outputs": [],
   "source": [
    "samples_tvd = []\n",
    "\n",
    "for i in range(5000):\n",
    "    sample_proportions = np.random.multinomial(500,  pvals=fish_proportions[\"sampled\"]) / 500\n",
    "    sample_tvd = 1/2 * sum(np.abs(fish_proportions['sampled'].tolist() - sample_proportions) )\n",
    "    samples_tvd.append(sample_tvd)\n"
   ]
  },
  {
   "cell_type": "code",
   "execution_count": 214,
   "metadata": {
    "slideshow": {
     "slide_type": "slide"
    }
   },
   "outputs": [
    {
     "data": {
      "image/png": "[encoded data removed]",
      "text/plain": [
       "<matplotlib.figure.Figure at 0x1234456d8>"
      ]
     },
     "metadata": {},
     "output_type": "display_data"
    }
   ],
   "source": [
    "plt.figure(figsize=(12,6))\n",
    "_ = plt.hist(samples_tvd, bins=15, edgecolor='k', linewidth=1.4, alpha=0.7)"
   ]
  },
  {
   "cell_type": "code",
   "execution_count": 215,
   "metadata": {
    "slideshow": {
     "slide_type": "slide"
    }
   },
   "outputs": [
    {
     "data": {
      "text/plain": [
       "<matplotlib.collections.PathCollection at 0x1237eb518>"
      ]
     },
     "execution_count": 215,
     "metadata": {},
     "output_type": "execute_result"
    },
    {
     "data": {
      "image/png": "[encoded data removed]",
      "text/plain": [
       "<matplotlib.figure.Figure at 0x12394c390>"
      ]
     },
     "metadata": {},
     "output_type": "display_data"
    }
   ],
   "source": [
    "plt.figure(figsize=(12,6))\n",
    "_ = plt.hist(samples_tvd, bins=15, edgecolor='k', linewidth=1.4, alpha=0.7)\n",
    "\n",
    "plt.scatter(observed_tvd, 2, color='r', s=100)"
   ]
  },
  {
   "cell_type": "code",
   "execution_count": 216,
   "metadata": {
    "slideshow": {
     "slide_type": "slide"
    }
   },
   "outputs": [
    {
     "data": {
      "text/plain": [
       "0.018"
      ]
     },
     "execution_count": 216,
     "metadata": {},
     "output_type": "execute_result"
    },
    {
     "data": {
      "text/plain": [
       "<matplotlib.figure.Figure at 0x123c46780>"
      ]
     },
     "metadata": {},
     "output_type": "display_data"
    }
   ],
   "source": [
    "p_value = np.sum([np.array(samples_tvd) > observed_tvd]) / len(samples_tvd)\n",
    "p_value"
   ]
  },
  {
   "cell_type": "markdown",
   "metadata": {
    "slideshow": {
     "slide_type": "slide"
    }
   },
   "source": [
    "### Notes About the Outcome\n",
    "\n",
    "- Using a p-value threshold of 0.05 the distribution of fish kind is different  using both methods \n",
    "\n",
    "  - TVD 0.18, which is far out in the tail of the histogram above\n",
    "  \n",
    "The difference does not say *why* the distributions are different or what the difference might imply"
   ]
  },
  {
   "cell_type": "code",
   "execution_count": null,
   "metadata": {
    "collapsed": true,
    "slideshow": {
     "slide_type": "slide"
    }
   },
   "outputs": [],
   "source": []
  }
 ],
 "metadata": {
  "celltoolbar": "Slideshow",
  "hide_input": false,
  "kernelspec": {
   "display_name": "Python 3 (ipykernel)",
   "language": "python",
   "name": "python3"
  },
  "language_info": {
   "codemirror_mode": {
    "name": "ipython",
    "version": 3
   },
   "file_extension": ".py",
   "mimetype": "text/x-python",
   "name": "python",
   "nbconvert_exporter": "python",
   "pygments_lexer": "ipython3",
   "version": "3.8.11"
  }
 },
 "nbformat": 4,
 "nbformat_minor": 2
}

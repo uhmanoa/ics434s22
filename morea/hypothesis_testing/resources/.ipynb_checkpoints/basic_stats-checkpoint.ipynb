{
 "cells": [
  {
   "cell_type": "code",
   "execution_count": 33,
   "id": "d4cef623",
   "metadata": {},
   "outputs": [],
   "source": [
    "import numpy as np\n",
    "import pandas as pd\n",
    "import scipy.stats\n",
    "import matplotlib.pyplot as plt"
   ]
  },
  {
   "cell_type": "markdown",
   "id": "7e27a5ba",
   "metadata": {},
   "source": [
    "### $\\chi^2$ goodness-of-fit test\n",
    "\n",
    "* The $\\chi^2$ goodness-of-fit test is one of the oldest hypothesis tests around\n",
    "\n",
    "* A Chi-square test is a hypothesis testing method\n",
    "  * Two different flavors\n",
    "  * The goodness of fit Chi-square tests involve checking if observed frequencies in one or more categories match expected frequencies\n",
    "\n",
    "* Cateorical data refers to data with a \"nominal scale\"\n",
    "  * A scale of measurement used to assign events or objects into discrete categories"
   ]
  },
  {
   "cell_type": "markdown",
   "id": "49772bd4",
   "metadata": {},
   "source": [
    "### The Card Radnomness Test\n",
    "\n",
    "* Ask 200 people to mentally choose two card suits. Is the choice random?\n",
    "\n",
    "* Suppose the data is:\n",
    "\n",
    "```\n",
    "clubs diamonds   hearts   spades \n",
    "      35       51       64       50 \n",
    "```"
   ]
  },
  {
   "cell_type": "markdown",
   "id": "3b19fb9c",
   "metadata": {},
   "source": [
    "### How do we Reprodcude Similar Data?\n",
    "\n",
    "* The Observed frequncies $O = (O_1, O_2, O_3, O_4) = (35,51,64,50)$\n",
    "\n",
    "* How do we sample similar data in Python ?\n",
    "   * Ex. How can you randomly sample 200 opbserations of 4 events?\n",
    "* Which distribution should we use?\n",
    "  * Recall, this is simply a generalization of (coin flip)"
   ]
  },
  {
   "cell_type": "code",
   "execution_count": 8,
   "id": "60cd4a5b",
   "metadata": {},
   "outputs": [
    {
     "data": {
      "text/plain": [
       "array([55, 41, 61, 43])"
      ]
     },
     "execution_count": 8,
     "metadata": {},
     "output_type": "execute_result"
    }
   ],
   "source": [
    "n = 1\n",
    "size = 200\n",
    "prob = [1/4, 1/4, 1/4, 1/4]\n",
    "np.random.multinomial(200, prob)"
   ]
  },
  {
   "cell_type": "markdown",
   "id": "891815ba",
   "metadata": {},
   "source": [
    "### Pearson’s $\\chi^2$ goodness of fit test\n",
    "\n",
    "* Our assumtpion is that the card (categories, or whatever other counts) are not uniformly represented.\n",
    "\n",
    "    * $H_0$: All four suits are chosen with equal probability\n",
    "    * $H_A$: At least one of the suit-choice probabilities isn’t 0.25\n",
    "\n",
    "\n",
    "\n",
    "* How to test this hypothesis?\n",
    "\n",
    "* Same as the test we had manually run\n",
    "  * Sample uniformly represented card\n",
    "  * Compute some test statistics\n",
    "  * Plot where the observed statistics occurs under the null distribution\n",
    "\n",
    "* This is exactly what the $\\chi^2$ goodness of fit tests\n",
    "\n",
    " * $H_0$: $P = (25,.25,.25,.25)$\n",
    " * $H_A$: $P \\ne (.25,.25,.25,.25)$\n"
   ]
  },
  {
   "cell_type": "markdown",
   "id": "24ab41b8",
   "metadata": {},
   "source": [
    "### The “Goodness of Fit” Test Statistic\n",
    "\n",
    "* Similar to what we've done via simulation, if we want to test $H_0$ against $H_1$, we’re going to need a test statistic\n",
    "  * Measures how “close” the data are to the null hypothesis\n",
    "  * If the data don’t resemble what you would “expect” to see if the null hypothesis were true, then it probably isn’t true\n",
    "  * What are the expected frequencies?"
   ]
  },
  {
   "cell_type": "code",
   "execution_count": 9,
   "id": "2381dce8",
   "metadata": {},
   "outputs": [
    {
     "data": {
      "text/plain": [
       "{'clubs': 0.25, 'diamonds': 0.25, 'hearts': 0.25, 'spades': 0.25}"
      ]
     },
     "execution_count": 9,
     "metadata": {},
     "output_type": "execute_result"
    }
   ],
   "source": [
    "### What is this called in R?\n",
    "probabilities = {\"clubs\": .25, \"diamonds\": .25, \"hearts\": .25, \"spades\": .25}\n",
    "probabilities\n"
   ]
  },
  {
   "cell_type": "code",
   "execution_count": 10,
   "id": "26b53e36",
   "metadata": {},
   "outputs": [],
   "source": [
    "probabilities = pd.Series([0.25,0.25,0.25,0.25], index=[\"clubs\", \"diamonds\",\"hearts\", \"spades\"])"
   ]
  },
  {
   "cell_type": "code",
   "execution_count": 11,
   "id": "5df97e70",
   "metadata": {},
   "outputs": [
    {
     "data": {
      "text/plain": [
       "clubs       50.0\n",
       "diamonds    50.0\n",
       "hearts      50.0\n",
       "spades      50.0\n",
       "dtype: float64"
      ]
     },
     "execution_count": 11,
     "metadata": {},
     "output_type": "execute_result"
    }
   ],
   "source": [
    "expected= 200 * probabilities\n",
    "expected\n"
   ]
  },
  {
   "cell_type": "markdown",
   "id": "a4327e67",
   "metadata": {},
   "source": [
    "### Compare Expected versus Observed\n",
    "\n",
    "Objetive: compare the expected (Ei) wiht observed vals in each category\n",
    "\n",
    "![](https://www.dropbox.com/s/61z3mx4g33qrq19/obs_exp.png?dl=1)\n",
    "\n",
    "* Sign should not matter + 14 hearts and -15 clubs should be equivalent to -14 hearts and +15 clubs\n",
    "  * Easy: we can just count the squared error\n",
    "* We' also interested in contextualizing that error. \n",
    "  * +14 with regards to what\n",
    "  * Let's divide by the expectation so we can also represent this error in terms of units representing how far form the expectation it is. \n",
    "  * The total distance we're off by is the sum of all of these.\n",
    "\n",
    "\n"
   ]
  },
  {
   "cell_type": "code",
   "execution_count": 12,
   "id": "02a7d8d1",
   "metadata": {},
   "outputs": [
    {
     "data": {
      "text/plain": [
       "clubs      -15.0\n",
       "diamonds     1.0\n",
       "hearts      14.0\n",
       "spades       0.0\n",
       "dtype: float64"
      ]
     },
     "execution_count": 12,
     "metadata": {},
     "output_type": "execute_result"
    }
   ],
   "source": [
    "observed = pd.Series([35, 51, 64, 50], index=[\"clubs\", \"diamonds\",\"hearts\", \"spades\"])\n",
    "observed - expected"
   ]
  },
  {
   "cell_type": "code",
   "execution_count": 16,
   "id": "257b2245",
   "metadata": {},
   "outputs": [
    {
     "data": {
      "text/plain": [
       "clubs       4.50\n",
       "diamonds    0.02\n",
       "hearts      3.92\n",
       "spades      0.00\n",
       "dtype: float64"
      ]
     },
     "execution_count": 16,
     "metadata": {},
     "output_type": "execute_result"
    }
   ],
   "source": [
    "(observed - expected)**2 / expected"
   ]
  },
  {
   "cell_type": "code",
   "execution_count": 17,
   "id": "cfd14d37",
   "metadata": {},
   "outputs": [
    {
     "data": {
      "text/plain": [
       "clubs       4.50\n",
       "diamonds    0.02\n",
       "hearts      3.92\n",
       "spades      0.00\n",
       "dtype: float64"
      ]
     },
     "execution_count": 17,
     "metadata": {},
     "output_type": "execute_result"
    }
   ],
   "source": [
    "(observed - expected)**2 / expected"
   ]
  },
  {
   "cell_type": "code",
   "execution_count": 18,
   "id": "6f3ae69e",
   "metadata": {},
   "outputs": [
    {
     "data": {
      "text/plain": [
       "8.44"
      ]
     },
     "execution_count": 18,
     "metadata": {},
     "output_type": "execute_result"
    }
   ],
   "source": [
    "sum((observed - expected)**2 / expected)"
   ]
  },
  {
   "cell_type": "markdown",
   "id": "a45dcd62",
   "metadata": {},
   "source": [
    "### The $\\chi^2$ Statistic\n",
    "\n",
    "* What we Computed Above is the $\\chi^2$ Statistic\n",
    "\n",
    "$$\n",
    "\\chi^2 = \\sum_{i=1}^{k} \\frac{(E_i - O_i)^2}{E_i}\n",
    "$$\n",
    "\n",
    "where $k$ is the number of categories\n",
    " \n",
    "* Similar to our similations with the SVD distance, it's easy to observe that large vlaue of $\\chi^2$ are in favor of the alternaitves, i.e.:\n",
    "\n",
    "* If $\\chi^2$ is small, then $O_i$  and $E_i$ are close (Null hypothesis is okay)\n",
    "* If $\\chi^2$ is large, then Oi  cannot come from the same distribution as Ei (the uniform here)\n",
    "\n",
    "* Is $\\chi^2 = 8.44$ large or small? \n",
    "\n",
    "* Note that the chi-squared goodness of fit test is always a one-sided test"
   ]
  },
  {
   "cell_type": "markdown",
   "id": "00150d08",
   "metadata": {},
   "source": [
    "### The sampling distribution of the GOF Statistic\n",
    "\n",
    "* What should $\\chi^2$ values look like if we sample randomly form the uniform. \n",
    "  * i.e., what does the sampling distribution of $\\chi^2$ looks like\n",
    "\n",
    "* Recall, that essentially, $O_i$, observed frequency for a category $i$ is distributed according to a binomial\n",
    "$$\n",
    "O_i \\sim \\text{Binomial}(P_i, N)\n",
    "$$\n",
    "\n",
    "* For large values of $N$ and when $P_i$ isn’t too close to 0 or 1, the Central Limit Theorem say that the the binomial is similar to the Gaussian \n"
   ]
  },
  {
   "cell_type": "code",
   "execution_count": 48,
   "id": "e630c42f",
   "metadata": {},
   "outputs": [],
   "source": [
    "N = 200\n",
    "p = 0.4"
   ]
  },
  {
   "cell_type": "code",
   "execution_count": 49,
   "id": "dcc40fef",
   "metadata": {},
   "outputs": [
    {
     "data": {
      "text/plain": [
       "83"
      ]
     },
     "execution_count": 49,
     "metadata": {},
     "output_type": "execute_result"
    }
   ],
   "source": [
    "np.random.binomial(N, p)"
   ]
  },
  {
   "cell_type": "code",
   "execution_count": 50,
   "id": "9bc222ce",
   "metadata": {},
   "outputs": [
    {
     "data": {
      "text/plain": [
       "[<matplotlib.lines.Line2D at 0x177852af0>]"
      ]
     },
     "execution_count": 50,
     "metadata": {},
     "output_type": "execute_result"
    },
    {
     "data": {
      "image/png": "[encoded data removed]",
      "text/plain": [
       "<Figure size 432x288 with 1 Axes>"
      ]
     },
     "metadata": {
      "needs_background": "light"
     },
     "output_type": "display_data"
    }
   ],
   "source": [
    "\n",
    "x_axis = np.arange(45, 115)\n",
    "y_axis = scipy.stats.binom.pmf(x_axis, N, p)\n",
    "\n",
    "plt.plot(x_axis, y_axis)"
   ]
  },
  {
   "cell_type": "markdown",
   "id": "3253b934",
   "metadata": {},
   "source": [
    "# From the Guassian to the $\\chi^2$\n",
    "* According to a central limit theorem, when $E_i = N \\times P_i$ is large, then $O_i$ follows a Gaussian\n",
    "\n",
    "* If $O_i$ is normally distributed, then so is $(O_i - E_I) / \\sqrt{E_i}$\n",
    "  * This represents one of the terms of the statistic (minus the square)\n",
    "\n",
    "* The test consists of a sum of $k$ terms $(O_i - E_I) / \\sqrt{E_i}$\n",
    "\n",
    "* Square and adding a collection of normally distributed variables yields a quantity that has a chi-square distribution\n",
    " * Then $\\chi^2$ distribution appears everywhere\n",
    "  * Recall the sum of residuals discussed last week?\n",
    "* The parameter of a $\\chi^2$ is it's degrees of freedom\n",
    " \n",
    " "
   ]
  },
  {
   "cell_type": "code",
   "execution_count": 58,
   "id": "ac4d0e53",
   "metadata": {},
   "outputs": [
    {
     "data": {
      "text/plain": [
       "7.705584091917882"
      ]
     },
     "execution_count": 58,
     "metadata": {},
     "output_type": "execute_result"
    }
   ],
   "source": [
    "scipy.stats.chi2(df=10).rvs()"
   ]
  },
  {
   "cell_type": "code",
   "execution_count": 57,
   "id": "050dab3d",
   "metadata": {},
   "outputs": [
    {
     "data": {
      "text/plain": [
       "array([98.1964695 , 83.86969639, 88.48042699, 97.01002497])"
      ]
     },
     "execution_count": 57,
     "metadata": {},
     "output_type": "execute_result"
    }
   ],
   "source": [
    "scipy.stats.chi2(df=100).rvs(4)"
   ]
  },
  {
   "cell_type": "code",
   "execution_count": 64,
   "id": "578999d7",
   "metadata": {},
   "outputs": [
    {
     "data": {
      "text/plain": [
       "[<matplotlib.lines.Line2D at 0x281af5eb0>]"
      ]
     },
     "execution_count": 64,
     "metadata": {},
     "output_type": "execute_result"
    },
    {
     "data": {
      "image/png": "[encoded data removed]",
      "text/plain": [
       "<Figure size 432x288 with 1 Axes>"
      ]
     },
     "metadata": {
      "needs_background": "light"
     },
     "output_type": "display_data"
    }
   ],
   "source": [
    "x_axis = np.arange(0, 40, 0.1)\n",
    "y_axis = scipy.stats.chi2(df=10).pdf(x_axis)\n",
    "\n",
    "plt.plot(x_axis, y_axis)"
   ]
  },
  {
   "cell_type": "markdown",
   "id": "e6582d55",
   "metadata": {},
   "source": [
    "### Degrees of Freedon of the $\\chi^2$\n",
    "* Square and adding a collection of normally distributed variables yields a quantity that has a chi-square distribution\n",
    "* We are interested in the number of independent \"things\" we're adding up.\n",
    "  * Here, only $k-1$ categories are independent\n",
    "  * Since the values sum to one, then with $k-1$ categories we can infer the value of the last category\n",
    "  * So the degree os freedom is $k-1$\n",
    "* The above is an oversimplification\n",
    "  * “degrees of freedom” is actually a bit of a messy concept\n",
    "  * degrees of freedom may not even be a whole number\n",
    "  \n",
    "\n"
   ]
  },
  {
   "cell_type": "code",
   "execution_count": 83,
   "id": "365197a5",
   "metadata": {},
   "outputs": [
    {
     "data": {
      "text/plain": [
       "[<matplotlib.lines.Line2D at 0x282d646a0>]"
      ]
     },
     "execution_count": 83,
     "metadata": {},
     "output_type": "execute_result"
    },
    {
     "data": {
      "image/png": "[encoded data removed]",
      "text/plain": [
       "<Figure size 432x288 with 1 Axes>"
      ]
     },
     "metadata": {
      "needs_background": "light"
     },
     "output_type": "display_data"
    }
   ],
   "source": [
    "x_axis = np.arange(0, 20.1, 0.1)\n",
    "y_axis = scipy.stats.chi2(df=3).pdf(x_axis)\n",
    "\n",
    "plt.plot(x_axis, y_axis)"
   ]
  },
  {
   "cell_type": "code",
   "execution_count": 84,
   "id": "d21828e8",
   "metadata": {},
   "outputs": [
    {
     "data": {
      "text/plain": [
       "0.0"
      ]
     },
     "execution_count": 84,
     "metadata": {},
     "output_type": "execute_result"
    }
   ],
   "source": [
    "chi2_rv = scipy.stats.chi2(df=3)\n",
    "### The cdf refers to the cumulative distribution function\n",
    "### The cumulative distribution function (cdf) is the probability that the variable takes a value less than or equal to x. \n",
    "\n",
    "chi2_rv.cdf(0)"
   ]
  },
  {
   "cell_type": "code",
   "execution_count": 85,
   "id": "d8e8ebb9",
   "metadata": {},
   "outputs": [
    {
     "data": {
      "text/plain": [
       "0.9998302575644472"
      ]
     },
     "execution_count": 85,
     "metadata": {},
     "output_type": "execute_result"
    }
   ],
   "source": [
    "chi2_rv.cdf(20)"
   ]
  },
  {
   "cell_type": "code",
   "execution_count": 86,
   "id": "7e8024b3",
   "metadata": {},
   "outputs": [
    {
     "name": "stdout",
     "output_type": "stream",
     "text": [
      "[0.  0.1 0.2 0.3 0.4 0.5 0.6 0.7 0.8 0.9]\n",
      "[19.1 19.2 19.3 19.4 19.5 19.6 19.7 19.8 19.9 20. ]\n"
     ]
    }
   ],
   "source": [
    "print(x_axis[:10])\n",
    "print(x_axis[-10:])"
   ]
  },
  {
   "cell_type": "code",
   "execution_count": 97,
   "id": "9ce3f725",
   "metadata": {},
   "outputs": [
    {
     "name": "stdout",
     "output_type": "stream",
     "text": [
      "[0.     0.0082 0.0224 0.04   0.0598 0.0811 0.1036 0.1268 0.1505 0.1746]\n",
      "[0.9997 0.9998 0.9998 0.9998 0.9998 0.9998 0.9998 0.9998 0.9998 0.9998]\n"
     ]
    }
   ],
   "source": [
    "probs = chi2_rv.cdf(x_axis)\n",
    "print(np.round(probs[:10], decimals=4))\n",
    "print(np.round(probs[-10:], decimals=4))\n"
   ]
  },
  {
   "cell_type": "code",
   "execution_count": 98,
   "id": "1843901f",
   "metadata": {},
   "outputs": [
    {
     "data": {
      "text/plain": [
       "(array([ 79,  80,  81,  82,  83,  84,  85,  86,  87,  88,  89,  90,  91,\n",
       "         92,  93,  94,  95,  96,  97,  98,  99, 100, 101, 102, 103, 104,\n",
       "        105, 106, 107, 108, 109, 110, 111, 112, 113, 114, 115, 116, 117,\n",
       "        118, 119, 120, 121, 122, 123, 124, 125, 126, 127, 128, 129, 130,\n",
       "        131, 132, 133, 134, 135, 136, 137, 138, 139, 140, 141, 142, 143,\n",
       "        144, 145, 146, 147, 148, 149, 150, 151, 152, 153, 154, 155, 156,\n",
       "        157, 158, 159, 160, 161, 162, 163, 164, 165, 166, 167, 168, 169,\n",
       "        170, 171, 172, 173, 174, 175, 176, 177, 178, 179, 180, 181, 182,\n",
       "        183, 184, 185, 186, 187, 188, 189, 190, 191, 192, 193, 194, 195,\n",
       "        196, 197, 198, 199, 200]),)"
      ]
     },
     "execution_count": 98,
     "metadata": {},
     "output_type": "execute_result"
    }
   ],
   "source": [
    "np.where(probs > 0.95)"
   ]
  },
  {
   "cell_type": "code",
   "execution_count": 100,
   "id": "0bfb3b04",
   "metadata": {},
   "outputs": [
    {
     "data": {
      "text/plain": [
       "79"
      ]
     },
     "execution_count": 100,
     "metadata": {},
     "output_type": "execute_result"
    }
   ],
   "source": [
    "index = np.where(probs > 0.95)[0][0]\n",
    "index"
   ]
  },
  {
   "cell_type": "code",
   "execution_count": 102,
   "id": "a9dc2e73",
   "metadata": {},
   "outputs": [
    {
     "name": "stdout",
     "output_type": "stream",
     "text": [
      "7.9\n",
      "0.9518757481558399\n"
     ]
    }
   ],
   "source": [
    "print(x_axis[index])\n",
    "print(probs[index])"
   ]
  },
  {
   "cell_type": "code",
   "execution_count": 104,
   "id": "8f6e1228",
   "metadata": {},
   "outputs": [
    {
     "data": {
      "text/plain": [
       "7.814727903251179"
      ]
     },
     "execution_count": 104,
     "metadata": {},
     "output_type": "execute_result"
    }
   ],
   "source": [
    "# ppf is the inverse of the cdf\n",
    "chi2_rv.ppf(.95)"
   ]
  },
  {
   "cell_type": "code",
   "execution_count": 106,
   "id": "177e9b5f",
   "metadata": {},
   "outputs": [
    {
     "data": {
      "text/plain": [
       "0.03774185202402136"
      ]
     },
     "execution_count": 106,
     "metadata": {},
     "output_type": "execute_result"
    }
   ],
   "source": [
    "# Give me the area under the upper tail instead\n",
    "1 - chi2_rv.cdf(8.44)"
   ]
  },
  {
   "cell_type": "code",
   "execution_count": 137,
   "id": "2a963201",
   "metadata": {},
   "outputs": [
    {
     "data": {
      "text/plain": [
       "\n",
       "   clubs diamonds   hearts   spades \n",
       "      35       51       64       50 "
      ]
     },
     "metadata": {},
     "output_type": "display_data"
    }
   ],
   "source": [
    "observed"
   ]
  },
  {
   "cell_type": "code",
   "execution_count": 116,
   "id": "ff3d4bde",
   "metadata": {},
   "outputs": [
    {
     "data": {
      "text/plain": [
       "Power_divergenceResult(statistic=8.44, pvalue=0.0377418520240214)"
      ]
     },
     "execution_count": 116,
     "metadata": {},
     "output_type": "execute_result"
    }
   ],
   "source": [
    "result = scipy.stats.chisquare(observed)\n",
    "result"
   ]
  },
  {
   "cell_type": "code",
   "execution_count": 120,
   "id": "35a4d01a",
   "metadata": {},
   "outputs": [
    {
     "data": {
      "text/plain": [
       "clubs       35\n",
       "diamonds    51\n",
       "hearts      64\n",
       "spades      50\n",
       "dtype: int64"
      ]
     },
     "execution_count": 120,
     "metadata": {},
     "output_type": "execute_result"
    }
   ],
   "source": [
    "observed"
   ]
  },
  {
   "cell_type": "code",
   "execution_count": 122,
   "id": "c933969c",
   "metadata": {},
   "outputs": [
    {
     "data": {
      "text/plain": [
       "Power_divergenceResult(statistic=0.9116666666666666, pvalue=0.8226115000538757)"
      ]
     },
     "execution_count": 122,
     "metadata": {},
     "output_type": "execute_result"
    }
   ],
   "source": [
    "result = scipy.stats.chisquare(f_obs=observed, f_exp=[40, 50, 60, 50])\n",
    "result"
   ]
  },
  {
   "cell_type": "markdown",
   "id": "82197b66",
   "metadata": {},
   "source": [
    "### The $\\chi^2$ test of independence (or association)\n",
    "\n",
    "* Support you'd like to know whether a site is more conducive to growth of some spcies\n",
    "* you conduct a test where you introduce species to sites A and B and observe whether it lives or dies, or is unhealthy\n",
    "* The results are stored in `experiment.csv`\n"
   ]
  },
  {
   "cell_type": "code",
   "execution_count": 130,
   "id": "f87f8705",
   "metadata": {},
   "outputs": [
    {
     "data": {
      "text/html": [
       "<table class=\"dataframe\">\n",
       "<caption>A tibble: 6 × 3</caption>\n",
       "<thead>\n",
       "\t<tr><th scope=col>EntryID</th><th scope=col>site</th><th scope=col>condition</th></tr>\n",
       "\t<tr><th scope=col>&lt;dbl&gt;</th><th scope=col>&lt;fct&gt;</th><th scope=col>&lt;fct&gt;</th></tr>\n",
       "</thead>\n",
       "<tbody>\n",
       "\t<tr><td>1</td><td>siteA</td><td>dies     </td></tr>\n",
       "\t<tr><td>2</td><td>siteB</td><td>unhealthy</td></tr>\n",
       "\t<tr><td>3</td><td>siteB</td><td>unhealthy</td></tr>\n",
       "\t<tr><td>4</td><td>siteB</td><td>unhealthy</td></tr>\n",
       "\t<tr><td>5</td><td>siteA</td><td>unhealthy</td></tr>\n",
       "\t<tr><td>6</td><td>siteB</td><td>dies     </td></tr>\n",
       "</tbody>\n",
       "</table>\n"
      ],
      "text/latex": [
       "A tibble: 6 × 3\n",
       "\\begin{tabular}{lll}\n",
       " EntryID & site & condition\\\\\n",
       " <dbl> & <fct> & <fct>\\\\\n",
       "\\hline\n",
       "\t 1 & siteA & dies     \\\\\n",
       "\t 2 & siteB & unhealthy\\\\\n",
       "\t 3 & siteB & unhealthy\\\\\n",
       "\t 4 & siteB & unhealthy\\\\\n",
       "\t 5 & siteA & unhealthy\\\\\n",
       "\t 6 & siteB & dies     \\\\\n",
       "\\end{tabular}\n"
      ],
      "text/markdown": [
       "\n",
       "A tibble: 6 × 3\n",
       "\n",
       "| EntryID &lt;dbl&gt; | site &lt;fct&gt; | condition &lt;fct&gt; |\n",
       "|---|---|---|\n",
       "| 1 | siteA | dies      |\n",
       "| 2 | siteB | unhealthy |\n",
       "| 3 | siteB | unhealthy |\n",
       "| 4 | siteB | unhealthy |\n",
       "| 5 | siteA | unhealthy |\n",
       "| 6 | siteB | dies      |\n",
       "\n"
      ],
      "text/plain": [
       "  EntryID site  condition\n",
       "1 1       siteA dies     \n",
       "2 2       siteB unhealthy\n",
       "3 3       siteB unhealthy\n",
       "4 4       siteB unhealthy\n",
       "5 5       siteA unhealthy\n",
       "6 6       siteB dies     "
      ]
     },
     "metadata": {},
     "output_type": "display_data"
    }
   ],
   "source": [
    "data = read_csv(\"data/experiment.csv\", col_types = cols( site = col_factor(), condition=col_factor()))\n",
    "head(data)\n"
   ]
  },
  {
   "cell_type": "code",
   "execution_count": 131,
   "id": "1f8d2a36",
   "metadata": {},
   "outputs": [
    {
     "data": {
      "text/html": [
       "<table class=\"dataframe\">\n",
       "<caption>A tibble: 180 × 2</caption>\n",
       "<thead>\n",
       "\t<tr><th scope=col>site</th><th scope=col>condition</th></tr>\n",
       "\t<tr><th scope=col>&lt;fct&gt;</th><th scope=col>&lt;fct&gt;</th></tr>\n",
       "</thead>\n",
       "<tbody>\n",
       "\t<tr><td>siteA</td><td>dies     </td></tr>\n",
       "\t<tr><td>siteB</td><td>unhealthy</td></tr>\n",
       "\t<tr><td>siteB</td><td>unhealthy</td></tr>\n",
       "\t<tr><td>siteB</td><td>unhealthy</td></tr>\n",
       "\t<tr><td>siteA</td><td>unhealthy</td></tr>\n",
       "\t<tr><td>siteB</td><td>dies     </td></tr>\n",
       "\t<tr><td>siteB</td><td>unhealthy</td></tr>\n",
       "\t<tr><td>siteA</td><td>unhealthy</td></tr>\n",
       "\t<tr><td>siteB</td><td>lives    </td></tr>\n",
       "\t<tr><td>siteA</td><td>dies     </td></tr>\n",
       "\t<tr><td>siteA</td><td>lives    </td></tr>\n",
       "\t<tr><td>siteB</td><td>dies     </td></tr>\n",
       "\t<tr><td>siteB</td><td>unhealthy</td></tr>\n",
       "\t<tr><td>siteB</td><td>unhealthy</td></tr>\n",
       "\t<tr><td>siteB</td><td>unhealthy</td></tr>\n",
       "\t<tr><td>siteB</td><td>unhealthy</td></tr>\n",
       "\t<tr><td>siteA</td><td>unhealthy</td></tr>\n",
       "\t<tr><td>siteB</td><td>unhealthy</td></tr>\n",
       "\t<tr><td>siteB</td><td>unhealthy</td></tr>\n",
       "\t<tr><td>siteB</td><td>unhealthy</td></tr>\n",
       "\t<tr><td>siteB</td><td>lives    </td></tr>\n",
       "\t<tr><td>siteA</td><td>dies     </td></tr>\n",
       "\t<tr><td>siteB</td><td>unhealthy</td></tr>\n",
       "\t<tr><td>siteA</td><td>dies     </td></tr>\n",
       "\t<tr><td>siteA</td><td>dies     </td></tr>\n",
       "\t<tr><td>siteB</td><td>lives    </td></tr>\n",
       "\t<tr><td>siteA</td><td>unhealthy</td></tr>\n",
       "\t<tr><td>siteA</td><td>unhealthy</td></tr>\n",
       "\t<tr><td>siteA</td><td>unhealthy</td></tr>\n",
       "\t<tr><td>siteA</td><td>unhealthy</td></tr>\n",
       "\t<tr><td>⋮</td><td>⋮</td></tr>\n",
       "\t<tr><td>siteB</td><td>unhealthy</td></tr>\n",
       "\t<tr><td>siteB</td><td>unhealthy</td></tr>\n",
       "\t<tr><td>siteA</td><td>dies     </td></tr>\n",
       "\t<tr><td>siteA</td><td>unhealthy</td></tr>\n",
       "\t<tr><td>siteB</td><td>unhealthy</td></tr>\n",
       "\t<tr><td>siteA</td><td>dies     </td></tr>\n",
       "\t<tr><td>siteB</td><td>lives    </td></tr>\n",
       "\t<tr><td>siteB</td><td>dies     </td></tr>\n",
       "\t<tr><td>siteA</td><td>dies     </td></tr>\n",
       "\t<tr><td>siteA</td><td>dies     </td></tr>\n",
       "\t<tr><td>siteA</td><td>dies     </td></tr>\n",
       "\t<tr><td>siteB</td><td>unhealthy</td></tr>\n",
       "\t<tr><td>siteB</td><td>unhealthy</td></tr>\n",
       "\t<tr><td>siteA</td><td>dies     </td></tr>\n",
       "\t<tr><td>siteA</td><td>unhealthy</td></tr>\n",
       "\t<tr><td>siteA</td><td>lives    </td></tr>\n",
       "\t<tr><td>siteB</td><td>unhealthy</td></tr>\n",
       "\t<tr><td>siteB</td><td>unhealthy</td></tr>\n",
       "\t<tr><td>siteB</td><td>unhealthy</td></tr>\n",
       "\t<tr><td>siteB</td><td>unhealthy</td></tr>\n",
       "\t<tr><td>siteA</td><td>unhealthy</td></tr>\n",
       "\t<tr><td>siteB</td><td>unhealthy</td></tr>\n",
       "\t<tr><td>siteB</td><td>unhealthy</td></tr>\n",
       "\t<tr><td>siteA</td><td>dies     </td></tr>\n",
       "\t<tr><td>siteB</td><td>unhealthy</td></tr>\n",
       "\t<tr><td>siteA</td><td>unhealthy</td></tr>\n",
       "\t<tr><td>siteA</td><td>unhealthy</td></tr>\n",
       "\t<tr><td>siteB</td><td>unhealthy</td></tr>\n",
       "\t<tr><td>siteA</td><td>lives    </td></tr>\n",
       "\t<tr><td>siteB</td><td>unhealthy</td></tr>\n",
       "</tbody>\n",
       "</table>\n"
      ],
      "text/latex": [
       "A tibble: 180 × 2\n",
       "\\begin{tabular}{ll}\n",
       " site & condition\\\\\n",
       " <fct> & <fct>\\\\\n",
       "\\hline\n",
       "\t siteA & dies     \\\\\n",
       "\t siteB & unhealthy\\\\\n",
       "\t siteB & unhealthy\\\\\n",
       "\t siteB & unhealthy\\\\\n",
       "\t siteA & unhealthy\\\\\n",
       "\t siteB & dies     \\\\\n",
       "\t siteB & unhealthy\\\\\n",
       "\t siteA & unhealthy\\\\\n",
       "\t siteB & lives    \\\\\n",
       "\t siteA & dies     \\\\\n",
       "\t siteA & lives    \\\\\n",
       "\t siteB & dies     \\\\\n",
       "\t siteB & unhealthy\\\\\n",
       "\t siteB & unhealthy\\\\\n",
       "\t siteB & unhealthy\\\\\n",
       "\t siteB & unhealthy\\\\\n",
       "\t siteA & unhealthy\\\\\n",
       "\t siteB & unhealthy\\\\\n",
       "\t siteB & unhealthy\\\\\n",
       "\t siteB & unhealthy\\\\\n",
       "\t siteB & lives    \\\\\n",
       "\t siteA & dies     \\\\\n",
       "\t siteB & unhealthy\\\\\n",
       "\t siteA & dies     \\\\\n",
       "\t siteA & dies     \\\\\n",
       "\t siteB & lives    \\\\\n",
       "\t siteA & unhealthy\\\\\n",
       "\t siteA & unhealthy\\\\\n",
       "\t siteA & unhealthy\\\\\n",
       "\t siteA & unhealthy\\\\\n",
       "\t ⋮ & ⋮\\\\\n",
       "\t siteB & unhealthy\\\\\n",
       "\t siteB & unhealthy\\\\\n",
       "\t siteA & dies     \\\\\n",
       "\t siteA & unhealthy\\\\\n",
       "\t siteB & unhealthy\\\\\n",
       "\t siteA & dies     \\\\\n",
       "\t siteB & lives    \\\\\n",
       "\t siteB & dies     \\\\\n",
       "\t siteA & dies     \\\\\n",
       "\t siteA & dies     \\\\\n",
       "\t siteA & dies     \\\\\n",
       "\t siteB & unhealthy\\\\\n",
       "\t siteB & unhealthy\\\\\n",
       "\t siteA & dies     \\\\\n",
       "\t siteA & unhealthy\\\\\n",
       "\t siteA & lives    \\\\\n",
       "\t siteB & unhealthy\\\\\n",
       "\t siteB & unhealthy\\\\\n",
       "\t siteB & unhealthy\\\\\n",
       "\t siteB & unhealthy\\\\\n",
       "\t siteA & unhealthy\\\\\n",
       "\t siteB & unhealthy\\\\\n",
       "\t siteB & unhealthy\\\\\n",
       "\t siteA & dies     \\\\\n",
       "\t siteB & unhealthy\\\\\n",
       "\t siteA & unhealthy\\\\\n",
       "\t siteA & unhealthy\\\\\n",
       "\t siteB & unhealthy\\\\\n",
       "\t siteA & lives    \\\\\n",
       "\t siteB & unhealthy\\\\\n",
       "\\end{tabular}\n"
      ],
      "text/markdown": [
       "\n",
       "A tibble: 180 × 2\n",
       "\n",
       "| site &lt;fct&gt; | condition &lt;fct&gt; |\n",
       "|---|---|\n",
       "| siteA | dies      |\n",
       "| siteB | unhealthy |\n",
       "| siteB | unhealthy |\n",
       "| siteB | unhealthy |\n",
       "| siteA | unhealthy |\n",
       "| siteB | dies      |\n",
       "| siteB | unhealthy |\n",
       "| siteA | unhealthy |\n",
       "| siteB | lives     |\n",
       "| siteA | dies      |\n",
       "| siteA | lives     |\n",
       "| siteB | dies      |\n",
       "| siteB | unhealthy |\n",
       "| siteB | unhealthy |\n",
       "| siteB | unhealthy |\n",
       "| siteB | unhealthy |\n",
       "| siteA | unhealthy |\n",
       "| siteB | unhealthy |\n",
       "| siteB | unhealthy |\n",
       "| siteB | unhealthy |\n",
       "| siteB | lives     |\n",
       "| siteA | dies      |\n",
       "| siteB | unhealthy |\n",
       "| siteA | dies      |\n",
       "| siteA | dies      |\n",
       "| siteB | lives     |\n",
       "| siteA | unhealthy |\n",
       "| siteA | unhealthy |\n",
       "| siteA | unhealthy |\n",
       "| siteA | unhealthy |\n",
       "| ⋮ | ⋮ |\n",
       "| siteB | unhealthy |\n",
       "| siteB | unhealthy |\n",
       "| siteA | dies      |\n",
       "| siteA | unhealthy |\n",
       "| siteB | unhealthy |\n",
       "| siteA | dies      |\n",
       "| siteB | lives     |\n",
       "| siteB | dies      |\n",
       "| siteA | dies      |\n",
       "| siteA | dies      |\n",
       "| siteA | dies      |\n",
       "| siteB | unhealthy |\n",
       "| siteB | unhealthy |\n",
       "| siteA | dies      |\n",
       "| siteA | unhealthy |\n",
       "| siteA | lives     |\n",
       "| siteB | unhealthy |\n",
       "| siteB | unhealthy |\n",
       "| siteB | unhealthy |\n",
       "| siteB | unhealthy |\n",
       "| siteA | unhealthy |\n",
       "| siteB | unhealthy |\n",
       "| siteB | unhealthy |\n",
       "| siteA | dies      |\n",
       "| siteB | unhealthy |\n",
       "| siteA | unhealthy |\n",
       "| siteA | unhealthy |\n",
       "| siteB | unhealthy |\n",
       "| siteA | lives     |\n",
       "| siteB | unhealthy |\n",
       "\n"
      ],
      "text/plain": [
       "    site  condition\n",
       "1   siteA dies     \n",
       "2   siteB unhealthy\n",
       "3   siteB unhealthy\n",
       "4   siteB unhealthy\n",
       "5   siteA unhealthy\n",
       "6   siteB dies     \n",
       "7   siteB unhealthy\n",
       "8   siteA unhealthy\n",
       "9   siteB lives    \n",
       "10  siteA dies     \n",
       "11  siteA lives    \n",
       "12  siteB dies     \n",
       "13  siteB unhealthy\n",
       "14  siteB unhealthy\n",
       "15  siteB unhealthy\n",
       "16  siteB unhealthy\n",
       "17  siteA unhealthy\n",
       "18  siteB unhealthy\n",
       "19  siteB unhealthy\n",
       "20  siteB unhealthy\n",
       "21  siteB lives    \n",
       "22  siteA dies     \n",
       "23  siteB unhealthy\n",
       "24  siteA dies     \n",
       "25  siteA dies     \n",
       "26  siteB lives    \n",
       "27  siteA unhealthy\n",
       "28  siteA unhealthy\n",
       "29  siteA unhealthy\n",
       "30  siteA unhealthy\n",
       "⋮   ⋮     ⋮        \n",
       "151 siteB unhealthy\n",
       "152 siteB unhealthy\n",
       "153 siteA dies     \n",
       "154 siteA unhealthy\n",
       "155 siteB unhealthy\n",
       "156 siteA dies     \n",
       "157 siteB lives    \n",
       "158 siteB dies     \n",
       "159 siteA dies     \n",
       "160 siteA dies     \n",
       "161 siteA dies     \n",
       "162 siteB unhealthy\n",
       "163 siteB unhealthy\n",
       "164 siteA dies     \n",
       "165 siteA unhealthy\n",
       "166 siteA lives    \n",
       "167 siteB unhealthy\n",
       "168 siteB unhealthy\n",
       "169 siteB unhealthy\n",
       "170 siteB unhealthy\n",
       "171 siteA unhealthy\n",
       "172 siteB unhealthy\n",
       "173 siteB unhealthy\n",
       "174 siteA dies     \n",
       "175 siteB unhealthy\n",
       "176 siteA unhealthy\n",
       "177 siteA unhealthy\n",
       "178 siteB unhealthy\n",
       "179 siteA lives    \n",
       "180 siteB unhealthy"
      ]
     },
     "metadata": {},
     "output_type": "display_data"
    }
   ],
   "source": [
    "select(data, -\"EntryID\")"
   ]
  },
  {
   "cell_type": "code",
   "execution_count": 132,
   "id": "37a7d470",
   "metadata": {},
   "outputs": [
    {
     "data": {
      "text/plain": [
       "    site        condition  \n",
       " siteA:87   dies     : 43  \n",
       " siteB:93   unhealthy:109  \n",
       "            lives    : 28  "
      ]
     },
     "metadata": {},
     "output_type": "display_data"
    }
   ],
   "source": [
    "data = select(data, -\"EntryID\")\n",
    "summary(data)"
   ]
  },
  {
   "cell_type": "code",
   "execution_count": 134,
   "id": "4f07e6a1",
   "metadata": {},
   "outputs": [
    {
     "data": {
      "text/plain": [
       "           site\n",
       "condition   siteA siteB\n",
       "  dies         30    13\n",
       "  unhealthy    44    65\n",
       "  lives        13    15"
      ]
     },
     "metadata": {},
     "output_type": "display_data"
    }
   ],
   "source": [
    "freqs <- xtabs( ~ condition + site, data)\n",
    "freqs"
   ]
  },
  {
   "cell_type": "markdown",
   "id": "b048983a",
   "metadata": {},
   "source": [
    "\n",
    "* 180 entries animal introduces in siteA or siteB \n",
    "  * 87 siteA and 97 siteB\n",
    "![](https://www.dropbox.com/s/q2i36mlphpyel3w/xtab.png?dl=1)\n",
    "* Question: is the distribution of the datat the same across both sites?\n",
    "  * Are the proprtions of lives, dies, or unhealthy the same across both sites\n"
   ]
  },
  {
   "cell_type": "markdown",
   "id": "d0e0e9ba",
   "metadata": {},
   "source": [
    "### Constructing our hypothesis test\n",
    "\n",
    "![](https://www.dropbox.com/s/7nl9nnq8gpyattp/xtab_generic.png?dl=1)\n",
    "\n",
    "* $O_{ij}$ is a count (observed frequency) of the number of respondents that are at a site (siteA or siteB) which lead to condition i (lives, dies, unhealth)\n",
    "* The total number of observations is written N, as usual.\n",
    "* $R_i$ to denote the row totals\n",
    "* $C_j$ to denote the column totals \n",
    "\n"
   ]
  },
  {
   "cell_type": "markdown",
   "id": "8c4e3766",
   "metadata": {},
   "source": [
    "### Constructing our hypothesis test\n",
    "\n",
    "* If both sites yield the same outcomes, then probability of dies is equal in both sites\n",
    "  * by the same token, prob of healthy is also similar in both site\n",
    "  * by the same token, prob of lives also similar in both site\n",
    "\n",
    "\n",
    "* $H_0$: All of the following are true:\n",
    "    *  $P_{11}$ = $P_{12}$ (same probability of dies),\n",
    "    *  $P_{21}$ = $P_{22}$ (same probability of unhealthy).\n",
    "    *  $P_{31}$ = $P_{32}$ (same probability of lives).\n",
    "    \n",
    "* We denote p_i, where i in {1,2,3} as the prob of dies, unhealthy or lives respectively."
   ]
  },
  {
   "cell_type": "markdown",
   "id": "69cac78e",
   "metadata": {},
   "source": [
    "* Unlike goodness of fit test, the null hypothesis doesn’t actually specify a particular value for P_i. \n",
    "  * We can estimate it from the data\n",
    "  * If 28 out of 180 spcies died, then the empirical probability is simply 28/180 ( .16)\n",
    "\n",
    "$$\n",
    "\\hat{P}_i = \\frac{R_i}{N}\n",
    "$$\n",
    "\n",
    "Expected frequency is therefore:\n",
    "$$\n",
    "\\hat{E}_{ij} = \\frac{R_i}{C_j}/N\n",
    "$$\n"
   ]
  },
  {
   "cell_type": "markdown",
   "id": "0c7b88d6",
   "metadata": {},
   "source": [
    "### Defining the test statistic\n",
    "\n",
    "* Following the exact same strategy that we used in the goodness of fit test. \n",
    " * Exact same statistic. \n",
    "For a contingency table with r rows and c columns, the equation that defines our $\\chi^2$ statistic is:\n",
    "\n",
    "$$\n",
    "\\chi^2 = \\sum_{i=1}^{r}\\sum_{j=1}^{c}\\frac{(E_{ij}-O_{ij})^2}{E_ij}\n",
    "$$\n",
    "\n",
    "* For the same reasons as above, this stat is also distributed accroding to the $\\chi^2$ distribution\n",
    "* How manyindependet pints are we analyzing\n",
    "\n",
    "* Here, df = (r-1)(c-1)\n",
    "  * values of of exactly one row and one column are unnecessary.\n"
   ]
  },
  {
   "cell_type": "markdown",
   "id": "921b8a68",
   "metadata": {},
   "source": [
    "### Effect Size\n",
    "* As we discussed when we did similar test with simulation, it's common to report some\n",
    "measure of effect size. \n",
    " * Is there a significant effect or are we splitting hairs?\n",
    " \n",
    "* here several tests can be use. \n",
    "  Two most common is Cramer’s V.\n",
    "$$  \n",
    "V = \\sqrt{\\frac{X^2}{N(k-1)}}  \n",
    "$$"
   ]
  },
  {
   "cell_type": "markdown",
   "id": "2c082327",
   "metadata": {},
   "source": [
    "### Assumptions of the Test\n",
    "\n",
    "* Expected frequencies are sufficiently large. \n",
    " * expected frequencies larger than about 5, \n",
    "  * for larger tables, at least 80% of the the expected frequencies are above 5 and none is 0 \n",
    "* Data are independent of one another. \n",
    "  * Ex. the fact that a species dies, does not increase the change of another species dying."
   ]
  },
  {
   "cell_type": "code",
   "execution_count": null,
   "id": "91d21653",
   "metadata": {},
   "outputs": [],
   "source": [
    "### Test of Independence in R\n",
    "* Also uses chisq.test() function\n",
    "  Requires a cross-tabulation rather than a simple frequency table\n",
    " * Knows you'r asking for a test of independence and not a goodness of fit test\n",
    " "
   ]
  },
  {
   "cell_type": "code",
   "execution_count": 140,
   "id": "9e799640",
   "metadata": {},
   "outputs": [
    {
     "data": {
      "text/plain": [
       "           site\n",
       "condition   siteA siteB\n",
       "  dies         30    13\n",
       "  unhealthy    44    65\n",
       "  lives        13    15"
      ]
     },
     "metadata": {},
     "output_type": "display_data"
    }
   ],
   "source": [
    "freqs"
   ]
  },
  {
   "cell_type": "code",
   "execution_count": 142,
   "id": "b2639ef1",
   "metadata": {},
   "outputs": [
    {
     "data": {
      "text/plain": [
       "\n",
       "\tPearson's Chi-squared test\n",
       "\n",
       "data:  freqs\n",
       "X-squared = 10.722, df = 2, p-value = 0.004697\n"
      ]
     },
     "metadata": {},
     "output_type": "display_data"
    }
   ],
   "source": [
    "chisq.test( freqs )"
   ]
  },
  {
   "cell_type": "markdown",
   "id": "49c31785",
   "metadata": {},
   "source": [
    "### The Fisher exact test\n",
    "\n",
    "* A test of independence used with small data\n",
    "  * Works somewhat differently to the chi-square test \n",
    "  * doesn’t have a test statistic;  calculates the p-value “directly”\n",
    "* Uses the hypergeometric ditribution to compute the test\n",
    "  * Same test usually used for assessing enrichment in genomics\n",
    "  * Given that 20 genes out of 200 are in DNA replication but 10 genes out of the differentially expressed are in DNA replication. Question: is DNA replication enriched.\n"
   ]
  },
  {
   "cell_type": "markdown",
   "id": "4de79ebd",
   "metadata": {},
   "source": [
    "### McnNemar Test\n",
    "\n",
    "* Used on 2x2 Contingency tables\n",
    " * Used with paired data\n",
    " * Example: on before after sort of experiment\n",
    "\n",
    "* You measure agressiveness of sharks before and after adding a compound to the water and measure how many exhibited predatory behavior\n",
    "\n",
    "![](https://www.dropbox.com/s/091ap26uwtxe70c/before_after.png?dl=1)\n",
    "\n",
    "* Can we use the chi square to test the independence?\n",
    "\n",
    "\n"
   ]
  },
  {
   "cell_type": "markdown",
   "id": "9f01ce35",
   "metadata": {},
   "source": [
    "### McnNemar Test - Cont'd\n",
    "\n",
    "* We can use the $\\chi^2$ test of independence because the data is not independent\n",
    "  * Each animal shows in the before and after columns\n",
    "  * Before drug, Animal 1 shows agressiveness while 2 doesn't\n",
    "  * After drug, Animal 1 has a higher likelihood of showing agressiveness than animal 2.\n",
    "  \n"
   ]
  },
  {
   "cell_type": "markdown",
   "id": "10a5f155",
   "metadata": {},
   "source": [
    "### McnNemar Test - Cont'd\n",
    "* Requires re-writing the data to minimize the dependence\n",
    "\n",
    "\n",
    "![](https://www.dropbox.com/s/9s6g1w36vcskbqw/mc_nemar.png?dl=1)\n",
    "\n",
    "* Same data, but each of the 100 animals appears once in the table \n",
    "  * Independence assumption is now satisfied since non of the animal appears twice\n",
    "  * Still assuming that animal agressiveness is independent (no contagious) \n",
    "\n",
    "* Requires computing the $X^2$ test statistic slighly differently  \n",
    "  * Adjust for table transformation"
   ]
  },
  {
   "cell_type": "code",
   "execution_count": 156,
   "id": "cbc3c4e3",
   "metadata": {},
   "outputs": [
    {
     "data": {
      "text/html": [
       "<table class=\"dataframe\">\n",
       "<caption>A data.frame: 6 × 3</caption>\n",
       "<thead>\n",
       "\t<tr><th></th><th scope=col>id</th><th scope=col>response_before</th><th scope=col>response_after</th></tr>\n",
       "\t<tr><th></th><th scope=col>&lt;fct&gt;</th><th scope=col>&lt;fct&gt;</th><th scope=col>&lt;fct&gt;</th></tr>\n",
       "</thead>\n",
       "<tbody>\n",
       "\t<tr><th scope=row>1</th><td>subj.1</td><td>no </td><td>yes</td></tr>\n",
       "\t<tr><th scope=row>2</th><td>subj.2</td><td>yes</td><td>no </td></tr>\n",
       "\t<tr><th scope=row>3</th><td>subj.3</td><td>yes</td><td>no </td></tr>\n",
       "\t<tr><th scope=row>4</th><td>subj.4</td><td>yes</td><td>no </td></tr>\n",
       "\t<tr><th scope=row>5</th><td>subj.5</td><td>no </td><td>no </td></tr>\n",
       "\t<tr><th scope=row>6</th><td>subj.6</td><td>no </td><td>no </td></tr>\n",
       "</tbody>\n",
       "</table>\n"
      ],
      "text/latex": [
       "A data.frame: 6 × 3\n",
       "\\begin{tabular}{r|lll}\n",
       "  & id & response\\_before & response\\_after\\\\\n",
       "  & <fct> & <fct> & <fct>\\\\\n",
       "\\hline\n",
       "\t1 & subj.1 & no  & yes\\\\\n",
       "\t2 & subj.2 & yes & no \\\\\n",
       "\t3 & subj.3 & yes & no \\\\\n",
       "\t4 & subj.4 & yes & no \\\\\n",
       "\t5 & subj.5 & no  & no \\\\\n",
       "\t6 & subj.6 & no  & no \\\\\n",
       "\\end{tabular}\n"
      ],
      "text/markdown": [
       "\n",
       "A data.frame: 6 × 3\n",
       "\n",
       "| <!--/--> | id &lt;fct&gt; | response_before &lt;fct&gt; | response_after &lt;fct&gt; |\n",
       "|---|---|---|---|\n",
       "| 1 | subj.1 | no  | yes |\n",
       "| 2 | subj.2 | yes | no  |\n",
       "| 3 | subj.3 | yes | no  |\n",
       "| 4 | subj.4 | yes | no  |\n",
       "| 5 | subj.5 | no  | no  |\n",
       "| 6 | subj.6 | no  | no  |\n",
       "\n"
      ],
      "text/plain": [
       "  id     response_before response_after\n",
       "1 subj.1 no              yes           \n",
       "2 subj.2 yes             no            \n",
       "3 subj.3 yes             no            \n",
       "4 subj.4 yes             no            \n",
       "5 subj.5 no              no            \n",
       "6 subj.6 no              no            "
      ]
     },
     "metadata": {},
     "output_type": "display_data"
    }
   ],
   "source": [
    "load(\"data/animal_agression.Rdata\")\n",
    "head(agpp)"
   ]
  },
  {
   "cell_type": "code",
   "execution_count": 157,
   "id": "d0f7c2b9",
   "metadata": {},
   "outputs": [
    {
     "data": {
      "text/plain": [
       "        id     response_before response_after\n",
       " subj.1  : 1   no :70          no :90        \n",
       " subj.10 : 1   yes:30          yes:10        \n",
       " subj.100: 1                                 \n",
       " subj.11 : 1                                 \n",
       " subj.12 : 1                                 \n",
       " subj.13 : 1                                 \n",
       " (Other) :94                                 "
      ]
     },
     "metadata": {},
     "output_type": "display_data"
    }
   ],
   "source": [
    "summary(agpp)"
   ]
  },
  {
   "cell_type": "code",
   "execution_count": 160,
   "id": "326d0ac5",
   "metadata": {},
   "outputs": [
    {
     "data": {
      "text/plain": [
       "               response_after\n",
       "response_before no yes\n",
       "            no  65   5\n",
       "            yes 25   5"
      ]
     },
     "metadata": {},
     "output_type": "display_data"
    }
   ],
   "source": [
    "freq_table = xtabs( ~ response_before + response_after, data = agpp)\n",
    "freq_table\n"
   ]
  },
  {
   "cell_type": "code",
   "execution_count": 162,
   "id": "6521da05",
   "metadata": {},
   "outputs": [
    {
     "data": {
      "text/plain": [
       "\n",
       "\tMcNemar's Chi-squared test with continuity correction\n",
       "\n",
       "data:  freq_table\n",
       "McNemar's chi-squared = 12.033, df = 1, p-value = 0.0005226\n"
      ]
     },
     "metadata": {},
     "output_type": "display_data"
    }
   ],
   "source": [
    "mcnemar.test( freq_table)"
   ]
  },
  {
   "cell_type": "markdown",
   "id": "af5f5341",
   "metadata": {},
   "source": [
    "### McnNemar Test\n",
    "\n",
    "* Suppose I wanted to know whether the choice you make the second time is dependent on the choice you\n",
    "made the first time. \n",
    "  * Test of independence\n",
    "\n",
    "* Suppose I wanted to know if, on average, the frequencies of suit choices were different the second time than the first time. \n",
    "  * That's a McNemar Test\n"
   ]
  },
  {
   "cell_type": "code",
   "execution_count": 149,
   "id": "f3a3993e",
   "metadata": {},
   "outputs": [
    {
     "data": {
      "text/plain": [
       "       id          choice_1      choice_2 \n",
       " subj1  :  1   clubs   :35   clubs   :68  \n",
       " subj10 :  1   diamonds:51   diamonds:44  \n",
       " subj100:  1   hearts  :64   hearts  :41  \n",
       " subj101:  1   spades  :50   spades  :47  \n",
       " subj102:  1                              \n",
       " subj103:  1                              \n",
       " (Other):194                              "
      ]
     },
     "metadata": {},
     "output_type": "display_data"
    }
   ],
   "source": [
    "summary(cards)"
   ]
  },
  {
   "cell_type": "code",
   "execution_count": 201,
   "id": "dc3f03af",
   "metadata": {},
   "outputs": [
    {
     "data": {
      "text/plain": [
       "          choice_2\n",
       "choice_1   clubs diamonds hearts spades\n",
       "  clubs       10        9     10      6\n",
       "  diamonds    20        4     13     14\n",
       "  hearts      20       18      3     23\n",
       "  spades      18       13     15      4"
      ]
     },
     "metadata": {},
     "output_type": "display_data"
    }
   ],
   "source": [
    "card_choices = xtabs( ~ choice_1 + choice_2, data = cards )\n",
    "card_choices\n"
   ]
  },
  {
   "cell_type": "code",
   "execution_count": 202,
   "id": "64b41d6a",
   "metadata": {},
   "outputs": [
    {
     "data": {
      "text/plain": [
       "\n",
       "\tPearson's Chi-squared test\n",
       "\n",
       "data:  card_choices\n",
       "X-squared = 29.237, df = 9, p-value = 0.0005909\n"
      ]
     },
     "metadata": {},
     "output_type": "display_data"
    }
   ],
   "source": [
    "chisq.test( card_choices )"
   ]
  },
  {
   "cell_type": "code",
   "execution_count": 203,
   "id": "d95252e5",
   "metadata": {},
   "outputs": [
    {
     "data": {
      "text/plain": [
       "\n",
       "\tMcNemar's Chi-squared test\n",
       "\n",
       "data:  card_choices\n",
       "McNemar's chi-squared = 16.033, df = 6, p-value = 0.01358\n"
      ]
     },
     "metadata": {},
     "output_type": "display_data"
    }
   ],
   "source": [
    "mcnemar.test(card_choices)"
   ]
  },
  {
   "cell_type": "markdown",
   "id": "c267daac",
   "metadata": {
    "slideshow": {
     "slide_type": "slide"
    }
   },
   "source": [
    "# T-test\n",
    "\n",
    "* A The t test tells you whether the differences between groups is statistically significant.\n",
    "  * I.e., could the difference have happened by chance?\n",
    "\n",
    "* Approach very similar to what we covered uisng simulations\n",
    "\n",
    "Used to, for example:\n",
    "* In a medical context, we might want to know if a new drug increases or decreases blood pressure. \n",
    "* Compare the average transaction value between two companie.\n",
    "\n"
   ]
  },
  {
   "cell_type": "markdown",
   "id": "877ae052",
   "metadata": {
    "slideshow": {
     "slide_type": "slide"
    }
   },
   "source": [
    "### z-Test\n",
    "\n",
    "* Average expression of gene X in a normal coral is \\mu = 67.5 with \\sigma=9.5\n",
    "\n",
    "* You measure the exrepssion of genes X in 20 survivors of a heat wave and obtain the following values:\n",
    "    \n",
    "50 60 60 64 66 66 67 69 70 74 76 76 77 79 79 79 81 82 82 89\n",
    "\n",
    "* Biologically, we may be interested in evaluating whether the expression of gene X in survivors is different from that in normal corals\n",
    "  * Perhaps that is the reason those corals survived the heat wave?"
   ]
  },
  {
   "cell_type": "code",
   "execution_count": 5,
   "id": "56aafe5b",
   "metadata": {
    "slideshow": {
     "slide_type": "slide"
    }
   },
   "outputs": [],
   "source": [
    "new_data = [50,60, 60, 64, 66, 66, 67, 69, 70, 74, 76, 76, 77, 79, 79, 79, 81, 82, 82, 89]\n",
    "\n",
    "np.mean(new_data)\n"
   ]
  },
  {
   "cell_type": "markdown",
   "id": "8ad1e9ce",
   "metadata": {
    "slideshow": {
     "slide_type": "slide"
    }
   },
   "source": [
    "# Z-Test: cont'd\n",
    "\n",
    "* We are interested in whether there is a difference between the means\n",
    "  * i.e., the average gene expression in a normal coral and the average \n",
    "\n",
    "* Test statistic: $\\bar{X} - \\mu$\n",
    "\n",
    "* If difference is 0, things are looking good for the null hypothesis. \n",
    "\n",
    "* If this quantity is too large or too small then it’s looking less likely that the null hypothesis is true\n",
    "\n",
    "* How far away from zero should it be for us to reject H0\n",
    "\n"
   ]
  },
  {
   "cell_type": "markdown",
   "id": "848410c2",
   "metadata": {
    "slideshow": {
     "slide_type": "slide"
    }
   },
   "source": [
    "\n",
    "### The Null Versus the Alternative: An Illustration\n",
    "\n",
    "* $X \\sim \\text{Normal}(\\mu, \\sigma)$\n",
    "\n",
    "![](https://www.dropbox.com/s/c17z427bv4p7s3l/gaussian%20example.png?dl=1)"
   ]
  },
  {
   "cell_type": "markdown",
   "id": "e620be53",
   "metadata": {},
   "source": [
    "### Standar Error of $\\bar{X}$\n",
    "\n",
    "* If the null hypothesis is true, then the sampling distribution of the mean can be written as follows\n",
    "\n",
    "$\\bar{X}\\sim \\text{Normal}(\\mu, SE(\\bar{X}))$\n",
    "\n",
    "where $SE(\\bar{X}) = \\sigma/\\sqrt{N}$\n",
    "\n",
    "What we can do is convert the sample mean $\\bar{X}$ into a standard score\n",
    "$$\n",
    "z_{\\bar{X}}= \\frac{\\bar{X} - \\mu}{SE(\\bar{X})}\n",
    "$$\n",
    "\n",
    "* This z-score is our test statistic. \n",
    "  * The z-scores has a standard normal distribution\n",
    "  "
   ]
  },
  {
   "cell_type": "markdown",
   "id": "8a3c9191",
   "metadata": {
    "slideshow": {
     "slide_type": "slide"
    }
   },
   "source": [
    "![](https://www.dropbox.com/s/uae9otpdwe0ynto/one_two_test.png?dl=1)"
   ]
  },
  {
   "cell_type": "code",
   "execution_count": 7,
   "id": "d0bea5bf",
   "metadata": {
    "slideshow": {
     "slide_type": "slide"
    }
   },
   "outputs": [
    {
     "data": {
      "text/plain": [
       "72.3"
      ]
     },
     "execution_count": 7,
     "metadata": {},
     "output_type": "execute_result"
    }
   ],
   "source": [
    "sample_mean = np.mean(new_data)\n",
    "sample_mean"
   ]
  },
  {
   "cell_type": "code",
   "execution_count": 9,
   "id": "9e83d893",
   "metadata": {
    "slideshow": {
     "slide_type": "slide"
    }
   },
   "outputs": [],
   "source": [
    "mu_null = 67.5\n",
    "sd_true = 9.5"
   ]
  },
  {
   "cell_type": "code",
   "execution_count": 10,
   "id": "08f14bc2",
   "metadata": {
    "slideshow": {
     "slide_type": "slide"
    }
   },
   "outputs": [],
   "source": [
    "N = len(new_data)\n",
    "sem = sd_true / np.sqrt(N)\n",
    "z_score = (sample_mean - mu_null) / sem\n"
   ]
  },
  {
   "cell_type": "code",
   "execution_count": 269,
   "id": "ad572971",
   "metadata": {
    "slideshow": {
     "slide_type": "slide"
    }
   },
   "outputs": [
    {
     "data": {
      "text/html": [
       "0.0238457437649398"
      ],
      "text/latex": [
       "0.0238457437649398"
      ],
      "text/markdown": [
       "0.0238457437649398"
      ],
      "text/plain": [
       "[1] 0.02384574"
      ]
     },
     "metadata": {},
     "output_type": "display_data"
    }
   ],
   "source": [
    "upper_area = pnorm( z_score, lower.tail = FALSE )\n",
    "lower_area = pnorm( q = -z_score, lower.tail = TRUE )\n",
    "p_value = lower_area + upper_area\n",
    "p_value\n"
   ]
  },
  {
   "cell_type": "code",
   "execution_count": null,
   "id": "884a100e",
   "metadata": {
    "slideshow": {
     "slide_type": "slide"
    }
   },
   "outputs": [],
   "source": [
    "### Assumptions of the z-text\n",
    "\n",
    "* Normality. As usually described, the z-test assumes that the true population distribution is normal \n",
    "* Independence of the samples\n",
    "* Known standard deviation. "
   ]
  },
  {
   "cell_type": "markdown",
   "id": "b68e69e0",
   "metadata": {
    "slideshow": {
     "slide_type": "slide"
    }
   },
   "source": [
    "### One Sample t-Test\n",
    "\n",
    "* We don't know the population's `sd`\n",
    "  * We need to adjust for the fact that we have some uncertainty about what the true population standard deviation is\n",
    "* If our null hypothesis is that the true mean is \\mu, but our sample has mean \\bar{X} our estimate of the population standard deviation is $\\hat{\\sigma}$, then our $t$ statistic is\n",
    "\n",
    "$$\n",
    "t = \\frac{\\bar{X} - \\mu}{\\hat{\\sigma} /\\sqrt{N}}\n",
    "$$\n",
    "\n",
    "The  sampling distribution turns into a t-distribution with N -1 degrees of freedom (df).\n"
   ]
  },
  {
   "cell_type": "markdown",
   "id": "3a3e649e",
   "metadata": {},
   "source": [
    "### The independent samples t-test (Student test)\n",
    "\n",
    "* Two independet set of continuous values\n",
    "  * $H_0$: $\\mu_1 = \\mu_2$\n",
    "  * $H_a$: $\\mu_1 \\ne \\mu_2$\n",
    "               \n",
    "![](https://www.dropbox.com/s/b4gmvnol70hc9w6/independent.png?dl=1)\n"
   ]
  },
  {
   "cell_type": "markdown",
   "id": "a91631d1",
   "metadata": {},
   "source": [
    "### Pooled Estimate of the Standard Deviation\n",
    "\n",
    "* We make the assumption that the two groups have the same population standard deviation\n",
    "  * $\\sigma_1$ = $\\sigma_2 = \\sigma$\n",
    "* compute it simply as the wighted average across both samples\n",
    "\n",
    "\n"
   ]
  },
  {
   "cell_type": "markdown",
   "id": "41060e92",
   "metadata": {},
   "source": [
    "### Test statistic\n",
    "$$\n",
    "t = \\frac{\\bar{X_1} - \\bar{X_2}}{SE(\\bar{X_1} - \\bar{X_2})}\n",
    "$$\n",
    "Where\n",
    "$$\n",
    "SE(\\bar{X_1} - \\bar{X_2})  = \\hat{\\sigma}\\sqrt{\\frac{1}{N_1}+ \\frac{1}{N_2}}\n",
    "$$\n",
    "* The sampling distribution of this t-statistic is a t-distribution with N-2 degree of freedom"
   ]
  },
  {
   "cell_type": "markdown",
   "id": "e89d560c",
   "metadata": {},
   "source": [
    "### Assumptions of the test\n",
    "* Normality.\n",
    "* Independence.\n",
    "* Homogeneity of variance (also called “homoscedasticity”). \n",
    "  * population standard deviation is the same in both groups. \n",
    "   * can be tested using the Levene test"
   ]
  },
  {
   "cell_type": "markdown",
   "id": "60dad224",
   "metadata": {},
   "source": [
    "### The independent samples t-test (Welch test)\n",
    "\n",
    "Third assumption of Student test rarely holds with real data\n",
    "  * Both groups may not have the same standard deviation\n",
    "  * if two samples don’t have the same means, why should we expect them to have the same standard deviation?\n",
    "\n",
    "Does not assume homogeneity of variance\n",
    "  * This leaves only the assumption of normality, and the assumption of independence. \n"
   ]
  },
  {
   "cell_type": "code",
   "execution_count": null,
   "id": "0411c565",
   "metadata": {},
   "outputs": [],
   "source": [
    "Paired-test"
   ]
  },
  {
   "cell_type": "code",
   "execution_count": 272,
   "id": "c3c9e6de",
   "metadata": {},
   "outputs": [
    {
     "data": {
      "text/plain": [
       "\n",
       "\tOne Sample t-test\n",
       "\n",
       "data:  new_data\n",
       "t = 2.2547, df = 19, p-value = 0.03615\n",
       "alternative hypothesis: true mean is not equal to 67.5\n",
       "95 percent confidence interval:\n",
       " 67.84422 76.75578\n",
       "sample estimates:\n",
       "mean of x \n",
       "     72.3 \n"
      ]
     },
     "metadata": {},
     "output_type": "display_data"
    }
   ],
   "source": [
    "t.test( x = new_data, mu = 67.5 )"
   ]
  },
  {
   "cell_type": "code",
   "execution_count": 286,
   "id": "32dd0aa5",
   "metadata": {},
   "outputs": [
    {
     "data": {
      "text/plain": [
       "\n",
       "\tWelch Two Sample t-test\n",
       "\n",
       "data:  data_1 and data_2\n",
       "t = 2.0251, df = 35.028, p-value = 0.05053\n",
       "alternative hypothesis: true difference in means is not equal to 0\n",
       "95 percent confidence interval:\n",
       " -0.003819447  3.120024905\n",
       "sample estimates:\n",
       "mean of x mean of y \n",
       "1.8565261 0.2984234 \n"
      ]
     },
     "metadata": {},
     "output_type": "display_data"
    }
   ],
   "source": [
    "set.seed(142)\n",
    "data_1 = rnorm(20, 1, 3)\n",
    "data_2 = rnorm(20, 1, 2)\n",
    "t.test( data_1, data_2) "
   ]
  },
  {
   "cell_type": "code",
   "execution_count": 287,
   "id": "78197445",
   "metadata": {},
   "outputs": [
    {
     "data": {
      "text/plain": [
       "\n",
       "\tTwo Sample t-test\n",
       "\n",
       "data:  data_1 and data_2\n",
       "t = 2.0251, df = 38, p-value = 0.04993\n",
       "alternative hypothesis: true difference in means is not equal to 0\n",
       "95 percent confidence interval:\n",
       " 0.0005316754 3.1156737829\n",
       "sample estimates:\n",
       "mean of x mean of y \n",
       "1.8565261 0.2984234 \n"
      ]
     },
     "metadata": {},
     "output_type": "display_data"
    }
   ],
   "source": [
    "t.test( data_1, data_2, var.equal=TRUE) "
   ]
  },
  {
   "cell_type": "code",
   "execution_count": 288,
   "id": "c63ccff2",
   "metadata": {},
   "outputs": [
    {
     "data": {
      "text/plain": [
       "\n",
       "\tPaired t-test\n",
       "\n",
       "data:  data_1 and data_2\n",
       "t = 1.7103, df = 19, p-value = 0.1035\n",
       "alternative hypothesis: true difference in means is not equal to 0\n",
       "95 percent confidence interval:\n",
       " -0.3486233  3.4648288\n",
       "sample estimates:\n",
       "mean of the differences \n",
       "               1.558103 \n"
      ]
     },
     "metadata": {},
     "output_type": "display_data"
    }
   ],
   "source": [
    "t.test( data_1, data_2, paired=TRUE) "
   ]
  },
  {
   "cell_type": "code",
   "execution_count": null,
   "id": "26cbda7f",
   "metadata": {},
   "outputs": [],
   "source": [
    "### Checking the Normality of the Data\n",
    "* QQ plots provide a nice way to informally check the normality of your data, \n",
    "* Shapiro-Wilk test provide a formal test\n",
    "  * N observations are normally distributed\n",
    "  The test statistic that it calculates is conventionally denoted as W\n"
   ]
  },
  {
   "cell_type": "code",
   "execution_count": 293,
   "id": "89c056a0",
   "metadata": {},
   "outputs": [
    {
     "data": {
      "text/plain": [
       "\n",
       "\tShapiro-Wilk normality test\n",
       "\n",
       "data:  normal_data\n",
       "W = 0.98412, p-value = 0.274\n"
      ]
     },
     "metadata": {},
     "output_type": "display_data"
    }
   ],
   "source": [
    "normal_data = rnorm(100, 1, 2)\n",
    "shapiro.test(normal_data)"
   ]
  },
  {
   "cell_type": "code",
   "execution_count": 294,
   "id": "e1b33c15",
   "metadata": {},
   "outputs": [
    {
     "data": {
      "text/plain": [
       "\n",
       "\tShapiro-Wilk normality test\n",
       "\n",
       "data:  non_normal_data\n",
       "W = 0.94121, p-value = 0.0002287\n"
      ]
     },
     "metadata": {},
     "output_type": "display_data"
    }
   ],
   "source": [
    "non_normal_data = rpois(100, 3)\n",
    "shapiro.test(non_normal_data)"
   ]
  },
  {
   "cell_type": "code",
   "execution_count": null,
   "id": "b246b576",
   "metadata": {},
   "outputs": [],
   "source": [
    "### Testing non-normal data with Wilcoxon tests\n",
    "\n",
    "\n",
    "* Like the t-test, the Wilcoxon test comes in two forms, one-sample and two-sample\n",
    "  * they’re used in more or less the exact same situations as the corresponding t-tests. \n",
    "\n",
    "Unlike the t-test, the Wilcoxon test doesn’t assume normality\n",
    "no  assumptions about what kind of distribution is involved\n",
    "  *  nonparametric tests\n",
    "While avoiding\n",
    "* Drawback: the Wilcoxon test is usually less powerful than the t-test \n",
    "  * May accepts a null hypothesis that is actually false\n"
   ]
  }
 ],
 "metadata": {
  "celltoolbar": "Slideshow",
  "kernelspec": {
   "display_name": "Python 3 (ipykernel)",
   "language": "python",
   "name": "python3"
  },
  "language_info": {
   "codemirror_mode": {
    "name": "ipython",
    "version": 3
   },
   "file_extension": ".py",
   "mimetype": "text/x-python",
   "name": "python",
   "nbconvert_exporter": "python",
   "pygments_lexer": "ipython3",
   "version": "3.8.11"
  }
 },
 "nbformat": 4,
 "nbformat_minor": 5
}

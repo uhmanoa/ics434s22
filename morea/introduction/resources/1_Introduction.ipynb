{
 "cells": [
  {
   "cell_type": "markdown",
   "metadata": {
    "slideshow": {
     "slide_type": "slide"
    }
   },
   "source": [
    "# ICS 434 DATA SCIENCE FUNDAMENTALS\n",
    "\n",
    "## BRIEF INTRODUCTION\n"
   ]
  },
  {
   "cell_type": "markdown",
   "metadata": {
    "slideshow": {
     "slide_type": "slide"
    }
   },
   "source": [
    "### What is Data Science?\n",
    "\n",
    "\n",
    "* A field in which there is no consensus on its exact definition\n",
    "\n",
    "```\n",
    "Data science is an interdisciplinary field that uses scientific methods, processes, algorithms and systems to extract knowledge and insights from noisy, structured and unstructured data, and apply knowledge and actionable insights from data across a broad range of application domains. Data science is related to data mining, machine learning and big data.\n",
    "```\n",
    "https://en.wikipedia.org/wiki/Data_science\n"
   ]
  },
  {
   "cell_type": "markdown",
   "metadata": {
    "slideshow": {
     "slide_type": "slide"
    }
   },
   "source": [
    "### What is Data Science? - Cont'd\n",
    "\n",
    "* Aim: to transform raw data into actionable knowledge.\n",
    "\n",
    "* Data Science process can be described by the DIKW Pyramid\n",
    "\n",
    "  * A step of the pyramid adds value or answers a question by using its lower layers.\n",
    "    \n",
    "<img src=\"https://www.dropbox.com/s/7mh80nc9jctirng/data_to_wisdom.png?dl=1\" alt=\"drawing\" style=\"width:500px;\"/>\n"
   ]
  },
  {
   "cell_type": "markdown",
   "metadata": {
    "slideshow": {
     "slide_type": "slide"
    }
   },
   "source": [
    "### DIKW Pyramid: Data\n",
    "\n",
    "* Data is the fundamental block of the DIKW pyramid and data science.\n",
    "   * No data science without data.\n",
    "   \n",
    "* Data can arise from various processes. Ex.:\n",
    "    * Manually collected or generated (Ex. phone through surveys, user photos).\n",
    "    * Automatically generated (Ex. Traffic sensors, IoT).\n",
    "    * Simulated (ex. weather or astronomy models).\n",
    "    \n",
    "* Raw Data rarely has any intrinsic value for the entity that collects it.\n",
    "  * Need to process it, interrogate and perhaps compare or enrich it with other datasets to generate extrinsic value."
   ]
  },
  {
   "cell_type": "markdown",
   "metadata": {
    "slideshow": {
     "slide_type": "slide"
    }
   },
   "source": [
    "### DIKW Pyramid: Information\n",
    "\n",
    "* The representation of the processed data\n",
    "    * Data cleaned (ex. remove or impute missing values), disambiguated (ex. fix alternative spellings), aggregation or enrichment (ex. extend zip code with median revenue in that neighborhood), etc.\n",
    "    * Exploratory data analysis (ex. visualizing the distribution of a variable, or computing summary statistics) can generate valuable information.\n",
    "        * Ex.:\n",
    "            * The spending on any day of the week has a log-tail.\n",
    "            * The mean time usage of my app is ~1.5 hours per day.\n",
    "        \n",
    "* While *informative*, information gathered may not represent valuable knowledge.\n",
    "    * Not directly *actionable* and does not directly lead to specific conclusions.\n",
    "   "
   ]
  },
  {
   "cell_type": "markdown",
   "metadata": {
    "slideshow": {
     "slide_type": "slide"
    }
   },
   "source": [
    "### DIKW Pyramid: Knowledge\n",
    "\n",
    "* Extracting non-obvious insight\n",
    "\n",
    "* I.e., how is the information gathered from the data relevant to our end-goals?\n",
    "\n",
    "    * Are there differences between males and females' usage of my app\n",
    "    What features of my app are strongly correlated with long usage?\n",
    "\n",
    "* As a business or as a researcher, the gathered knowledge is what you are trying to gather as an edge.\n"
   ]
  },
  {
   "cell_type": "markdown",
   "metadata": {
    "slideshow": {
     "slide_type": "slide"
    }
   },
   "source": [
    "### DIKW Pyramid: Wisdom\n",
    "\n",
    "* Wisdom is knowledge applied in action.\n",
    "\n",
    "* In contrast to deductive science, the knowledge gained may not be certain, and the actions taken may not be optimal.\n",
    "  * Conclusions are probable and reasonable and actions are reasonably favorable.\n",
    "\n",
    "* Feature X leads to longer use time. Adding more features like X will further increase use time.\n",
    "* Feature Y is the least used one in the app. Adding features like Y will is not a good use of time and effort.  \n"
   ]
  },
  {
   "cell_type": "markdown",
   "metadata": {
    "slideshow": {
     "slide_type": "slide"
    }
   },
   "source": [
    "###  Data Science: Business Definition \n",
    "\n",
    "```\n",
    "The ability to take data — to be able to understand it, to process it, to extract value from it, to visualize it, to communicate it — that’s going to be a hugely important skill in the next decades.\n",
    "\n",
    "  - Hal Varian, Chief Economist at Google and Founding Dean of the School of Information at UC Berkeley.\n",
    "```\n",
    "\n"
   ]
  },
  {
   "cell_type": "markdown",
   "metadata": {
    "slideshow": {
     "slide_type": "slide"
    }
   },
   "source": [
    "### What Is Data Science?\n",
    "\n",
    "\n",
    "\n",
    "<img src=\"https://www.dropbox.com/s/7rn0bjpp315p1km/datascience_venn_berkeley.png?dl=1\" alt=\"drawing\" style=\"width:600px;\"/>"
   ]
  },
  {
   "cell_type": "markdown",
   "metadata": {
    "slideshow": {
     "slide_type": "slide"
    }
   },
   "source": [
    "### Data Science In Academia\n",
    "\n",
    "* Increasing number of academic sub-disciplines that focus on data analysis.\n",
    "\n",
    "* Sub-disciplines with adjectives such as “informatics”, “computational” or “quantitative” in front of them.\n",
    "\n",
    "  * Ecoinformatics, chemoinformatics, social informatics, computational biology, quantitative finance, computational linguistics, ...\n",
    "\n",
    "* I consider these to be manifestations of data science in those areas\n",
    "\n"
   ]
  },
  {
   "cell_type": "markdown",
   "metadata": {
    "slideshow": {
     "slide_type": "slide"
    }
   },
   "source": [
    "### Is Data Science New?\n",
    "\n",
    "* Researchers in academia and the industry have been working DIKW process for many years.\n",
    "  * Many fields combine CS, math/stats, engineering, and domain expertise.\n",
    "  * Walk on the 4th, 5th, 6th, and 7th Floors of POST and read some of the posters on the wall.\n",
    "    * Ask astronomers or biologists working on genomics or researchers in econometrics to cite only a few.\n",
    "* Reliance on complex data was not, as the media portrays it, created yesterday.\n",
    "* Many data scientists in the industry are biologists, experimental physicists, astrophysicists, oceanographers, etc."
   ]
  },
  {
   "cell_type": "markdown",
   "metadata": {
    "slideshow": {
     "slide_type": "slide"
    }
   },
   "source": [
    "### Why the sudden excitement?\n",
    "\n",
    "* New technology makes it possible to capture vast amounts of data (breadth and width).\n",
    "  * Apple Watch makes it easier to get heart rate sensors from millions of people (breadth)\n",
    "  * IoT advances make it easier to measure a broad range of new signals (width) \n",
    "  \n",
    "* A trend of \"__datafication__\" or taking all aspects of life and turning them into data.\n",
    "  * LinkedIn \"datafies\", among other things, professional relevance and HR churn.\n",
    "  * Mastercard \"datafies\" you as a customer, patient, citizen, etc...\n",
    "\n",
    "\n",
    "* Existing tools and methods can now scale to these new types of complex data.\n"
   ]
  },
  {
   "cell_type": "markdown",
   "metadata": {
    "slideshow": {
     "slide_type": "slide"
    }
   },
   "source": [
    "### A Data Science Renaissance\n",
    "\n",
    "* Computing advances make it possible to analyze data on ever-increasing scales and complexities.\n",
    "\n",
    "* Realization that the world will be increasingly “datafied” fuels new interest in research on the analysis of complex data.\n",
    "  * Complex data can be large or tiny data.\n",
    "  * Immense complexity if combining heterogeneous data. For example, how do you combine and extract knowledge form:\n",
    "    * Molecular (Cell-level) data, \n",
    "    * Hospital medical records,\n",
    "    * Apple Watch data (heart rate, physical activities, eating habits from GPS, etc..)"
   ]
  },
  {
   "cell_type": "markdown",
   "metadata": {
    "slideshow": {
     "slide_type": "slide"
    }
   },
   "source": [
    "### Isn’t Statistics the “Science of Data”?\n",
    "\n",
    "\n",
    "* A data scientist is an expert in computer science (or a skilled programmer), understands the intricacies of statistics and probabilities, has excellent communication skills, knows how to visualize data, and has domain expertise (understanding). \n",
    "\n",
    "* Current statistical approaches may not always be possible. \n",
    "  * Data too large to apply statistical inference.\n",
    "  * Underlying assumptions do not always apply to the data.\n",
    "\n",
    "* Emphasis is on gaining valuable insight regardless of methods used.\n",
    "  * All (many?) roads lead to Rome.\n",
    "  * Much of the initial developments were happening in the industry, not academia. So the emphasis was on creative approaches, not always mathematically or statistically rigorous ones.\n",
    "  \n",
    "* A foundation in statistics is paramount in data science.\n",
    "  * A PhD in statistics is not required.\n"
   ]
  },
  {
   "cell_type": "markdown",
   "metadata": {
    "slideshow": {
     "slide_type": "slide"
    }
   },
   "source": [
    "### Python as a Principal Tool for Data Science\n",
    "\n",
    "* Python is a general-purpose programming language.\n",
    "\n",
    "* Supports rapid development of scripts and full-fledged applications.\n",
    "  * You can write a quick analysis, a web portal (Django or Flask), or a business application quickly and (fairly) efficiently.\n",
    "  \n",
    "* A popular language with an abundance of resources.\n",
    "  * Currently first in popularity according to Stack Overflow and Google Trends.\n",
    "  \n",
    "* Very simple syntax and gentle learning curve."
   ]
  },
  {
   "cell_type": "markdown",
   "metadata": {
    "slideshow": {
     "slide_type": "slide"
    }
   },
   "source": [
    "### Python's Popularity\n",
    "<img src=\"https://www.dropbox.com/s/ocxi2wlrxysfd07/tiobe_2022.png?dl=1\" alt=\"drawing\" style=\"width:600px;\"/>\n"
   ]
  },
  {
   "cell_type": "markdown",
   "metadata": {
    "slideshow": {
     "slide_type": "slide"
    }
   },
   "source": [
    "### Python's Main Advantages\n",
    "\n",
    "* Gentle learning curve\n",
    "* Supported on all platforms (including the $20 Raspberry Pi)\n",
    "* Used in various fields\n",
    "  * Finance, biology, astronomy, oceanography, transportation, etc\n",
    "* Vast and thriving user community with a vibrant ecosystem of third-party packages\n",
    "    * Plethora of data science libraries in various domains.\n",
    "\n"
   ]
  },
  {
   "cell_type": "markdown",
   "metadata": {
    "slideshow": {
     "slide_type": "slide"
    }
   },
   "source": [
    "### Sample Python Projects\n",
    "\n",
    "<img src=\"https://www.dropbox.com/s/counsx56hbovgrr/python_products.png?dl=1\" alt=\"drawing\" style=\"width:600px;\"/>\n",
    "\n",
    "See the following for more details: https://realpython.com/world-class-companies-using-python/\n"
   ]
  },
  {
   "cell_type": "markdown",
   "metadata": {
    "slideshow": {
     "slide_type": "slide"
    }
   },
   "source": [
    "### Python Covered in This Course\n",
    "\n",
    "* We will cover Python as a tool for Data Science.\n",
    "  * Not interested in OO programming or advanced features.\n",
    "    * You should explore software engineering and advanced features in Python on your own.    \n",
    "\n",
    "* We will cover in depth functionality needed to deal with data at various stages.\n",
    "  * Manipulating data (ex.: read, clean and normalize data)\n",
    "  * Analyzing data (ex. model data, reduce dimensionality and test hypotheses)\n",
    "  * Visualize data (ex. plot distributions and inspect data)\n"
   ]
  },
  {
   "cell_type": "markdown",
   "metadata": {
    "slideshow": {
     "slide_type": "slide"
    }
   },
   "source": [
    "### Python: Origin and Future\n",
    "\n",
    "* Created by Guido Van Rossum (GVM) and first released in 1991 \n",
    "  * Benevolent Dictator For Life (BDFL) and retains the final say in disputes or arguments within the community \n",
    "    * GVM retired after working for Dropbox and Google among other large\n",
    "      * Back with Microsoft! 🤔\n",
    "\n",
    "* Funded and managed by the Python Software Foundation (PSF) \n",
    "  * A 501(c)(3) non-profit corporation that holds the intellectual property rights\n",
    "\n",
    "  * Manages the open source licensing and trademarks associated with Python\n",
    " \n",
    "```\n",
    "The mission of the Python Software Foundation is to promote, protect, and advance the Python programming language, \n",
    "and to support and facilitate the growth of a diverse and international community of Python programmers.\n",
    " - from the Mission Statement page\n",
    "```\n",
    "\n",
    "* The PEP-8 document provides guidelines and best practices on how to write Python code."
   ]
  },
  {
   "cell_type": "markdown",
   "metadata": {
    "slideshow": {
     "slide_type": "slide"
    }
   },
   "source": [
    "### Example of Python Code - 1\n",
    "\n",
    "* List of famous people\n",
    "\n",
    "* what are the most common first names among famour people?\n",
    "\n",
    "| # First Name | Last Name |\n",
    "| --- | ----------- |\n",
    "| Steven | Gerrard | \n",
    "| Bruce | Lee |\n",
    "| Barack | Obama |\n",
    "| Oprah | Winfrey |\n",
    "| Roger | Federer |\n",
    "| James | Taylor |\n",
    "| Brad | Pitt |\n",
    "| Steven | Spielberg |\n",
    "| Andy | Warhol |\n",
    "| Andy | Roddick |\n",
    "\n"
   ]
  },
  {
   "cell_type": "markdown",
   "metadata": {
    "slideshow": {
     "slide_type": "slide"
    }
   },
   "source": [
    "### Example of Python Code - 2\n",
    "\n",
    "```\n",
    "# First_Name\\tLast_Name\n",
    "# \n",
    "Steven\\tGerrard\n",
    "Bruce\\tLee\n",
    "...\n",
    "```\n",
    "\n",
    "\n",
    "```python\n",
    "# Count and the display number of occurrences of last names from a tsv file\n",
    "famous_people_collection = {}\n",
    "\n",
    "for line in open(\"famous_people.tsv\").read_lines():\n",
    "\n",
    "    if line[0] != \"#\":        \n",
    "        data = line.split(\"\\t\")\n",
    "        if data[1] not in famous_people_collection:\n",
    "            famous_people_collection[data[0]] = 1 \n",
    "        else:\n",
    "            famous_people_collection[data[0]] += 1\n",
    "\n",
    "for name, count in famous_people_collection.items():\n",
    "    print(\"first name is: {}, count is: {}\".format(name, count))    \n",
    "```\n",
    "\n",
    "* This code is for illustration purposes only.\n"
   ]
  },
  {
   "cell_type": "markdown",
   "metadata": {
    "slideshow": {
     "slide_type": "slide"
    }
   },
   "source": [
    "### Example of Python Code - 3\n",
    "\n",
    "```python\n",
    "from collections import Counter\n",
    "famous_people_collection = Counter([x.split()[1] for x in open(\"/tmp/1\").readlines()[1:]])\n",
    "```"
   ]
  },
  {
   "cell_type": "markdown",
   "metadata": {
    "slideshow": {
     "slide_type": "slide"
    }
   },
   "source": [
    "### Disadvantages of Python over other programming languages\n",
    "\n",
    "* Speed and errors\n",
    "  * No compiler to optimize code or identify errors before runtime\n",
    "      * Code linters, i.e., programs that analyse code, that can detect basic errors\n",
    " \n",
    "* No fine-grained control to tweak data structures easily \n",
    "  * Think for instance of pointers and memory management in C and C++\n",
    " \n",
    "* A lower entry barrier that has enabled a sea of “Hero Code”!"
   ]
  },
  {
   "cell_type": "markdown",
   "metadata": {
    "slideshow": {
     "slide_type": "slide"
    }
   },
   "source": [
    "### Python Versions\n",
    "\n",
    "* We will be using Python 3 in this course\n",
    "  * I am currently running Python 3.9.7\n",
    "  * Make sure you are using Python > 3.7"
   ]
  },
  {
   "cell_type": "markdown",
   "metadata": {
    "slideshow": {
     "slide_type": "slide"
    }
   },
   "source": [
    "### What we Will Cover\n",
    "\n",
    "* The tools and materials we will cover will align well with the DIKW pyramid\n",
    "* **DATA**: Data Wranglign and processing\n",
    "* **INFORMATION**: Exploratory data analysis (data vis., summary statistics) \n",
    "* **Knowledge** Model and machine learning \n",
    "* **WISDOM**: Model validation, hypoethesis testings\n",
    "\n",
    "* We will move back and forth and rotate between these topics"
   ]
  },
  {
   "cell_type": "markdown",
   "metadata": {
    "slideshow": {
     "slide_type": "slide"
    }
   },
   "source": [
    "### What we Will Cover\n",
    "\n",
    "* Data Wrangling in *Pandas*\n",
    "  * Both tabular and time series data\n",
    "  * From basic indexing to split-apply-combine paradigm  \n",
    "  * covered predominantly throughout the first section of the course\n",
    "* Data Visulization in Matplotlib and Seaborn\n",
    "  * Covered throuhgout the the course\n",
    "* Probability distribution, summary statistics and paramter estimation and simulation\n",
    "  * Numpy, Scipy, statsmodels\n",
    "  * Covered during the second, third quarters of the course\n",
    "* Introductionto Machine learning Model using StatsModels and scikit-learn.\n",
    "  * Emphasis on statistical learning    \n",
    "  * Covered in the last quarter of the course"
   ]
  },
  {
   "cell_type": "markdown",
   "metadata": {
    "slideshow": {
     "slide_type": "slide"
    }
   },
   "source": [
    "### FURTHER READING:\n",
    "\n",
    "What is Data Science (Edureka)<br/>\n",
    "https://www.edureka.co/blog/what-is-data-science/\n",
    "\n",
    "The Incredible Growth of Python (David Robinson -- Stack Overfow)<br/>\n",
    "https://stackoverflow.blog/2017/09/06/incredible-growth-python/\n",
    "\n",
    "Python is becoming the world’s most popular coding language (The Economist)<br/>\n",
    "https://www.economist.com/graphic-detail/2018/07/26/python-is-becoming-the-worlds-most-popular-coding-language\n"
   ]
  },
  {
   "cell_type": "markdown",
   "metadata": {
    "slideshow": {
     "slide_type": "slide"
    }
   },
   "source": [
    "### Iteresting Python Resources\n",
    "\n",
    "* How to Write Beautiful Python Code With PEP 8: https://realpython.com/python-pep8/\n",
    "    \n",
    "* Site with *Excellent* Python Tutorials and Demos : https://realpython.com\n",
    "  * Many free tutorials + membership-based access\n",
    "\n"
   ]
  }
 ],
 "metadata": {
  "celltoolbar": "Slideshow",
  "hide_input": false,
  "kernelspec": {
   "display_name": "Python 3 (ipykernel)",
   "language": "python",
   "name": "python3"
  },
  "language_info": {
   "codemirror_mode": {
    "name": "ipython",
    "version": 3
   },
   "file_extension": ".py",
   "mimetype": "text/x-python",
   "name": "python",
   "nbconvert_exporter": "python",
   "pygments_lexer": "ipython3",
   "version": "3.8.3"
  }
 },
 "nbformat": 4,
 "nbformat_minor": 2
}
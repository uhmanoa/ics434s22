{
 "cells": [
  {
   "cell_type": "code",
   "execution_count": 1,
   "metadata": {
    "slideshow": {
     "slide_type": "slide"
    }
   },
   "outputs": [],
   "source": [
    "# %load ../standard_import.txt\n",
    "from IPython.display import Image\n",
    "import pandas as pd\n",
    "import numpy as np\n",
    "import matplotlib.pyplot as plt\n",
    "\n",
    "import statsmodels.api as sm\n",
    "import statsmodels.formula.api as smf\n",
    "\n",
    "%matplotlib inline"
   ]
  },
  {
   "cell_type": "markdown",
   "metadata": {
    "slideshow": {
     "slide_type": "slide"
    }
   },
   "source": [
    "### Logistic Regrssion\n",
    "\n",
    "* The linear regression model discussed assumes response is quantitative\n",
    "* But in many situations, the response variable is instead qualitative\n",
    "\n",
    "* Logistic Regression for the outcome to be qualitative (or categorical)\n",
    "\n",
    "  * The main difference between Linear versus logistic regression is in the type of outcomes predicted   \n",
    "\n",
    "* Email: SPAM vs. HAM\n",
    "* An individual will get a disease or not\n",
    "* Etc.\n",
    "\n",
    "* Logistic Regression is one among many solutions to classification\n"
   ]
  },
  {
   "cell_type": "markdown",
   "metadata": {
    "slideshow": {
     "slide_type": "slide"
    }
   },
   "source": [
    "### Classification\n",
    "\n",
    "* Classification takes a set of inputs and assigns them to a qualitative outcome \n",
    " * A qualitative outcome is one that takes values in a set of possible categories \n",
    " \n",
    "* Often, we are interested in predicting the probability that an input belongs to each category\n",
    "  * We can then take the assignment with the highest probability\n",
    "  * I.e., more relevant to say a computer is infected with 0.99 probability or 0.52 probability than just infected"
   ]
  },
  {
   "cell_type": "markdown",
   "metadata": {
    "slideshow": {
     "slide_type": "slide"
    }
   },
   "source": [
    "### Classes of Logistic Regression\n",
    "\n",
    "* There are two types of logistic regression into:\n",
    "  * Simple or binary logistic regression\n",
    "  * Multiclass logistic regression\n",
    "* We focus on (binary) logistic regression\n",
    "  * Ease to generalize to more than two classes"
   ]
  },
  {
   "cell_type": "markdown",
   "metadata": {
    "slideshow": {
     "slide_type": "slide"
    }
   },
   "source": [
    "### Dataset \n",
    "\n",
    "* People who default on their credit card paymment (brown marks) versus those who don't (blue circles)\n",
    "\n",
    "<img src=\"images/classification_1.png\" alt=\"drawing\" style=\"width:1000px;\"/>\n"
   ]
  },
  {
   "cell_type": "markdown",
   "metadata": {
    "slideshow": {
     "slide_type": "slide"
    }
   },
   "source": [
    "### Justification for logistic regression\n",
    "\n",
    "- Can we use linear regression to determine whether a client defaults on credit card payment? How?\n",
    "- One possible way is to assign given output to classes (say 0 and 1) and use linear regression to generate value that span the 0,1 range\n",
    "\n",
    "$$\n",
    "\\left\\{\n",
    "    \\begin{array}{ll}\n",
    "        1 & \\mbox{if default} \\\\\n",
    "        0 & \\mbox{otherwise}\n",
    "    \\end{array}\n",
    "\\right.\n",
    "$$\n"
   ]
  },
  {
   "cell_type": "markdown",
   "metadata": {
    "slideshow": {
     "slide_type": "slide"
    }
   },
   "source": [
    "### Using Linear in Classification\n",
    "\n",
    "<img src=\"images/regression_1.png\" alt=\"drawing\" style=\"width:500px;\"/>\n",
    "\n"
   ]
  },
  {
   "cell_type": "markdown",
   "metadata": {
    "slideshow": {
     "slide_type": "slide"
    }
   },
   "source": [
    "### Using Linear in Classification - Cont'd\n",
    "\n",
    "\n",
    "* Remember that linear regression predicts continuous values\n",
    "* We can say then that: \n",
    "  * Any value that our linear regression predicts as above a certain threshold represents class 1\n",
    "  * Any value that our linear regression predicts below a certain threshold represents class 0\n",
    "* 0.5 is a reasonable threshold as it sits exactly in the middle classes 0 and 1\n",
    "  "
   ]
  },
  {
   "cell_type": "markdown",
   "metadata": {
    "slideshow": {
     "slide_type": "slide"
    }
   },
   "source": [
    "### Using Linear in Classification - Model\n",
    "\n",
    "<img src=\"images/regression_2.png\" alt=\"drawing\" style=\"width:500px;\"/>\n"
   ]
  },
  {
   "cell_type": "markdown",
   "metadata": {
    "slideshow": {
     "slide_type": "slide"
    }
   },
   "source": [
    "### Using Linear in Classification - Prediction\n",
    "\n",
    "<img src=\"images/regression_3.png\" alt=\"drawing\" style=\"width:800px;\"/>\n"
   ]
  },
  {
   "cell_type": "markdown",
   "metadata": {
    "slideshow": {
     "slide_type": "slide"
    }
   },
   "source": [
    "### Using Linear in Classification - Prediction Regions\n",
    "\n",
    "<img src=\"images/regression_4.png\" alt=\"drawing\" style=\"width:800px;\"/>\n",
    "\n"
   ]
  },
  {
   "cell_type": "markdown",
   "metadata": {
    "slideshow": {
     "slide_type": "slide"
    }
   },
   "source": [
    "### Inconvenients of Using Linear Regression\n",
    "\n",
    "* Problems with \"hacking\" linear regression for classification\n",
    "\n",
    "\n",
    "* The regression line is sensitive to the data\n",
    "  * outliers can drastically change the intersection point of the threshold on the line\n",
    "  \n",
    "\n",
    "* Predicted value can be much smaller than 0 or much larger than 1\n",
    "  * Impossible to interpret as a probability"
   ]
  },
  {
   "cell_type": "markdown",
   "metadata": {
    "slideshow": {
     "slide_type": "slide"
    }
   },
   "source": [
    "<img src=\"images/regression_5.png\" alt=\"drawing\" style=\"width:500px;\"/>\n"
   ]
  },
  {
   "cell_type": "markdown",
   "metadata": {
    "slideshow": {
     "slide_type": "slide"
    }
   },
   "source": [
    "## Logistic Regression\n",
    "\n",
    "* A very simple yet popular method for classification\n",
    "\n",
    "* Constrains the predicted value to be between 0 and 1\n",
    "  * Can be interpreted as a probability for a class\n",
    "  \n",
    "Use the logistic, or sigmoid function, to model the separation between the classes\n",
    "\n",
    "\n",
    "$$ g(x) = \\frac{1}{1+e^-(\\beta_0 + \\beta_1~x)}$$\n",
    "\n"
   ]
  },
  {
   "cell_type": "markdown",
   "metadata": {
    "slideshow": {
     "slide_type": "slide"
    }
   },
   "source": [
    "## Logistic Regression\n",
    "\n",
    "* Assuming $\\beta_0=0$ and $\\beta_1=1$\n",
    "\n",
    "<img src=\"images/logistic_regression.png\" alt=\"drawing\" style=\"width:700px;\"/>\n",
    "\n",
    "* The logistic function g(x) provides $prob(y=1~|~x, \\beta_1, \\beta_2)$\n",
    "  * The probability that a value x is 1.\n"
   ]
  },
  {
   "cell_type": "code",
   "execution_count": 7,
   "metadata": {
    "slideshow": {
     "slide_type": "slide"
    }
   },
   "outputs": [
    {
     "data": {
      "text/plain": [
       "<matplotlib.lines.Line2D at 0x174804430>"
      ]
     },
     "execution_count": 7,
     "metadata": {},
     "output_type": "execute_result"
    },
    {
     "data": {
      "image/png": "[encoded data removed]",
      "text/plain": [
       "<Figure size 864x360 with 1 Axes>"
      ]
     },
     "metadata": {
      "needs_background": "light"
     },
     "output_type": "display_data"
    }
   ],
   "source": [
    "x_axis = np.arange(-10, 10, 0.05)\n",
    "y_axis = 1 / (1 + np.e**-x_axis)\n",
    "plt.figure(figsize=(12,5))\n",
    "plt.plot(x_axis, y_axis)\n",
    "plt.axhline(0.5, linestyle=\"--\", color='r', alpha=0.2)\n",
    "plt.axvline(0, linestyle=\"--\", color='k', alpha=0.2)"
   ]
  },
  {
   "cell_type": "markdown",
   "metadata": {
    "slideshow": {
     "slide_type": "slide"
    }
   },
   "source": [
    "### Parameters of the Logstic \n",
    "- As with the linear regression, we assumed that the params of the model $\\beta_0$ and $\\beta_1$ can be anything"
   ]
  },
  {
   "cell_type": "code",
   "execution_count": 8,
   "metadata": {
    "slideshow": {
     "slide_type": "slide"
    }
   },
   "outputs": [
    {
     "data": {
      "text/plain": [
       "array([1.38389653e-87, 3.76182078e-87, 1.02256891e-86, 2.77963048e-86,\n",
       "       7.55581902e-86, 2.05388455e-85, 5.58303706e-85, 1.51762682e-84,\n",
       "       4.12533740e-84, 1.12138297e-83, 3.04823495e-83, 8.28596168e-83,\n",
       "       2.25235791e-82, 6.12254357e-82, 1.66427989e-81, 4.52398179e-81,\n",
       "       1.22974575e-80, 3.34279552e-80, 9.08666032e-80, 2.47001036e-79,\n",
       "       6.71418429e-79, 1.82510451e-78, 4.96114844e-78, 1.34857996e-77,\n",
       "       3.66582041e-77, 9.96473301e-77, 2.70869527e-76, 7.36299712e-76,\n",
       "       2.00147013e-75, 5.44055988e-75, 1.47889751e-74, 4.02006022e-74,\n",
       "       1.09276566e-73, 2.97044505e-73, 8.07450679e-73, 2.19487851e-72,\n",
       "       5.96629836e-72, 1.62180804e-71, 4.40853133e-71, 1.19836306e-70,\n",
       "       3.25748853e-70, 8.85477188e-70, 2.40697655e-69, 6.54284062e-69,\n",
       "       1.77852848e-68, 4.83454164e-68, 1.31416467e-67, 3.57226994e-67,\n",
       "       9.71043646e-67, 2.63957030e-66, 7.17509597e-66, 1.95039330e-65,\n",
       "       5.30171867e-65, 1.44115655e-64, 3.91746966e-64, 1.06487866e-63,\n",
       "       2.89464031e-63, 7.86844816e-63, 2.13886596e-62, 5.81404049e-62,\n",
       "       1.58042006e-61, 4.29602713e-61, 1.16778125e-60, 3.17435855e-60,\n",
       "       8.62880116e-60, 2.34555134e-59, 6.37586958e-59, 1.73314104e-58,\n",
       "       4.71116580e-58, 1.28062764e-57, 3.48110684e-57, 9.46262947e-57,\n",
       "       2.57220937e-56, 6.99199000e-56, 1.90061994e-55, 5.16642063e-55,\n",
       "       1.40437873e-54, 3.81749719e-54, 1.03770332e-53, 2.82077009e-53,\n",
       "       7.66764807e-53, 2.08428284e-52, 5.66566818e-52, 1.54008828e-51,\n",
       "       4.18639400e-51, 1.13797987e-50, 3.09335001e-50, 8.40859712e-50,\n",
       "       2.28569368e-49, 6.21315959e-49, 1.68891188e-48, 4.59093847e-48,\n",
       "       1.24794646e-47, 3.39227019e-47, 9.22114642e-47, 2.50656748e-46,\n",
       "       6.81355682e-46, 1.85211677e-45, 5.03457536e-45, 1.36853947e-44,\n",
       "       3.72007598e-44, 1.01122149e-43, 2.74878501e-43, 7.47197234e-43,\n",
       "       2.03109266e-42, 5.52108228e-42, 1.50078576e-41, 4.07955867e-41,\n",
       "       1.10893902e-40, 3.01440879e-40, 8.19401262e-40, 2.22736356e-39,\n",
       "       6.05460190e-39, 1.64581143e-38, 4.47377931e-38, 1.21609930e-37,\n",
       "       3.30570063e-37, 8.98582594e-37, 2.44260074e-36, 6.63967720e-36,\n",
       "       1.80485139e-35, 4.90609473e-35, 1.33361482e-34, 3.62514092e-34,\n",
       "       9.85415469e-34, 2.67863696e-33, 7.28129018e-33, 1.97925988e-32,\n",
       "       5.38018616e-32, 1.46248623e-31, 3.97544974e-31, 1.08063928e-30,\n",
       "       2.93748211e-30, 7.98490425e-30, 2.17052201e-29, 5.90009054e-29,\n",
       "       1.60381089e-28, 4.35961000e-28, 1.18506486e-27, 3.22134029e-27,\n",
       "       8.75651076e-27, 2.38026641e-26, 6.47023493e-26, 1.75879220e-25,\n",
       "       4.78089288e-25, 1.29958143e-24, 3.53262857e-24, 9.60268005e-24,\n",
       "       2.61027907e-23, 7.09547416e-23, 1.92874985e-22, 5.24288566e-22,\n",
       "       1.42516408e-21, 3.87399763e-21, 1.05306174e-20, 2.86251858e-20,\n",
       "       7.78113224e-20, 2.11513104e-19, 5.74952226e-19, 1.56288219e-18,\n",
       "       4.24835426e-18, 1.15482242e-17, 3.13913279e-17, 8.53304763e-17,\n",
       "       2.31952283e-16, 6.30511676e-16, 1.71390843e-15, 4.65888615e-15,\n",
       "       1.26641655e-14, 3.44247711e-14, 9.35762297e-14, 2.54366565e-13,\n",
       "       6.91440011e-13, 1.87952882e-12, 5.10908903e-12, 1.38879439e-11,\n",
       "       3.77513454e-11, 1.02618796e-10, 2.78946809e-10, 7.58256043e-10,\n",
       "       2.06115362e-09, 5.60279644e-09, 1.52299797e-08, 4.13993772e-08,\n",
       "       1.12535175e-07, 3.05902321e-07, 8.31528719e-07, 2.26032941e-06,\n",
       "       6.14421235e-06, 1.67017008e-05, 4.53999298e-05, 1.23409804e-04,\n",
       "       3.35462628e-04, 9.11881966e-04, 2.47875218e-03, 6.73794700e-03,\n",
       "       1.83156389e-02, 4.97870684e-02, 1.35335283e-01, 3.67879441e-01,\n",
       "       1.00000000e+00, 2.71828183e+00, 7.38905610e+00, 2.00855369e+01,\n",
       "       5.45981500e+01, 1.48413159e+02, 4.03428793e+02, 1.09663316e+03,\n",
       "       2.98095799e+03, 8.10308393e+03, 2.20264658e+04, 5.98741417e+04,\n",
       "       1.62754791e+05, 4.42413392e+05, 1.20260428e+06, 3.26901737e+06,\n",
       "       8.88611052e+06, 2.41549528e+07, 6.56599691e+07, 1.78482301e+08,\n",
       "       4.85165195e+08, 1.31881573e+09, 3.58491285e+09, 9.74480345e+09,\n",
       "       2.64891221e+10, 7.20048993e+10, 1.95729609e+11, 5.32048241e+11,\n",
       "       1.44625706e+12, 3.93133430e+12, 1.06864746e+13, 2.90488497e+13,\n",
       "       7.89629602e+13, 2.14643580e+14, 5.83461743e+14, 1.58601345e+15,\n",
       "       4.31123155e+15, 1.17191424e+16, 3.18559318e+16, 8.65934004e+16,\n",
       "       2.35385267e+17, 6.39843494e+17, 1.73927494e+18, 4.72783947e+18,\n",
       "       1.28516001e+19, 3.49342711e+19, 9.49611942e+19, 2.58131289e+20,\n",
       "       7.01673591e+20, 1.90734657e+21, 5.18470553e+21, 1.40934908e+22,\n",
       "       3.83100800e+22, 1.04137594e+23, 2.83075330e+23, 7.69478527e+23,\n",
       "       2.09165950e+24, 5.68572000e+24, 1.54553894e+25, 4.20121040e+25,\n",
       "       1.14200739e+26, 3.10429794e+26, 8.43835667e+26, 2.29378316e+27,\n",
       "       6.23514908e+27, 1.69488924e+28, 4.60718663e+28, 1.25236317e+29,\n",
       "       3.40427605e+29, 9.25378173e+29, 2.51543867e+30, 6.83767123e+30,\n",
       "       1.85867175e+31, 5.05239363e+31, 1.37338298e+32, 3.73324200e+32,\n",
       "       1.01480039e+33, 2.75851345e+33, 7.49841700e+33, 2.03828107e+34,\n",
       "       5.54062238e+34, 1.50609731e+35, 4.09399696e+35, 1.11286375e+36,\n",
       "       3.02507732e+36, 8.22301271e+36, 2.23524660e+37, 6.07603023e+37,\n",
       "       1.65163626e+38, 4.48961282e+38, 1.22040329e+39, 3.31740010e+39,\n",
       "       9.01762841e+39, 2.45124554e+40, 6.66317622e+40, 1.81123908e+41,\n",
       "       4.92345829e+41, 1.33833472e+42, 3.63797095e+42, 9.88903032e+42,\n",
       "       2.68811714e+43, 7.30705998e+43, 1.98626484e+44, 5.39922761e+44,\n",
       "       1.46766223e+45, 3.98951957e+45, 1.08446386e+46, 2.94787839e+46,\n",
       "       8.01316426e+46, 2.17820388e+47, 5.92097203e+47, 1.60948707e+48,\n",
       "       4.37503945e+48, 1.18925902e+49, 3.23274119e+49, 8.78750164e+49,\n",
       "       2.38869060e+50, 6.49313426e+50, 1.76501689e+51, 4.79781333e+51,\n",
       "       1.30418088e+52, 3.54513118e+52, 9.63666567e+52, 2.61951732e+53,\n",
       "       7.12058633e+53, 1.93557604e+54, 5.26144118e+54, 1.43020800e+55,\n",
       "       3.88770841e+55, 1.05678871e+56, 2.87264955e+56, 7.80867107e+56,\n",
       "       2.12261687e+57, 5.76987086e+57, 1.56841351e+58, 4.26338995e+58,\n",
       "       1.15890954e+59, 3.15024275e+59, 8.56324762e+59, 2.32773204e+60,\n",
       "       6.32743171e+60, 1.71997426e+61, 4.67537478e+61, 1.27089863e+62,\n",
       "       3.45466066e+62, 9.39074129e+62, 2.55266814e+63, 6.93887142e+63,\n",
       "       1.88618081e+64, 5.12717102e+64, 1.39370958e+65, 3.78849543e+65,\n",
       "       1.02981983e+66, 2.79934052e+66, 7.60939648e+66, 2.06844842e+67,\n",
       "       5.62262575e+67, 1.52838814e+68, 4.15458971e+68, 1.12933457e+69,\n",
       "       3.06984964e+69, 8.34471649e+69, 2.26832912e+70, 6.16595783e+70,\n",
       "       1.67608111e+71, 4.55606083e+71, 1.23846574e+72, 3.36649891e+72,\n",
       "       9.15109281e+72, 2.48752493e+73, 6.76179381e+73, 1.83804612e+74,\n",
       "       4.99632738e+74, 1.35814259e+75, 3.69181433e+75, 1.00353918e+76,\n",
       "       2.72790232e+76, 7.41520730e+76, 2.01566233e+77, 5.47913827e+77,\n",
       "       1.48938420e+78, 4.04856601e+78, 1.10051434e+79, 2.99150814e+79,\n",
       "       8.13176221e+79, 2.21044214e+80, 6.00860471e+80, 1.63330810e+81,\n",
       "       4.43979173e+81, 1.20686052e+82, 3.28058702e+82, 8.91756007e+82,\n",
       "       2.42404415e+83, 6.58923516e+83, 1.79113982e+84, 4.86882283e+84,\n",
       "       1.32348326e+85, 3.59760050e+85, 9.77929207e+85, 2.65828719e+86])"
      ]
     },
     "execution_count": 8,
     "metadata": {},
     "output_type": "execute_result"
    }
   ],
   "source": [
    "np.exp(-(beta_0 + beta_1*x))"
   ]
  },
  {
   "cell_type": "markdown",
   "metadata": {
    "slideshow": {
     "slide_type": "slide"
    }
   },
   "source": [
    "### Changing $\\beta_0$\n",
    "\n",
    "<img src=\"images/changing_beta0.png\" alt=\"drawing\" style=\"width:1500px;\"/>\n"
   ]
  },
  {
   "cell_type": "code",
   "execution_count": 9,
   "metadata": {
    "slideshow": {
     "slide_type": "slide"
    }
   },
   "outputs": [
    {
     "data": {
      "text/plain": [
       "<matplotlib.legend.Legend at 0x17480f0d0>"
      ]
     },
     "execution_count": 9,
     "metadata": {},
     "output_type": "execute_result"
    },
    {
     "data": {
      "image/png": "[encoded data removed]",
      "text/plain": [
       "<Figure size 1440x360 with 2 Axes>"
      ]
     },
     "metadata": {
      "needs_background": "light"
     },
     "output_type": "display_data"
    }
   ],
   "source": [
    "plt.figure(figsize=(20,5))\n",
    "\n",
    "plt.subplot(1, 2, 1)\n",
    "plt.axhline(0.5, linestyle=\"--\", color='r', alpha=0.2)\n",
    "plt.axvline(0, linestyle=\"--\", color='k', alpha=0.2)\n",
    "x = np.arange(-10, 10, 0.05)\n",
    "\n",
    "beta_0, beta_1 = (0, 1) \n",
    "y = 1 / (1 + np.e **-(beta_0 + beta_1*x))\n",
    "plt.plot(x, y, label = r'$\\beta_0 = {}, \\beta_1 = {}$'.format(beta_0, beta_1))\n",
    "\n",
    "beta_0, beta_1 = (-5, 1) \n",
    "y = 1 / (1 + np.e **-(beta_0 + beta_1*x))\n",
    "plt.plot(x, y, label = r'$\\beta_0 = {}, \\beta_1 = {}$'.format(beta_0, beta_1))\n",
    "\n",
    "beta_0, beta_1 = (5, 1) \n",
    "y = 1 / (1 + np.e **-(beta_0 + beta_1*x))\n",
    "plt.plot(x, y, label = r'$\\beta_0 = {}, \\beta_1 = {}$'.format(beta_0, beta_1))\n",
    "\n",
    "plt.legend()\n",
    "\n",
    "plt.subplot(1, 2, 2)\n",
    "beta_0, beta_1 = (0, -1) \n",
    "y = 1 / (1 + np.e **-(beta_0 + beta_1*x))\n",
    "plt.plot(x, y, label = r'$\\beta_0 = {}, \\beta_1 = {}$'.format(beta_0, beta_1))\n",
    "\n",
    "beta_0, beta_1 = (-5, -1) \n",
    "y = 1 / (1 + np.e **-(beta_0 + beta_1*x))\n",
    "plt.plot(x, y, label = r'$\\beta_0 = {}, \\beta_1 = {}$'.format(beta_0, beta_1))\n",
    "\n",
    "beta_0, beta_1 = (5, -1) \n",
    "y = 1 / (1 + np.e **-(beta_0 + beta_1*x))\n",
    "plt.plot(x, y, label = r'$\\beta_0 = {}, \\beta_1 = {}$'.format(beta_0, beta_1))\n",
    "\n",
    "plt.legend()\n"
   ]
  },
  {
   "cell_type": "markdown",
   "metadata": {
    "slideshow": {
     "slide_type": "slide"
    }
   },
   "source": [
    "### Changing $\\beta_1$\n",
    "\n",
    "<img src=\"images/logistic_beta_1.png\" alt=\"drawing\" style=\"width:1500px;\"/>\n"
   ]
  },
  {
   "cell_type": "code",
   "execution_count": 10,
   "metadata": {
    "slideshow": {
     "slide_type": "slide"
    }
   },
   "outputs": [
    {
     "data": {
      "text/plain": [
       "<matplotlib.legend.Legend at 0x177759520>"
      ]
     },
     "execution_count": 10,
     "metadata": {},
     "output_type": "execute_result"
    },
    {
     "data": {
      "image/png": "[encoded data removed]",
      "text/plain": [
       "<Figure size 1440x360 with 2 Axes>"
      ]
     },
     "metadata": {
      "needs_background": "light"
     },
     "output_type": "display_data"
    }
   ],
   "source": [
    "plt.figure(figsize=(20,5))\n",
    "\n",
    "plt.subplot(1, 2, 1)\n",
    "plt.axhline(0.5, linestyle=\"--\", color='r', alpha=0.2)\n",
    "plt.axvline(0, linestyle=\"--\", color='k', alpha=0.2)\n",
    "x = np.arange(-10, 10, 0.05)\n",
    "\n",
    "beta_0, beta_1 = (0, 0.6) \n",
    "y = 1 / (1 + np.e **-(beta_0 + beta_1*x))\n",
    "plt.plot(x, y, label = r'$\\beta_0 = {}, \\beta_1 = {}$'.format(beta_0, beta_1))\n",
    "\n",
    "beta_0, beta_1 = (0, 1) \n",
    "y = 1 / (1 + np.e **-(beta_0 + beta_1*x))\n",
    "plt.plot(x, y, label = r'$\\beta_0 = {}, \\beta_1 = {}$'.format(beta_0, beta_1))\n",
    "\n",
    "beta_0, beta_1 = (0, 20) \n",
    "y = 1 / (1 + np.e **-(beta_0 + beta_1*x))\n",
    "plt.plot(x, y, label = r'$\\beta_0 = {}, \\beta_1 = {}$'.format(beta_0, beta_1))\n",
    "\n",
    "plt.legend()\n",
    "\n",
    "plt.subplot(1, 2, 2)\n",
    "beta_0, beta_1 = (0, -0.6) \n",
    "y = 1 / (1 + np.e **-(beta_0 + beta_1*x))\n",
    "plt.plot(x, y, label = r'$\\beta_0 = {}, \\beta_1 = {}$'.format(beta_0, beta_1))\n",
    "\n",
    "beta_0, beta_1 = (0, -1) \n",
    "y = 1 / (1 + np.e **-(beta_0 + beta_1*x))\n",
    "plt.plot(x, y, label = r'$\\beta_0 = {}, \\beta_1 = {}$'.format(beta_0, beta_1))\n",
    "\n",
    "beta_0, beta_1 = (0, -20) \n",
    "y = 1 / (1 + np.e **-(beta_0 + beta_1*x))\n",
    "plt.plot(x, y, label = r'$\\beta_0 = {}, \\beta_1 = {}$'.format(beta_0, beta_1))\n",
    "\n",
    "plt.legend()\n"
   ]
  },
  {
   "cell_type": "code",
   "execution_count": 11,
   "metadata": {
    "slideshow": {
     "slide_type": "slide"
    }
   },
   "outputs": [
    {
     "data": {
      "text/plain": [
       "<matplotlib.lines.Line2D at 0x177996910>"
      ]
     },
     "execution_count": 11,
     "metadata": {},
     "output_type": "execute_result"
    },
    {
     "data": {
      "image/png": "[encoded data removed]",
      "text/plain": [
       "<Figure size 864x432 with 1 Axes>"
      ]
     },
     "metadata": {
      "needs_background": "light"
     },
     "output_type": "display_data"
    }
   ],
   "source": [
    "x_axis = np.arange(-10, 10, 0.05)\n",
    "y_axis = 1 / (1 + np.e**-x_axis)\n",
    "plt.figure(figsize=(12,6))\n",
    "plt.plot([2.5], [1 / (1 + np.e**-2.5)], 'or', markersize=12)\n",
    "\n",
    "plt.plot(x_axis, y_axis)\n",
    "plt.axhline(0.5, linestyle=\"--\", color='k', alpha=0.2)\n",
    "plt.axvline(0, linestyle=\"--\", color='k', alpha=0.2)\n",
    "\n",
    "plt.axhline(1 / (1 + np.e**-2.5), linestyle=\"--\", color='r', alpha=0.2)\n",
    "plt.axvline(2.5, linestyle=\"--\", color='r', alpha=0.2)\n",
    "\n",
    "\n"
   ]
  },
  {
   "cell_type": "markdown",
   "metadata": {
    "slideshow": {
     "slide_type": "slide"
    }
   },
   "source": [
    "### Fitting the Model: Linear Regression Parallel\n",
    "\n",
    "* For the Linear regression, we used the data to parameterize the model\n",
    "  * We trained the model to find the line that minimizes the RSS \n",
    "  * I.e, among all possible lines, the one selected has the smallest sum of squared residuals\n",
    "  \n",
    "  "
   ]
  },
  {
   "cell_type": "markdown",
   "metadata": {
    "slideshow": {
     "slide_type": "slide"
    }
   },
   "source": [
    "### Fitting the Model\n",
    "\n",
    "* In binary logistic regression, the outcomes  are 0 and 1, and the predictions are also either 0 or 1\n",
    "\n",
    "* One trivial approach would consist in identifying the sigmoid function that minimizes the mispredictions\n",
    "*  Using the same method as in linear regression, we could describe the function as:\n",
    "\n",
    "$$\n",
    "\\frac{1}{n} \\sum_1^n (g(x) - y)\n",
    "$$\n",
    "\n",
    "* Unfortunately, this function is not convex \n",
    "\n",
    "  *  Does guarantee that the function will converge to the global minimum"
   ]
  },
  {
   "cell_type": "markdown",
   "metadata": {
    "slideshow": {
     "slide_type": "slide"
    }
   },
   "source": [
    "### Fitting the Model- Cont'd\n",
    "\n",
    "\n",
    "- Instead, given some tuple (beta_0 and beta_1), the following convex function is commonly used to compute the cost\n",
    "\n",
    "$$\n",
    "    cost(g(x),y) = \\left\\{\n",
    "    \\begin{array}{ll}\n",
    "        -log(g(x)) & \\mbox{ if }  y = 1 \\\\\n",
    "        -log(1 - g(x)) & \\mbox{ if }  y = 0 \\\\\n",
    "    \\end{array}\n",
    "\\right.\n",
    "$$\n",
    "\n",
    "* Remember that $g(x)$ is simply the probability that the class is 1\n",
    "\n",
    "\n"
   ]
  },
  {
   "cell_type": "markdown",
   "metadata": {
    "slideshow": {
     "slide_type": "slide"
    }
   },
   "source": [
    "### Cost Function Explained - $y=1$\n",
    "\n",
    "$$\n",
    "        -log(g(x)) \\mbox{ if }  y = 1\n",
    "$$\n",
    "\n",
    "* For $y = 1$\n",
    "  - If the prediction is also 1, then we incur no cost \n",
    "  - If the prediction is 0, then we are incurring an infinite cost "
   ]
  },
  {
   "cell_type": "code",
   "execution_count": 12,
   "metadata": {
    "slideshow": {
     "slide_type": "slide"
    }
   },
   "outputs": [
    {
     "data": {
      "text/plain": [
       "(0.0, 3.0)"
      ]
     },
     "execution_count": 12,
     "metadata": {},
     "output_type": "execute_result"
    },
    {
     "data": {
      "image/png": "[encoded data removed]",
      "text/plain": [
       "<Figure size 432x288 with 1 Axes>"
      ]
     },
     "metadata": {
      "needs_background": "light"
     },
     "output_type": "display_data"
    }
   ],
   "source": [
    "x_axis = np.arange(0.000001, 1.1, 0.05)\n",
    "y_axis = - np.log(x_axis)\n",
    "plt.plot(x_axis, y_axis)\n",
    "plt.xlim(0,1)\n",
    "plt.ylim(0,3)"
   ]
  },
  {
   "cell_type": "markdown",
   "metadata": {
    "slideshow": {
     "slide_type": "slide"
    }
   },
   "source": [
    "### Cost Function Explained - $y=1$\n",
    "\n",
    "$$\n",
    "        -log(1 - g_(x)) \\mbox{ if }  y = 0 \\\\\n",
    "$$\n",
    "- for $y = 0$\n",
    "  - If the prediction is also 0, then we incur no cost \n",
    "  - If the prediction is 1, then we are incurring an infinite cost \n"
   ]
  },
  {
   "cell_type": "code",
   "execution_count": 13,
   "metadata": {
    "slideshow": {
     "slide_type": "slide"
    }
   },
   "outputs": [
    {
     "data": {
      "text/plain": [
       "(0.0, 3.0)"
      ]
     },
     "execution_count": 13,
     "metadata": {},
     "output_type": "execute_result"
    },
    {
     "data": {
      "image/png": "[encoded data removed]",
      "text/plain": [
       "<Figure size 432x288 with 1 Axes>"
      ]
     },
     "metadata": {
      "needs_background": "light"
     },
     "output_type": "display_data"
    }
   ],
   "source": [
    "x_axis = np.arange(0, 0.9999999, 0.05)\n",
    "y_axis = - np.log(1 - x_axis)\n",
    "plt.plot(x_axis, y_axis)\n",
    "plt.xlim(0,1)\n",
    "plt.ylim(0,3)"
   ]
  },
  {
   "cell_type": "markdown",
   "metadata": {
    "slideshow": {
     "slide_type": "slide"
    }
   },
   "source": [
    "### Training\n",
    "\n",
    "- Therefore, by averaging the cost over all instances in the data, we end up with the parameters ($\\beta$s) that best fit the data\n",
    "\n",
    "- Thus for a dataset of size $n$, we pick the tuple $\\beta$ of params which minimizes:\n",
    "\n",
    "$$\n",
    "\\sum_{\\forall x}cost(g(x)_{\\beta},y)~~/~~n\n",
    "$$\n"
   ]
  },
  {
   "cell_type": "markdown",
   "metadata": {
    "slideshow": {
     "slide_type": "slide"
    }
   },
   "source": [
    "### Prediction\n",
    "\n",
    "* Use the parameters $\\beta$ identified in the training to predict the probabality of true using\n",
    "$$\n",
    "p(y=1| x, \\beta_0,\\beta_1) = g(x) = \\frac{1}{1+e^{\\beta_0+\\beta_1~x}}\n",
    "$$\n",
    " *  Probabolty of False is merely $1- p(y=1| x, \\beta_0,\\beta_1)$\n"
   ]
  },
  {
   "cell_type": "code",
   "execution_count": 18,
   "metadata": {
    "slideshow": {
     "slide_type": "slide"
    }
   },
   "outputs": [
    {
     "name": "stderr",
     "output_type": "stream",
     "text": [
      "/Users/mahdi/miniconda3/lib/python3.8/site-packages/openpyxl/styles/stylesheet.py:226: UserWarning: Workbook contains no default style, apply openpyxl's default\n",
      "  warn(\"Workbook contains no default style, apply openpyxl's default\")\n"
     ]
    },
    {
     "data": {
      "text/html": [
       "<div>\n",
       "<style scoped>\n",
       "    .dataframe tbody tr th:only-of-type {\n",
       "        vertical-align: middle;\n",
       "    }\n",
       "\n",
       "    .dataframe tbody tr th {\n",
       "        vertical-align: top;\n",
       "    }\n",
       "\n",
       "    .dataframe thead th {\n",
       "        text-align: right;\n",
       "    }\n",
       "</style>\n",
       "<table border=\"1\" class=\"dataframe\">\n",
       "  <thead>\n",
       "    <tr style=\"text-align: right;\">\n",
       "      <th></th>\n",
       "      <th>Unnamed: 0</th>\n",
       "      <th>default</th>\n",
       "      <th>student</th>\n",
       "      <th>balance</th>\n",
       "      <th>income</th>\n",
       "    </tr>\n",
       "  </thead>\n",
       "  <tbody>\n",
       "    <tr>\n",
       "      <th>0</th>\n",
       "      <td>1</td>\n",
       "      <td>No</td>\n",
       "      <td>No</td>\n",
       "      <td>729.526495</td>\n",
       "      <td>44361.625074</td>\n",
       "    </tr>\n",
       "    <tr>\n",
       "      <th>1</th>\n",
       "      <td>2</td>\n",
       "      <td>No</td>\n",
       "      <td>Yes</td>\n",
       "      <td>817.180407</td>\n",
       "      <td>12106.134700</td>\n",
       "    </tr>\n",
       "    <tr>\n",
       "      <th>2</th>\n",
       "      <td>3</td>\n",
       "      <td>No</td>\n",
       "      <td>No</td>\n",
       "      <td>1073.549164</td>\n",
       "      <td>31767.138947</td>\n",
       "    </tr>\n",
       "    <tr>\n",
       "      <th>3</th>\n",
       "      <td>4</td>\n",
       "      <td>No</td>\n",
       "      <td>No</td>\n",
       "      <td>529.250605</td>\n",
       "      <td>35704.493935</td>\n",
       "    </tr>\n",
       "    <tr>\n",
       "      <th>4</th>\n",
       "      <td>5</td>\n",
       "      <td>No</td>\n",
       "      <td>No</td>\n",
       "      <td>785.655883</td>\n",
       "      <td>38463.495879</td>\n",
       "    </tr>\n",
       "  </tbody>\n",
       "</table>\n",
       "</div>"
      ],
      "text/plain": [
       "   Unnamed: 0 default student      balance        income\n",
       "0           1      No      No   729.526495  44361.625074\n",
       "1           2      No     Yes   817.180407  12106.134700\n",
       "2           3      No      No  1073.549164  31767.138947\n",
       "3           4      No      No   529.250605  35704.493935\n",
       "4           5      No      No   785.655883  38463.495879"
      ]
     },
     "execution_count": 18,
     "metadata": {},
     "output_type": "execute_result"
    }
   ],
   "source": [
    "data = pd.read_excel(\"data/Default.xlsx\")\n",
    "data.head()\n"
   ]
  },
  {
   "cell_type": "code",
   "execution_count": 19,
   "metadata": {
    "slideshow": {
     "slide_type": "slide"
    }
   },
   "outputs": [
    {
     "data": {
      "text/html": [
       "<div>\n",
       "<style scoped>\n",
       "    .dataframe tbody tr th:only-of-type {\n",
       "        vertical-align: middle;\n",
       "    }\n",
       "\n",
       "    .dataframe tbody tr th {\n",
       "        vertical-align: top;\n",
       "    }\n",
       "\n",
       "    .dataframe thead th {\n",
       "        text-align: right;\n",
       "    }\n",
       "</style>\n",
       "<table border=\"1\" class=\"dataframe\">\n",
       "  <thead>\n",
       "    <tr style=\"text-align: right;\">\n",
       "      <th></th>\n",
       "      <th>Unnamed: 0</th>\n",
       "      <th>default</th>\n",
       "      <th>student</th>\n",
       "      <th>balance</th>\n",
       "      <th>income</th>\n",
       "      <th>encoded_default</th>\n",
       "    </tr>\n",
       "  </thead>\n",
       "  <tbody>\n",
       "    <tr>\n",
       "      <th>0</th>\n",
       "      <td>1</td>\n",
       "      <td>No</td>\n",
       "      <td>No</td>\n",
       "      <td>729.526495</td>\n",
       "      <td>44361.625074</td>\n",
       "      <td>0</td>\n",
       "    </tr>\n",
       "    <tr>\n",
       "      <th>1</th>\n",
       "      <td>2</td>\n",
       "      <td>No</td>\n",
       "      <td>Yes</td>\n",
       "      <td>817.180407</td>\n",
       "      <td>12106.134700</td>\n",
       "      <td>0</td>\n",
       "    </tr>\n",
       "    <tr>\n",
       "      <th>2</th>\n",
       "      <td>3</td>\n",
       "      <td>No</td>\n",
       "      <td>No</td>\n",
       "      <td>1073.549164</td>\n",
       "      <td>31767.138947</td>\n",
       "      <td>0</td>\n",
       "    </tr>\n",
       "    <tr>\n",
       "      <th>3</th>\n",
       "      <td>4</td>\n",
       "      <td>No</td>\n",
       "      <td>No</td>\n",
       "      <td>529.250605</td>\n",
       "      <td>35704.493935</td>\n",
       "      <td>0</td>\n",
       "    </tr>\n",
       "    <tr>\n",
       "      <th>4</th>\n",
       "      <td>5</td>\n",
       "      <td>No</td>\n",
       "      <td>No</td>\n",
       "      <td>785.655883</td>\n",
       "      <td>38463.495879</td>\n",
       "      <td>0</td>\n",
       "    </tr>\n",
       "  </tbody>\n",
       "</table>\n",
       "</div>"
      ],
      "text/plain": [
       "   Unnamed: 0 default student      balance        income  encoded_default\n",
       "0           1      No      No   729.526495  44361.625074                0\n",
       "1           2      No     Yes   817.180407  12106.134700                0\n",
       "2           3      No      No  1073.549164  31767.138947                0\n",
       "3           4      No      No   529.250605  35704.493935                0\n",
       "4           5      No      No   785.655883  38463.495879                0"
      ]
     },
     "execution_count": 19,
     "metadata": {},
     "output_type": "execute_result"
    }
   ],
   "source": [
    "\n",
    "data[\"encoded_default\"] = data[\"default\"].map({\"No\":0, \"Yes\":1})\n",
    "\n",
    "data.head()"
   ]
  },
  {
   "cell_type": "markdown",
   "metadata": {
    "slideshow": {
     "slide_type": "slide"
    }
   },
   "source": [
    "### Logistic Regression with `sklearn`\n",
    "\n",
    "* Using statsmodels, we can infer the values of \\beta_0 and \\beta_1 such that\n",
    "\n",
    "$$\n",
    "    default = \\frac{1}{1 + e^{-(\\beta_o + \\beta_1 ~ balance})} + \\epsilon_x\n",
    "$$\n",
    "\n",
    "* Similar  to the regression, $\\epsilon$ is the noise component\n"
   ]
  },
  {
   "cell_type": "code",
   "execution_count": 20,
   "metadata": {
    "slideshow": {
     "slide_type": "slide"
    }
   },
   "outputs": [
    {
     "data": {
      "text/plain": [
       "0        729.526495\n",
       "1        817.180407\n",
       "2       1073.549164\n",
       "3        529.250605\n",
       "4        785.655883\n",
       "           ...     \n",
       "9995     711.555020\n",
       "9996     757.962918\n",
       "9997     845.411989\n",
       "9998    1569.009053\n",
       "9999     200.922183\n",
       "Name: balance, Length: 10000, dtype: float64"
      ]
     },
     "execution_count": 20,
     "metadata": {},
     "output_type": "execute_result"
    }
   ],
   "source": [
    "data.loc[:, \"balance\"]"
   ]
  },
  {
   "cell_type": "code",
   "execution_count": 24,
   "metadata": {
    "slideshow": {
     "slide_type": "slide"
    }
   },
   "outputs": [
    {
     "data": {
      "text/plain": [
       "LogisticRegression(C=100000.0)"
      ]
     },
     "execution_count": 24,
     "metadata": {},
     "output_type": "execute_result"
    }
   ],
   "source": [
    "from sklearn.linear_model import LogisticRegression\n",
    "logreg = LogisticRegression(C=1e5, solver='lbfgs')\n",
    "#  We use the limited memory Broyden–Fletcher–Goldfarb–Shanno optimization algorithm\n",
    "\n",
    "X = data[\"balance\"].values.reshape(-1,1) \n",
    "Y = data[\"encoded_default\"].values \n",
    "logreg.fit(X, Y)"
   ]
  },
  {
   "cell_type": "code",
   "execution_count": 25,
   "metadata": {
    "slideshow": {
     "slide_type": "slide"
    }
   },
   "outputs": [
    {
     "data": {
      "text/plain": [
       "(array([[0.00549892]]), array([-10.65132867]))"
      ]
     },
     "execution_count": 25,
     "metadata": {},
     "output_type": "execute_result"
    }
   ],
   "source": [
    "logreg.coef_, logreg.intercept_"
   ]
  },
  {
   "cell_type": "markdown",
   "metadata": {
    "slideshow": {
     "slide_type": "slide"
    }
   },
   "source": [
    "### Model Interpretation - Balance\n",
    "\n",
    "\n",
    "$$\n",
    "    P(default=1| x, \\beta_0, \\beta_1) \\approx \\frac{1}{1 + e^{10 - 0.0005 ~ balance}}\n",
    "$$\n",
    "\n",
    "- Note that $\\beta_1$ reflects the units, which in this case is dollar\n",
    "\n",
    "- Therefore, an increase of a balnce of $1, increases the probability of defaulting by \n",
    "  \n",
    "$$\n",
    "    P(default=1| x=1, \\beta_0=-10.65, \\beta_1=0.0055) \\approx \\frac{1}{1 + e^{10 - 0.0005 * 1}} = 0.000045\n",
    "$$\n",
    "\n",
    "- An increase of a balnce of $2,000, increases the probability of defaulting by \n",
    "\n",
    "$$\n",
    "    P(default=1| x=2,000, \\beta_0=-10.65, \\beta_1=0.0055) \\approx \\frac{1}{1 + e^{10 - 0.0005 * 2,000}} \\approx 0.5\n",
    "$$\n"
   ]
  },
  {
   "cell_type": "markdown",
   "metadata": {
    "slideshow": {
     "slide_type": "slide"
    }
   },
   "source": [
    "### Multiple Logistic Regression"
   ]
  },
  {
   "cell_type": "code",
   "execution_count": 26,
   "metadata": {
    "slideshow": {
     "slide_type": "slide"
    }
   },
   "outputs": [
    {
     "data": {
      "text/html": [
       "<div>\n",
       "<style scoped>\n",
       "    .dataframe tbody tr th:only-of-type {\n",
       "        vertical-align: middle;\n",
       "    }\n",
       "\n",
       "    .dataframe tbody tr th {\n",
       "        vertical-align: top;\n",
       "    }\n",
       "\n",
       "    .dataframe thead th {\n",
       "        text-align: right;\n",
       "    }\n",
       "</style>\n",
       "<table border=\"1\" class=\"dataframe\">\n",
       "  <thead>\n",
       "    <tr style=\"text-align: right;\">\n",
       "      <th></th>\n",
       "      <th>Unnamed: 0</th>\n",
       "      <th>default</th>\n",
       "      <th>student</th>\n",
       "      <th>balance</th>\n",
       "      <th>income</th>\n",
       "      <th>encoded_default</th>\n",
       "      <th>encoded_student</th>\n",
       "    </tr>\n",
       "  </thead>\n",
       "  <tbody>\n",
       "    <tr>\n",
       "      <th>0</th>\n",
       "      <td>1</td>\n",
       "      <td>No</td>\n",
       "      <td>No</td>\n",
       "      <td>729.526495</td>\n",
       "      <td>44361.625074</td>\n",
       "      <td>0</td>\n",
       "      <td>0</td>\n",
       "    </tr>\n",
       "    <tr>\n",
       "      <th>1</th>\n",
       "      <td>2</td>\n",
       "      <td>No</td>\n",
       "      <td>Yes</td>\n",
       "      <td>817.180407</td>\n",
       "      <td>12106.134700</td>\n",
       "      <td>0</td>\n",
       "      <td>1</td>\n",
       "    </tr>\n",
       "    <tr>\n",
       "      <th>2</th>\n",
       "      <td>3</td>\n",
       "      <td>No</td>\n",
       "      <td>No</td>\n",
       "      <td>1073.549164</td>\n",
       "      <td>31767.138947</td>\n",
       "      <td>0</td>\n",
       "      <td>0</td>\n",
       "    </tr>\n",
       "    <tr>\n",
       "      <th>3</th>\n",
       "      <td>4</td>\n",
       "      <td>No</td>\n",
       "      <td>No</td>\n",
       "      <td>529.250605</td>\n",
       "      <td>35704.493935</td>\n",
       "      <td>0</td>\n",
       "      <td>0</td>\n",
       "    </tr>\n",
       "    <tr>\n",
       "      <th>4</th>\n",
       "      <td>5</td>\n",
       "      <td>No</td>\n",
       "      <td>No</td>\n",
       "      <td>785.655883</td>\n",
       "      <td>38463.495879</td>\n",
       "      <td>0</td>\n",
       "      <td>0</td>\n",
       "    </tr>\n",
       "  </tbody>\n",
       "</table>\n",
       "</div>"
      ],
      "text/plain": [
       "   Unnamed: 0 default student      balance        income  encoded_default  \\\n",
       "0           1      No      No   729.526495  44361.625074                0   \n",
       "1           2      No     Yes   817.180407  12106.134700                0   \n",
       "2           3      No      No  1073.549164  31767.138947                0   \n",
       "3           4      No      No   529.250605  35704.493935                0   \n",
       "4           5      No      No   785.655883  38463.495879                0   \n",
       "\n",
       "   encoded_student  \n",
       "0                0  \n",
       "1                1  \n",
       "2                0  \n",
       "3                0  \n",
       "4                0  "
      ]
     },
     "execution_count": 26,
     "metadata": {},
     "output_type": "execute_result"
    }
   ],
   "source": [
    "data[\"encoded_student\"] = data[\"student\"].map({\"No\":0, \"Yes\":1})\n",
    "data.head()"
   ]
  },
  {
   "cell_type": "code",
   "execution_count": 113,
   "metadata": {
    "slideshow": {
     "slide_type": "slide"
    }
   },
   "outputs": [
    {
     "data": {
      "text/plain": [
       "(array([[0.40489192]]), array([-3.50412908]))"
      ]
     },
     "execution_count": 113,
     "metadata": {},
     "output_type": "execute_result"
    }
   ],
   "source": [
    "X = data[\"encoded_student\"].values.reshape(-1,1)\n",
    "y = data[\"encoded_default\"].values\n",
    "\n",
    "logreg.fit(X, Y)\n",
    "logreg.coef_, logreg.intercept_"
   ]
  },
  {
   "cell_type": "markdown",
   "metadata": {
    "slideshow": {
     "slide_type": "slide"
    }
   },
   "source": [
    "### Model Interpretation - Student Status\n",
    "\n",
    "\n",
    "$$\n",
    "    P(default=1| x, \\beta_0, \\beta_1) \\approx \\frac{1}{1 + e^{-3.5 - 0.4 ~ student}}\n",
    "$$\n",
    "\n",
    "- the probability of a student defaulting is \n",
    "\n",
    "$$\n",
    "    P(default=1| x=1, \\beta_0=-3.5, \\beta_1=0.4) \\approx \\frac{1}{1 + e^{3.5 - 0.4 ~ 1}} \\approx 0.04\n",
    "$$\n",
    "\n",
    "\n",
    "- the probability of a non student defaulting is \n",
    "\n",
    "$$\n",
    "    P(default=1 | x=0, \\beta_0=-3.5, \\beta_1=0.4) \\approx \\frac{1}{1 + e^{-3.5 - 0.4 ~ student}} \\approx 0.02\n",
    "$$\n",
    "\n"
   ]
  },
  {
   "cell_type": "markdown",
   "metadata": {
    "slideshow": {
     "slide_type": "slide"
    }
   },
   "source": [
    "### Multiple Logistic Regression \n",
    "\n",
    "* As we added more relevant variables, the logistic regression model becomes more discriminative\n",
    "\n",
    "  * We could combine  into a single regression the student status, total debt, age, income, number of recent credit applications, etc."
   ]
  },
  {
   "cell_type": "code",
   "execution_count": 27,
   "metadata": {
    "slideshow": {
     "slide_type": "slide"
    }
   },
   "outputs": [
    {
     "data": {
      "text/plain": [
       "(array([[ 0.0057381 , -0.71487752]]), array([-10.74949566]))"
      ]
     },
     "execution_count": 27,
     "metadata": {},
     "output_type": "execute_result"
    }
   ],
   "source": [
    "X = data[['balance', 'encoded_student']]\n",
    "\n",
    "y = data[\"encoded_default\"].values\n",
    "\n",
    "logreg.fit(X, Y)\n",
    "\n",
    "logreg.coef_, logreg.intercept_\n"
   ]
  },
  {
   "cell_type": "markdown",
   "metadata": {
    "slideshow": {
     "slide_type": "slide"
    }
   },
   "source": [
    "$$\n",
    "    P(default=1| x, \\beta_0, \\beta_1) \\approx \\frac{1}{1 + e^{10  - 0.0005 balance + 0.71 ~ student}}\n",
    "$$"
   ]
  },
  {
   "cell_type": "code",
   "execution_count": 118,
   "metadata": {
    "slideshow": {
     "slide_type": "slide"
    }
   },
   "outputs": [
    {
     "name": "stderr",
     "output_type": "stream",
     "text": [
      "/Users/mahdi/anaconda3/lib/python3.6/site-packages/seaborn/categorical.py:462: FutureWarning: remove_na is deprecated and is a private function. Do not use.\n",
      "  box_data = remove_na(group_data)\n"
     ]
    },
    {
     "data": {
      "image/png": "[encoded data removed]",
      "text/plain": [
       "<matplotlib.figure.Figure at 0x125dff358>"
      ]
     },
     "metadata": {},
     "output_type": "display_data"
    }
   ],
   "source": [
    "import matplotlib as mpl\n",
    "import seaborn as sns\n",
    "\n",
    "fig = plt.figure(figsize=(12,5))\n",
    "gs = mpl.gridspec.GridSpec(1, 4)\n",
    "ax1 = plt.subplot(gs[0,:-2])\n",
    "ax2 = plt.subplot(gs[0,-2])\n",
    "ax3 = plt.subplot(gs[0,-1])\n",
    "\n",
    "# Take a fraction of the samples where target value (default) is 'no'\n",
    "df_no = data[data[\"encoded_default\"] == 0].sample(frac=0.15)\n",
    "# Take all samples  where target value is 'yes'\n",
    "df_yes = data[data[\"encoded_default\"]  == 1]\n",
    "df_ = df_no.append(df_yes)\n",
    "\n",
    "ax1.scatter(df_[df_.default == 'Yes'].balance, df_[df_.default == 'Yes'].income, s=40, c='orange', marker='+',\n",
    "            linewidths=1)\n",
    "ax1.scatter(df_[df_.default == 'No'].balance, df_[df_.default == 'No'].income, s=40, marker='o', linewidths='1',\n",
    "            edgecolors='lightblue', facecolors='white', alpha=.6)\n",
    "\n",
    "ax1.set_ylim(ymin=0)\n",
    "ax1.set_ylabel('Income')\n",
    "ax1.set_xlim(xmin=-100)\n",
    "ax1.set_xlabel('Balance')\n",
    "\n",
    "c_palette = {'No':'lightblue', 'Yes':'orange'}\n",
    "sns.boxplot('default', 'balance', data=data, orient='v', ax=ax2, palette=c_palette)\n",
    "sns.boxplot('default', 'income', data=data, orient='v', ax=ax3, palette=c_palette)\n",
    "gs.tight_layout(plt.gcf())"
   ]
  },
  {
   "cell_type": "markdown",
   "metadata": {
    "slideshow": {
     "slide_type": "slide"
    }
   },
   "source": [
    "### Inspecting the Contribution of Income\n",
    "\n",
    "- The plot above did not indicate that income is useful for separating the data\n",
    "\n",
    "  - What does the logistic regression model say about the contribution of the variable income?"
   ]
  },
  {
   "cell_type": "code",
   "execution_count": 120,
   "metadata": {
    "slideshow": {
     "slide_type": "slide"
    }
   },
   "outputs": [
    {
     "data": {
      "text/plain": [
       "(array([[-2.67640576e+00,  4.91924349e-03, -1.00364967e-04,\n",
       "         -3.52829225e+00]]), array([-2.67640576]))"
      ]
     },
     "execution_count": 120,
     "metadata": {},
     "output_type": "execute_result"
    }
   ],
   "source": [
    "X = sm.add_constant(data[['balance', 'income', 'encoded_student']])\n",
    "\n",
    "y = data[\"encoded_default\"].values\n",
    "\n",
    "logreg.fit(X, Y)\n",
    "\n",
    "logreg.coef_, logreg.intercept_\n"
   ]
  },
  {
   "cell_type": "markdown",
   "metadata": {
    "slideshow": {
     "slide_type": "slide"
    }
   },
   "source": [
    "### Categortical Variables as Predictors\n",
    "\n",
    "* A Categorical variable (sometimes called a nominal variable) is one that has two or more categories\n",
    "\n",
    "  * categorical variables have no intrinsic ordering to the categories\n",
    "\n",
    "* For instance, car types can be encoded as electric (0), sedan (1), compact (2), SUV (3), etc...\n",
    "\n",
    "* The resulting numerical encoding does not have the same meaning as regular numerical values\n",
    "\n",
    "  * Ex.: we cannot use the encoding to compute Euclidean distance or to compute averages on features\n",
    "\n",
    "* Data values for electric 0 and sedan 1 are not more similar than those with the values 0 and 2 ('electric' and 'compact')\n",
    "\n",
    "\n",
    "\n"
   ]
  },
  {
   "cell_type": "markdown",
   "metadata": {
    "slideshow": {
     "slide_type": "slide"
    }
   },
   "source": [
    "### One-Hot-Encoding\n",
    "\n",
    "\n",
    "* Categorical variables are commonly encoded using attributes for each category\n",
    "\n",
    "* The value is 1 for the attribute if the instance is in that category or the value is 0 otherwise\n",
    "\n",
    "* Ex.:\n",
    "  * if a data point is of type electric vehicle 0, then its encoding would be [1,0,0,0]\n",
    "  * if a data point is in SUV 4, then its encoding would be [0,0,0,1]\n",
    "\n",
    "* etc...\n",
    "\n"
   ]
  },
  {
   "cell_type": "markdown",
   "metadata": {
    "collapsed": true,
    "slideshow": {
     "slide_type": "slide"
    }
   },
   "source": [
    "### Relationship Between Logistic and Linear Model\n",
    "\n",
    "We have:\n",
    "\n",
    "$$p(x) = \\frac{1}{1+e^-(\\beta_0 + \\beta_1~x)}$$\n",
    "\n",
    "or:\n",
    "\n",
    "$$p(x) = \\frac{e^{(\\beta_0 + \\beta_1~x)}}{1+e^{e(\\beta_0 + \\beta_1~x)}}$$\n",
    "\n",
    "This can be written as\n",
    "\n",
    "$$\\frac{p(x)}{1-p(x)} = e^{(\\beta_0 + \\beta_1~x)}$$\n",
    "\n"
   ]
  },
  {
   "cell_type": "markdown",
   "metadata": {
    "slideshow": {
     "slide_type": "slide"
    }
   },
   "source": [
    "### Relationship Between Logistic and Linear Model - Cont'd\n",
    "\n",
    "\n",
    "* The ratio $\\frac{p(x)}{1-p(x)}$ is the odd ratio\n",
    "   * Takes values between 0 and $\\inf$\n",
    "   \n",
    "   \n",
    "* Say the probavility of defaulting is p(x) = 0.2, then  $\\frac{p(x)}{1-p(x)} = 1/5$\n",
    "  * So, 1 in 5 people will defautl"
   ]
  },
  {
   "cell_type": "markdown",
   "metadata": {
    "slideshow": {
     "slide_type": "slide"
    }
   },
   "source": [
    "### Relationship Between Logistic and Linear Model - Cont'd\n",
    "\n",
    "We have that:\n",
    "    \n",
    "$$\\frac{p(x)}{1-p(x)} = e^{(\\beta_0 + \\beta_1~x)}$$\n",
    "\n",
    "By taking log on both side, we have:\n",
    "\n",
    "This can be written as\n",
    "\n",
    "$$log(\\frac{p(x)}{1-p(x)}) =(\\beta_0 + \\beta_1~x)$$\n",
    "\n",
    "* Left hand side if called log-odds or logit\n",
    "\n",
    "* Therefore, the linear model has a logit that is linear in $X$\n",
    "\n",
    "Unline in linear model, $\\beta_1$ does not correspond to the change associate in one-unit increase in X.\n"
   ]
  }
 ],
 "metadata": {
  "celltoolbar": "Slideshow",
  "hide_input": false,
  "kernelspec": {
   "display_name": "Python 3 (ipykernel)",
   "language": "python",
   "name": "python3"
  },
  "language_info": {
   "codemirror_mode": {
    "name": "ipython",
    "version": 3
   },
   "file_extension": ".py",
   "mimetype": "text/x-python",
   "name": "python",
   "nbconvert_exporter": "python",
   "pygments_lexer": "ipython3",
   "version": "3.8.11"
  }
 },
 "nbformat": 4,
 "nbformat_minor": 2
}

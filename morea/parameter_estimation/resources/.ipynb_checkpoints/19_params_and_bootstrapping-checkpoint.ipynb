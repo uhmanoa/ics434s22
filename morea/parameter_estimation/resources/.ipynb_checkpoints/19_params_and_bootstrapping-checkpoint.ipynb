{
 "cells": [
  {
   "cell_type": "code",
   "execution_count": 2,
   "metadata": {
    "slideshow": {
     "slide_type": "skip"
    }
   },
   "outputs": [],
   "source": [
    "import pandas as pd\n",
    "import numpy as np\n",
    "import matplotlib.pyplot as plt\n",
    "%matplotlib inline"
   ]
  },
  {
   "cell_type": "markdown",
   "metadata": {
    "slideshow": {
     "slide_type": "slide"
    }
   },
   "source": [
    "###  Making Money on Amazon's return\n",
    "\n",
    "* Note that the data presented here is entirely fictional\n",
    "\n",
    "* Online retailers are often stranded with product returns that they cannot sell\n",
    "  * According to Yahoo Finance, it’s not uncommon for online retailers to see 30% of all products people ordered online returned\n",
    "  * Clothing return rates can be close to 40%.\n",
    "  * Returns at brick-and-mortar stores are around 8.89%\n",
    "\n",
    "* Some online marketplaces sell returns online\n",
    "  * items are bundled in huge pallets based on categories\n",
    "* Online marketplaces like Direct Liquidation do the math and decide how products are bundled and how much the pallets cost\n",
    "  * You decide to use DS Ninja skill to see whether buying and reselling pallets will afford you the benefit of buying your own Gulfstream 550 \n"
   ]
  },
  {
   "cell_type": "markdown",
   "metadata": {
    "slideshow": {
     "slide_type": "slide"
    }
   },
   "source": [
    "### Gulfstream G550 ($45M)\n",
    "\n",
    "<img src=\"https://www.dropbox.com/s/qfun98p66pp4w2a/gulfstream_500.png?dl=1\" alt=\"drawing\" style=\"width:500px;\"/>"
   ]
  },
  {
   "cell_type": "markdown",
   "metadata": {
    "slideshow": {
     "slide_type": "slide"
    }
   },
   "source": [
    "### Data\n",
    "* We have access to all the pallet value and cost from a marketplace `RUNDLE` (Bundle of Returns) for 2017.\n",
    "\n",
    "* There are 103,245 records\n",
    "\n",
    "* Dataset contains three columns:\n",
    "\n",
    "| Column         | Description                                 |\n",
    "|----------------|---------------------------------------------|\n",
    "| Transaction ID | Random String of size 10                    |\n",
    "| MSRP           | Total Manufacturer's Suggested Retail Price |\n",
    "| Bought Price     | Price at which the pallet was purchased     |\n",
    "| Sold Price      | Price at which the pallet was sold          |\n",
    "\n"
   ]
  },
  {
   "cell_type": "code",
   "execution_count": 3,
   "metadata": {
    "slideshow": {
     "slide_type": "slide"
    }
   },
   "outputs": [
    {
     "name": "stderr",
     "output_type": "stream",
     "text": [
      "/Users/mahdi/miniconda3/lib/python3.8/site-packages/pandas/util/__init__.py:15: FutureWarning: pandas.util.testing is deprecated. Use the functions in the public API at pandas.testing instead.\n",
      "  import pandas.util.testing\n"
     ]
    },
    {
     "data": {
      "text/plain": [
       "array(['14nuNH5GHl', 'giCUOzj5T3', 'FWK9GaGfs4', ..., 'szUO7szPYY',\n",
       "       'MaOhJC5Yv0', 'OQkHhsokRc'], dtype=object)"
      ]
     },
     "execution_count": 3,
     "metadata": {},
     "output_type": "execute_result"
    }
   ],
   "source": [
    "transaction_id =  pd.util.testing.rands_array(10, 103245)\n",
    "transaction_id"
   ]
  },
  {
   "cell_type": "code",
   "execution_count": 4,
   "metadata": {
    "slideshow": {
     "slide_type": "slide"
    }
   },
   "outputs": [],
   "source": [
    "msrp= np.random.normal(500, 80, len(transaction_id))\n"
   ]
  },
  {
   "cell_type": "code",
   "execution_count": 5,
   "metadata": {
    "slideshow": {
     "slide_type": "slide"
    }
   },
   "outputs": [
    {
     "data": {
      "text/html": [
       "<div>\n",
       "<style scoped>\n",
       "    .dataframe tbody tr th:only-of-type {\n",
       "        vertical-align: middle;\n",
       "    }\n",
       "\n",
       "    .dataframe tbody tr th {\n",
       "        vertical-align: top;\n",
       "    }\n",
       "\n",
       "    .dataframe thead th {\n",
       "        text-align: right;\n",
       "    }\n",
       "</style>\n",
       "<table border=\"1\" class=\"dataframe\">\n",
       "  <thead>\n",
       "    <tr style=\"text-align: right;\">\n",
       "      <th></th>\n",
       "      <th>Transaction ID</th>\n",
       "      <th>MSRP</th>\n",
       "      <th>Bought Price</th>\n",
       "      <th>Sold Price</th>\n",
       "    </tr>\n",
       "  </thead>\n",
       "  <tbody>\n",
       "    <tr>\n",
       "      <th>0</th>\n",
       "      <td>14nuNH5GHl</td>\n",
       "      <td>553.867944</td>\n",
       "      <td>254.178958</td>\n",
       "      <td>514.323616</td>\n",
       "    </tr>\n",
       "    <tr>\n",
       "      <th>1</th>\n",
       "      <td>giCUOzj5T3</td>\n",
       "      <td>582.973909</td>\n",
       "      <td>303.972177</td>\n",
       "      <td>487.191936</td>\n",
       "    </tr>\n",
       "    <tr>\n",
       "      <th>2</th>\n",
       "      <td>FWK9GaGfs4</td>\n",
       "      <td>423.877896</td>\n",
       "      <td>212.261886</td>\n",
       "      <td>319.239557</td>\n",
       "    </tr>\n",
       "    <tr>\n",
       "      <th>3</th>\n",
       "      <td>OH8vq6xhS8</td>\n",
       "      <td>415.572764</td>\n",
       "      <td>209.864910</td>\n",
       "      <td>341.843010</td>\n",
       "    </tr>\n",
       "    <tr>\n",
       "      <th>4</th>\n",
       "      <td>vn5LPMeDLY</td>\n",
       "      <td>383.943338</td>\n",
       "      <td>201.390147</td>\n",
       "      <td>301.866376</td>\n",
       "    </tr>\n",
       "  </tbody>\n",
       "</table>\n",
       "</div>"
      ],
      "text/plain": [
       "  Transaction ID        MSRP  Bought Price  Sold Price\n",
       "0     14nuNH5GHl  553.867944    254.178958  514.323616\n",
       "1     giCUOzj5T3  582.973909    303.972177  487.191936\n",
       "2     FWK9GaGfs4  423.877896    212.261886  319.239557\n",
       "3     OH8vq6xhS8  415.572764    209.864910  341.843010\n",
       "4     vn5LPMeDLY  383.943338    201.390147  301.866376"
      ]
     },
     "execution_count": 5,
     "metadata": {},
     "output_type": "execute_result"
    }
   ],
   "source": [
    "msrp= np.random.normal(500, 80, len(transaction_id))\n",
    "\n",
    "bought_price = np.random.normal(msrp * 0.5, (msrp * 0.5)/8, len(transaction_id))\n",
    "\n",
    "sold_price = np.random.normal(msrp * 0.83, 25)\n",
    "\n",
    "returns_data = pd.DataFrame({\"Transaction ID\": transaction_id, \"MSRP\": msrp, \n",
    "                             \"Bought Price\": bought_price, \"Sold Price\": sold_price})\n",
    "\n",
    "\n",
    "returns_data.head()\n"
   ]
  },
  {
   "cell_type": "markdown",
   "metadata": {
    "slideshow": {
     "slide_type": "slide"
    }
   },
   "source": [
    "### What is the cost to the Marketplace\n",
    "\n",
    "* We suspect the marketplace is buying returns at a set price?\n",
    "  * Does the marketplace get a fixed discount (ex. 10%) on the MSRP?\n",
    "\n",
    "\n"
   ]
  },
  {
   "cell_type": "code",
   "execution_count": 6,
   "metadata": {
    "slideshow": {
     "slide_type": "slide"
    }
   },
   "outputs": [
    {
     "data": {
      "image/png": "[encoded data removed]",
      "text/plain": [
       "<Figure size 864x432 with 1 Axes>"
      ]
     },
     "metadata": {
      "needs_background": "light"
     },
     "output_type": "display_data"
    }
   ],
   "source": [
    "plt.figure(figsize=(12,6))\n",
    "_ = plt.hist(returns_data[\"MSRP\"]- returns_data[\"Bought Price\"], edgecolor='k', k)"
   ]
  },
  {
   "cell_type": "code",
   "execution_count": 7,
   "metadata": {
    "slideshow": {
     "slide_type": "slide"
    }
   },
   "outputs": [
    {
     "data": {
      "text/plain": [
       "0.4998289044790442"
      ]
     },
     "execution_count": 7,
     "metadata": {},
     "output_type": "execute_result"
    }
   ],
   "source": [
    "np.mean(returns_data[\"Bought Price\"] / returns_data[\"MSRP\"])"
   ]
  },
  {
   "cell_type": "markdown",
   "metadata": {
    "slideshow": {
     "slide_type": "slide"
    }
   },
   "source": [
    "### Working with a Sample of the Population\n",
    "\n",
    "* It looks like the marketplace is consistently paying around 50% of the original value\n",
    "\n",
    "\n",
    "* Note that, according to our definition, this is the complete population.\n",
    "  * We are interested in all the purchases in 2017 and we have access to all the data\n",
    "  * We are not interested in prior or subsequent years\n",
    "\n",
    "* What if we have access to a small subsample of the population, could we have arrived at the same conclusion?\n",
    "  * Ex. what if we managed to get access to only 100 records?\n",
    "\n",
    "* We can sample 100 random entries using `returns_data.sample`\n",
    "\n",
    "```python\n",
    "returns_data_100 = returns_data.sample(100)\n",
    "```"
   ]
  },
  {
   "cell_type": "code",
   "execution_count": 8,
   "metadata": {
    "slideshow": {
     "slide_type": "slide"
    }
   },
   "outputs": [
    {
     "data": {
      "text/plain": [
       "0.514116767635966"
      ]
     },
     "execution_count": 8,
     "metadata": {},
     "output_type": "execute_result"
    }
   ],
   "source": [
    "returns_data_100 = returns_data.sample(50, random_state=1234)\n",
    "\n",
    "sample_mean = np.mean(returns_data_100[\"Bought Price\"] / returns_data_100[\"MSRP\"])\n",
    "\n",
    "# is it clear below why I am not using print\n",
    "sample_mean"
   ]
  },
  {
   "cell_type": "markdown",
   "metadata": {
    "slideshow": {
     "slide_type": "slide"
    }
   },
   "source": [
    "### Using Bootstrap to Estimate the Population Mean\n",
    "\n",
    "* Are 100 records sufficient to obtain a good estimate of the sample population mean?\n",
    "\n",
    "* How confident will we be in this result?\n",
    "\n",
    "  * What is the range of possible means of the population?\n"
   ]
  },
  {
   "cell_type": "code",
   "execution_count": 9,
   "metadata": {
    "slideshow": {
     "slide_type": "slide"
    }
   },
   "outputs": [],
   "source": [
    "bootstrap_means = []\n",
    "for i in range(10000):\n",
    "    returns_data_100_bootstrap = returns_data_100.sample(100, replace=True)\n",
    "    bootstrap_mean = np.mean(returns_data_100_bootstrap[\"Bought Price\"] \n",
    "                             / returns_data_100_bootstrap[\"MSRP\"])\n",
    "    bootstrap_means.append(bootstrap_mean)\n"
   ]
  },
  {
   "cell_type": "code",
   "execution_count": 10,
   "metadata": {
    "slideshow": {
     "slide_type": "slide"
    }
   },
   "outputs": [
    {
     "data": {
      "text/plain": [
       "array([0.50107172, 0.52726152])"
      ]
     },
     "execution_count": 10,
     "metadata": {},
     "output_type": "execute_result"
    }
   ],
   "source": [
    "np.percentile(bootstrap_means, (2.5, 97.5) )"
   ]
  },
  {
   "cell_type": "code",
   "execution_count": 11,
   "metadata": {
    "slideshow": {
     "slide_type": "slide"
    }
   },
   "outputs": [
    {
     "data": {
      "text/plain": [
       "<matplotlib.collections.LineCollection at 0x121fab040>"
      ]
     },
     "execution_count": 11,
     "metadata": {},
     "output_type": "execute_result"
    },
    {
     "data": {
      "image/png": "[encoded data removed]",
      "text/plain": [
       "<Figure size 864x360 with 1 Axes>"
      ]
     },
     "metadata": {
      "needs_background": "light"
     },
     "output_type": "display_data"
    }
   ],
   "source": [
    "plt.figure(figsize=(12,5))\n",
    "_ = plt.hist(bootstrap_means, alpha=0.8,  edgecolor=\"k\")\n",
    "conf_int_95 = np.percentile(bootstrap_means, (2.5, 97.5) ) \n",
    "plt.hlines(0, conf_int_95[0], conf_int_95[1], color=\"red\", linewidth=8,)"
   ]
  },
  {
   "cell_type": "markdown",
   "metadata": {
    "slideshow": {
     "slide_type": "slide"
    }
   },
   "source": [
    "### Interpreting the Bootstrap Values\n",
    "\n",
    "* The bootstrap data shows us the extent of sampling variability\n",
    "\n",
    "* The 95% confidence interval contains our mean\n",
    "  * Values within 95% confidence interval are not a fluke.\n",
    "  * We cannot discredit the fact that any of those values are possible means of the population\n",
    "\n",
    "* Conclusion, even with only 100 samples, we can observe that the company is buying products, on average, at 48% to 52% discount\n",
    "\n",
    "* Question was it a fluke that the true population mean was included in the 95% confidence interval?\n",
    "  * Again, we know the true population mean because we have access to the complete population\n"
   ]
  },
  {
   "cell_type": "markdown",
   "metadata": {
    "slideshow": {
     "slide_type": "slide"
    }
   },
   "source": [
    "### How Confident are we in the Bootstrap Confidence Interval?\n",
    "\n",
    "* The \"middle 95%\" interval of estimates captured the parameter in our example.\n",
    "\n",
    "  * Was that a fluke?\n",
    "\n",
    "* To see how frequently the interval contains the parameter, we have to run the entire process over and over again.\n",
    "\n",
    "* We will repeat the following process 1000 times:\n",
    "\n",
    "  * Draw an original sample of size 100 from the population.\n",
    "\n",
    "  * Generate 5,000 bootstrap samples \n",
    "  * Generate the \"middle 95%\" interval of resampled medians\n",
    "  \n",
    "* We will end up with 1000 intervals, and count how many of them contain the population median.\n",
    "  * How many of these 95 confidence intervals will include our mean?\n",
    "\n"
   ]
  },
  {
   "cell_type": "code",
   "execution_count": 16,
   "metadata": {
    "slideshow": {
     "slide_type": "slide"
    }
   },
   "outputs": [],
   "source": [
    "def comput_conf_interval(data, nb_bootstrap_iters = 5000):\n",
    "    bootstrap_means = []\n",
    "    for i in range(nb_bootstrap_iters):\n",
    "        bootstrap_sample = data.sample(data.shape[0], replace=True)\n",
    "        bootstrap_mean = np.mean(bootstrap_sample[\"Bought Price\"] \n",
    "                             / bootstrap_sample[\"MSRP\"])\n",
    "        bootstrap_means.append(bootstrap_mean)\n",
    "    #print(np.percentile(bootstrap_means, (2.5, 97.5)))\n",
    "    return np.percentile(bootstrap_means, (2.5, 97.5))\n",
    "    \n",
    "lower_bound = []\n",
    "upper_bound = []\n",
    "for i in range(100):\n",
    "    sample_of_50 = returns_data.sample(50)\n",
    "    conf_interval = comput_conf_interval(sample_of_50)\n",
    "    lower_bound.append(conf_interval[0])\n",
    "    upper_bound.append(conf_interval[1])\n"
   ]
  },
  {
   "cell_type": "code",
   "execution_count": 17,
   "metadata": {
    "slideshow": {
     "slide_type": "slide"
    }
   },
   "outputs": [
    {
     "data": {
      "text/html": [
       "<div>\n",
       "<style scoped>\n",
       "    .dataframe tbody tr th:only-of-type {\n",
       "        vertical-align: middle;\n",
       "    }\n",
       "\n",
       "    .dataframe tbody tr th {\n",
       "        vertical-align: top;\n",
       "    }\n",
       "\n",
       "    .dataframe thead th {\n",
       "        text-align: right;\n",
       "    }\n",
       "</style>\n",
       "<table border=\"1\" class=\"dataframe\">\n",
       "  <thead>\n",
       "    <tr style=\"text-align: right;\">\n",
       "      <th></th>\n",
       "      <th>lower</th>\n",
       "      <th>upper</th>\n",
       "    </tr>\n",
       "  </thead>\n",
       "  <tbody>\n",
       "    <tr>\n",
       "      <th>0</th>\n",
       "      <td>0.485019</td>\n",
       "      <td>0.520067</td>\n",
       "    </tr>\n",
       "    <tr>\n",
       "      <th>1</th>\n",
       "      <td>0.489129</td>\n",
       "      <td>0.527394</td>\n",
       "    </tr>\n",
       "    <tr>\n",
       "      <th>2</th>\n",
       "      <td>0.466972</td>\n",
       "      <td>0.500504</td>\n",
       "    </tr>\n",
       "    <tr>\n",
       "      <th>3</th>\n",
       "      <td>0.491211</td>\n",
       "      <td>0.527094</td>\n",
       "    </tr>\n",
       "    <tr>\n",
       "      <th>4</th>\n",
       "      <td>0.479235</td>\n",
       "      <td>0.512576</td>\n",
       "    </tr>\n",
       "  </tbody>\n",
       "</table>\n",
       "</div>"
      ],
      "text/plain": [
       "      lower     upper\n",
       "0  0.485019  0.520067\n",
       "1  0.489129  0.527394\n",
       "2  0.466972  0.500504\n",
       "3  0.491211  0.527094\n",
       "4  0.479235  0.512576"
      ]
     },
     "execution_count": 17,
     "metadata": {},
     "output_type": "execute_result"
    }
   ],
   "source": [
    "conf_ints_95 = pd.DataFrame({\"lower\": lower_bound, \"upper\": upper_bound})\n",
    "conf_ints_95.head()"
   ]
  },
  {
   "cell_type": "code",
   "execution_count": 18,
   "metadata": {
    "slideshow": {
     "slide_type": "slide"
    }
   },
   "outputs": [
    {
     "data": {
      "text/plain": [
       "98"
      ]
     },
     "execution_count": 18,
     "metadata": {},
     "output_type": "execute_result"
    }
   ],
   "source": [
    "sum((conf_ints_95[\"lower\"] < 0.5) & (conf_ints_95[\"upper\"] > 0.5))"
   ]
  },
  {
   "cell_type": "code",
   "execution_count": 19,
   "metadata": {
    "slideshow": {
     "slide_type": "slide"
    }
   },
   "outputs": [
    {
     "data": {
      "image/png": "[encoded data removed]",
      "text/plain": [
       "<Figure size 720x432 with 1 Axes>"
      ]
     },
     "metadata": {
      "needs_background": "light"
     },
     "output_type": "display_data"
    }
   ],
   "source": [
    "plt.figure(figsize=(10,6))\n",
    "plt.vlines(0.5, 0, 102, color=\"#e2a829\", linewidth=4)\n",
    "for i in range(100):\n",
    "    c = \"blue\"\n",
    "    if lower_bound[i] > 0.5 or upper_bound[i] < 0.5:\n",
    "        c = \"red\"\n",
    "    plt.hlines(i,lower_bound[i], upper_bound[i], color=c, alpha=0.85, linewidth=0.75)\n",
    "    "
   ]
  },
  {
   "cell_type": "markdown",
   "metadata": {
    "slideshow": {
     "slide_type": "slide"
    }
   },
   "source": [
    "### How Confident are we in the Bootstrap Confidence Interval?\n",
    "\n",
    "* If an interval doesn't cover the parameter, it's a dud \n",
    "\n",
    "  * There are very few of them – about 5, typically – but they do happen \n",
    "\n",
    "* Any method based on sampling has the possibility of being off. \n",
    "\n",
    " * If we have a 95% confidence interval, we should expect to be wrong 5% of the time\n",
    "\n",
    "* The beauty of methods based on random sampling is that we can quantify how often they are likely to be off\n",
    "\n"
   ]
  },
  {
   "cell_type": "markdown",
   "metadata": {
    "slideshow": {
     "slide_type": "slide"
    }
   },
   "source": [
    "### The Bootstrap Confidence Interval\n",
    "\n",
    "* Our interval of estimates is called a *95% confidence interval* for the parameter\n",
    "\n",
    "* 95% is called the *confidence level* of the interval\n",
    "\n",
    "* We say that we are *95% confident* that the process results in a good interval"
   ]
  },
  {
   "cell_type": "markdown",
   "metadata": {
    "slideshow": {
     "slide_type": "slide"
    }
   },
   "source": [
    "### Care in Using the Bootstrap ###\n",
    "\n",
    "* The bootstrap is an elegant and powerful method to assess the accuracy of the estimate\n",
    "\n",
    " * The bootstrap uses a different approach to estimating the standard error\n",
    "\n",
    "* What you need to know before using it:\n",
    "\n",
    "  * Start with a large random sample. \n",
    "\n",
    "  * The Law of Averages says that this is likely to be true provided the random sample is large\n",
    "\n",
    "* To approximate the probability distribution of a statistic, it is a good idea to replicate the resampling procedure as many times as possible.\n",
    "\n",
    "  * 10,000, in general, is a good estimate\n",
    "\n",
    "* The bootstrap percentile method works well for estimating the population median or mean based on a large random sample.\n"
   ]
  },
  {
   "cell_type": "markdown",
   "metadata": {
    "slideshow": {
     "slide_type": "slide"
    }
   },
   "source": [
    "### When To Not Use the Bootstrap\n",
    "\n",
    "* The bootstrap is not useful in well in the following situations.\n",
    "\n",
    "    * The goal is to estimate the minimum or maximum value in the population, or a very low or very high percentile, or parameters that are greatly influenced by rare elements of the population.\n",
    "    * The probability distribution of the statistic is not roughly bell-shaped.\n",
    "      * Can withstand some skewness in the data\n",
    "    * The original sample is very small, say less than 20 or 25\n",
    "      * Sample is not representative of the population.\n",
    "      * Bootstrap samples are not representative of samples from the pipulation\n"
   ]
  }
 ],
 "metadata": {
  "celltoolbar": "Slideshow",
  "hide_input": false,
  "kernelspec": {
   "display_name": "Python 3 (ipykernel)",
   "language": "python",
   "name": "python3"
  },
  "language_info": {
   "codemirror_mode": {
    "name": "ipython",
    "version": 3
   },
   "file_extension": ".py",
   "mimetype": "text/x-python",
   "name": "python",
   "nbconvert_exporter": "python",
   "pygments_lexer": "ipython3",
   "version": "3.8.11"
  }
 },
 "nbformat": 4,
 "nbformat_minor": 2
}

{
 "cells": [
  {
   "cell_type": "code",
   "execution_count": 4,
   "metadata": {},
   "outputs": [],
   "source": [
    "#!pip install ipywidgets"
   ]
  },
  {
   "cell_type": "code",
   "execution_count": 5,
   "metadata": {
    "slideshow": {
     "slide_type": "skip"
    }
   },
   "outputs": [],
   "source": [
    "import pandas as pd\n",
    "import matplotlib.pyplot as plt\n",
    "import numpy as np\n"
   ]
  },
  {
   "cell_type": "markdown",
   "metadata": {
    "slideshow": {
     "slide_type": "slide"
    }
   },
   "source": [
    "### Bayesian Parameter Estimation\n",
    "\n",
    "* Consider the generative model for the A/B testing experiment in the previous section \n",
    "\n",
    "* For one person and one website prototype, the generative process can be described with the following illustration\n",
    "\n",
    "  * Suppose that a user is equally likely to signup or forgo signing up (p=0.5)\n",
    " \n",
    "\n",
    "![](https://www.dropbox.com/s/9qlph5xr00m1a0b/ab_user.jpg?dl=1)\n",
    "\n",
    "\n",
    "* Say we are selecting 8 individuals to try one version A, what does the generative process look like?"
   ]
  },
  {
   "cell_type": "code",
   "execution_count": 7,
   "metadata": {
    "cellView": "form",
    "colab": {
     "base_uri": "https://localhost:8080/",
     "height": 445
    },
    "colab_type": "code",
    "id": "bAL20h-or_eb",
    "outputId": "4ebf6c3d-6e16-42ae-a235-5b8093bea2b3",
    "slideshow": {
     "slide_type": "slide"
    }
   },
   "outputs": [
    {
     "data": {
      "application/vnd.jupyter.widget-view+json": {
       "model_id": "2b17366910024befaaf132b447db2f92",
       "version_major": 2,
       "version_minor": 0
      },
      "text/plain": [
       "Button(description='Run the experiment!', style=ButtonStyle())"
      ]
     },
     "metadata": {},
     "output_type": "display_data"
    },
    {
     "data": {
      "application/vnd.jupyter.widget-view+json": {
       "model_id": "d19e9113688f4f98867fdfb667600e89",
       "version_major": 2,
       "version_minor": 0
      },
      "text/plain": [
       "Output()"
      ]
     },
     "metadata": {},
     "output_type": "display_data"
    }
   ],
   "source": [
    "# @hidden_cell\n",
    "#@title\n",
    "#this will be hidden\n",
    "\n",
    "from IPython.display import HTML, display\n",
    "from ipywidgets import widgets, Output\n",
    "import matplotlib.pyplot as plt\n",
    "import numpy as np\n",
    "import scipy.stats as st\n",
    "\n",
    "p=0.5\n",
    "\n",
    "button = widgets.Button(description = \"Run the experiment!\")\n",
    "display(button)\n",
    "out=Output()\n",
    "display(out)\n",
    "\n",
    "green_link='images/green.jpg'\n",
    "red_link='images/red.jpg'\n",
    "black_link='images/black.jpg'\n",
    "arrow_link='images/arrow.jpg'\n",
    "green_guy=\"<td><img src=\"+green_link+\"></td>\"\n",
    "red_guy=\"<td><img src=\"+red_link+\"></td>\"\n",
    "black_guy=\"<td><img src=\"+black_link+\"></td>\"\n",
    "arrow=\"<td><img src=\"+arrow_link+\"></td>\"\n",
    "\n",
    "\n",
    "\n",
    "def on_button_clicked(b):\n",
    "    number_guys = 0\n",
    "    test=st.bernoulli.rvs(p, size=1)\n",
    "    guys=\"\"\n",
    "    for item in test:\n",
    "      if item==1:\n",
    "        guys=guys+green_guy\n",
    "      else:\n",
    "        guys=guys+red_guy\n",
    "      number_guys+=item\n",
    "    \n",
    "    out.clear_output()\n",
    "    with out:\n",
    "        display(HTML(\"<table><tr><td>\"+black_guy+\"</td><td>\"+arrow+\"</td><td>\"+guys+\"</td></tr></table>\"))\n",
    "\n",
    "\n",
    "button.on_click(on_button_clicked)"
   ]
  },
  {
   "cell_type": "code",
   "execution_count": 8,
   "metadata": {
    "cellView": "form",
    "colab": {
     "base_uri": "https://localhost:8080/",
     "height": 520
    },
    "colab_type": "code",
    "id": "ruuj6PmNTmvZ",
    "outputId": "3659593c-3f1a-45f8-dedf-62bf6f9a4bde",
    "slideshow": {
     "slide_type": "slide"
    }
   },
   "outputs": [
    {
     "data": {
      "application/vnd.jupyter.widget-view+json": {
       "model_id": "485e5c23b481472aa715904f7aacc00d",
       "version_major": 2,
       "version_minor": 0
      },
      "text/plain": [
       "Button(description='Run the experiment!', style=ButtonStyle())"
      ]
     },
     "metadata": {},
     "output_type": "display_data"
    },
    {
     "data": {
      "application/vnd.jupyter.widget-view+json": {
       "model_id": "95eb0bbf271f4b4a90ebdf4f9cced33f",
       "version_major": 2,
       "version_minor": 0
      },
      "text/plain": [
       "Output()"
      ]
     },
     "metadata": {},
     "output_type": "display_data"
    }
   ],
   "source": [
    "# @hidden_cell\n",
    "#@title\n",
    "#this will be hidden\n",
    "import matplotlib.pyplot as plt\n",
    "import numpy as np\n",
    "import scipy.stats as st\n",
    "from ipywidgets import widgets, Output\n",
    "from IPython.display import HTML, display\n",
    "\n",
    "button = widgets.Button(description = \"Run the experiment!\")\n",
    "display(button)\n",
    "out=Output()\n",
    "display(out)\n",
    "\n",
    "dist_values=[0]*9\n",
    "\n",
    "green_link='images/green.jpg'\n",
    "red_link='images/red.jpg'\n",
    "green_guy=\"<td><img src=\"+green_link+\"></td>\"\n",
    "red_guy=\"<td><img src=\"+red_link+\"></td>\"\n",
    "\n",
    "def on_button_clicked(b):\n",
    "    p=0.5\n",
    "    test=st.bernoulli.rvs(p, size=8)\n",
    "    guys=\"\"\n",
    "    number_guys = 0\n",
    "    for item in test:\n",
    "      if item==1:\n",
    "        guys=guys+green_guy\n",
    "      else:\n",
    "        guys=guys+red_guy\n",
    "      number_guys+=item\n",
    "    out.clear_output()\n",
    "    dist_values[number_guys]+=1\n",
    "    fig = plt.figure(figsize=(14,5))\n",
    "    plt.style.use('seaborn-darkgrid')\n",
    "    x = np.arange(0, 9)\n",
    "    ns = [8]\n",
    "    ps = [p]\n",
    "    for n, p in zip(ns, ps):\n",
    "        plt.bar(x, dist_values)\n",
    "    plt.bar(x[number_guys],dist_values[number_guys],color='green')\n",
    "    plt.xlabel('number of sign ups', fontsize=14)\n",
    "    plt.ylabel('counts', fontsize=14)\n",
    "    plt.xticks(range(0,9))\n",
    "    with out:\n",
    "        display(HTML(\"<table><tr>\"+guys+\"</tr></table>\"))\n",
    "        plt.show()\n",
    "#plt.yticks([]);\n",
    "#plt.legend(loc=1)\n",
    "\n",
    "\n",
    "button.on_click(on_button_clicked)"
   ]
  },
  {
   "cell_type": "markdown",
   "metadata": {
    "slideshow": {
     "slide_type": "slide"
    }
   },
   "source": [
    "### The Long Run Distribution\n",
    "\n",
    "* If one repeats the experiment many times, the graph will represent the binomial distribution\n",
    "\n",
    "  *  The distribution is parameterized by $n=8$ and \"p=0.5\"\n",
    "\n",
    "![](https://www.dropbox.com/s/ls67vy0unywi3a4/longrun.png?dl=1)"
   ]
  },
  {
   "cell_type": "markdown",
   "metadata": {
    "colab_type": "text",
    "id": "aqB7zpc358xw",
    "slideshow": {
     "slide_type": "slide"
    }
   },
   "source": [
    "### Observations\n",
    "\n",
    "* We don't know version `A` and `B` signup rates $p_1$ and $p_2$ a priori \n",
    "\n",
    "\n",
    "  \n",
    "* Clearly, we can use the maximum likelihood ($ml$) to estimate the parmeters\n",
    "\n",
    "* However: \n",
    "  * The sample is small and random events can greatly skew estimation\n",
    "  * Confidence interval tells us where the interval may be with 95% confidence\n",
    "    * What we are often interested in is the probability of individual values\n",
    "\n",
    "  * There is no way to encode our belief about the param\n",
    "    * Say we know a param should be ~0.9 because other reserach showed that\n",
    "    * How can we incorporate that in esimating the param? \n",
    "\n",
    "* Our approach need to take that into consideration\n"
   ]
  },
  {
   "cell_type": "code",
   "execution_count": 10,
   "metadata": {
    "slideshow": {
     "slide_type": "slide"
    }
   },
   "outputs": [
    {
     "data": {
      "text/plain": [
       "[True, True, True, True, True, False, False, False]"
      ]
     },
     "execution_count": 10,
     "metadata": {},
     "output_type": "execute_result"
    }
   ],
   "source": [
    "# Suppose outcomes are \n",
    "outcomes = [True] * 5 + [False] * 3\n",
    "outcomes"
   ]
  },
  {
   "cell_type": "code",
   "execution_count": 11,
   "metadata": {
    "slideshow": {
     "slide_type": "slide"
    }
   },
   "outputs": [
    {
     "data": {
      "text/plain": [
       "0.375"
      ]
     },
     "execution_count": 11,
     "metadata": {},
     "output_type": "execute_result"
    }
   ],
   "source": [
    "bootstrap = np.random.choice(outcomes, size=8, replace=True)\n",
    "bootstrap_proportion = sum(bootstrap)/len(bootstrap)\n",
    "bootstrap_proportion"
   ]
  },
  {
   "cell_type": "code",
   "execution_count": 12,
   "metadata": {
    "slideshow": {
     "slide_type": "slide"
    }
   },
   "outputs": [
    {
     "data": {
      "text/plain": [
       "array([0.25 , 0.875])"
      ]
     },
     "execution_count": 12,
     "metadata": {},
     "output_type": "execute_result"
    }
   ],
   "source": [
    "bootstrap_proportions = []\n",
    "for _ in range(10000):\n",
    "    bootstrap = np.random.choice(outcomes, size=8, replace=True)\n",
    "    bootstrap_proportion = sum(bootstrap)/len(bootstrap)\n",
    "    bootstrap_proportions.append(bootstrap_proportion)\n",
    "np.percentile(bootstrap_proportions, (2.5, 97.5))\n"
   ]
  },
  {
   "cell_type": "markdown",
   "metadata": {
    "slideshow": {
     "slide_type": "slide"
    }
   },
   "source": [
    "### Running the simulation Backwards\n",
    "\n",
    "* Rather than generate random outcomes of the experiment, we record random parameters that could have yielded the observed results\n",
    "\n",
    "* Which params could have generated 5 signups in 8 trials?\n",
    "    * Recall that $p$ is continuous probability between 0 and 1\n"
   ]
  },
  {
   "cell_type": "markdown",
   "metadata": {
    "colab_type": "text",
    "id": "feFOS2XKOR3e",
    "slideshow": {
     "slide_type": "slide"
    }
   },
   "source": [
    "### Bayesian Inference Using Rejection Sampling \n",
    "\n",
    "\n",
    "* For simplicity, we'll only consider Version A\n",
    "\n",
    "*  How can we determine the most likely value of parameter $p_1$ for Version A? \n",
    "\n",
    "* For that we will use a simple algorithm, for Bayesian Inference, called <a id='rej'>*rejection sampling*</a>  \n",
    " * We simulate params and only retain those that agree with our data\n",
    "\n",
    "\n",
    "\n",
    "\n"
   ]
  },
  {
   "cell_type": "markdown",
   "metadata": {
    "slideshow": {
     "slide_type": "slide"
    }
   },
   "source": [
    "### Rejection Sampling \n",
    "\n",
    "1.   Sample a parameter value from the set of possible values of $p_A$\n",
    "  * This is called a prior and represents our prior belief or $p_A$\n",
    "    * In our example, we believe that $p_1$ is any possible value in $[0, 1]$ conitnuum\n",
    "   \n",
    "2.   Generate an outcome, given that parameter value (in our example, run the test that is described by binomial distribution with parameter $p_1$ and number of people $8$)\n",
    "\n",
    "3.  *   If the generated outcome is the observed data, record the value of the parameter $p_1$ as a possible value that can generate the observed results\n",
    "    *   If the generated outcome is not the observed data, ignore (or reject) the parameter $p_1$\n",
    "4.   Repeat the procedure many times.\n"
   ]
  },
  {
   "cell_type": "markdown",
   "metadata": {
    "slideshow": {
     "slide_type": "slide"
    }
   },
   "source": [
    "### Approximate Bayes Using Rejection Sampling - Cont'd\n",
    "\n",
    "![](images/rejection.jpg)\n"
   ]
  },
  {
   "cell_type": "markdown",
   "metadata": {
    "slideshow": {
     "slide_type": "slide"
    }
   },
   "source": [
    "### Exploring the distribution of the param $p$.\n",
    "\n",
    "* What does the distribution of $p_A$ look like\n",
    "\n",
    "  * This ditribution represents the values that most likely generate the observed that data\n",
    "  \n",
    "  * I.e., what  we believe, based on observing the data, the value of $p_A$ could have been\n",
    "  \n",
    "* Our prior belief was that  $p_A$ is any value between $0$ and $1$\n",
    "\n",
    "  * Results show that  some values of $p_1$ occur with more probability that other values.\n",
    "  * We could have encoded our belief in a way that gives us some values more often than others\n",
    " \n",
    "* The resulting distribution is called the posterior distrubution of the param $p_A$\n",
    "\n"
   ]
  },
  {
   "cell_type": "markdown",
   "metadata": {
    "slideshow": {
     "slide_type": "slide"
    }
   },
   "source": []
  },
  {
   "cell_type": "code",
   "execution_count": 34,
   "metadata": {
    "colab": {
     "base_uri": "https://localhost:8080/",
     "height": 366
    },
    "colab_type": "code",
    "collapsed": true,
    "id": "7m4d4ALBl_Ti",
    "outputId": "12ead134-432c-49a5-d130-c23de14579d4",
    "scrolled": true,
    "slideshow": {
     "slide_type": "slide"
    }
   },
   "outputs": [],
   "source": [
    "# import packages\n",
    "import numpy as np\n",
    "import matplotlib.pyplot as plt\n",
    "\n",
    "# Version A\n",
    "n_A = 8        # number of people Version A was tested on\n",
    "obs_A = 5      # observed number of sign ups for Version A\n",
    "p_A_recorded = []\n",
    "\n",
    "num_of_recorded_vals = 100000\n",
    "\n",
    "for _ in  range(num_of_recorded_vals):\n",
    "  # Sample parameter values p_A and p_B\n",
    "  p_A = np.random.uniform(0, 1)\n",
    "\n",
    "  # For each p_A and p_B generate an outcome from the binomal distribution \n",
    "  v_A = np.random.binomial(n_A, p_A)\n",
    "  # Compare generated outcomes to the observed data\n",
    "  if v_A == obs_A:\n",
    "    p_A_recorded.append(p_A)\n"
   ]
  },
  {
   "cell_type": "code",
   "execution_count": 35,
   "metadata": {
    "slideshow": {
     "slide_type": "slide"
    }
   },
   "outputs": [
    {
     "data": {
      "image/png": "[encoded data removed]",
      "text/plain": [
       "<matplotlib.figure.Figure at 0x1091cd5f8>"
      ]
     },
     "metadata": {},
     "output_type": "display_data"
    }
   ],
   "source": [
    "\n",
    "fig = plt.figure(figsize = (12,8)) \n",
    "\n",
    "plt.xlim(0, 1)\n",
    "\n",
    "plt.hist(p_A_recorded,  bins = 20, alpha = 0.75, label = \"Version A\", color = \"#A60628\", normed = False, edgecolor='black', linewidth=1.2)\n",
    "\n",
    "plt.title(\"Number of Recorded Values for Version A vs Version B\")\n",
    "\n",
    "plt.legend(loc = 'upper right', fontsize=14)\n",
    "\n",
    "plt.show()\n"
   ]
  },
  {
   "cell_type": "markdown",
   "metadata": {
    "colab_type": "text",
    "id": "GGizV0W7l8oz",
    "slideshow": {
     "slide_type": "slide"
    }
   },
   "source": [
    "### Analyzing the Simulation Results\n",
    "\n",
    "* Histograms shows the probability of $p_A$ to highest around 0.625\n",
    " * This agrees with the likelihood\n",
    " * Show that the value could also be, with non-negligible in other values\n",
    " \n",
    "* In this case, this does not add much to the likelihood. \n",
    "\n",
    "* Imagine however that we have another dataset of signups with for version A \n",
    "  * Out of 9 users tested, 6 signed up for version A."
   ]
  },
  {
   "cell_type": "markdown",
   "metadata": {
    "slideshow": {
     "slide_type": "slide"
    }
   },
   "source": [
    "### Updating our Beliefs\n",
    "\n",
    "* We have already done some work with $p_A$ which led to generate a posterior of $p_A$\n",
    "* Rather than sample $p_A$ uniformly from [0,1], we can sample it from the posterior \n",
    "  * In this new round the posterior becomes a prior\n",
    "* We can sample from a histogram from the histogram data which represents the posterior"
   ]
  },
  {
   "cell_type": "code",
   "execution_count": 36,
   "metadata": {
    "slideshow": {
     "slide_type": "slide"
    }
   },
   "outputs": [
    {
     "data": {
      "text/plain": [
       "0.565273797600159"
      ]
     },
     "execution_count": 36,
     "metadata": {},
     "output_type": "execute_result"
    }
   ],
   "source": [
    "np.random.choice(p_A_recorded)"
   ]
  },
  {
   "cell_type": "code",
   "execution_count": 42,
   "metadata": {
    "collapsed": true,
    "slideshow": {
     "slide_type": "slide"
    }
   },
   "outputs": [],
   "source": [
    "# import packages\n",
    "import numpy as np\n",
    "import matplotlib.pyplot as plt\n",
    "\n",
    "# Version A\n",
    "n_A = 9        # number of people Version A was tested on\n",
    "obs_A = 6      # observed number of sign ups for Version A\n",
    "p_A_recorded_experiment_2 = []\n",
    "\n",
    "num_of_recorded_vals = 100000\n",
    "\n",
    "for _ in  range(num_of_recorded_vals):\n",
    "  # Sample parameter values p_A and p_B\n",
    "  p_A = np.random.choice(p_A_recorded)\n",
    "\n",
    "  # For each p_A and p_B generate an outcome from the binomal distribution \n",
    "  v_A = np.random.binomial(n_A, p_A)\n",
    "  # Compare generated outcomes to the observed data\n",
    "  if v_A == obs_A:\n",
    "    p_A_recorded_experiment_2.append(p_A)\n"
   ]
  },
  {
   "cell_type": "code",
   "execution_count": 43,
   "metadata": {
    "slideshow": {
     "slide_type": "slide"
    }
   },
   "outputs": [
    {
     "data": {
      "image/png": "[encoded data removed]",
      "text/plain": [
       "<matplotlib.figure.Figure at 0x11b035908>"
      ]
     },
     "metadata": {},
     "output_type": "display_data"
    }
   ],
   "source": [
    "\n",
    "fig = plt.figure(figsize = (12,8)) \n",
    "\n",
    "plt.xlim(0, 1)\n",
    "\n",
    "plt.hist(p_A_recorded,  bins = 20, normed=True, alpha = 0.75, label = \"Experiment 1\", color = \"#A60628\",  edgecolor='black', linewidth=1.2,)\n",
    "plt.hist(p_A_recorded_experiment_2,  bins = 20, normed=True, alpha = 0.75, label = \"Experiment 2\", color = \"#bcadd1\", edgecolor='black', linewidth=1.2)\n",
    "\n",
    "plt.title(\"Number of Recorded Values for Version A vs Version B\")\n",
    "\n",
    "plt.legend(loc = 'upper right', fontsize=14)\n",
    "\n",
    "plt.show()\n"
   ]
  },
  {
   "cell_type": "markdown",
   "metadata": {
    "colab_type": "text",
    "id": "a4kyzxM1Uhud",
    "slideshow": {
     "slide_type": "slide"
    }
   },
   "source": [
    "### **Bayesian Inference**\n",
    "---\n",
    "\n",
    "* Bayesian inference  Allows us to use probability theory to assign probabilities to *parameters*\n",
    "\n",
    "  * Allows  encodes  beliefs in a way that is probabilistic\n",
    "  \n",
    "  * Allows for incorporating new data in a way that leverages prior discoveries\n",
    "\n",
    "\n"
   ]
  },
  {
   "cell_type": "code",
   "execution_count": null,
   "metadata": {
    "collapsed": true
   },
   "outputs": [],
   "source": []
  }
 ],
 "metadata": {
  "celltoolbar": "Slideshow",
  "colab": {
   "collapsed_sections": [],
   "name": "PP_1_Introduction.ipynb",
   "provenance": [],
   "version": "0.3.2"
  },
  "hide_input": false,
  "kernelspec": {
   "display_name": "Python 3 (ipykernel)",
   "language": "python",
   "name": "python3"
  },
  "language_info": {
   "codemirror_mode": {
    "name": "ipython",
    "version": 3
   },
   "file_extension": ".py",
   "mimetype": "text/x-python",
   "name": "python",
   "nbconvert_exporter": "python",
   "pygments_lexer": "ipython3",
   "version": "3.8.11"
  }
 },
 "nbformat": 4,
 "nbformat_minor": 1
}

{
 "cells": [
  {
   "cell_type": "code",
   "execution_count": 2,
   "metadata": {
    "slideshow": {
     "slide_type": "skip"
    }
   },
   "outputs": [],
   "source": [
    "import pandas as pd\n",
    "import numpy as np\n",
    "\n",
    "import matplotlib.pyplot as plt\n",
    "\n",
    "%matplotlib inline"
   ]
  },
  {
   "cell_type": "markdown",
   "metadata": {
    "slideshow": {
     "slide_type": "slide"
    }
   },
   "source": [
    "### Statistical Modeling \n",
    " \n",
    "\n",
    "* Generative models are expressive representations of the data generating process\n",
    "\n",
    "  * Having access to a distributions params was very useful to answer the three classes of questions we are often interested in:\n",
    "\n",
    "1. expectation, \n",
    "\n",
    "2. variance \n",
    "\n",
    "3. probabilities of certain events\n",
    "\n",
    "4. Hypothesis testing\n",
    "\n",
    "\n",
    "* Most often we don't have access parameters that to generate data\n",
    "  \n",
    "* We need to estimate those params from the collected data\n"
   ]
  },
  {
   "cell_type": "markdown",
   "metadata": {
    "slideshow": {
     "slide_type": "slide"
    }
   },
   "source": [
    "### Statistical Modeling - Cont'd\n",
    "\n",
    "* Contrary to generative models, we work from the data upwards\n",
    "\n",
    "* This upward–reasoning step is called statistical inference.  \n",
    "\n",
    "<img src=\"https://www.dropbox.com/s/jblp98xdh1jpm3z/proba_stats_2.png?dl=1\" alt=\"drawing\" style=\"width:500px;\"/>"
   ]
  },
  {
   "cell_type": "markdown",
   "metadata": {
    "slideshow": {
     "slide_type": "slide"
    }
   },
   "source": [
    "### Statistical Inference\n",
    "\n",
    "* Working with a small sample from a large population\n",
    "\n",
    "* You are using the sample (a measure on the sample) as a proxy for some parameter in the population\n",
    "\n",
    "  * What is a \"population,\" and why do we need to measure a sample from the population?\n",
    "    * It is the \"ultimate\" ground truth\n"
   ]
  },
  {
   "cell_type": "markdown",
   "metadata": {
    "slideshow": {
     "slide_type": "slide"
    }
   },
   "source": [
    "### Parameter Estimation\n",
    "\n",
    "*  Given a dataset, we are most often interested in estimating the parmeter(s) of the distribution that generated it\n",
    "\n",
    "* We randomly count the number of observed moving traffic citations within a 5 miles radius of UH Manoa during 90-days, spread across 12 months\n",
    "  * We want to even out sampling to avoid any bias\n",
    "   * Ex. We may underestimate # citations during summer or overestimate # citations during the holiday season\n",
    "\n",
    "* The number of citations should follow some probability distribution specif to count data\n",
    "  * This is a Poisson distribution (covered next week)\n",
    "\n",
    "* What is the parameter of that distribution?\n",
    "\n",
    "* We will answer this question using three different approaches:\n",
    "  1. Confidence intervals\n",
    "  2. Maximum Likelihood \n",
    "  3. Bayesian Framework\n",
    " "
   ]
  },
  {
   "cell_type": "code",
   "execution_count": 3,
   "metadata": {},
   "outputs": [
    {
     "data": {
      "text/html": [
       "<div>\n",
       "<style scoped>\n",
       "    .dataframe tbody tr th:only-of-type {\n",
       "        vertical-align: middle;\n",
       "    }\n",
       "\n",
       "    .dataframe tbody tr th {\n",
       "        vertical-align: top;\n",
       "    }\n",
       "\n",
       "    .dataframe thead th {\n",
       "        text-align: right;\n",
       "    }\n",
       "</style>\n",
       "<table border=\"1\" class=\"dataframe\">\n",
       "  <thead>\n",
       "    <tr style=\"text-align: right;\">\n",
       "      <th></th>\n",
       "      <th>Counts</th>\n",
       "    </tr>\n",
       "    <tr>\n",
       "      <th>Day</th>\n",
       "      <th></th>\n",
       "    </tr>\n",
       "  </thead>\n",
       "  <tbody>\n",
       "    <tr>\n",
       "      <th>0</th>\n",
       "      <td>27</td>\n",
       "    </tr>\n",
       "    <tr>\n",
       "      <th>1</th>\n",
       "      <td>18</td>\n",
       "    </tr>\n",
       "    <tr>\n",
       "      <th>2</th>\n",
       "      <td>30</td>\n",
       "    </tr>\n",
       "    <tr>\n",
       "      <th>3</th>\n",
       "      <td>13</td>\n",
       "    </tr>\n",
       "    <tr>\n",
       "      <th>4</th>\n",
       "      <td>20</td>\n",
       "    </tr>\n",
       "  </tbody>\n",
       "</table>\n",
       "</div>"
      ],
      "text/plain": [
       "     Counts\n",
       "Day        \n",
       "0        27\n",
       "1        18\n",
       "2        30\n",
       "3        13\n",
       "4        20"
      ]
     },
     "execution_count": 3,
     "metadata": {},
     "output_type": "execute_result"
    }
   ],
   "source": [
    "citations_data = pd.read_csv(\"data/citations_counts.tsv\", index_col=\"Day\")\n",
    "citations_data.head()"
   ]
  },
  {
   "cell_type": "code",
   "execution_count": 6,
   "metadata": {
    "slideshow": {
     "slide_type": "slide"
    }
   },
   "outputs": [
    {
     "data": {
      "image/png": "[encoded data removed]",
      "text/plain": [
       "<Figure size 864x576 with 1 Axes>"
      ]
     },
     "metadata": {
      "needs_background": "light"
     },
     "output_type": "display_data"
    }
   ],
   "source": [
    "plt.figure(figsize=(12,8))\n",
    "\n",
    "\n",
    "\n",
    "plt.hist(citations_data[\"Counts\"], bins=8, density=True, edgecolor='black', linewidth=1.2, alpha=0.5)\n",
    "x = np.arange(30)\n",
    "\n",
    "\n"
   ]
  }
 ],
 "metadata": {
  "celltoolbar": "Slideshow",
  "colab": {
   "collapsed_sections": [],
   "name": "PP_1_Introduction.ipynb",
   "provenance": [],
   "version": "0.3.2"
  },
  "hide_input": false,
  "kernelspec": {
   "display_name": "Python 3 (ipykernel)",
   "language": "python",
   "name": "python3"
  },
  "language_info": {
   "codemirror_mode": {
    "name": "ipython",
    "version": 3
   },
   "file_extension": ".py",
   "mimetype": "text/x-python",
   "name": "python",
   "nbconvert_exporter": "python",
   "pygments_lexer": "ipython3",
   "version": "3.8.11"
  }
 },
 "nbformat": 4,
 "nbformat_minor": 1
}

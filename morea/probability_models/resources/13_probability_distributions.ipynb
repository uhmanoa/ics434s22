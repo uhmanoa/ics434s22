{
 "cells": [
  {
   "cell_type": "code",
   "execution_count": 10,
   "metadata": {
    "slideshow": {
     "slide_type": "slide"
    }
   },
   "outputs": [
    {
     "name": "stderr",
     "output_type": "stream",
     "text": [
      "Unable to revert mtime: /Library/Fonts\n"
     ]
    }
   ],
   "source": [
    "from IPython.display import Image\n",
    "\n",
    "import numpy as np\n",
    "from scipy.stats import binom\n",
    "import matplotlib.pyplot as plt\n",
    "import itertools\n"
   ]
  },
  {
   "cell_type": "markdown",
   "metadata": {
    "slideshow": {
     "slide_type": "slide"
    }
   },
   "source": [
    "### Probability Models\n",
    "\n",
    "* A way to reason about a probabilistic system from various perspectives. \n",
    "\n",
    "* E.g., you want to run an ad campaign through an agency. You may be interested in:\n",
    "    * What is the average number of new clients we should expect to see after the ad campaign \n",
    "    * Determine the amount of variability you should expect to see in the system\n",
    "      * How variable is that number? Ex. a value 300-400 is more informative than 100-1,000\n",
    "    * Compute probability of events\n",
    "      * What is the probability of having more than X new clients after a given ad campaign\n",
    "      \n",
    "Note and remember these three components: \n",
    "  * Some summary information about the experiment\n",
    "  * Variability (variance) around that statistic\n",
    "  * Computing probability of certain events"
   ]
  },
  {
   "cell_type": "code",
   "execution_count": null,
   "metadata": {
    "slideshow": {
     "slide_type": "slide"
    }
   },
   "outputs": [],
   "source": [
    "### Probability Models: Example\n",
    "\n",
    "* E.g., you want to run an ad campaign through an agency and are interested in:\n",
    "    1. Average number of new clients after an ad campaign\n",
    "    2. Variability around that number\n",
    "    3. The probability of having at least X participants.\n",
    "\n",
    "* We can repeat the ad campaign a large number of times and answer each of these questions\n",
    "\n",
    "\n",
    "```python\n",
    "    nb_new_participants = [500, 800, 860, 820, 840, 760, 430,...]\n",
    "```\n"
   ]
  },
  {
   "cell_type": "markdown",
   "metadata": {
    "slideshow": {
     "slide_type": "slide"
    }
   },
   "source": [
    "### Probability Models: Example\n",
    "\n",
    "```python\n",
    "    nb_new_participants = [500, 800, 860, 820, 840, 760, 430,...] \n",
    "```\n",
    "\n",
    "1. Average number of new clients after an ad campaign\n",
    "```python\n",
    "np.mean(nb_new_participants)\n",
    "```\n",
    "2. Variability around that number\n",
    "```python\n",
    "np.var(nb_new_participants)\n",
    "```\n",
    "3. The probability of having at least X participants.\n",
    "```python\n",
    "    sum(array(nb_new_participants)> X) / len(nb_new_participants)\n",
    "```"
   ]
  },
  {
   "cell_type": "markdown",
   "metadata": {
    "slideshow": {
     "slide_type": "slide"
    }
   },
   "source": [
    "### Probability Models: Example - Cont'd\n",
    "\n",
    "* The same information is contained in the visualization of the data\n",
    "  * What does every single bar mean? \n",
    "  * How can you get an idea of the `mean`, `variance`, and probability of at least X participants?\n",
    "\n",
    "<img src=\"https://www.dropbox.com/s/1peh2gcvkrtcqba/clients_ad_campaign.png?dl=1\" style=\"width:600px;\">\n",
    "\n"
   ]
  },
  {
   "cell_type": "markdown",
   "metadata": {
    "slideshow": {
     "slide_type": "slide"
    }
   },
   "source": [
    "### Probability Distributions\n",
    "\n",
    "* At the heart of probability models are _probability_ _distributions_ and _random_ _variables_\n",
    "\n",
    "* Consider the loaded die with the following probabilities:\n",
    "```\n",
    "    p(1) = 0.3/6\n",
    "    p(2) = 0.7/6\n",
    "    p(3) =   2/6\n",
    "    p(4) = 0.5/6\n",
    "    p(5) = 0.2/6\n",
    "    p(6) = 2.3/6\n",
    "```\n",
    "\n",
    "* We could think of outcomes above as the values returned by the function that takes as input a value in `(1,2,3,4,5,6)` and returns the relavant probability from the list `[0.3/6, 0.7/6, 2/6, 0.5/6, 0.2/6, 2.3/6]`\n",
    "\n",
    "* Example:\n",
    "```python\n",
    "    def loaded_die_distribution (face):\n",
    "    try:\n",
    "        dist = {1:0.3/6, 2:0.7/6, 3:2/6, 4:0.5/6, 5:0.2/6, 6:2.3/6}\n",
    "        return dist[face]\n",
    "    except:\n",
    "        raise(\"%s is not a valid die face %d\" % face)\n",
    "```\n",
    "\n"
   ]
  },
  {
   "cell_type": "markdown",
   "metadata": {
    "slideshow": {
     "slide_type": "slide"
    }
   },
   "source": [
    "### Probability Distributions - Cont'd\n",
    "\n",
    "* Such a function is called a probability distribution\n",
    "* In essence, a probability distribution is a numerical function that assigns probabilities (y-axis in [0-1]) to events in the sample space S (x-axis)\n",
    "  * Set of sample space values as _domain_ (numerical or not) \n"
   ]
  },
  {
   "cell_type": "code",
   "execution_count": 5,
   "metadata": {
    "slideshow": {
     "slide_type": "slide"
    }
   },
   "outputs": [],
   "source": [
    "def loaded_die_distribution (face):\n",
    "    try:\n",
    "        dist = {1:0.3/6, 2:0.7/6, 3:2/6, 4:0.5/6, 5:0.2/6, 6:2.3/6}\n",
    "        return dist[face]\n",
    "    except:\n",
    "        raise(\"%s is not a valid die face %d\" % face)"
   ]
  },
  {
   "cell_type": "code",
   "execution_count": 6,
   "metadata": {
    "slideshow": {
     "slide_type": "slide"
    }
   },
   "outputs": [
    {
     "data": {
      "text/plain": [
       "Text(0, 0.5, 'probability')"
      ]
     },
     "execution_count": 6,
     "metadata": {},
     "output_type": "execute_result"
    },
    {
     "data": {
      "image/png": "[encoded data removed]",
      "text/plain": [
       "<Figure size 720x288 with 1 Axes>"
      ]
     },
     "metadata": {
      "needs_background": "light"
     },
     "output_type": "display_data"
    }
   ],
   "source": [
    "sample_space = list(range(1,7))\n",
    "p_x = [loaded_die_distribution (f) for f in sample_space]\n",
    "\n",
    "plt.figure(figsize=(10, 4))\n",
    "plt.bar(sample_space, p_x)\n",
    "\n",
    "plt.xlabel('Die face obtained')\n",
    "plt.ylabel('probability')"
   ]
  },
  {
   "cell_type": "markdown",
   "metadata": {
    "slideshow": {
     "slide_type": "slide"
    }
   },
   "source": [
    "### Sampling from the Biased Die\n",
    "\n",
    "- Given our probability distribution, we are four times more likely to draw a 3 than we are to draw a 4\n",
    "- To sample die rolls, we need to encode our probability distribution to reflect the bias in our die\n",
    "  - This can be easily done using the `choice()` function in `np.random`\n",
    "\n",
    "```python\n",
    "np.random.choice([1, 2, 3, 4, 5, 6], p=[0.3/6, 0.7/6, 2/6, 0.5/6, 0.2/6, 2.3/6])\n",
    "```"
   ]
  },
  {
   "cell_type": "code",
   "execution_count": 7,
   "metadata": {
    "slideshow": {
     "slide_type": "slide"
    }
   },
   "outputs": [
    {
     "name": "stdout",
     "output_type": "stream",
     "text": [
      "6 6 6 6 4 6 2 6 3 4 6 2 2 6 6 5 6 3 6 3 "
     ]
    }
   ],
   "source": [
    "import random\n",
    "for _ in range(20):\n",
    "    print (np.random.choice([1, 2, 3, 4, 5, 6], \n",
    "                            p=[0.3/6, 0.7/6, 2/6, 0.5/6, 0.2/6, 2.3/6]\n",
    "                           ), \n",
    "           end= ' ')\n"
   ]
  },
  {
   "cell_type": "markdown",
   "metadata": {
    "slideshow": {
     "slide_type": "slide"
    }
   },
   "source": [
    "### Random Variables\n",
    "\n",
    "* Using CS thinking, a random variable is merely a variable (a RAM space, or box for a value) that can take values that are variable (random)\n",
    "  * In probabilistic thinking, a random variable is a variable that can take any value from the sample space of the experiment as determined by the probability distribution.\n",
    "    \n",
    "  * I.e., the value assigned to the variable depends on a random process    \n",
    "  ```python\n",
    "      # randomly select a value according to a probability distribution\n",
    "      dieRollVal = np.random.choice([1, 2, 3, 4, 5, 6], p=[0.3/6, 0.7/6, 2/6, 0.5/6, 0.2/6, 2.3/6]);\n",
    "  ```\n"
   ]
  },
  {
   "cell_type": "markdown",
   "metadata": {
    "slideshow": {
     "slide_type": "slide"
    }
   },
   "source": [
    "### Random Variables- Cont'd\n",
    "\n",
    "* In a non-probabilistic program, you can trace the value contained in a variable\n",
    "\n",
    "* In a probabilistic program, you cannot since the value is determined probabilistically\n",
    "  * We don't know what that variable will contain prior to executing the code\n",
    "  * We can however reason about what the value will most likely contain\n"
   ]
  },
  {
   "cell_type": "markdown",
   "metadata": {
    "slideshow": {
     "slide_type": "slide"
    }
   },
   "source": [
    "* Take for instance the variable `roll_random_var` in the code below:\n",
    "\n",
    "```python\n",
    "import random\n",
    "for i in range(10):\n",
    "    roll_random_var = np.random.choice([1, 2, 3, 4, 5, 6], \n",
    "                                       p=[0.3/6, 0.7/6, 2/6, 0.5/6, 0.4/6, 2.1/6])\n",
    "    print (f\"roll_random_var contains the value {roll_random_var}\")\n",
    "```\n",
    "\n",
    "* The variable `roll_random_var` is a _random_ _variable_\n",
    "  * The values assigned to it are determined probabilistically using a probability distribution of the biased die\n",
    " "
   ]
  },
  {
   "cell_type": "code",
   "execution_count": 7,
   "metadata": {
    "slideshow": {
     "slide_type": "slide"
    }
   },
   "outputs": [
    {
     "name": "stdout",
     "output_type": "stream",
     "text": [
      "roll_random_var contains the value 3\n",
      "roll_random_var contains the value 3\n",
      "roll_random_var contains the value 6\n"
     ]
    }
   ],
   "source": [
    "for i in range(3):\n",
    "    roll_random_var = np.random.choice([1, 2, 3, 4, 5, 6], \n",
    "                                       p=[0.3/6, 0.7/6, 2/6, 0.5/6, 0.4/6, 2.1/6])\n",
    "    print (\"roll_random_var contains the value %s\" % roll_random_var)\n"
   ]
  },
  {
   "cell_type": "code",
   "execution_count": 44,
   "metadata": {
    "slideshow": {
     "slide_type": "slide"
    }
   },
   "outputs": [
    {
     "name": "stdout",
     "output_type": "stream",
     "text": [
      "{1: 225, 2: 599, 3: 1721, 4: 409, 5: 348, 6: 1698}\n"
     ]
    },
    {
     "data": {
      "image/png": "[encoded data removed]",
      "text/plain": [
       "<Figure size 864x288 with 1 Axes>"
      ]
     },
     "metadata": {
      "needs_background": "light"
     },
     "output_type": "display_data"
    }
   ],
   "source": [
    "from collections import Counter\n",
    "roll_random_var_list = []\n",
    "for i in range(5000):\n",
    "    roll_random_var = np.random.choice([1, 2, 3, 4, 5, 6], \n",
    "                                       p=[0.3/6, 0.7/6, 2/6, 0.5/6, 0.4/6, 2.1/6])\n",
    "    roll_random_var_list.append(roll_random_var)\n",
    "\n",
    "counts = Counter(roll_random_var_list)\n",
    "\n",
    "sorted_counts = dict(sorted(counts.items()))\n",
    "print(sorted_counts)\n",
    "plt.figure(figsize=(12,4))\n",
    "_ = plt.bar(sorted_counts.keys(), sorted_counts.values())\n"
   ]
  },
  {
   "cell_type": "markdown",
   "metadata": {
    "slideshow": {
     "slide_type": "slide"
    }
   },
   "source": [
    "### Two types of random variables\n",
    "\n",
    "  * Discrete (finite or countably infinite)\n",
    "     * Take as input finite countably finite integer values and return probabilities for those events\n",
    "     * Ex. Number of accidents on H1 on any given day, number of customers at lunchtime at Starbucks on campus, number of siblings a student at UH has, etc.\n",
    "     \n",
    "  * Continuous (uncountably infinite)\n",
    "     * Take as input uncountably infinite float value and returns a probability density\n",
    "     * Ex. Height, weight, time, etc..\n",
    "       * The sample space is infinite.\n",
    "     \n"
   ]
  },
  {
   "cell_type": "markdown",
   "metadata": {
    "slideshow": {
     "slide_type": "slide"
    }
   },
   "source": [
    "### Two Types of Random Variables \n",
    "\n",
    "\n",
    "* Discrete and continuous random variables have commonly occurring distributions\n",
    "  * These distributions are simply functions -- just like the one encoded above -- that give the \"probability\" for each element in the sample space\n",
    "\n",
    "* Perhaps two of the most popular distributions are the binomial and the normal (or Gaussian)\n",
    "\n"
   ]
  },
  {
   "cell_type": "markdown",
   "metadata": {
    "slideshow": {
     "slide_type": "slide"
    }
   },
   "source": [
    "### The Binomial Distribution (The `\"Hello World\"` Probability Distribution)\n",
    "\n",
    "* A binomial distribution is simply the probability of number of SUCCESS outcomes in an experiment that is repeated multiple times. \n",
    "  * $m$ successes in an experiment of $n$ fixed, independent trials.\n",
    "\n",
    "* Each trial has a probability of success $p$ and a probability of failure $1-p$ (heads and tails; 0 and 1; etc...) \n"
   ]
  },
  {
   "cell_type": "markdown",
   "metadata": {
    "slideshow": {
     "slide_type": "slide"
    }
   },
   "source": [
    "\n",
    "####  Examples of the Binomial Distribution\n",
    "\n",
    "- You flip a fair coin 100 times, what is the probability of observing 27 heads?\n",
    "\n",
    "- Given an ad clickthrough probability of $p=0.6$ what is the probability of having 100 clicks if we show the add 1000 times?\n",
    "\n",
    "- Given a disease prevalence of $p=0.05$, what is the probability of observing the disease in at least 100 individuals if we survey 5000 randomly selected individuals from the population? \n",
    "\n",
    "\n",
    "- What are $p$, $n$ and  $m$ in each of these experiments?"
   ]
  },
  {
   "cell_type": "markdown",
   "metadata": {
    "slideshow": {
     "slide_type": "slide"
    }
   },
   "source": [
    "### Simple Probability Distribution\n",
    "\n",
    "* Let $X$ be the random variable representing the number of heads obtained from flipping a fair coin 5 times.  \n",
    "\n",
    "* What is the sample space of this experiment? \n",
    "\n",
    "  - This amounts to computing the product of $[H,T]^5$, or $[H,T] \\times [H,T] \\times [H,T] \\times [H,T] \\times [H,T]$\n"
   ]
  },
  {
   "cell_type": "code",
   "execution_count": 15,
   "metadata": {},
   "outputs": [
    {
     "data": {
      "text/plain": [
       "[('H', 'H', 'H', 'H', 'H'),\n",
       " ('H', 'H', 'H', 'H', 'T'),\n",
       " ('H', 'H', 'H', 'T', 'H'),\n",
       " ('H', 'H', 'H', 'T', 'T'),\n",
       " ('H', 'H', 'T', 'H', 'H'),\n",
       " ('H', 'H', 'T', 'H', 'T'),\n",
       " ('H', 'H', 'T', 'T', 'H'),\n",
       " ('H', 'H', 'T', 'T', 'T'),\n",
       " ('H', 'T', 'H', 'H', 'H'),\n",
       " ('H', 'T', 'H', 'H', 'T'),\n",
       " ('H', 'T', 'H', 'T', 'H'),\n",
       " ('H', 'T', 'H', 'T', 'T'),\n",
       " ('H', 'T', 'T', 'H', 'H'),\n",
       " ('H', 'T', 'T', 'H', 'T'),\n",
       " ('H', 'T', 'T', 'T', 'H'),\n",
       " ('H', 'T', 'T', 'T', 'T'),\n",
       " ('T', 'H', 'H', 'H', 'H'),\n",
       " ('T', 'H', 'H', 'H', 'T'),\n",
       " ('T', 'H', 'H', 'T', 'H'),\n",
       " ('T', 'H', 'H', 'T', 'T'),\n",
       " ('T', 'H', 'T', 'H', 'H'),\n",
       " ('T', 'H', 'T', 'H', 'T'),\n",
       " ('T', 'H', 'T', 'T', 'H'),\n",
       " ('T', 'H', 'T', 'T', 'T'),\n",
       " ('T', 'T', 'H', 'H', 'H'),\n",
       " ('T', 'T', 'H', 'H', 'T'),\n",
       " ('T', 'T', 'H', 'T', 'H'),\n",
       " ('T', 'T', 'H', 'T', 'T'),\n",
       " ('T', 'T', 'T', 'H', 'H'),\n",
       " ('T', 'T', 'T', 'H', 'T'),\n",
       " ('T', 'T', 'T', 'T', 'H'),\n",
       " ('T', 'T', 'T', 'T', 'T')]"
      ]
     },
     "execution_count": 15,
     "metadata": {},
     "output_type": "execute_result"
    }
   ],
   "source": []
  },
  {
   "cell_type": "code",
   "execution_count": 18,
   "metadata": {
    "slideshow": {
     "slide_type": "slide"
    }
   },
   "outputs": [
    {
     "name": "stdout",
     "output_type": "stream",
     "text": [
      "Sample space is of size 32 \n",
      "The sample space is:\n",
      "\n",
      "HHHHH HHHHT HHHTH HHHTT HHTHH HHTHT HHTTH HHTTT HTHHH HTHHT HTHTH HTHTT HTTHH HTTHT HTTTH HTTTT THHHH THHHT THHTH THHTT THTHH THTHT THTTH THTTT TTHHH TTHHT TTHTH TTHTT TTTHH TTTHT TTTTH TTTTT "
     ]
    }
   ],
   "source": [
    "product  = list(itertools.product(['H', 'T'], repeat=5))\n",
    "print(\"Sample space is of size %s \" % len(product))\n",
    "print (\"The sample space is:\\n\")\n",
    "for prod in product:    \n",
    "    print(\"\".join(prod), end=\" \")\n"
   ]
  },
  {
   "cell_type": "markdown",
   "metadata": {
    "slideshow": {
     "slide_type": "slide"
    }
   },
   "source": [
    "### Manually Deriving the Probability Distribution\n",
    "\n",
    "* We are interested in the probability distribution of obtaining `X` heads in 5 coin flips\n",
    "  * _Binomial_ distribution with n=5 and $p=0.5$\n",
    "\n",
    "- Our sample space is [0, 1, 2, 3, 4, 5]\n",
    "\n",
    "- There are $2^5 = 32$ outcomes.\n",
    "\n"
   ]
  },
  {
   "cell_type": "markdown",
   "metadata": {
    "slideshow": {
     "slide_type": "slide"
    }
   },
   "source": [
    "### Manually Deriving the Probability Distribution - Cont'd\n",
    "\n",
    "  * There is 1 way of obtaining 0 heads: TTTTT <br/>\n",
    "     $p(H=0) = 1/32$\n",
    "  * There 5 ways of obtaining 1 head: HTTTT, THTTT, TTHTT, TTTHT, TTTTH.  <br/>\n",
    "     $p(H=1) = 5/32$\n",
    "  * Similarly, there are 10 ways of obtaining 2 heads: HHTTT, HTHTT, HTTHT, HTTTH, …. TTTHH <br/>\n",
    "     $p(H=2) = 10/32$\n",
    "  * ...\n",
    "\n"
   ]
  },
  {
   "cell_type": "markdown",
   "metadata": {
    "slideshow": {
     "slide_type": "slide"
    }
   },
   "source": [
    "### Manually Deriving the Probability Distribution - Cont'd\n",
    "\n",
    "* In general, the number of ways we can obtain $m$ heads from $n$ flips is given by the binomial cofficient ${n}\\choose{m}$ (read as n choose m), which is given by:\n",
    "\n",
    "$$\n",
    "{{n}\\choose{m}} = \\frac{n!}{m!(n-m)!}\n",
    "$$\n",
    "\n",
    "E.g.: the for $n=5$ and $m=2$, we have\n",
    "\n",
    "\\begin{equation} \n",
    "\\begin{split}\n",
    "{{5}\\choose{2}} & = \\frac{5!}{2!(5-2)!} \\\\\n",
    "                & = \\frac{5\\times4\\times3\\times2 \\times 1}{2 \\times 1 \\times 3 \\times 2 \\times 1} \\\\\n",
    "                & = \\frac{5 \\times 4}{2 \\times 1} \\\\\n",
    "                & = 10 \n",
    "\\end{split}\n",
    "\\end{equation}\n",
    "\n",
    "\n"
   ]
  },
  {
   "cell_type": "code",
   "execution_count": 3,
   "metadata": {
    "slideshow": {
     "slide_type": "slide"
    }
   },
   "outputs": [
    {
     "data": {
      "text/plain": [
       "<BarContainer object of 6 artists>"
      ]
     },
     "execution_count": 3,
     "metadata": {},
     "output_type": "execute_result"
    },
    {
     "data": {
      "image/png": "[encoded data removed]",
      "text/plain": [
       "<Figure size 720x288 with 1 Axes>"
      ]
     },
     "metadata": {
      "needs_background": "light"
     },
     "output_type": "display_data"
    }
   ],
   "source": [
    "sample_space = [0, 1, 2, 3, 4, 5 ]\n",
    "p_x = [1.0/32, 5.0/32, 10.0/32, 10.0/32, 5.0/32, 1.0/32]\n",
    "\n",
    "plt.figure(figsize=(10, 4))\n",
    "plt.bar(sample_space, p_x ,  color = \"#3498db\", )\n",
    "#ax.set(xlabel='number of heads in 5 coin flips', ylabel='probability')"
   ]
  },
  {
   "cell_type": "markdown",
   "metadata": {
    "slideshow": {
     "slide_type": "slide"
    }
   },
   "source": [
    "#### Binomial with Biased Coin\n",
    "\n",
    "- What if the coin is biased? Example $p(H) = 0.7$ and $p(T) = 0.3$.\n",
    "\n",
    "- What is the probability of obtaining 1 head in 5 coin flips with this biased coin?\n",
    "  "
   ]
  },
  {
   "cell_type": "markdown",
   "metadata": {
    "slideshow": {
     "slide_type": "slide"
    }
   },
   "source": [
    "#### Bernouilli Distribution\n",
    "\n",
    "\n",
    "- Recall from elementary statistics and discrete math that the Bernouilli distribution, which states that:\n",
    "\n",
    "$$\n",
    " f(k;p)=p^{k}(1-p)^{1-k}\\quad {\\text{for }}k\\in \\{0,1\\}\n",
    "$$\n",
    "\n",
    "\n",
    "* $k=1$ is head,  $1- k=0$ is tail, and $p$ is the probability of head.\n",
    "\n",
    "* Based on the Bernouilli euqaiton above, the probability of obtaining a head ($k=1$ ) is: \n",
    "$$Pr(1; p) = p^1 \\times (1-p)^0 = p$$\n",
    "\n",
    "* and the probability of obtaining a tail ($k=0$ and $1-k = 1$) is:\n",
    "\n",
    "$$Pr(0; p) = p^k \\times (1-p)^{1-k} = p^0 \\times (1-p)^1 = 1-p$$ \n",
    "\n",
    "* This matches our intuition about the probability of a coin landing head\n",
    "\n",
    "\n"
   ]
  },
  {
   "cell_type": "markdown",
   "metadata": {
    "slideshow": {
     "slide_type": "slide"
    }
   },
   "source": [
    "#### Binomial with Biased Coin - Cont'd\n",
    "\n",
    "- What if coin is biased? Example $p(H) = 0.7$ and $p(T) = 0.3$.\n",
    "\n",
    "- What is the probability of obtaining 1 head in 5 coin flips with this biased coin?\n",
    "  \n",
    "  \n",
    "$$\n",
    "p(H=1) ={{5}\\choose{1}}~~~p(H)^1 * p(T)^4   \n",
    "$$\n",
    "\n",
    "* The five possible ways to ontain a 1 head and 4 tails:HTTTT, THTTT, TTHTT, TTTHT, TTTTH\n",
    "\n",
    "$$\n",
    "p(H=1) = 5  \\times 0.7 \\times 0.3^4 = 0.02835\n",
    "$$\n"
   ]
  },
  {
   "cell_type": "markdown",
   "metadata": {
    "slideshow": {
     "slide_type": "slide"
    }
   },
   "source": [
    "\n",
    "### The Binomial Distribution - Cont'd\n",
    "\n",
    "* The equation above can be generalized to any number of trials $n$ any probability of heads $p(H)$\n",
    "\n",
    "* We will write $p(H)$ as $p$ and $p(T)$ as $(1-p)$\n",
    "  \n",
    "    $p(H=k) ={{n}\\choose{k}} p^k * (1-p)^{n-k}$\n",
    "\n",
    "* This equation is the probability function for a random variable distributed according to a binomial distribution\n",
    "\n",
    "  * Think of it as a convenient function to assign probabilities to any value in the sample space\n"
   ]
  },
  {
   "cell_type": "markdown",
   "metadata": {
    "slideshow": {
     "slide_type": "slide"
    }
   },
   "source": [
    "#### The Binomial Distribution - Cont'd\n",
    "\n",
    "- A probability distribution can be derived from first principles for many other `canonical` distributions\n",
    "\n",
    "- These functions allow us to compute probabilities for events seamlessly\n",
    "  - A by-product is that we can also derive expected values, probabilities for subspace, use them to sample from that distribution, etc...\n",
    "  "
   ]
  },
  {
   "cell_type": "markdown",
   "metadata": {
    "slideshow": {
     "slide_type": "slide"
    }
   },
   "source": [
    "#### The Binomial Distribution - Cont'd\n",
    "\n",
    "- We can easily model (reason about) a problem that fits the binomial since we have access to the distribution\n",
    "\n",
    "  * E.g., assume the probability of subscribing to a monthly plan in your app is  $p=0.05$. \n",
    "  * If, on average, 10k users download your app each month, how many (on average) subscribed users will you have after 1 year?\n",
    "  * What is the probability of having at least 3000 users\n",
    "  * You can use this simple model to derive various valuable insights about your app\n",
    "  * E.g. total revenue after one year, the number of servers you will need to support your user base, the number of customer service employees to support your clientele, etc.\n",
    "\n",
    "\n",
    "* Once we know the parameter of the distribution (e.g., here p=0.05), it's easy to answer the questions above. \n",
    "  * This may be trivial in some cases and challenging in others\n",
    "  * How did we get the $p=0.05$? How sure are we of that value? How likely is it to be $p=0.06$ instead?\n"
   ]
  },
  {
   "cell_type": "markdown",
   "metadata": {
    "slideshow": {
     "slide_type": "slide"
    }
   },
   "source": [
    "### Probability Distributions for Discrete Random Variables\n",
    "\n",
    "- A probability distribution for a discrete random variable is called probability mass function (__pmf__) \n",
    "\n",
    "  - `pmf`s take a discrete random variable $X$ and assign a probability to each value of its sample space\n",
    "\n",
    "- A probability distribution can be derived from first principles for many other canonical distributions\n",
    "\n",
    "- These functions allow us to compute probabilities for events seamlessly\n",
    "\n",
    "  - A by-product is that we can also derive expected values, probabilities for subspace, use them to sample from that distribution, etc...\n",
    "  \n",
    "\n",
    "\n"
   ]
  },
  {
   "cell_type": "markdown",
   "metadata": {
    "collapsed": true,
    "slideshow": {
     "slide_type": "slide"
    }
   },
   "source": [
    "### `pmf` in Python\n",
    "\n",
    "- Programming languages and data analysis software commonly support popular PMFs\n",
    "\n",
    "- The common graphical representation for a `pmf` is a histogram\n",
    "- The X-axis contains observed values \n",
    "- The Y-axis shows the probability for  the corresponding X-values\n"
   ]
  },
  {
   "cell_type": "code",
   "execution_count": 20,
   "metadata": {
    "slideshow": {
     "slide_type": "slide"
    }
   },
   "outputs": [
    {
     "data": {
      "text/plain": [
       "0.02834999999999999"
      ]
     },
     "execution_count": 20,
     "metadata": {},
     "output_type": "execute_result"
    }
   ],
   "source": [
    "from scipy.stats import binom\n",
    "\n",
    "n = 5 \n",
    "p = 0.7\n",
    "binom.pmf(1, n, p)\n"
   ]
  },
  {
   "cell_type": "code",
   "execution_count": 27,
   "metadata": {
    "slideshow": {
     "slide_type": "slide"
    }
   },
   "outputs": [
    {
     "data": {
      "text/plain": [
       "range(0, 5)"
      ]
     },
     "execution_count": 27,
     "metadata": {},
     "output_type": "execute_result"
    }
   ],
   "source": [
    "x"
   ]
  },
  {
   "cell_type": "code",
   "execution_count": 33,
   "metadata": {
    "slideshow": {
     "slide_type": "slide"
    }
   },
   "outputs": [
    {
     "name": "stdout",
     "output_type": "stream",
     "text": [
      "0.9999999999999999\n"
     ]
    },
    {
     "data": {
      "text/plain": [
       "Text(0, 0.5, 'Probility')"
      ]
     },
     "execution_count": 33,
     "metadata": {},
     "output_type": "execute_result"
    },
    {
     "data": {
      "image/png": "[encoded data removed]",
      "text/plain": [
       "<Figure size 1152x432 with 1 Axes>"
      ]
     },
     "metadata": {
      "needs_background": "light"
     },
     "output_type": "display_data"
    }
   ],
   "source": [
    "x = range(n+1)\n",
    "p_x =  [binom.pmf(val, n, p) for val in x]\n",
    "\n",
    "\n",
    "print(sum(p_x))\n",
    "plt.figure(figsize=(16,6))\n",
    "\n",
    "plt.bar(x, p_x)\n",
    "plt.xlabel(\"Nb Successes\")\n",
    "plt.ylabel(\"Probility\")\n"
   ]
  },
  {
   "cell_type": "markdown",
   "metadata": {
    "slideshow": {
     "slide_type": "slide"
    }
   },
   "source": [
    "### Example\n",
    "- Given a biased coin with that comes up heads with a probability ($p=0.4$) \n",
    "- If you flip the coin $100$ times, what is the probability of observing 42 heads?"
   ]
  },
  {
   "cell_type": "code",
   "execution_count": 22,
   "metadata": {
    "slideshow": {
     "slide_type": "slide"
    }
   },
   "outputs": [
    {
     "name": "stdout",
     "output_type": "stream",
     "text": [
      "0.0742071940343827\n"
     ]
    }
   ],
   "source": [
    "from scipy.stats import binom\n",
    "n = 100 \n",
    "p = 0.4\n",
    "print(binom.pmf(42, n, p))"
   ]
  },
  {
   "cell_type": "code",
   "execution_count": 41,
   "metadata": {
    "scrolled": true,
    "slideshow": {
     "slide_type": "slide"
    }
   },
   "outputs": [
    {
     "data": {
      "image/png": "[encoded data removed]",
      "text/plain": [
       "<Figure size 1152x360 with 1 Axes>"
      ]
     },
     "metadata": {
      "needs_background": "light"
     },
     "output_type": "display_data"
    }
   ],
   "source": [
    "n = 100 \n",
    "p = 0.4\n",
    "\n",
    "x = range(n) # our x-axis\n",
    "\n",
    "p_x =  [binom.pmf(val, n, p) for val in x]  # our y-axis\n",
    "\n",
    "plt.figure(figsize=(16, 5))\n",
    "\n",
    "plt.bar(x, p_x , color =\"#3498db\", alpha=0.4)\n",
    "\n",
    "# Add the horizontal and vertical bars\n",
    "x_val = 42\n",
    "y_val = binom.pmf(42, n, p)\n",
    "\n",
    "# print(y_val)\n",
    "\n",
    "plt.axvline(x_val, color = 'r', alpha=0.4)\n",
    "\n",
    "plt.axhline(y_val, color = 'r', alpha=0.4)\n",
    "\n",
    "\n",
    "\n",
    "plt.xlabel('number of heads in 5 coin flips')\n",
    "_ = plt.ylabel('probability')"
   ]
  },
  {
   "cell_type": "markdown",
   "metadata": {
    "slideshow": {
     "slide_type": "slide"
    }
   },
   "source": [
    "### Summary: `X`, `n`, `p` and the `pmf` \n",
    "- The number of observed successes is said to be a random variable $X$,  distributed as a binomial distribution. \n",
    "\n",
    "- We write the above statment as: \n",
    "$$ \n",
    "X \\sim Binomial(n,p)\n",
    "$$\n",
    "\n",
    "- This simply means that: \n",
    "\n",
    "  - The random variable $X$ takes on values in the sample space describes as a binomial distribution\n",
    "    - The sample space here is countably finite and range from $0$ to $n$\n",
    "  - The parameters of the binomial probability distributions are $n$, $p$"
   ]
  },
  {
   "cell_type": "markdown",
   "metadata": {
    "slideshow": {
     "slide_type": "slide"
    }
   },
   "source": [
    "### Comparing Distributions\n",
    "\n",
    "* Binomial distributions parameterized with different values of $n$ and $p$ will produce different `pmf`s\n",
    "\n",
    "![](https://www.dropbox.com/s/si1fb0lx9vse028/two-distributions.png?dl=1)\n",
    "\n",
    "* Therefore, it is important to describe a PMF's parameters when describing it\n",
    "  * Modifying these parameters results in a different probability distribution"
   ]
  },
  {
   "cell_type": "code",
   "execution_count": 31,
   "metadata": {
    "slideshow": {
     "slide_type": "skip"
    }
   },
   "outputs": [
    {
     "data": {
      "text/plain": [
       "Text(0, 0.5, 'Probability')"
      ]
     },
     "execution_count": 31,
     "metadata": {},
     "output_type": "execute_result"
    },
    {
     "data": {
      "image/png": "[encoded data removed]",
      "text/plain": [
       "<Figure size 1152x360 with 1 Axes>"
      ]
     },
     "metadata": {
      "needs_background": "light"
     },
     "output_type": "display_data"
    }
   ],
   "source": [
    "n = 100 \n",
    "p = 0.4\n",
    "x = range(n) # our x-axis\n",
    "p_x =  [binom.pmf(val, n, p) for val in x]  # our y-axis\n",
    "plt.figure(figsize=(16, 5))\n",
    "plt.bar(x, p_x , color =\"#3498db\", alpha=0.4, label=\"$p=0.4$\")\n",
    "p = 0.7\n",
    "p_x =  [binom.pmf(val, n, p) for val in x]  # our y-axis\n",
    "plt.bar(x, p_x , color =\"#e6b8af\", alpha=0.4, label=\"$p=0.7$\")\n",
    "plt.legend()\n",
    "plt.xlabel(\"Nb successes in 100 trials\")\n",
    "plt.ylabel(\"Probability\")"
   ]
  }
 ],
 "metadata": {
  "celltoolbar": "Slideshow",
  "kernelspec": {
   "display_name": "Python 3 (ipykernel)",
   "language": "python",
   "name": "python3"
  },
  "language_info": {
   "codemirror_mode": {
    "name": "ipython",
    "version": 3
   },
   "file_extension": ".py",
   "mimetype": "text/x-python",
   "name": "python",
   "nbconvert_exporter": "python",
   "pygments_lexer": "ipython3",
   "version": "3.8.11"
  }
 },
 "nbformat": 4,
 "nbformat_minor": 2
}

{
 "cells": [
  {
   "cell_type": "code",
   "execution_count": 5,
   "metadata": {
    "slideshow": {
     "slide_type": "slide"
    }
   },
   "outputs": [],
   "source": [
    "from IPython.display import Image\n",
    "import matplotlib.pyplot as plt\n",
    "import numpy as np\n",
    "from scipy.stats import norm\n",
    "import scipy\n"
   ]
  },
  {
   "cell_type": "markdown",
   "metadata": {
    "slideshow": {
     "slide_type": "slide"
    }
   },
   "source": [
    "### The Normal Distribution\n",
    "\n",
    "\n",
    "* The `normal` or `Gaussian` distribution is a continuous probability distribution.\n",
    "  \n",
    "\n",
    "* Numerous real-world phenomena can be modeled, or approximated using normal distributions.\n",
    "* Some examples:\n",
    "  * The heights of males in a population\n",
    "  * Errors in an instrument\n",
    "  * Duration of cab rides\n",
    "    \n",
    "* Many statistical tests assume that your data is distributed according to a normal distribution\n",
    "  * More on this later"
   ]
  },
  {
   "cell_type": "markdown",
   "metadata": {
    "slideshow": {
     "slide_type": "slide"
    }
   },
   "source": [
    "### Properties of the Normal Distribution\n",
    "\n",
    "* The normal distribution is a continuous distribution\n",
    "  * Typically graphically represented as a continuous curve, \n",
    "    * As opposed to the discrete distribution, the continuous can usually take any values either in a closed or open range\n",
    "  * The probability space is uncountably infinite\n",
    "\n",
    "* The Gaussian is bell-shaped\n",
    "  * Symmetric with a mode in middle\n",
    "\n",
    "<img src=\"https://www.dropbox.com/s/wgdlinzdq2mao8e/gaussian.png?dl=1\" width=\"400\" height=\"100\">\n"
   ]
  },
  {
   "cell_type": "markdown",
   "metadata": {
    "slideshow": {
     "slide_type": "slide"
    }
   },
   "source": [
    "### Properties of the Normal Distribution - Cont'd\n",
    "\n",
    "- The `parameters` for a normal distribution are the location of its center (mean) and spread (standard deviation)\n",
    "  - $\\mu$ is the mean; it governs where the middle of the distribution lies on the $x$-axis\n",
    "  - $\\sigma$ is the standard deviation; determines how wide the bell is and can also be referred to as the scale\n",
    "\n",
    "- To describe that a random variable is distributed according to a normal with parameters $\\mu$ and $\\sigma$, we write:\n",
    "\n",
    "$$\n",
    "X \\sim \\mathcal{N} (\\mu,\\sigma)\n",
    "$$\n",
    "\n",
    "As with the binomial, two gussian distributions with different parameters tell different stories:\n",
    "\n",
    "$$\n",
    "X \\sim (\\mu = 0, \\sigma = 1) \\ne Y \\sim (\\mu = 1, \\sigma = 1) \\ne Z \\sim (\\mu = 2, \\sigma = 2) \\ne\n",
    "$$\n",
    "\n"
   ]
  },
  {
   "cell_type": "code",
   "execution_count": 3,
   "metadata": {
    "slideshow": {
     "slide_type": "slide"
    }
   },
   "outputs": [
    {
     "data": {
      "text/plain": [
       "<matplotlib.legend.Legend at 0x1196ccd90>"
      ]
     },
     "execution_count": 3,
     "metadata": {},
     "output_type": "execute_result"
    },
    {
     "data": {
      "image/png": "[encoded data removed]",
      "text/plain": [
       "<Figure size 864x288 with 1 Axes>"
      ]
     },
     "metadata": {
      "needs_background": "light"
     },
     "output_type": "display_data"
    }
   ],
   "source": [
    "\n",
    "plt.figure(figsize=(12, 4))\n",
    "\n",
    "x = np.arange(-3.5, 3.5, 0.05)\n",
    "p_x = [norm.pdf(val, 0, 1) for val in x]\n",
    "plt.plot(x, p_x, label=\"$\\mu = 0 $ and $\\sigma = 1$\")\n",
    "\n",
    "x = np.arange(-13, 17, 0.05)\n",
    "p_x = [norm.pdf(val, 2, 5) for val in x]\n",
    "plt.plot(x, p_x, label=\"$\\mu = 2 $ and $\\sigma = 5$\", color='r')\n",
    "plt.legend()\n"
   ]
  },
  {
   "cell_type": "markdown",
   "metadata": {
    "slideshow": {
     "slide_type": "slide"
    }
   },
   "source": [
    "<img src=\"https://www.dropbox.com/s/d43dl3j27ofz12x/mean_var_diffs.png?dl=1\" width=\"400\" height=\"100\">\n"
   ]
  },
  {
   "cell_type": "markdown",
   "metadata": {
    "slideshow": {
     "slide_type": "slide"
    }
   },
   "source": [
    "### The Spread and Probability\n",
    "\n",
    "- For the blue curve ($\\mu = 0$ and $ \\sigma = 1$), the range of values with high probabilities is small\n",
    "  \n",
    "  \n",
    "- For the red curve ($\\mu = 2$ and $\\sigma = 5$), the range of values with low probabilities is larger than that of the blue curve ($\\mu = 0$ and $\\sigma = 0.2$)\n",
    "\n",
    "\n",
    "- Think of this in terms of the probability distribution of the biased die form the binomial example.\n",
    "  - If you were to draw a random value -- just like when we were sampling from the die -- what do you think the values obtained from the red distribution would look like?\n"
   ]
  },
  {
   "cell_type": "markdown",
   "metadata": {
    "slideshow": {
     "slide_type": "slide"
    }
   },
   "source": [
    "### Properties of the Normal Distribution\n",
    "\n",
    "- The probability density function for a random variable $X \\sim \\mathcal{N} (\\mu,\\sigma)$ is:\n",
    "\n",
    "\n",
    "$$ \n",
    "    p(x) = \\frac{1}{\\sqrt{2\\pi\\sigma^2}} e^{\\frac{(x-u)^2}{2\\sigma^2}}\n",
    "$$\n",
    "\n",
    "\n",
    "- Since the sample space is uncountably infinite, the probability of each event is 0\n",
    "- Therefore, instead of computing the `pmf`, continuous random variables compute the `pdf`\n"
   ]
  },
  {
   "cell_type": "markdown",
   "metadata": {
    "slideshow": {
     "slide_type": "slide"
    }
   },
   "source": [
    "### `pdf` versus `pmf`\n",
    "\n",
    "- A `pdf` is conceptually similar to a `pmf`, but instead of giving you a probability, it tells you the density around a particular point. \n",
    "  - You can think of it as mass (as in `pmf`) normalized by a small area  \n",
    "    - ex. in the  $x \\sim \\mathcal{N}(0, 1)$ probability density around $0$ is much higher than the density around $-2.5$\n",
    "- Since $X$ is continuous, the `pdf` is also continuous\n",
    "- The total area under the `pdf` curve sums to 1\n"
   ]
  },
  {
   "cell_type": "markdown",
   "metadata": {
    "collapsed": true,
    "slideshow": {
     "slide_type": "slide"
    }
   },
   "source": [
    "#### Data in the distribution - 1 $\\sigma$\n",
    "\n",
    "- In the normal distribution, the area with the highest density lies close to the mean\n",
    "  - Thu, when we sample from a normal, the bulk of the observations generated from a normal distribution lie near the mean\n",
    "  \n",
    "  <img src=\"https://www.dropbox.com/s/30b7wtt7f13ybiz/dist_1_std.png?dl=1\" width=\"500\" height=\"300\">\n",
    "  \n",
    "  \n"
   ]
  },
  {
   "cell_type": "markdown",
   "metadata": {
    "slideshow": {
     "slide_type": "slide"
    }
   },
   "source": [
    "#### Data in the distribution - 2 $\\sigma$\n",
    "\n",
    "<img src=\"https://www.dropbox.com/s/vh3l8jo1iq1bhj4/dist_2_std.png?dl=1\" width=\"500\" height=\"400\">\n"
   ]
  },
  {
   "cell_type": "markdown",
   "metadata": {
    "slideshow": {
     "slide_type": "slide"
    }
   },
   "source": [
    "#### Data in the distribution - 3 $\\sigma$\n",
    "\n",
    "<img src=\"https://www.dropbox.com/s/7oif01yvcxl4ygq/dist_3_std.png?dl=1\" width=\"500\" height=\"400\">\n"
   ]
  },
  {
   "cell_type": "code",
   "execution_count": 9,
   "metadata": {
    "slideshow": {
     "slide_type": "slide"
    }
   },
   "outputs": [],
   "source": [
    "# We manually implement the CDF\n",
    "def computePDF_normal (x, mu, sigma):\n",
    "    return 1.0/(sigma * np.sqrt(2 * np.pi)) * np.exp( - (x - mu)**2.0 / (2 * sigma**2))\n"
   ]
  },
  {
   "cell_type": "code",
   "execution_count": 68,
   "metadata": {
    "slideshow": {
     "slide_type": "skip"
    }
   },
   "outputs": [
    {
     "data": {
      "text/plain": [
       "Text(6.8, 0.03, '1%')"
      ]
     },
     "execution_count": 68,
     "metadata": {},
     "output_type": "execute_result"
    },
    {
     "data": {
      "image/png": "[encoded data removed]",
      "text/plain": [
       "<Figure size 1080x1080 with 3 Axes>"
      ]
     },
     "metadata": {
      "needs_background": "light"
     },
     "output_type": "display_data"
    }
   ],
   "source": [
    "\n",
    "# We manually implement the CDF\n",
    "def computePDF_normal (x, mu, sigma):\n",
    "    return 1.0/(sigma * np.sqrt(2 * np.pi)) * np.exp( - (x - mu)**2.0 / (2 * sigma**2))\n",
    "    \n",
    "\n",
    "f, (ax1, ax2, ax3) = plt.subplots(3)\n",
    "f.set_figheight(15)\n",
    "f.set_figwidth(15)\n",
    "x_values = np.array(np.arange(-6.5,2,0.01))\n",
    "ax1.fill_between(x=x_values, \n",
    "                 y1=computePDF_normal(x_values, 0, 2) ,\n",
    "                 facecolor=\"blue\",\n",
    "                 alpha=0.35)\n",
    "\n",
    "x_values = np.arange(2,6.5,0.01)\n",
    "ax1.fill_between(x=x_values, \n",
    "                 y1= computePDF_normal(x_values, 0, 2),\n",
    "                 facecolor=\"blue\",\n",
    "                 alpha=0.35)\n",
    "x_values = np.arange(-2,2,0.01)\n",
    "ax1.fill_between(x=x_values, \n",
    "                 y1= computePDF_normal(x_values, 0, 2),\n",
    "                 facecolor='red',\n",
    "                 alpha=0.35)\n",
    "ax1.text(x=-2.8, y=0.03, s= \"13%\")\n",
    "ax1.text(x=-0.1, y=0.1, s= \"68%\")\n",
    "ax1.text(x=2.8, y=0.03, s=\"13%\")\n",
    "\n",
    "\n",
    "\n",
    "\n",
    "\n",
    "x_values = np.array(np.arange(-6.5,4,0.01))\n",
    "#print computePDF(x_values, 0, 0.1)\n",
    "ax2.fill_between(x=x_values, \n",
    "                 y1=computePDF_normal(x_values, 0, 2) ,\n",
    "                 facecolor=\"blue\",\n",
    "                 alpha=0.35)\n",
    "\n",
    "x_values = np.arange(4,6.5,0.01)\n",
    "ax2.fill_between(x=x_values, \n",
    "                 y1= computePDF_normal(x_values, 0, 2),\n",
    "                 facecolor=\"blue\",\n",
    "                 alpha=0.35)\n",
    "x_values = np.arange(-4,4,0.01)\n",
    "ax2.fill_between(x=x_values, \n",
    "                 y1= computePDF_normal(x_values, 0, 2),\n",
    "                 facecolor='red',\n",
    "                 alpha=0.35)\n",
    "\n",
    "ax2.text(x=-4.8, y=0.03, s= \"2.5%\")\n",
    "ax2.text(x=-0.1, y=0.1, s= \"95%\")\n",
    "ax2.text(x=4.8, y=0.03, s=\"2.5%\")\n",
    "\n",
    "\n",
    "x_values = np.array(np.arange(-6.5,6,0.01))\n",
    "ax3.fill_between(x=x_values, \n",
    "                 y1=computePDF_normal(x_values, 0, 2) ,\n",
    "                 facecolor=\"blue\",\n",
    "                 alpha=0.35)\n",
    "\n",
    "x_values = np.arange(6,6.5,0.01)\n",
    "ax3.fill_between(x=x_values, \n",
    "                 y1= computePDF_normal(x_values, 0, 2),\n",
    "                 facecolor=\"blue\",\n",
    "                 alpha=0.35)\n",
    "x_values = np.arange(-6,6,0.01)\n",
    "ax3.fill_between(x=x_values, \n",
    "                 y1= computePDF_normal(x_values, 0, 2),\n",
    "                 facecolor='red',\n",
    "                 alpha=0.35)\n",
    "ax3.text(x=-6.8, y=0.03, s= \"1%\")\n",
    "ax3.text(x=-0.1, y=0.1, s= \"99%\")\n",
    "ax3.text(x=6.8, y=0.03, s=\"1%\")"
   ]
  },
  {
   "cell_type": "markdown",
   "metadata": {
    "slideshow": {
     "slide_type": "slide"
    }
   },
   "source": [
    "### Computing the `pdf` in Python\n",
    "\n",
    "* We can easily compute the `pdf` in python using `scipy`\n",
    "```python\n",
    "import scipy.stats\n",
    "norm_0_1 = scipy.stats.norm(0, 1)\n",
    "print(norm_0_1.pdf(2))\n",
    "```\n",
    "\n",
    "* `pdf` can also take a range of values\n",
    "\n",
    "```python\n",
    "print(norm_0_1.pdf([-2, -1, 0, 1, 2]))\n",
    "```\n",
    "\n",
    "* `scipy.stats.norm` creates a frozen distribution\n",
    "  * This can be thought of a constructor in OO programming\n",
    "  * Can also invoke pdf using static methods `scipy.stats.norm.pdf(0, loc=0, scale=1)`\n",
    "\n",
    "* Which of the pdf values is larger and why?\n",
    " * Which of the `pdf`s is largest `pdf(-2)` or `pdf(2)`?"
   ]
  },
  {
   "cell_type": "code",
   "execution_count": 27,
   "metadata": {},
   "outputs": [
    {
     "data": {
      "text/plain": [
       "array([-0.34413928, -0.34920342,  0.27434602,  0.43358596,  0.67840829,\n",
       "       -0.99539281, -0.45472811, -0.53536293, -0.87718245,  0.8784799 ])"
      ]
     },
     "execution_count": 27,
     "metadata": {},
     "output_type": "execute_result"
    }
   ],
   "source": [
    "norm_0_1.rvs(10)"
   ]
  },
  {
   "cell_type": "code",
   "execution_count": 32,
   "metadata": {
    "slideshow": {
     "slide_type": "slide"
    }
   },
   "outputs": [
    {
     "name": "stdout",
     "output_type": "stream",
     "text": [
      "[-1.06947102  0.91489101 -0.4562846 ]\n",
      "2.1188192535093538e-27\n",
      "[2.11881925e-27 5.39909665e-02]\n"
     ]
    }
   ],
   "source": [
    "import scipy.stats\n",
    "norm_0_1 = scipy.stats.norm(0, 1)\n",
    "print(norm_0_1.rvs(3)) # return 3 random variates form Normal with mean 0 and std. dev = 1\n",
    "print(norm_0_1.pdf(11)) # compute the pdf of 11 according to a Normal with mean 0 and std. dev = 1\n",
    "print(norm_0_1.pdf([11, 2])) # compute the pdf of 2 according to a Normal with mean 0 and std. dev = 1"
   ]
  },
  {
   "cell_type": "code",
   "execution_count": null,
   "metadata": {},
   "outputs": [],
   "source": [
    "scipy.stats.norm.rvs"
   ]
  },
  {
   "cell_type": "code",
   "execution_count": 37,
   "metadata": {},
   "outputs": [],
   "source": [
    "scipy.stats.norm.rvs?"
   ]
  },
  {
   "cell_type": "code",
   "execution_count": 39,
   "metadata": {
    "slideshow": {
     "slide_type": "slide"
    }
   },
   "outputs": [
    {
     "name": "stdout",
     "output_type": "stream",
     "text": [
      "[-0.78041038 -1.65581719  0.76123795]\n",
      "2.1188192535093538e-27\n",
      "[2.11881925e-27 5.39909665e-02]\n"
     ]
    }
   ],
   "source": [
    "print(scipy.stats.norm.rvs(loc=0, scale=1, size=3))\n",
    "print(scipy.stats.norm.pdf(11, loc=0, scale=1))\n",
    "print(scipy.stats.norm.pdf([11,2], loc=0, scale=1))"
   ]
  },
  {
   "cell_type": "code",
   "execution_count": 3,
   "metadata": {
    "slideshow": {
     "slide_type": "slide"
    }
   },
   "outputs": [
    {
     "name": "stdout",
     "output_type": "stream",
     "text": [
      "[0.05399097 0.24197072 0.39894228 0.24197072 0.05399097]\n"
     ]
    }
   ],
   "source": [
    "print(norm_0_1.pdf([-2, -1, 0, 1, 2]))"
   ]
  },
  {
   "cell_type": "markdown",
   "metadata": {
    "slideshow": {
     "slide_type": "slide"
    }
   },
   "source": [
    "### The Sum of PDF > 1\n",
    "\n",
    "```python \n",
    ">>> print(sum(norm_0_1.pdf([-2, -1, -0.5, 0, 0.5, 1, 2])))\n",
    "\n",
    "1.6949963159946946\n",
    "```\n",
    "\n",
    "* Why is the sum of the pdfs for the small subsample of the sample space greater than 1?"
   ]
  },
  {
   "cell_type": "code",
   "execution_count": 13,
   "metadata": {
    "slideshow": {
     "slide_type": "slide"
    }
   },
   "outputs": [
    {
     "name": "stdout",
     "output_type": "stream",
     "text": [
      "2.1188192535093538e-27\n",
      "2.1188192535093538e-27\n",
      "*************************\n",
      "[0.05399097 0.24197072 0.39894228 0.24197072 0.05399097]\n",
      "[0.05399097, 0.24197072, 0.39894228, 0.24197072, 0.05399097]\n"
     ]
    }
   ],
   "source": [
    "print(norm_0_1.pdf(11))\n",
    "print(computePDF_normal(11, 0, 1))\n",
    "\n",
    "\n",
    "print(\"*\" * 25)\n",
    "print(norm_0_1.pdf([-2, -1, 0, 1, 2]))\n",
    "print([float(format(computePDF_normal(x, 0, 1), \".8f\")) for x in [-2, -1, 0, 1, 2]])\n"
   ]
  },
  {
   "cell_type": "markdown",
   "metadata": {
    "slideshow": {
     "slide_type": "slide"
    }
   },
   "source": [
    "### Plotting the `pdf`\n",
    "\n",
    "* We cannot compute the `pdf` for all the possible values\n",
    "  * Infinite number of values\n",
    "  \n",
    "* We can compute it for a sufficiently large number of values such that the plot looks continuous and smooth.\n",
    "\n",
    "* we can use `np.arange` to generate values in a range with a specific step value\n",
    "\n",
    "```python\n",
    "np.arange(start, stop, step)\n",
    "```\n",
    "  * As with Python ranges, stop is not included in the range\n"
   ]
  },
  {
   "cell_type": "code",
   "execution_count": 14,
   "metadata": {
    "slideshow": {
     "slide_type": "slide"
    }
   },
   "outputs": [
    {
     "data": {
      "text/plain": [
       "array([-2. , -1.5, -1. , -0.5,  0. ,  0.5,  1. ,  1.5])"
      ]
     },
     "execution_count": 14,
     "metadata": {},
     "output_type": "execute_result"
    }
   ],
   "source": [
    "np.arange(-2, 2, 0.5)"
   ]
  },
  {
   "cell_type": "code",
   "execution_count": 15,
   "metadata": {
    "slideshow": {
     "slide_type": "slide"
    }
   },
   "outputs": [
    {
     "data": {
      "text/plain": [
       "[<matplotlib.lines.Line2D at 0x127fe5400>]"
      ]
     },
     "execution_count": 15,
     "metadata": {},
     "output_type": "execute_result"
    },
    {
     "data": {
      "image/png": "[encoded data removed]",
      "text/plain": [
       "<Figure size 720x288 with 1 Axes>"
      ]
     },
     "metadata": {
      "needs_background": "light"
     },
     "output_type": "display_data"
    }
   ],
   "source": [
    "plt.figure(figsize=(10,4))\n",
    "\n",
    "norm_0_1 = scipy.stats.norm(0, 1)\n",
    "x_axis = np.arange(-2, 2.5, 0.5)\n",
    "y_axis = norm_0_1.pdf(x_axis)\n",
    "plt.plot(x_axis, y_axis)\n"
   ]
  },
  {
   "cell_type": "code",
   "execution_count": 23,
   "metadata": {
    "slideshow": {
     "slide_type": "slide"
    }
   },
   "outputs": [
    {
     "data": {
      "text/plain": [
       "[<matplotlib.lines.Line2D at 0x1305e8f40>]"
      ]
     },
     "execution_count": 23,
     "metadata": {},
     "output_type": "execute_result"
    },
    {
     "data": {
      "image/png": "[encoded data removed]",
      "text/plain": [
       "<Figure size 720x288 with 1 Axes>"
      ]
     },
     "metadata": {
      "needs_background": "light"
     },
     "output_type": "display_data"
    }
   ],
   "source": [
    "plt.figure(figsize=(10,4))\n",
    "\n",
    "norm_0_1 = scipy.stats.norm(0, 1)\n",
    "x_axis = np.arange(-4, 4.05, 0.05)\n",
    "y_axis = norm_0_1.pdf(x_axis)\n",
    "\n",
    "plt.plot(x_axis, y_axis)\n"
   ]
  },
  {
   "cell_type": "markdown",
   "metadata": {
    "slideshow": {
     "slide_type": "slide"
    }
   },
   "source": [
    "### Illustrating Density\n",
    "\n",
    "* To illustrate the idea that dense regions contribute more random samples, we sample $1000$ values from a standard normal distribution $\\mathcal{N}(\\mu=0, \\sigma=1)$\n",
    "\n",
    "* We will plot the values as a histogram\n",
    "  * We bin the values into 20 bins and plot them as a histogram\n",
    "  * Counts for each bin are shown on the $y-$axis"
   ]
  },
  {
   "cell_type": "code",
   "execution_count": 26,
   "metadata": {
    "slideshow": {
     "slide_type": "slide"
    }
   },
   "outputs": [
    {
     "data": {
      "text/plain": [
       "array([ 0.62002045, -3.6654824 , -1.21798399, -2.60499913,  1.77670804,\n",
       "        0.41631649, -2.81801219,  3.74434068,  0.68670599, -0.72788997])"
      ]
     },
     "execution_count": 26,
     "metadata": {},
     "output_type": "execute_result"
    }
   ],
   "source": [
    "# Ex. sampling 10 values from Gaussian with mean 0 and standard deviation 2\n",
    "np.random.seed(225)\n",
    "gaussianSamples = np.random.normal(0, 2, 10)\n",
    "gaussianSamples\n"
   ]
  },
  {
   "cell_type": "code",
   "execution_count": 8,
   "metadata": {
    "slideshow": {
     "slide_type": "slide"
    }
   },
   "outputs": [
    {
     "data": {
      "text/plain": [
       "array([ 0.62002045, -3.6654824 , -1.21798399, -2.60499913,  1.77670804,\n",
       "        0.41631649, -2.81801219,  3.74434068,  0.68670599, -0.72788997])"
      ]
     },
     "execution_count": 8,
     "metadata": {},
     "output_type": "execute_result"
    }
   ],
   "source": [
    "np.random.seed(225)\n",
    "gaussianSamples = np.random.normal(0, 2, 1000)\n",
    "gaussianSamples[0:10]\n"
   ]
  },
  {
   "cell_type": "code",
   "execution_count": 9,
   "metadata": {
    "slideshow": {
     "slide_type": "slide"
    }
   },
   "outputs": [
    {
     "data": {
      "image/png": "[encoded data removed]",
      "text/plain": [
       "<Figure size 720x288 with 1 Axes>"
      ]
     },
     "metadata": {
      "needs_background": "light"
     },
     "output_type": "display_data"
    }
   ],
   "source": [
    "# plot the counts, rathe than the density\n",
    "plt.figure(figsize=(10, 4))\n",
    "_ = plt.hist(gaussianSamples, bins = 20, edgecolor=\"k\", linewidth=2, alpha=0.4)"
   ]
  },
  {
   "cell_type": "code",
   "execution_count": 10,
   "metadata": {
    "slideshow": {
     "slide_type": "slide"
    }
   },
   "outputs": [
    {
     "data": {
      "image/png": "[encoded data removed]",
      "text/plain": [
       "<Figure size 720x288 with 1 Axes>"
      ]
     },
     "metadata": {
      "needs_background": "light"
     },
     "output_type": "display_data"
    }
   ],
   "source": [
    "# plots the density rather than the counts\n",
    "plt.figure(figsize=(10, 4))\n",
    "_ = plt.hist(gaussianSamples, bins = 20, edgecolor=\"k\", linewidth=2, alpha=0.4, density=True)"
   ]
  },
  {
   "cell_type": "markdown",
   "metadata": {
    "collapsed": true,
    "slideshow": {
     "slide_type": "slide"
    }
   },
   "source": [
    "### Comparing the Density Curve and the Histogram\n",
    "\n",
    "- We plot the pdf over the histogram to see if it matches the sequence data\n",
    "- Should the histogram match the density curve exactly?"
   ]
  },
  {
   "cell_type": "code",
   "execution_count": 13,
   "metadata": {
    "slideshow": {
     "slide_type": "slide"
    }
   },
   "outputs": [
    {
     "data": {
      "image/png": "[encoded data removed]",
      "text/plain": [
       "<Figure size 576x288 with 1 Axes>"
      ]
     },
     "metadata": {
      "needs_background": "light"
     },
     "output_type": "display_data"
    }
   ],
   "source": [
    "\n",
    "plt.figure(figsize=(8, 4))\n",
    "\n",
    "normal_0_2 = scipy.stats.norm(0, 2)\n",
    "x_axis = np.linspace(-8, 8, 100)\n",
    "y_axis = normal_0_2.pdf(x_axis)\n",
    "\n",
    "plt.plot(x_axis, y_axis, color=\"k\")\n",
    "\n",
    "# Note that the param density=True is necessary here\n",
    "_ = plt.hist(gaussianSamples, bins = 20, edgecolor=\"k\", color='#80d4ff', linewidth=2, alpha=0.2, density=True)\n",
    "\n"
   ]
  },
  {
   "cell_type": "code",
   "execution_count": 42,
   "metadata": {
    "slideshow": {
     "slide_type": "slide"
    }
   },
   "outputs": [
    {
     "data": {
      "text/plain": [
       "0.19947114020071635"
      ]
     },
     "execution_count": 42,
     "metadata": {},
     "output_type": "execute_result"
    }
   ],
   "source": [
    "from scipy.stats import norm\n",
    "# we don't need to create the `frozen` distribution beforehand\n",
    "norm.pdf(0, loc=0, scale=2) # equivalent to norm.pdf(0, 0, 2)\n"
   ]
  },
  {
   "cell_type": "code",
   "execution_count": 44,
   "metadata": {
    "slideshow": {
     "slide_type": "slide"
    }
   },
   "outputs": [
    {
     "name": "stdout",
     "output_type": "stream",
     "text": [
      "For mu=0 and sigma=2:\n",
      "\tThe probability density of x= -2 is 0.12098536225957168\n",
      "\tThe probability density of x= -1 is 0.17603266338214976\n",
      "\tThe probability density of x= -0.5 is 0.19333405840142465\n",
      "\tThe probability density of x= -0.2 is 0.1984762737385059\n",
      "\tThe probability density of x= 0 is 0.19947114020071635\n",
      "\tThe probability density of x= 1 is 0.17603266338214976\n",
      "\tThe probability density of x= 0 is 0.19947114020071635\n",
      "\tThe probability density of x= 0.1 is 0.19922195704738202\n",
      "\tThe probability density of x= 0.2 is 0.1984762737385059\n",
      "\tThe probability density of x= 0.5 is 0.19333405840142465\n",
      "\tThe probability density of x= 1 is 0.17603266338214976\n",
      "\tThe probability density of x= 2 is 0.12098536225957168\n"
     ]
    }
   ],
   "source": [
    "some_vals = [-2, -1, -0.5, -0.2, -0,1, 0, 0.1, 0.2, 0.5, 1, 2 ]\n",
    "\n",
    "mu = 0\n",
    "sigma = 2\n",
    "\n",
    "print(f\"For mu={mu} and sigma={sigma}:\")\n",
    "\n",
    "\n",
    "for val in some_vals:\n",
    "    print(f\"\\tThe probability density of x= {val} is {norm.pdf(val, 0, 2)}\")\n"
   ]
  },
  {
   "cell_type": "code",
   "execution_count": 74,
   "metadata": {
    "slideshow": {
     "slide_type": "slide"
    }
   },
   "outputs": [
    {
     "name": "stdout",
     "output_type": "stream",
     "text": [
      "The sum of the probility densities computed above is: \t2.1518536163942685\n"
     ]
    }
   ],
   "source": [
    "print(\"The sum of the probility densities computed above is: \", end=\"\\t\")\n",
    "print(sum([norm.pdf(x, 0, 2) for x in some_vals]))"
   ]
  },
  {
   "cell_type": "markdown",
   "metadata": {
    "collapsed": true,
    "slideshow": {
     "slide_type": "slide"
    }
   },
   "source": [
    "### The sum of `pdf`s\n",
    "\n",
    "- Why is the sum here greater than 0? Aren't the probabilities of the elements in the sample space supposed to sum to 1?\n",
    "\n",
    "- Remember that the probability at a single point is 0\n",
    "  * The sample space is infinite\n",
    "  \n",
    "- Therefore, `pdf` computes the probability of small interval. (ex. $x-0.01 < x <  x+0.01$)\n",
    "\n",
    "\n",
    "* We know that:\n",
    "$$\n",
    "density = \\frac{mass}{area}\n",
    "$$\n",
    "\n",
    "So, we can convert back to mass such that\n",
    "$$\n",
    "mass = density * area\n",
    "$$"
   ]
  },
  {
   "cell_type": "code",
   "execution_count": 81,
   "metadata": {
    "slideshow": {
     "slide_type": "slide"
    }
   },
   "outputs": [
    {
     "name": "stdout",
     "output_type": "stream",
     "text": [
      "The sum of the probility densities computer above is: 0.9999366575184352\t"
     ]
    }
   ],
   "source": [
    "norm_cdf_sum = 0\n",
    "for x in np.arange(-8, 8, 0.0001):\n",
    "    norm_cdf_sum +=  computePDF_normal(x, 0, 2) * 0.0001\n",
    "print(\"The sum of the probility densities computer above is: %s\" % norm_cdf_sum, end=\"\\t\")\n"
   ]
  }
 ],
 "metadata": {
  "celltoolbar": "Slideshow",
  "kernelspec": {
   "display_name": "Python 3 (ipykernel)",
   "language": "python",
   "name": "python3"
  },
  "language_info": {
   "codemirror_mode": {
    "name": "ipython",
    "version": 3
   },
   "file_extension": ".py",
   "mimetype": "text/x-python",
   "name": "python",
   "nbconvert_exporter": "python",
   "pygments_lexer": "ipython3",
   "version": "3.8.11"
  }
 },
 "nbformat": 4,
 "nbformat_minor": 2
}
